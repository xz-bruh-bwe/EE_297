{
 "cells": [
  {
   "cell_type": "code",
   "execution_count": null,
   "metadata": {
    "execution": {
     "iopub.execute_input": "2025-04-28T07:04:44.228371Z",
     "iopub.status.busy": "2025-04-28T07:04:44.228109Z",
     "iopub.status.idle": "2025-04-28T07:06:13.94422Z",
     "shell.execute_reply": "2025-04-28T07:06:13.943425Z",
     "shell.execute_reply.started": "2025-04-28T07:04:44.228351Z"
    }
   },
   "outputs": [],
   "source": [
    "!pip install -q segmentation_models_pytorch"
   ]
  },
  {
   "cell_type": "code",
   "execution_count": null,
   "metadata": {
    "execution": {
     "iopub.execute_input": "2025-04-28T08:14:48.27113Z",
     "iopub.status.busy": "2025-04-28T08:14:48.270372Z",
     "iopub.status.idle": "2025-04-28T08:14:48.275577Z",
     "shell.execute_reply": "2025-04-28T08:14:48.274918Z",
     "shell.execute_reply.started": "2025-04-28T08:14:48.271104Z"
    }
   },
   "outputs": [],
   "source": [
    "# Install required libraries (if needed)\n",
    "# !pip install albumentations segmentation_models_pytorch\n",
    "\n",
    "import numpy as np\n",
    "import pandas as pd\n",
    "import os\n",
    "import cv2\n",
    "import matplotlib.pyplot as plt\n",
    "from tqdm import tqdm\n",
    "\n",
    "import torch\n",
    "import torch.nn as nn\n",
    "import torch.optim as optim\n",
    "from torch.utils.data import Dataset, DataLoader\n",
    "import torchvision.transforms as transforms\n",
    "\n",
    "import albumentations as A\n",
    "from albumentations.pytorch import ToTensorV2\n",
    "\n",
    "import segmentation_models_pytorch as smp"
   ]
  },
  {
   "cell_type": "code",
   "execution_count": null,
   "metadata": {
    "_cell_guid": "b1076dfc-b9ad-4769-8c92-a6c4dae69d19",
    "_uuid": "8f2839f25d086af736a60e9eeb907d3b93b6e0e5",
    "execution": {
     "iopub.execute_input": "2025-04-28T08:15:01.945541Z",
     "iopub.status.busy": "2025-04-28T08:15:01.945278Z",
     "iopub.status.idle": "2025-04-28T08:15:01.950414Z",
     "shell.execute_reply": "2025-04-28T08:15:01.949383Z",
     "shell.execute_reply.started": "2025-04-28T08:15:01.945521Z"
    }
   },
   "outputs": [],
   "source": [
    "DATA_DIR = '/kaggle/input/tusimple/TUSimple/train_set'\n",
    "TRAIN_IMAGES_DIR = os.path.join(DATA_DIR, 'clips')\n",
    "LABELS_FILE = os.path.join(DATA_DIR, 'label_data_0313.json')\n",
    "\n",
    "print(f\"Train Images Path: {TRAIN_IMAGES_DIR}\")\n",
    "print(f\"Labels Path: {LABELS_FILE}\")"
   ]
  },
  {
   "cell_type": "code",
   "execution_count": null,
   "metadata": {
    "execution": {
     "iopub.execute_input": "2025-04-28T08:15:15.218059Z",
     "iopub.status.busy": "2025-04-28T08:15:15.217525Z",
     "iopub.status.idle": "2025-04-28T08:15:15.321568Z",
     "shell.execute_reply": "2025-04-28T08:15:15.320907Z",
     "shell.execute_reply.started": "2025-04-28T08:15:15.218036Z"
    }
   },
   "outputs": [],
   "source": [
    "import json\n",
    "\n",
    "with open(LABELS_FILE, 'r') as f:\n",
    "    labels = [json.loads(line) for line in f]\n",
    "\n",
    "print(labels[0])"
   ]
  },
  {
   "cell_type": "code",
   "execution_count": null,
   "metadata": {
    "execution": {
     "iopub.execute_input": "2025-04-28T08:15:22.184419Z",
     "iopub.status.busy": "2025-04-28T08:15:22.184195Z",
     "iopub.status.idle": "2025-04-28T08:15:22.193984Z",
     "shell.execute_reply": "2025-04-28T08:15:22.193164Z",
     "shell.execute_reply.started": "2025-04-28T08:15:22.184403Z"
    }
   },
   "outputs": [],
   "source": [
    "class TuSimpleDataset(Dataset):\n",
    "    def __init__(self, labels, img_dir, transform=None):\n",
    "        self.labels = labels\n",
    "        self.img_dir = img_dir\n",
    "        self.transform = transform\n",
    "\n",
    "    def __len__(self):\n",
    "        return len(self.labels)\n",
    "\n",
    "    def __getitem__(self, idx):\n",
    "        item = self.labels[idx]\n",
    "        img_path = os.path.join(self.img_dir, item['raw_file'])\n",
    "        image = cv2.imread(img_path)\n",
    "        image = cv2.cvtColor(image, cv2.COLOR_BGR2RGB)\n",
    "\n",
    "        # Generate binary lane mask (You can improve later)\n",
    "        mask = np.zeros((image.shape[0], image.shape[1]), dtype=np.uint8)\n",
    "        for lane in item['lanes']:\n",
    "            for x, y in zip(lane, item['h_samples']):\n",
    "                if x > 0:\n",
    "                    cv2.circle(mask, (x, y), 5, 255, -1)\n",
    "\n",
    "        if self.transform:\n",
    "            augmented = self.transform(image=image, mask=mask)\n",
    "            image = augmented['image']\n",
    "            mask = augmented['mask']\n",
    "\n",
    "        return image, mask.unsqueeze(0)  # 1 channel mask"
   ]
  },
  {
   "cell_type": "code",
   "execution_count": null,
   "metadata": {
    "execution": {
     "iopub.execute_input": "2025-04-28T08:15:32.178836Z",
     "iopub.status.busy": "2025-04-28T08:15:32.178613Z",
     "iopub.status.idle": "2025-04-28T08:15:32.186809Z",
     "shell.execute_reply": "2025-04-28T08:15:32.186113Z",
     "shell.execute_reply.started": "2025-04-28T08:15:32.178821Z"
    }
   },
   "outputs": [],
   "source": [
    "train_transform = A.Compose([\n",
    "    A.Resize(360, 640),\n",
    "    A.HorizontalFlip(p=0.5),\n",
    "    A.RandomBrightnessContrast(p=0.2),\n",
    "    A.Normalize(mean=(0.5,0.5,0.5), std=(0.5,0.5,0.5)),\n",
    "    ToTensorV2()\n",
    "])\n",
    "\n",
    "val_transform = A.Compose([\n",
    "    A.Resize(360, 640),\n",
    "    A.Normalize(mean=(0.5,0.5,0.5), std=(0.5,0.5,0.5)),\n",
    "    ToTensorV2()\n",
    "])"
   ]
  },
  {
   "cell_type": "code",
   "execution_count": null,
   "metadata": {
    "execution": {
     "iopub.execute_input": "2025-04-28T08:15:51.208217Z",
     "iopub.status.busy": "2025-04-28T08:15:51.207605Z",
     "iopub.status.idle": "2025-04-28T08:15:51.213084Z",
     "shell.execute_reply": "2025-04-28T08:15:51.2123Z",
     "shell.execute_reply.started": "2025-04-28T08:15:51.208194Z"
    }
   },
   "outputs": [],
   "source": [
    "# Split into train/val manually (for now small set)\n",
    "train_labels = labels[:8000]\n",
    "val_labels = labels[8000:]\n",
    "\n",
    "train_dataset = TuSimpleDataset(train_labels, TRAIN_IMAGES_DIR, transform=train_transform)\n",
    "val_dataset = TuSimpleDataset(val_labels, TRAIN_IMAGES_DIR, transform=val_transform)\n",
    "\n",
    "train_loader = DataLoader(train_dataset, batch_size=8, shuffle=True, num_workers=2)\n",
    "val_loader = DataLoader(val_dataset, batch_size=8, shuffle=False, num_workers=2)"
   ]
  },
  {
   "cell_type": "code",
   "execution_count": null,
   "metadata": {
    "execution": {
     "iopub.execute_input": "2025-04-28T07:16:11.118367Z",
     "iopub.status.busy": "2025-04-28T07:16:11.117884Z",
     "iopub.status.idle": "2025-04-28T07:16:16.810991Z",
     "shell.execute_reply": "2025-04-28T07:16:16.810381Z",
     "shell.execute_reply.started": "2025-04-28T07:16:11.118347Z"
    }
   },
   "outputs": [],
   "source": [
    "import segmentation_models_pytorch as smp  # <--- THIS LINE IS IMPORTANT!\n",
    "\n",
    "model = smp.Unet(\n",
    "    encoder_name=\"resnet18\",\n",
    "    encoder_weights=\"imagenet\",\n",
    "    in_channels=3,\n",
    "    classes=1,\n",
    "    activation=None\n",
    ")\n",
    "\n",
    "device = torch.device('cuda' if torch.cuda.is_available() else 'cpu')\n",
    "model = model.to(device)"
   ]
  },
  {
   "cell_type": "code",
   "execution_count": null,
   "metadata": {
    "execution": {
     "iopub.execute_input": "2025-04-28T08:16:11.168889Z",
     "iopub.status.busy": "2025-04-28T08:16:11.168196Z",
     "iopub.status.idle": "2025-04-28T08:16:11.173814Z",
     "shell.execute_reply": "2025-04-28T08:16:11.173026Z",
     "shell.execute_reply.started": "2025-04-28T08:16:11.168837Z"
    }
   },
   "outputs": [],
   "source": [
    "loss_fn = nn.BCEWithLogitsLoss()\n",
    "optimizer = optim.Adam(model.parameters(), lr=1e-4)"
   ]
  },
  {
   "cell_type": "code",
   "execution_count": null,
   "metadata": {
    "execution": {
     "iopub.execute_input": "2025-04-28T08:16:26.409636Z",
     "iopub.status.busy": "2025-04-28T08:16:26.409387Z",
     "iopub.status.idle": "2025-04-28T08:16:26.41562Z",
     "shell.execute_reply": "2025-04-28T08:16:26.414796Z",
     "shell.execute_reply.started": "2025-04-28T08:16:26.409616Z"
    }
   },
   "outputs": [],
   "source": [
    "def train_epoch(model, loader, optimizer, loss_fn, device):\n",
    "    model.train()\n",
    "    running_loss = 0\n",
    "    for imgs, masks in tqdm(loader):\n",
    "        imgs, masks = imgs.to(device), masks.to(device)\n",
    "        optimizer.zero_grad()\n",
    "        outputs = model(imgs)\n",
    "        loss = loss_fn(outputs, masks)\n",
    "        loss.backward()\n",
    "        optimizer.step()\n",
    "        running_loss += loss.item()\n",
    "    return running_loss / len(loader)\n",
    "\n",
    "def validate_epoch(model, loader, loss_fn, device):\n",
    "    model.eval()\n",
    "    running_loss = 0\n",
    "    with torch.no_grad():\n",
    "        for imgs, masks in loader:\n",
    "            imgs, masks = imgs.to(device), masks.to(device)\n",
    "            outputs = model(imgs)\n",
    "            loss = loss_fn(outputs, masks)\n",
    "            running_loss += loss.item()\n",
    "    return running_loss / len(loader)"
   ]
  },
  {
   "cell_type": "code",
   "execution_count": null,
   "metadata": {
    "execution": {
     "iopub.execute_input": "2025-04-28T08:16:34.706333Z",
     "iopub.status.busy": "2025-04-28T08:16:34.705571Z",
     "iopub.status.idle": "2025-04-28T08:16:34.833956Z",
     "shell.execute_reply": "2025-04-28T08:16:34.832605Z",
     "shell.execute_reply.started": "2025-04-28T08:16:34.706308Z"
    }
   },
   "outputs": [],
   "source": [
    "num_epochs = 10\n",
    "train_losses = []\n",
    "val_losses = []\n",
    "\n",
    "for epoch in range(num_epochs):\n",
    "    train_loss = train_epoch(model, train_loader, optimizer, loss_fn, device)\n",
    "    val_loss = validate_epoch(model, val_loader, loss_fn, device)\n",
    "\n",
    "    train_losses.append(train_loss)\n",
    "    val_losses.append(val_loss)\n",
    "\n",
    "    print(f\"Epoch {epoch+1}/{num_epochs}, Train Loss: {train_loss:.4f}, Val Loss: {val_loss:.4f}\")"
   ]
  },
  {
   "cell_type": "code",
   "execution_count": null,
   "metadata": {},
   "outputs": [],
   "source": []
  }
 ],
 "metadata": {
  "kaggle": {
   "accelerator": "nvidiaTeslaT4",
   "dataSources": [
    {
     "datasetId": 1724942,
     "sourceId": 2840219,
     "sourceType": "datasetVersion"
    }
   ],
   "dockerImageVersionId": 31012,
   "isGpuEnabled": true,
   "isInternetEnabled": false,
   "language": "python",
   "sourceType": "notebook"
  },
  "kernelspec": {
   "display_name": "custom_python_kernel",
   "language": "python",
   "name": "custom_python_kernel"
  },
  "language_info": {
   "codemirror_mode": {
    "name": "ipython",
    "version": 3
   },
   "file_extension": ".py",
   "mimetype": "text/x-python",
   "name": "python",
   "nbconvert_exporter": "python",
   "pygments_lexer": "ipython3",
   "version": "3.11.11"
  }
 },
 "nbformat": 4,
 "nbformat_minor": 4
}
