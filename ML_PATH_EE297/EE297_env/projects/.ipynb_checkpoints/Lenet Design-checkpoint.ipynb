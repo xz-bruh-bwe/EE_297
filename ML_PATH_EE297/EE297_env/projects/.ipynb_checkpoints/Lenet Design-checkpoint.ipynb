{
 "cells": [
  {
   "cell_type": "markdown",
   "id": "fe8f2605-5675-4eee-833a-aba437ca9fe4",
   "metadata": {},
   "source": [
    "### Building Basic LeNet for MNIST\n",
    "    1. Make sure to run the helper functions first"
   ]
  },
  {
   "cell_type": "code",
   "execution_count": 2,
   "id": "7c214fea-2c75-4b16-9a68-85335f3539b4",
   "metadata": {},
   "outputs": [
    {
     "name": "stdout",
     "output_type": "stream",
     "text": [
      " Volume in drive C is Windows\n",
      " Volume Serial Number is B426-88EF\n",
      "\n",
      " Directory of C:\\Users\\Baron\\Desktop\\EE_297_Repo\\EE_297\\ML_PATH_EE297\\EE297_env\\projects\n",
      "\n",
      "04/05/2025  04:17 PM    <DIR>          .\n",
      "04/05/2025  04:17 PM    <DIR>          ..\n",
      "04/05/2025  04:17 PM    <DIR>          .ipynb_checkpoints\n",
      "03/23/2025  01:13 PM    <DIR>          Archive\n",
      "04/05/2025  04:17 PM               100 conv1_biases.h\n",
      "04/05/2025  04:17 PM             2,547 conv1_weights.h\n",
      "04/05/2025  04:17 PM             7,838 img_5.txt\n",
      "04/05/2025  04:17 PM           138,859 Lenet Design.ipynb\n",
      "04/05/2025  04:17 PM            42,485 lenet_model.png\n",
      "03/02/2025  05:03 PM    <DIR>          project_1_led_blink\n",
      "               5 File(s)        191,829 bytes\n",
      "               5 Dir(s)  100,163,399,680 bytes free\n"
     ]
    }
   ],
   "source": [
    "ls"
   ]
  },
  {
   "cell_type": "code",
   "execution_count": 3,
   "id": "3ebfa13e-3436-4f18-ab45-454d780e26cb",
   "metadata": {},
   "outputs": [
    {
     "data": {
      "text/plain": [
       "'C:\\\\Users\\\\Baron\\\\Desktop\\\\EE_297_Repo\\\\EE_297\\\\ML_PATH_EE297\\\\EE297_env\\\\projects'"
      ]
     },
     "execution_count": 3,
     "metadata": {},
     "output_type": "execute_result"
    }
   ],
   "source": [
    "pwd"
   ]
  },
  {
   "cell_type": "code",
   "execution_count": 4,
   "id": "5cc6e75f-8d4f-400d-a6f8-c32f2143f6e4",
   "metadata": {},
   "outputs": [],
   "source": [
    "# Main Imports\n",
    "import os\n",
    "import cv2\n",
    "import numpy as np\n",
    "import pandas as pd\n",
    "import matplotlib.pyplot as plt\n",
    "from tensorflow.keras.utils import plot_model\n",
    "from IPython.display import Image\n",
    "import numpy as np"
   ]
  },
  {
   "cell_type": "code",
   "execution_count": 6,
   "id": "6cc2a410-bacb-4591-bb48-d20f853e30fe",
   "metadata": {},
   "outputs": [],
   "source": [
    "import tensorflow as tf\n",
    "from tensorflow.keras import datasets, layers, models\n",
    "tf.keras.backend.set_floatx('float32')\n",
    "from tensorflow.keras.utils import to_categorical\n",
    "from tensorflow.keras.utils import plot_model\n",
    "from tensorflow.keras.models import Sequential\n",
    "from tensorflow.keras.layers import Dense\n",
    "from sklearn.metrics import confusion_matrix, ConfusionMatrixDisplay\n"
   ]
  },
  {
   "cell_type": "code",
   "execution_count": 7,
   "id": "7832a3f1-a897-47c8-9d17-2a591f529b9f",
   "metadata": {},
   "outputs": [],
   "source": [
    "# Load MNIST dataset\n",
    "(x_train, y_train), (x_test, y_test) = datasets.mnist.load_data()"
   ]
  },
  {
   "cell_type": "code",
   "execution_count": 8,
   "id": "044689fa-6273-4fe8-a731-eb6d68f3c69c",
   "metadata": {},
   "outputs": [],
   "source": [
    "# Preprocess data\n",
    "x_train = x_train.reshape(-1, 28, 28, 1).astype('float32') / 255.0\n",
    "x_test = x_test.reshape(-1, 28, 28, 1).astype('float32') / 255.0\n",
    "\n",
    "#For Confusion Matrix\n",
    "y_test_raw = y_test\n",
    "\n",
    "# Convers the output data to categorical Data.\n",
    "y_train = to_categorical(y_train, 10)\n",
    "y_test = to_categorical(y_test, 10)"
   ]
  },
  {
   "cell_type": "code",
   "execution_count": 11,
   "id": "26d09bee-dec2-4439-ad27-3236fd9f8853",
   "metadata": {},
   "outputs": [
    {
     "data": {
      "image/png": "[encoded data removed]",
      "text/plain": [
       "<Figure size 400x200 with 2 Axes>"
      ]
     },
     "metadata": {},
     "output_type": "display_data"
    }
   ],
   "source": [
    "show_sample_images(x_train, 2)"
   ]
  },
  {
   "cell_type": "code",
   "execution_count": 12,
   "id": "5e1e0262-ab4f-4940-921b-7b48c175e92e",
   "metadata": {},
   "outputs": [],
   "source": [
    "# Build LeNet model with explicit dtype\n",
    "model = models.Sequential([\n",
    "    layers.Conv2D(6, kernel_size=(6, 5), activation='relu', input_shape=(28, 28, 1),\n",
    "                  padding='same', dtype='float32'),\n",
    "    layers.AveragePooling2D(pool_size=(2, 2), dtype='float32'),\n",
    "    layers.Conv2D(16, kernel_size=(5, 5), activation='relu', dtype='float32'),\n",
    "    layers.AveragePooling2D(pool_size=(2, 2), dtype='float32'),\n",
    "    layers.Flatten(dtype='float32'),\n",
    "    layers.Dense(120, activation='relu', dtype='float32'),\n",
    "    layers.Dense(84, activation='relu', dtype='float32'),\n",
    "    layers.Dense(10, activation='softmax', dtype='float32')\n",
    "])"
   ]
  },
  {
   "cell_type": "code",
   "execution_count": 13,
   "id": "da09e024-b83d-47cb-9465-75062fd1e900",
   "metadata": {},
   "outputs": [],
   "source": [
    "#plot_model(model, to_file='lenet_model.png', show_shapes=True, show_layer_names=True)"
   ]
  },
  {
   "cell_type": "code",
   "execution_count": 14,
   "id": "2e3d84a4-4886-493e-b062-40d5553c5a9b",
   "metadata": {},
   "outputs": [],
   "source": [
    "# Compile the model\n",
    "model.compile(optimizer=tf.keras.optimizers.Adam(),\n",
    "              loss='categorical_crossentropy',\n",
    "              metrics=['accuracy'])"
   ]
  },
  {
   "cell_type": "code",
   "execution_count": 15,
   "id": "2542fc1a-657e-452c-b462-c6b7eef4be0c",
   "metadata": {},
   "outputs": [
    {
     "name": "stdout",
     "output_type": "stream",
     "text": [
      "Epoch 1/10\n",
      "422/422 [==============================] - 13s 28ms/step - loss: 0.3946 - accuracy: 0.8880 - val_loss: 0.1190 - val_accuracy: 0.9672\n",
      "Epoch 2/10\n",
      "422/422 [==============================] - 11s 27ms/step - loss: 0.1158 - accuracy: 0.9657 - val_loss: 0.0748 - val_accuracy: 0.9800\n",
      "Epoch 3/10\n",
      "422/422 [==============================] - 12s 28ms/step - loss: 0.0830 - accuracy: 0.9740 - val_loss: 0.0701 - val_accuracy: 0.9813\n",
      "Epoch 4/10\n",
      "422/422 [==============================] - 12s 28ms/step - loss: 0.0659 - accuracy: 0.9796 - val_loss: 0.0590 - val_accuracy: 0.9842\n",
      "Epoch 5/10\n",
      "422/422 [==============================] - 12s 29ms/step - loss: 0.0536 - accuracy: 0.9834 - val_loss: 0.0513 - val_accuracy: 0.9867\n",
      "Epoch 6/10\n",
      "422/422 [==============================] - 12s 29ms/step - loss: 0.0456 - accuracy: 0.9859 - val_loss: 0.0570 - val_accuracy: 0.9840\n",
      "Epoch 7/10\n",
      "422/422 [==============================] - 12s 28ms/step - loss: 0.0402 - accuracy: 0.9873 - val_loss: 0.0450 - val_accuracy: 0.9870\n",
      "Epoch 8/10\n",
      "422/422 [==============================] - 13s 31ms/step - loss: 0.0339 - accuracy: 0.9893 - val_loss: 0.0463 - val_accuracy: 0.9863\n",
      "Epoch 9/10\n",
      "422/422 [==============================] - 12s 29ms/step - loss: 0.0312 - accuracy: 0.9900 - val_loss: 0.0509 - val_accuracy: 0.9857\n",
      "Epoch 10/10\n",
      "422/422 [==============================] - 12s 30ms/step - loss: 0.0282 - accuracy: 0.9907 - val_loss: 0.0415 - val_accuracy: 0.9892\n"
     ]
    },
    {
     "data": {
      "text/plain": [
       "<keras.src.callbacks.History at 0x20d43290160>"
      ]
     },
     "execution_count": 15,
     "metadata": {},
     "output_type": "execute_result"
    }
   ],
   "source": [
    "# Train the model\n",
    "model.fit(x_train, y_train, epochs=10, batch_size=128, validation_split=0.1)"
   ]
  },
  {
   "cell_type": "code",
   "execution_count": 16,
   "id": "6ffa0779-76a0-4e4d-a2e2-e69c851d4503",
   "metadata": {},
   "outputs": [
    {
     "name": "stdout",
     "output_type": "stream",
     "text": [
      "313/313 [==============================] - 2s 6ms/step - loss: 0.0370 - accuracy: 0.9880\n",
      "Test accuracy: 0.9880\n"
     ]
    }
   ],
   "source": [
    "# Evaluate the model\n",
    "test_loss, test_acc = model.evaluate(x_test, y_test)\n",
    "print(f'Test accuracy: {test_acc:.4f}')"
   ]
  },
  {
   "cell_type": "code",
   "execution_count": 17,
   "id": "797f6895-20f3-4efd-9fd7-d742d72f2770",
   "metadata": {},
   "outputs": [
    {
     "name": "stdout",
     "output_type": "stream",
     "text": [
      "313/313 [==============================] - 2s 6ms/step\n"
     ]
    },
    {
     "data": {
      "image/png": "[encoded data removed]",
      "text/plain": [
       "<Figure size 800x800 with 1 Axes>"
      ]
     },
     "metadata": {},
     "output_type": "display_data"
    }
   ],
   "source": [
    "#Confusion Matrix\n",
    "# Predict on test set\n",
    "y_pred_probs = model.predict(x_test)\n",
    "y_pred = np.argmax(y_pred_probs, axis=1)\n",
    "\n",
    "# Use y_test (not y_test_cat) for the confusion matrix\n",
    "cm = confusion_matrix(y_test_raw, y_pred)\n",
    "disp = ConfusionMatrixDisplay(confusion_matrix=cm, display_labels=np.arange(10))\n",
    "\n",
    "# Display it\n",
    "fig, ax = plt.subplots(figsize=(8, 8))\n",
    "disp.plot(ax=ax, cmap='Blues', colorbar=False)\n",
    "plt.title(\"Confusion Matrix for LeNet on MNIST\")\n",
    "plt.tight_layout()\n",
    "plt.show()"
   ]
  },
  {
   "cell_type": "code",
   "execution_count": 18,
   "id": "6c4c5223-e5d8-46ae-a6ee-c3f1d95aaeba",
   "metadata": {},
   "outputs": [
    {
     "name": "stdout",
     "output_type": "stream",
     "text": [
      "conv2d               | Has weights? ✅\n",
      "average_pooling2d    | Has weights? ❌\n",
      "conv2d_1             | Has weights? ✅\n",
      "average_pooling2d_1  | Has weights? ❌\n",
      "flatten              | Has weights? ❌\n",
      "dense                | Has weights? ✅\n",
      "dense_1              | Has weights? ✅\n",
      "dense_2              | Has weights? ✅\n"
     ]
    }
   ],
   "source": [
    "for layer in model.layers:\n",
    "    has_weights = \"✅\" if layer.get_weights() else \"❌\"\n",
    "    print(f\"{layer.name:20s} | Has weights? {has_weights}\")"
   ]
  },
  {
   "cell_type": "code",
   "execution_count": 19,
   "id": "66f1f334-f27c-4072-8dfe-bc96b0382af8",
   "metadata": {},
   "outputs": [
    {
     "name": "stdout",
     "output_type": "stream",
     "text": [
      "0\n",
      "conv2d weights shape: (6, 5, 1, 6)\n",
      "conv2d biases shape: (6,)\n",
      "1\n",
      "conv2d_1 weights shape: (5, 5, 6, 16)\n",
      "conv2d_1 biases shape: (16,)\n",
      "2\n",
      "dense weights shape: (400, 120)\n",
      "dense biases shape: (120,)\n",
      "3\n",
      "dense_1 weights shape: (120, 84)\n",
      "dense_1 biases shape: (84,)\n",
      "4\n",
      "dense_2 weights shape: (84, 10)\n",
      "dense_2 biases shape: (10,)\n"
     ]
    }
   ],
   "source": [
    "# Extract The Weights\n",
    "x = 0\n",
    "for layer in model.layers:\n",
    "    if layer.get_weights():\n",
    "        print(x)\n",
    "        w, b = layer.get_weights()\n",
    "        print(f\"{layer.name} weights shape: {w.shape}\")\n",
    "        print(f\"{layer.name} biases shape: {b.shape}\")\n",
    "        x+=1"
   ]
  },
  {
   "cell_type": "code",
   "execution_count": 21,
   "id": "10736d95-f025-44b2-ad34-4120dad763d7",
   "metadata": {},
   "outputs": [],
   "source": [
    "\n",
    "#layers.Conv2D(6, kernel_size=(5, 5), activation='relu', input_shape=(28, 28, 1), padding='same', dtype='float32')\n",
    "weights = model.get_weights()\n",
    "conv1_weights = weights[0]\n",
    "conv1_biases = weights[1]\n",
    "\n",
    "conv2_weights = weights[2]\n",
    "conv2_biases = weights[3]\n",
    "\n",
    "fc1_weights = weights[4]\n",
    "fc1_biases = weights[5]\n",
    "\n",
    "fc2_weights = weights[6]\n",
    "fc2_biases = weights[7]\n",
    "\n",
    "fc3_weights = weights[8]\n",
    "fc3_biases = weights[9]\n",
    "\n",
    "#print(conv1_weights)"
   ]
  },
  {
   "cell_type": "code",
   "execution_count": 30,
   "id": "9f71a5ad-df9f-4065-9240-e1cb4a464b93",
   "metadata": {},
   "outputs": [],
   "source": [
    "#Convert the current weights and biases to header files for HLS env\n",
    "import numpy as np\n",
    "\n",
    "# Load trained weights\n",
    "conv1_weights = weights[0]  # shape: (6, 5, 1, 6)\n",
    "                            # shape: (i, j, 1, k)   (For the for loops)                         \n",
    "conv1_biases = weights[1]   # shape: (6,)\n",
    "\n",
    "# Manually save the weights as c header files: \n",
    "# Export as C header\n",
    "## ---------------------------- ** CONV1 ** ---------------------------------------\n",
    "with open(\"conv1_weights.h\", \"w\") as f:\n",
    "    f.write(\"float conv1_weights[6][5][1][6] = {\\n\")\n",
    "    for i in range(6):\n",
    "        f.write(\"  {\\n\")\n",
    "        for j in range(5):\n",
    "            f.write(\"    {\")\n",
    "            f.write(\", \".join(f\"{conv1_weights[i][j][0][k]:.8f}\" for k in range(6)))\n",
    "            f.write(\"},\\n\")\n",
    "        f.write(\"  },\\n\")\n",
    "    f.write(\"};\\n\")\n",
    "\n",
    "with open(\"conv1_biases.h\", \"w\") as f:\n",
    "    f.write(\"float conv1_biases[6] = {\")\n",
    "    f.write(\", \".join(f\"{b:.8f}\" for b in conv1_biases))\n",
    "    f.write(\"};\\n\")\n",
    "## ---------------------------- ** COVN2 ** ---------------------------------------\n",
    "# Load trained weights\n",
    "conv2_weights = weights[2]  # shape: (6, 5, 1, 6)\n",
    "                            # shape: (i, j, 1, k)   (For the for loops)                         \n",
    "conv2_biases = weights[3]   # shape: (6,)\n",
    "\n",
    "with open(\"conv2_weights.h\", \"w\") as f:\n",
    "    f.write(\"float conv1_weights[5][5][6][16] = {\\n\")\n",
    "    for i in range(6):\n",
    "        f.write(\"  {\\n\")\n",
    "        for j in range(5):\n",
    "            f.write(\"    {\")\n",
    "            f.write(\", \".join(f\"{conv1_weights[i][j][0][k]:.8f}\" for k in range(6)))\n",
    "            f.write(\"},\\n\")\n",
    "        f.write(\"  },\\n\")\n",
    "    f.write(\"};\\n\")\n",
    "\n",
    "with open(\"conv2_biases.h\", \"w\") as f:\n",
    "    f.write(\"float conv1_biases[6] = {\")\n",
    "    f.write(\", \".join(f\"{b:.8f}\" for b in conv1_biases))\n",
    "    f.write(\"};\\n\")"
   ]
  },
  {
   "cell_type": "code",
   "execution_count": null,
   "id": "5aeaaae1-4d3c-40d1-bc68-4bfa53c6e520",
   "metadata": {},
   "outputs": [],
   "source": [
    " Save weights using the same formatting style you used for conv1\n",
    "\n",
    "# Save conv2_weights: shape (5, 5, 6, 16)\n",
    "with open(\"/mnt/data/conv2_weights.h\", \"w\") as f:\n",
    "    f.write(\"float conv2_weights[5][5][6][16] = {\\n\")\n",
    "    for i in range(5):\n",
    "        f.write(\"  {\\n\")\n",
    "        for j in range(5):\n",
    "            f.write(\"    {\\n\")\n",
    "            for k in range(6):\n",
    "                line = \"      {\" + \", \".join(f\"{conv2_weights[i][j][k][m]:.8f}\" for m in range(16)) + \"},\\n\"\n",
    "                f.write(line)\n",
    "            f.write(\"    },\\n\")\n",
    "        f.write(\"  },\\n\")\n",
    "    f.write(\"};\\n\")\n",
    "\n",
    "# Save conv2_biases: shape (16,)\n",
    "with open(\"/mnt/data/conv2_biases.h\", \"w\") as f:\n",
    "    f.write(\"float conv2_biases[16] = {\")\n",
    "    f.write(\", \".join(f\"{b:.8f}\" for b in conv2_biases))\n",
    "    f.write(\"};\\n\")\n",
    "\n",
    "# Save fc1_weights: shape (400, 120)\n",
    "with open(\"/mnt/data/fc1_weights.h\", \"w\") as f:\n",
    "    f.write(\"float fc1_weights[400][120] = {\\n\")\n",
    "    for i in range(400):\n",
    "        f.write(\"  {\" + \", \".join(f\"{fc1_weights[i][j]:.8f}\" for j in range(120)) + \"},\\n\")\n",
    "    f.write(\"};\\n\")\n",
    "\n",
    "# Save fc1_biases: shape (120,)\n",
    "with open(\"/mnt/data/fc1_biases.h\", \"w\") as f:\n",
    "    f.write(\"float fc1_biases[120] = {\")\n",
    "    f.write(\", \".join(f\"{b:.8f}\" for b in fc1_biases))\n",
    "    f.write(\"};\\n\")\n",
    "\n",
    "# Save fc2_weights: shape (120, 84)\n",
    "with open(\"/mnt/data/fc2_weights.h\", \"w\") as f:\n",
    "    f.write(\"float fc2_weights[120][84] = {\\n\")\n",
    "    for i in range(120):\n",
    "        f.write(\"  {\" + \", \".join(f\"{fc2_weights[i][j]:.8f}\" for j in range(84)) + \"},\\n\")\n",
    "    f.write(\"};\\n\")\n",
    "\n",
    "# Save fc2_biases: shape (84,)\n",
    "with open(\"/mnt/data/fc2_biases.h\", \"w\") as f:\n",
    "    f.write(\"float fc2_biases[84] = {\")\n",
    "    f.write(\", \".join(f\"{b:.8f}\" for b in fc2_biases))\n",
    "    f.write(\"};\\n\")\n",
    "\n",
    "# Save fc3_weights: shape (84, 10)\n",
    "with open(\"/mnt/data/fc3_weights.h\", \"w\") as f:\n",
    "    f.write(\"float fc3_weights[84][10] = {\\n\")\n",
    "    for i in range(84):\n",
    "        f.write(\"  {\" + \", \".join(f\"{fc3_weights[i][j]:.8f}\" for j in range(10)) + \"},\\n\")\n",
    "    f.write(\"};\\n\")\n",
    "\n",
    "# Save fc3_biases: shape (10,)\n",
    "with open(\"/mnt/data/fc3_biases.h\", \"w\") as f:\n",
    "    f.write(\"float fc3_biases[10] = {\")\n",
    "    f.write(\", \".join(f\"{b:.8f}\" for b in fc3_biases))\n",
    "    f.write(\"};\\n\")"
   ]
  },
  {
   "cell_type": "markdown",
   "id": "9eb2fb36-3112-4aa2-b0e9-2039098e134f",
   "metadata": {
    "jp-MarkdownHeadingCollapsed": true
   },
   "source": [
    "### Helper Functions"
   ]
  },
  {
   "cell_type": "code",
   "execution_count": 10,
   "id": "7af46104-be78-4b97-bd61-9cebb58ff9d7",
   "metadata": {},
   "outputs": [],
   "source": [
    "def show_sample_images(x_data, n=5):\n",
    "    \"\"\"\n",
    "    Display the first `n` images in the dataset as heatmaps.\n",
    "    \n",
    "    Args:\n",
    "        x_data (numpy.ndarray): The dataset (e.g., x_train).\n",
    "        n (int): Number of images to display (default 5).\n",
    "    \"\"\"\n",
    "    plt.figure(figsize=(n * 2, 2))\n",
    "    for i in range(n):\n",
    "        plt.subplot(1, n, i + 1)\n",
    "        plt.imshow(x_data[i].squeeze(), cmap='plasma')  # squeeze in case shape is (28, 28, 1)\n",
    "        plt.axis('off')\n",
    "        plt.title(f\"Sample {i}\")\n",
    "    plt.tight_layout()\n",
    "    plt.show()"
   ]
  },
  {
   "cell_type": "code",
   "execution_count": 23,
   "id": "685685e8-0bb0-4045-a3ff-9e2b5957e4f0",
   "metadata": {},
   "outputs": [],
   "source": [
    "## Convert the current img to normalized text file values \n",
    "from PIL import Image\n",
    "import numpy as np\n",
    "\n",
    "img_5 = Image.open(\"C:\\\\Users\\\\Baron\\\\Desktop\\\\EE_297_Repo\\\\EE_297\\\\ML_PATH_EE297\\\\EE297_env\\\\pictures\\\\img_5.jpg\").convert(\"L\").resize((28, 28))\n",
    "arr = np.asarray(img_5).astype('float32') / 255.0\n",
    "# Save as a flat .txt file\n",
    "arr.tofile(\"img_5.txt\", sep=\"\\n\", format=\"%.6f\")"
   ]
  },
  {
   "cell_type": "code",
   "execution_count": null,
   "id": "7ceb6191-9fea-4004-899d-dd70144401e0",
   "metadata": {},
   "outputs": [],
   "source": [
    "import matplotlib.pyplot as plt\n",
    "import matplotlib.patches as mpatches\n",
    "\n",
    "def draw_full_lenet_neuron_diagram():\n",
    "    fig, ax = plt.subplots(figsize=(20, 10))\n",
    "    ax.set_xlim(0, 18)\n",
    "    ax.set_ylim(0, 10)\n",
    "    ax.axis('off')\n",
    "\n",
    "    # Full neuron counts for each major layer\n",
    "    layers = [\n",
    "        {\"label\": \"Input Layer\\n28x28\", \"x\": 1, \"neurons\": 10},\n",
    "        {\"label\": \"Conv2D\\n6@28x28\", \"x\": 3, \"neurons\": 6},\n",
    "        {\"label\": \"AvgPool\\n6@14x14\", \"x\": 4.5, \"neurons\": 6},\n",
    "        {\"label\": \"Conv2D\\n16@10x10\", \"x\": 6, \"neurons\": 8},\n",
    "        {\"label\": \"AvgPool\\n16@5x5\", \"x\": 7.5, \"neurons\": 8},\n",
    "        {\"label\": \"Flatten\\n400\", \"x\": 9, \"neurons\": 10},\n",
    "        {\"label\": \"Dense\\n120\", \"x\": 11, \"neurons\": 10},\n",
    "        {\"label\": \"Dense\\n84\", \"x\": 13, \"neurons\": 10},\n",
    "        {\"label\": \"Output\\n10\", \"x\": 15, \"neurons\": 10}\n",
    "    ]\n",
    "\n",
    "    # Draw neurons\n",
    "    for layer in layers:\n",
    "        x = layer[\"x\"]\n",
    "        n = layer[\"neurons\"]\n",
    "        spacing = 8.0 / max(n, 1)\n",
    "        offset = (10 - (n * spacing)) / 2\n",
    "        for i in range(n):\n",
    "            y = 9 - (i * spacing + offset)\n",
    "            circle = plt.Circle((x, y), 0.25, color='white', ec='black', zorder=3)\n",
    "            ax.add_patch(circle)\n",
    "\n",
    "        # Label each layer\n",
    "        ax.text(x, 9.5, layer[\"label\"], ha='center', fontsize=10, fontweight='bold')\n",
    "\n",
    "    # Draw full connections (dense) between adjacent layers\n",
    "    for i in range(len(layers) - 1):\n",
    "        x1, n1 = layers[i][\"x\"], layers[i][\"neurons\"]\n",
    "        x2, n2 = layers[i+1][\"x\"], layers[i+1][\"neurons\"]\n",
    "        spacing1 = 8.0 / max(n1, 1)\n",
    "        spacing2 = 8.0 / max(n2, 1)\n",
    "        offset1 = (10 - (n1 * spacing1)) / 2\n",
    "        offset2 = (10 - (n2 * spacing2)) / 2\n",
    "        for j in range(n1):\n",
    "            y1 = 9 - (j * spacing1 + offset1)\n",
    "            for k in range(n2):\n",
    "                y2 = 9 - (k * spacing2 + offset2)\n",
    "                ax.plot([x1 + 0.25, x2 - 0.25], [y1, y2], 'gray', linewidth=0.3, zorder=1)\n",
    "\n",
    "    plt.title(\"LeNet Architecture — Full Neuron-Level Visualization\", fontsize=16, weight='bold')\n",
    "    plt.tight_layout()\n",
    "    plt.show()"
   ]
  },
  {
   "cell_type": "code",
   "execution_count": null,
   "id": "d188a78e-c451-4d30-84f8-91f461b595b2",
   "metadata": {},
   "outputs": [],
   "source": [
    "import matplotlib.pyplot as plt\n",
    "import numpy as np\n",
    "import matplotlib.patches as patches\n",
    "\n",
    "def visualize_conv2d_operation():\n",
    "    fig, ax = plt.subplots(figsize=(28, 28))\n",
    "\n",
    "    # Create a fake 8x8 input image\n",
    "    input_image = np.arange(784).reshape(28, 28)\n",
    "\n",
    "    # Simulated 5x5 filter kernel (not showing values, just visualization)\n",
    "    filter_size = 5\n",
    "    stride = 1\n",
    "    start_x, start_y = 1, 1  # where the filter is \"sliding\" over\n",
    "\n",
    "    ax.imshow(input_image, cmap='gray', alpha=0.5)\n",
    "\n",
    "    # Draw the filter sliding position (5x5 square)\n",
    "    rect = patches.Rectangle((start_y-0.5, start_x-0.5), filter_size, filter_size, linewidth=2, edgecolor='red', facecolor='none')\n",
    "    ax.add_patch(rect)\n",
    "\n",
    "    # Annotate pixels\n",
    "    for i in range(28):\n",
    "        for j in range(28):\n",
    "            ax.text(j, i, str(input_image[i, j]), ha='center', va='center', fontsize=8)\n",
    "\n",
    "    ax.set_title(\"Example: A 5x5 Filter Sliding Over an 8x8 Image\")\n",
    "    ax.axis('off')\n",
    "    plt.tight_layout()\n",
    "    plt.show()\n",
    "\n",
    "visualize_conv2d_operation()\n"
   ]
  },
  {
   "cell_type": "code",
   "execution_count": null,
   "id": "bf08a49f-59b7-4916-8173-74b596a90f6e",
   "metadata": {},
   "outputs": [],
   "source": []
  }
 ],
 "metadata": {
  "kernelspec": {
   "display_name": "Python 3 (ipykernel)",
   "language": "python",
   "name": "python3"
  },
  "language_info": {
   "codemirror_mode": {
    "name": "ipython",
    "version": 3
   },
   "file_extension": ".py",
   "mimetype": "text/x-python",
   "name": "python",
   "nbconvert_exporter": "python",
   "pygments_lexer": "ipython3",
   "version": "3.8.18"
  }
 },
 "nbformat": 4,
 "nbformat_minor": 5
}
