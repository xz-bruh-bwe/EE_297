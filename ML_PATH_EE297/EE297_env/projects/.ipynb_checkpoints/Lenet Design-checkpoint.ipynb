{
 "cells": [
  {
   "cell_type": "markdown",
   "id": "fe8f2605-5675-4eee-833a-aba437ca9fe4",
   "metadata": {},
   "source": [
    "### Building Basic LeNet for MNIST\n",
    "    1. Make sure to run the helper functions first"
   ]
  },
  {
   "cell_type": "code",
   "execution_count": 4,
   "id": "da5ac2fa-7308-40d0-b871-d9e37a65f8a0",
   "metadata": {},
   "outputs": [],
   "source": [
    "## PIP INSTALLs"
   ]
  },
  {
   "cell_type": "code",
   "execution_count": 1,
   "id": "7c214fea-2c75-4b16-9a68-85335f3539b4",
   "metadata": {},
   "outputs": [
    {
     "name": "stdout",
     "output_type": "stream",
     "text": [
      " Volume in drive C has no label.\n",
      " Volume Serial Number is 86B0-AFDD\n",
      "\n",
      " Directory of C:\\Users\\Baron\\Desktop\\EE_297_Repo\\EE_297\\ML_PATH_EE297\\EE297_env\\projects\n",
      "\n",
      "04/07/2025  12:38 AM    <DIR>          .\n",
      "04/07/2025  12:38 AM    <DIR>          ..\n",
      "04/07/2025  12:21 AM    <DIR>          .ipynb_checkpoints\n",
      "03/22/2025  11:41 PM    <DIR>          Archive\n",
      "04/04/2025  11:24 PM             7,055 img_5.txt\n",
      "04/07/2025  12:38 AM            91,517 Lenet Design.ipynb\n",
      "04/04/2025  08:27 PM            42,485 lenet_model.png\n",
      "04/05/2025  11:49 PM    <DIR>          models\n",
      "04/06/2025  11:13 PM    <DIR>          prelims\n",
      "04/07/2025  12:21 AM    <DIR>          weights\n",
      "               3 File(s)        141,057 bytes\n",
      "               7 Dir(s)  164,630,929,408 bytes free\n"
     ]
    }
   ],
   "source": [
    "ls"
   ]
  },
  {
   "cell_type": "code",
   "execution_count": 2,
   "id": "3ebfa13e-3436-4f18-ab45-454d780e26cb",
   "metadata": {},
   "outputs": [
    {
     "data": {
      "text/plain": [
       "'C:\\\\Users\\\\Baron\\\\Desktop\\\\EE_297_Repo\\\\EE_297\\\\ML_PATH_EE297\\\\EE297_env\\\\projects'"
      ]
     },
     "execution_count": 2,
     "metadata": {},
     "output_type": "execute_result"
    }
   ],
   "source": [
    "pwd"
   ]
  },
  {
   "cell_type": "code",
   "execution_count": 3,
   "id": "5cc6e75f-8d4f-400d-a6f8-c32f2143f6e4",
   "metadata": {},
   "outputs": [
    {
     "name": "stderr",
     "output_type": "stream",
     "text": [
      "C:\\Users\\Baron\\anaconda3\\Lib\\site-packages\\h5py\\__init__.py:36: UserWarning: h5py is running against HDF5 1.14.2 when it was built against 1.14.5, this may cause problems\n",
      "  _warn((\"h5py is running against HDF5 {0} when it was built against {1}, \"\n",
      "C:\\Users\\Baron\\anaconda3\\Lib\\site-packages\\h5py\\__init__.py:36: UserWarning: h5py is running against HDF5 1.14.2 when it was built against 1.14.5, this may cause problems\n",
      "  _warn((\"h5py is running against HDF5 {0} when it was built against {1}, \"\n",
      "C:\\Users\\Baron\\anaconda3\\Lib\\site-packages\\h5py\\__init__.py:36: UserWarning: h5py is running against HDF5 1.14.2 when it was built against 1.14.5, this may cause problems\n",
      "  _warn((\"h5py is running against HDF5 {0} when it was built against {1}, \"\n",
      "C:\\Users\\Baron\\anaconda3\\Lib\\site-packages\\h5py\\__init__.py:36: UserWarning: h5py is running against HDF5 1.14.2 when it was built against 1.14.5, this may cause problems\n",
      "  _warn((\"h5py is running against HDF5 {0} when it was built against {1}, \"\n",
      "C:\\Users\\Baron\\anaconda3\\Lib\\site-packages\\h5py\\__init__.py:36: UserWarning: h5py is running against HDF5 1.14.2 when it was built against 1.14.5, this may cause problems\n",
      "  _warn((\"h5py is running against HDF5 {0} when it was built against {1}, \"\n",
      "C:\\Users\\Baron\\anaconda3\\Lib\\site-packages\\h5py\\__init__.py:36: UserWarning: h5py is running against HDF5 1.14.2 when it was built against 1.14.5, this may cause problems\n",
      "  _warn((\"h5py is running against HDF5 {0} when it was built against {1}, \"\n",
      "C:\\Users\\Baron\\anaconda3\\Lib\\site-packages\\h5py\\__init__.py:36: UserWarning: h5py is running against HDF5 1.14.2 when it was built against 1.14.5, this may cause problems\n",
      "  _warn((\"h5py is running against HDF5 {0} when it was built against {1}, \"\n",
      "C:\\Users\\Baron\\anaconda3\\Lib\\site-packages\\h5py\\__init__.py:36: UserWarning: h5py is running against HDF5 1.14.2 when it was built against 1.14.5, this may cause problems\n",
      "  _warn((\"h5py is running against HDF5 {0} when it was built against {1}, \"\n"
     ]
    }
   ],
   "source": [
    "# Main Imports\n",
    "import os\n",
    "import cv2\n",
    "import numpy as np\n",
    "import pandas as pd\n",
    "import matplotlib.pyplot as plt\n",
    "from tensorflow.keras.utils import plot_model\n",
    "from IPython.display import Image\n",
    "import numpy as np"
   ]
  },
  {
   "cell_type": "code",
   "execution_count": 4,
   "id": "6cc2a410-bacb-4591-bb48-d20f853e30fe",
   "metadata": {},
   "outputs": [],
   "source": [
    "import tensorflow as tf\n",
    "from tensorflow.keras import datasets, layers, models\n",
    "tf.keras.backend.set_floatx('float32')\n",
    "from tensorflow.keras.utils import to_categorical\n",
    "from tensorflow.keras.utils import plot_model\n",
    "from tensorflow.keras.models import Sequential\n",
    "from tensorflow.keras.layers import Dense\n",
    "from sklearn.metrics import confusion_matrix, ConfusionMatrixDisplay\n"
   ]
  },
  {
   "cell_type": "code",
   "execution_count": 13,
   "id": "7832a3f1-a897-47c8-9d17-2a591f529b9f",
   "metadata": {},
   "outputs": [],
   "source": [
    "# Load MNIST dataset\n",
    "(x_train, y_train), (x_test, y_test) = datasets.mnist.load_data()"
   ]
  },
  {
   "cell_type": "code",
   "execution_count": 14,
   "id": "044689fa-6273-4fe8-a731-eb6d68f3c69c",
   "metadata": {},
   "outputs": [],
   "source": [
    "# Preprocess data\n",
    "x_train = x_train.reshape(-1, 28, 28, 1).astype('float32') / 255.0\n",
    "x_test = x_test.reshape(-1, 28, 28, 1).astype('float32') / 255.0\n",
    "\n",
    "#For Confusion Matrix\n",
    "y_test_raw = y_test\n",
    "\n",
    "# Convers the output data to categorical Data.\n",
    "y_train = to_categorical(y_train, 10)\n",
    "y_test = to_categorical(y_test, 10)"
   ]
  },
  {
   "cell_type": "code",
   "execution_count": 15,
   "id": "26d09bee-dec2-4439-ad27-3236fd9f8853",
   "metadata": {},
   "outputs": [
    {
     "data": {
      "image/png": "[encoded data removed]",
      "text/plain": [
       "<Figure size 400x200 with 2 Axes>"
      ]
     },
     "metadata": {},
     "output_type": "display_data"
    }
   ],
   "source": [
    "show_sample_images(x_train, 2)"
   ]
  },
  {
   "cell_type": "code",
   "execution_count": 43,
   "id": "5e1e0262-ab4f-4940-921b-7b48c175e92e",
   "metadata": {},
   "outputs": [],
   "source": [
    "# Build LeNet model with explicit dtype\n",
    "model = models.Sequential([\n",
    "    layers.Conv2D(6, kernel_size=(5, 5), activation='relu', input_shape=(28, 28, 1),\n",
    "                  padding='same', dtype='float32'),\n",
    "    layers.MaxPooling2D(pool_size=(2, 2), dtype='float32'),\n",
    "    layers.Conv2D(16, kernel_size=(5, 5), activation='relu', dtype='float32'),\n",
    "    layers.MaxPooling2D(pool_size=(2, 2), dtype='float32'),\n",
    "    layers.Flatten(dtype='float32'),\n",
    "    layers.Dense(120, activation='relu', dtype='float32'),\n",
    "    layers.Dense(84, activation='relu', dtype='float32'),\n",
    "    layers.Dense(10, activation='softmax', dtype='float32')\n",
    "])"
   ]
  },
  {
   "cell_type": "code",
   "execution_count": 44,
   "id": "da09e024-b83d-47cb-9465-75062fd1e900",
   "metadata": {},
   "outputs": [],
   "source": [
    "#plot_model(model, to_file='lenet_model.png', show_shapes=True, show_layer_names=True)"
   ]
  },
  {
   "cell_type": "code",
   "execution_count": 45,
   "id": "2e3d84a4-4886-493e-b062-40d5553c5a9b",
   "metadata": {},
   "outputs": [],
   "source": [
    "# Compile the model\n",
    "model.compile(optimizer=tf.keras.optimizers.Adam(),\n",
    "              loss='categorical_crossentropy',\n",
    "              metrics=['accuracy'])"
   ]
  },
  {
   "cell_type": "code",
   "execution_count": 46,
   "id": "2542fc1a-657e-452c-b462-c6b7eef4be0c",
   "metadata": {
    "scrolled": true
   },
   "outputs": [
    {
     "name": "stdout",
     "output_type": "stream",
     "text": [
      "Epoch 1/10\n",
      "422/422 [==============================] - 9s 20ms/step - loss: 0.3117 - accuracy: 0.9093 - val_loss: 0.0906 - val_accuracy: 0.9758\n",
      "Epoch 2/10\n",
      "422/422 [==============================] - 8s 19ms/step - loss: 0.0832 - accuracy: 0.9742 - val_loss: 0.0704 - val_accuracy: 0.9815\n",
      "Epoch 3/10\n",
      "422/422 [==============================] - 8s 19ms/step - loss: 0.0586 - accuracy: 0.9815 - val_loss: 0.0530 - val_accuracy: 0.9862\n",
      "Epoch 4/10\n",
      "422/422 [==============================] - 8s 20ms/step - loss: 0.0475 - accuracy: 0.9851 - val_loss: 0.0506 - val_accuracy: 0.9882\n",
      "Epoch 5/10\n",
      "422/422 [==============================] - 8s 19ms/step - loss: 0.0394 - accuracy: 0.9874 - val_loss: 0.0423 - val_accuracy: 0.9877\n",
      "Epoch 6/10\n",
      "422/422 [==============================] - 8s 19ms/step - loss: 0.0344 - accuracy: 0.9889 - val_loss: 0.0460 - val_accuracy: 0.9877\n",
      "Epoch 7/10\n",
      "422/422 [==============================] - 8s 20ms/step - loss: 0.0273 - accuracy: 0.9912 - val_loss: 0.0415 - val_accuracy: 0.9895\n",
      "Epoch 8/10\n",
      "422/422 [==============================] - 8s 19ms/step - loss: 0.0259 - accuracy: 0.9916 - val_loss: 0.0365 - val_accuracy: 0.9913\n",
      "Epoch 9/10\n",
      "422/422 [==============================] - 8s 20ms/step - loss: 0.0210 - accuracy: 0.9932 - val_loss: 0.0421 - val_accuracy: 0.9888\n",
      "Epoch 10/10\n",
      "422/422 [==============================] - 8s 20ms/step - loss: 0.0187 - accuracy: 0.9938 - val_loss: 0.0396 - val_accuracy: 0.9907\n"
     ]
    },
    {
     "data": {
      "text/plain": [
       "<keras.src.callbacks.History at 0x1a44e17e510>"
      ]
     },
     "execution_count": 46,
     "metadata": {},
     "output_type": "execute_result"
    }
   ],
   "source": [
    "# Train the model\n",
    "model.fit(x_train, y_train, epochs=10, batch_size=128, validation_split=0.1)"
   ]
  },
  {
   "cell_type": "code",
   "execution_count": 47,
   "id": "6ffa0779-76a0-4e4d-a2e2-e69c851d4503",
   "metadata": {},
   "outputs": [
    {
     "name": "stdout",
     "output_type": "stream",
     "text": [
      "313/313 [==============================] - 1s 4ms/step - loss: 0.0366 - accuracy: 0.9886\n",
      "Test accuracy: 0.9886\n"
     ]
    }
   ],
   "source": [
    "# Evaluate the model\n",
    "test_loss, test_acc = model.evaluate(x_test, y_test)\n",
    "print(f'Test accuracy: {test_acc:.4f}')"
   ]
  },
  {
   "cell_type": "code",
   "execution_count": 48,
   "id": "797f6895-20f3-4efd-9fd7-d742d72f2770",
   "metadata": {},
   "outputs": [
    {
     "name": "stdout",
     "output_type": "stream",
     "text": [
      "313/313 [==============================] - 1s 4ms/step\n"
     ]
    },
    {
     "data": {
      "image/png": "[encoded data removed]",
      "text/plain": [
       "<Figure size 800x800 with 1 Axes>"
      ]
     },
     "metadata": {},
     "output_type": "display_data"
    }
   ],
   "source": [
    "#Confusion Matrix\n",
    "# Predict on test set\n",
    "y_pred_probs = model.predict(x_test)\n",
    "y_pred = np.argmax(y_pred_probs, axis=1)\n",
    "\n",
    "# Use y_test (not y_test_cat) for the confusion matrix\n",
    "cm = confusion_matrix(y_test_raw, y_pred)\n",
    "disp = ConfusionMatrixDisplay(confusion_matrix=cm, display_labels=np.arange(10))\n",
    "\n",
    "# Display it\n",
    "fig, ax = plt.subplots(figsize=(8, 8))\n",
    "disp.plot(ax=ax, cmap='Blues', colorbar=False)\n",
    "plt.title(\"Confusion Matrix for LeNet on MNIST\")\n",
    "plt.tight_layout()\n",
    "#plt.show()"
   ]
  },
  {
   "cell_type": "code",
   "execution_count": 49,
   "id": "6c4c5223-e5d8-46ae-a6ee-c3f1d95aaeba",
   "metadata": {},
   "outputs": [
    {
     "name": "stdout",
     "output_type": "stream",
     "text": [
      "conv2d_2             | Has weights? ✅\n",
      "max_pooling2d        | Has weights? ❌\n",
      "conv2d_3             | Has weights? ✅\n",
      "max_pooling2d_1      | Has weights? ❌\n",
      "flatten_1            | Has weights? ❌\n",
      "dense_3              | Has weights? ✅\n",
      "dense_4              | Has weights? ✅\n",
      "dense_5              | Has weights? ✅\n"
     ]
    }
   ],
   "source": [
    "for layer in model.layers:\n",
    "    has_weights = \"✅\" if layer.get_weights() else \"❌\"\n",
    "    print(f\"{layer.name:20s} | Has weights? {has_weights}\")"
   ]
  },
  {
   "cell_type": "code",
   "execution_count": 50,
   "id": "66f1f334-f27c-4072-8dfe-bc96b0382af8",
   "metadata": {},
   "outputs": [
    {
     "name": "stdout",
     "output_type": "stream",
     "text": [
      "0\n",
      "conv2d_2 weights shape: (5, 5, 1, 6)\n",
      "conv2d_2 biases shape: (6,)\n",
      "1\n",
      "conv2d_3 weights shape: (5, 5, 6, 16)\n",
      "conv2d_3 biases shape: (16,)\n",
      "2\n",
      "dense_3 weights shape: (400, 120)\n",
      "dense_3 biases shape: (120,)\n",
      "3\n",
      "dense_4 weights shape: (120, 84)\n",
      "dense_4 biases shape: (84,)\n",
      "4\n",
      "dense_5 weights shape: (84, 10)\n",
      "dense_5 biases shape: (10,)\n"
     ]
    }
   ],
   "source": [
    "# Extract The Weights\n",
    "x = 0\n",
    "for layer in model.layers:\n",
    "    if layer.get_weights():\n",
    "        print(x)\n",
    "        w, b = layer.get_weights()\n",
    "        print(f\"{layer.name} weights shape: {w.shape}\")\n",
    "        print(f\"{layer.name} biases shape: {b.shape}\")\n",
    "        x+=1"
   ]
  },
  {
   "cell_type": "code",
   "execution_count": 51,
   "id": "10736d95-f025-44b2-ad34-4120dad763d7",
   "metadata": {},
   "outputs": [],
   "source": [
    "\n",
    "#layers.Conv2D(6, kernel_size=(5, 5), activation='relu', input_shape=(28, 28, 1), padding='same', dtype='float32')\n",
    "weights = model.get_weights()\n",
    "conv1_weights = weights[0]\n",
    "conv1_biases = weights[1]\n",
    "\n",
    "conv2_weights = weights[2]\n",
    "conv2_biases = weights[3]\n",
    "\n",
    "fc1_weights = weights[4]\n",
    "fc1_biases = weights[5]\n",
    "\n",
    "fc2_weights = weights[6]\n",
    "fc2_biases = weights[7]\n",
    "\n",
    "fc3_weights = weights[8]\n",
    "fc3_biases = weights[9]\n",
    "\n",
    "#print(conv1_weights)"
   ]
  },
  {
   "cell_type": "code",
   "execution_count": 52,
   "id": "9f71a5ad-df9f-4065-9240-e1cb4a464b93",
   "metadata": {},
   "outputs": [],
   "source": [
    "#Convert the current weights and biases to header files for HLS env\n",
    "import numpy as np\n",
    "\n",
    "# Load trained weights\n",
    "conv1_weights = weights[0]  # shape: (6, 5, 1, 6)\n",
    "                            # shape: (i, j, 1, k)   (For the for loops)                         \n",
    "conv1_biases = weights[1]   # shape: (6,)\n",
    "\n",
    "# Manually save the weights as c header files: \n",
    "# Export as C header\n",
    "## ---------------------------- ** CONV1 ** ---------------------------------------\n",
    "with open(\"weights/conv1_weights.h\", \"w\") as f:\n",
    "    f.write('#include \"C:\\\\Users\\\\Baron\\\\Desktop\\\\EE_297_Repo\\\\EE_297\\\\vivado\\\\lenet_proj\\\\lenet_top.h\"\\n\\n') \n",
    "    f.write(\"float conv1_weights[5][5][1][6] = {\\n\")\n",
    "    for i in range(5):\n",
    "        f.write(\"  {\\n\")\n",
    "        for j in range(5):\n",
    "            f.write(\"    {\")\n",
    "            f.write(\", \".join(f\"{conv1_weights[i][j][0][k]:.8f}\" for k in range(6)))\n",
    "            f.write(\"},\\n\")\n",
    "        f.write(\"  },\\n\")\n",
    "    f.write(\"};\\n\")\n",
    "\n",
    "with open(\"weights/conv1_biases.h\", \"w\") as f:\n",
    "    f.write('#include \"C:\\\\Users\\\\Baron\\\\Desktop\\\\EE_297_Repo\\\\EE_297\\\\vivado\\\\lenet_proj\\\\lenet_top.h\"\\n\\n') \n",
    "    f.write(\"float conv1_biases[6] = {\")\n",
    "    f.write(\", \".join(f\"{b:.8f}\" for b in conv1_biases))\n",
    "    f.write(\"};\\n\")\n",
    "## ---------------------------- ** COVN2 ** ---------------------------------------\n",
    "# Load trained weights\n",
    "conv2_weights = weights[2]  # shape: (6, 5, 1, 6)\n",
    "                            # shape: (i, j, 1, k)   (For the for loops)                         \n",
    "conv2_biases = weights[3]   # shape: (6,)\n",
    "\n",
    "# Save conv2_weights: shape (5, 5, 6, 16)\n",
    "with open(\"weights/conv2_weights.h\", \"w\") as f:\n",
    "    f.write('#include \"C:\\\\Users\\\\Baron\\\\Desktop\\\\EE_297_Repo\\\\EE_297\\\\vivado\\\\lenet_proj\\\\lenet_top.h\"\\n\\n') \n",
    "    f.write(\"float conv2_weights[5][5][6][16] = {\\n\")\n",
    "    for i in range(5):\n",
    "        f.write(\"  {\\n\")\n",
    "        for j in range(5):\n",
    "            f.write(\"    {\\n\")\n",
    "            for k in range(6):\n",
    "                line = \"      {\" + \", \".join(f\"{conv2_weights[i][j][k][m]:.8f}\" for m in range(16)) + \"},\\n\"\n",
    "                f.write(line)\n",
    "            f.write(\"    },\\n\")\n",
    "        f.write(\"  },\\n\")\n",
    "    f.write(\"};\\n\")\n",
    "\n",
    "# Save conv2_biases: shape (16,)\n",
    "with open(\"weights/conv2_biases.h\", \"w\") as f:\n",
    "    f.write('#include \"C:\\\\Users\\\\Baron\\\\Desktop\\\\EE_297_Repo\\\\EE_297\\\\vivado\\\\lenet_proj\\\\lenet_top.h\"\\n\\n') \n",
    "    f.write(\"float conv2_biases[16] = {\")\n",
    "    f.write(\", \".join(f\"{b:.8f}\" for b in conv2_biases))\n",
    "    f.write(\"};\\n\")\n",
    "## ---------------------------- ** FC1 ** ---------------------------------------\n",
    "fc1_weights = weights[4]\n",
    "\n",
    "fc1_biases = weights[5]\n",
    "\n",
    "# Save fc1_weights: shape (400, 120)\n",
    "with open(\"weights/fc1_weights.h\", \"w\") as f:\n",
    "    f.write('#include \"C:\\\\Users\\\\Baron\\\\Desktop\\\\EE_297_Repo\\\\EE_297\\\\vivado\\\\lenet_proj\\\\lenet_top.h\"\\n\\n') \n",
    "    f.write(\"float fc1_weights[400][120] = {\\n\")\n",
    "    for i in range(400):\n",
    "        f.write(\"  {\" + \", \".join(f\"{fc1_weights[i][j]:.8f}\" for j in range(120)) + \"},\\n\")\n",
    "    f.write(\"};\\n\")\n",
    "\n",
    "# Save fc1_biases: shape (120,)\n",
    "with open(\"weights/fc1_biases.h\", \"w\") as f:\n",
    "    f.write('#include \"C:\\\\Users\\\\Baron\\\\Desktop\\\\EE_297_Repo\\\\EE_297\\\\vivado\\\\lenet_proj\\\\lenet_top.h\"\\n\\n') \n",
    "    f.write(\"float fc1_biases[120] = {\")\n",
    "    f.write(\", \".join(f\"{b:.8f}\" for b in fc1_biases))\n",
    "    f.write(\"};\\n\")\n",
    "\n",
    "## ---------------------------- ** FC2 ** ---------------------------------------\n",
    "fc2_weights = weights[6]\n",
    "\n",
    "fc2_biases = weights[7]\n",
    "\n",
    "# Save fc2_weights: shape (120, 84)\n",
    "with open(\"weights/fc2_weights.h\", \"w\") as f:\n",
    "    f.write('#include \"C:\\\\Users\\\\Baron\\\\Desktop\\\\EE_297_Repo\\\\EE_297\\\\vivado\\\\lenet_proj\\\\lenet_top.h\"\\n\\n') \n",
    "    f.write(\"float fc2_weights[120][84] = {\\n\")\n",
    "    for i in range(120):\n",
    "        f.write(\"  {\" + \", \".join(f\"{fc2_weights[i][j]:.8f}\" for j in range(84)) + \"},\\n\")\n",
    "    f.write(\"};\\n\")\n",
    "\n",
    "# Save fc2_biases: shape (84,)\n",
    "with open(\"weights/fc2_biases.h\", \"w\") as f:\n",
    "    f.write('#include \"C:\\\\Users\\\\Baron\\\\Desktop\\\\EE_297_Repo\\\\EE_297\\\\vivado\\\\lenet_proj\\\\lenet_top.h\"\\n\\n') \n",
    "    f.write(\"float fc2_biases[84] = {\")\n",
    "    f.write(\", \".join(f\"{b:.8f}\" for b in fc2_biases))\n",
    "    f.write(\"};\\n\")\n",
    "\n",
    "## ---------------------------- ** FC3 ** ---------------------------------------\n",
    "fc3_weights = weights[8]\n",
    "\n",
    "fc3_biases = weights[9]\n",
    "    \n",
    "# Save fc3_weights: shape (84, 10)\n",
    "with open(\"weights/fc3_weights.h\", \"w\") as f:\n",
    "    f.write('#include \"C:\\\\Users\\\\Baron\\\\Desktop\\\\EE_297_Repo\\\\EE_297\\\\vivado\\\\lenet_proj\\\\lenet_top.h\"\\n\\n') \n",
    "    f.write(\"float fc3_weights[84][10] = {\\n\")\n",
    "    for i in range(84):\n",
    "        f.write(\"  {\" + \", \".join(f\"{fc3_weights[i][j]:.8f}\" for j in range(10)) + \"},\\n\")\n",
    "    f.write(\"};\\n\")\n",
    "\n",
    "# Save fc3_biases: shape (10,)\n",
    "with open(\"weights/fc3_biases.h\", \"w\") as f:\n",
    "    f.write('#include \"C:\\\\Users\\\\Baron\\\\Desktop\\\\EE_297_Repo\\\\EE_297\\\\vivado\\\\lenet_proj\\\\lenet_top.h\"\\n\\n') \n",
    "    f.write(\"float fc3_biases[10] = {\")\n",
    "    f.write(\", \".join(f\"{b:.8f}\" for b in fc3_biases))\n",
    "    f.write(\"};\\n\")"
   ]
  },
  {
   "cell_type": "code",
   "execution_count": 53,
   "id": "5aeaaae1-4d3c-40d1-bc68-4bfa53c6e520",
   "metadata": {},
   "outputs": [
    {
     "name": "stdout",
     "output_type": "stream",
     "text": [
      "INFO:tensorflow:Assets written to: models/model_lenet.h5py\\assets\n"
     ]
    },
    {
     "name": "stderr",
     "output_type": "stream",
     "text": [
      "INFO:tensorflow:Assets written to: models/model_lenet.h5py\\assets\n"
     ]
    }
   ],
   "source": [
    "# Save the newly created model to the side.\n",
    "# Save the trained model to an HDF5 file\n",
    "model.save('models/model_lenet.h5py')"
   ]
  },
  {
   "cell_type": "code",
   "execution_count": 6,
   "id": "1b6d3a1d-f702-4b2d-90f2-3a25db02bf1a",
   "metadata": {},
   "outputs": [
    {
     "name": "stdout",
     "output_type": "stream",
     "text": [
      "1/1 [==============================] - 0s 151ms/step\n"
     ]
    }
   ],
   "source": [
    "## First layer:\n",
    "from tensorflow.keras.models import load_model\n",
    "model = tf.keras.models.load_model('models/model_lenet.h5py')\n",
    "\n",
    "# Load the test image (if from txt file used in HLS)\n",
    "image = np.loadtxt(\"img_5.txt\")  # or whatever index you're using\n",
    "image = image.reshape(1, 28, 28, 1)  # Add batch and channel dimensions\n",
    "\n",
    "layer_output_model = tf.keras.Model(inputs=model.input, outputs=model.layers[0].output)\n",
    "\n",
    "# Get the output\n",
    "conv1_output = layer_output_model.predict(image)\n",
    "\n",
    "with open(\"prelims/conv1_out.txt\", \"w\") as f:\n",
    "    for filt in range(6):\n",
    "        #f.write(f\"==== Feature Map for Filter {filt} ====\\n\")\n",
    "        for i in range(28):\n",
    "            for j in range(28):\n",
    "                f.write(f\"{conv1_output[0, i, j, filt]:.6f} \")\n",
    "            f.write(\"\\n\")\n",
    "        f.write(\"\\n\")\n",
    "\n",
    "#-----------------------------------------------------------------------------\n",
    "## FIXED PRECISION\n",
    "\n",
    "# Load the model\n",
    "#model = tf.keras.models.load_model('models/model_lenet.h5py')\n",
    "#\n",
    "## Load and reshape the input image\n",
    "#image = np.loadtxt(\"img_5.txt\").reshape(1, 28, 28, 1)\n",
    "#\n",
    "## Extract output from the first Conv2D layer\n",
    "#layer_output_model = tf.keras.Model(inputs=model.input, outputs=model.layers[0].output)\n",
    "#conv1_output = layer_output_model.predict(image)  # shape (1, 28, 28, 6)\n",
    "#\n",
    "## Simulate ap_fixed<16, 8>\n",
    "#def to_ap_fixed_16_8(x):\n",
    "#    x_scaled = np.round(x * 256)  # simulate fixed-point rounding\n",
    "#    x_clipped = np.clip(x_scaled, -32768, 32767)  # 16-bit signed range\n",
    "#    return x_clipped / 256.0  # back to float for readability/comparison\n",
    "#\n",
    "## Apply quantization to entire tensor\n",
    "#conv1_output_fixed = to_ap_fixed_16_8(conv1_output)\n",
    "#\n",
    "## Save to file (format matches your hardware output)\n",
    "#with open(\"prelims/conv1_out_fixed.txt\", \"w\") as f:\n",
    "#    for filt in range(6):\n",
    "#        for i in range(28):\n",
    "#            for j in range(28):\n",
    "#                f.write(f\"{conv1_output_fixed[0, i, j, filt]:.6f} \")\n",
    "#            f.write(\"\\n\")\n",
    "#        f.write(\"\\n\")"
   ]
  },
  {
   "cell_type": "code",
   "execution_count": 7,
   "id": "bde08682-9eac-407f-ae68-d5f03c49002d",
   "metadata": {},
   "outputs": [
    {
     "name": "stdout",
     "output_type": "stream",
     "text": [
      "1/1 [==============================] - 0s 39ms/step\n"
     ]
    }
   ],
   "source": [
    "## Layer Second\n",
    "    # layers.MaxPooling(pool_size=(2, 2), dtype='float32')\n",
    "# Load the trained model\n",
    "model = tf.keras.models.load_model('models/model_lenet.h5py')\n",
    "\n",
    "# Load the same input image used in HLS\n",
    "image = np.loadtxt(\"img_5.txt\").reshape(1, 28, 28, 1)\n",
    "\n",
    "# Get the output from the MaxPooling2D layer (after Conv2D)\n",
    "# Assuming it's the second layer (index 1)\n",
    "pool1_output_model = tf.keras.Model(inputs=model.input, outputs=model.layers[1].output)\n",
    "\n",
    "# Get the pooled output\n",
    "pool1_output = pool1_output_model.predict(image)  # Shape: (1, 14, 14, 6)\n",
    "\n",
    "# Save to text file (14x14x6 format)\n",
    "with open(\"prelims/pool1_out.txt\", \"w\") as f:\n",
    "    for filt in range(pool1_output.shape[3]):\n",
    "        for i in range(pool1_output.shape[1]):\n",
    "            for j in range(pool1_output.shape[2]):\n",
    "                f.write(f\"{pool1_output[0, i, j, filt]:.6f} \")\n",
    "            f.write(\"\\n\")\n",
    "        f.write(\"\\n\")  # separate each feature map"
   ]
  },
  {
   "cell_type": "code",
   "execution_count": 8,
   "id": "60a7590a-4f27-41f1-bb5f-3e6b9455f29b",
   "metadata": {},
   "outputs": [
    {
     "name": "stdout",
     "output_type": "stream",
     "text": [
      "1/1 [==============================] - 0s 46ms/step\n"
     ]
    }
   ],
   "source": [
    "### Third Layer\n",
    "    #**layers.Conv2D(16, kernel_size=(5, 5), activation='relu', dtype='float32'),\n",
    "# Load trained LeNet model\n",
    "model = tf.keras.models.load_model('models/model_lenet.h5py')\n",
    "\n",
    "# Load and reshape the input image (same used in HLS)\n",
    "image = np.loadtxt(\"img_5.txt\").reshape(1, 28, 28, 1)\n",
    "\n",
    "# Build a model to output from the second Conv2D layer\n",
    "# Assuming layer 2 is the second Conv2D (after MaxPool)\n",
    "#model.summary()  # Use this to verify layer index if needed\n",
    "\n",
    "conv2_model = tf.keras.Model(inputs=model.input, outputs=model.layers[2].output)\n",
    "\n",
    "# Run inference\n",
    "conv2_output = conv2_model.predict(image)  # Shape: (1, 10, 10, 16)\n",
    "\n",
    "# Save to .txt file for comparison with HLS output\n",
    "with open(\"prelims/conv2_out.txt\", \"w\") as f:\n",
    "    for filt in range(conv2_output.shape[3]):         # 16 filters\n",
    "        for i in range(conv2_output.shape[1]):        # 10 rows\n",
    "            for j in range(conv2_output.shape[2]):    # 10 cols\n",
    "                f.write(f\"{conv2_output[0, i, j, filt]:.6f} \")\n",
    "            f.write(\"\\n\")\n",
    "        f.write(\"\\n\")  # blank line between filters"
   ]
  },
  {
   "cell_type": "code",
   "execution_count": 9,
   "id": "123f69ee-bb66-408f-8c05-5547f8cf9608",
   "metadata": {},
   "outputs": [
    {
     "name": "stdout",
     "output_type": "stream",
     "text": [
      "1/1 [==============================] - 0s 48ms/step\n"
     ]
    }
   ],
   "source": [
    "## Fourth Layer\n",
    "##* layers.MaxPooling2D(pool_size=(2, 2), dtype='float32'), \n",
    "# Load your trained LeNet model\n",
    "# Load the trained model\n",
    "model = tf.keras.models.load_model('models/model_lenet.h5py')\n",
    "\n",
    "# Load and reshape input image\n",
    "image = np.loadtxt(\"img_5.txt\").reshape(1, 28, 28, 1)\n",
    "\n",
    "# Extract output of second MaxPooling2D (index 3)\n",
    "pool2_model = tf.keras.Model(inputs=model.input, outputs=model.layers[3].output)\n",
    "\n",
    "# Run inference\n",
    "pool2_output = pool2_model.predict(image)  # Shape: (1, 5, 5, 16)\n",
    "\n",
    "# Save to .txt file\n",
    "with open(\"prelims/pool2_out.txt\", \"w\") as f:\n",
    "    for filt in range(16):\n",
    "        for i in range(5):\n",
    "            for j in range(5):\n",
    "                f.write(f\"{pool2_output[0, i, j, filt]:.6f} \")\n",
    "            f.write(\"\\n\")\n",
    "        f.write(\"\\n\")"
   ]
  },
  {
   "cell_type": "code",
   "execution_count": 10,
   "id": "cc0c9061-fe7e-4bf7-841d-c106448465d5",
   "metadata": {},
   "outputs": [
    {
     "name": "stdout",
     "output_type": "stream",
     "text": [
      "WARNING:tensorflow:5 out of the last 5 calls to <function Model.make_predict_function.<locals>.predict_function at 0x00000192CAAE0F40> triggered tf.function retracing. Tracing is expensive and the excessive number of tracings could be due to (1) creating @tf.function repeatedly in a loop, (2) passing tensors with different shapes, (3) passing Python objects instead of tensors. For (1), please define your @tf.function outside of the loop. For (2), @tf.function has reduce_retracing=True option that can avoid unnecessary retracing. For (3), please refer to https://www.tensorflow.org/guide/function#controlling_retracing and https://www.tensorflow.org/api_docs/python/tf/function for  more details.\n",
      "1/1 [==============================] - 0s 48ms/step\n"
     ]
    }
   ],
   "source": [
    "# Fifth Layer\n",
    "#** layers.Flatten(dtype='float32'), \n",
    "# Load trained LeNet model\n",
    "model = tf.keras.models.load_model('models/model_lenet.h5py')\n",
    "\n",
    "# Load and reshape the test image\n",
    "image = np.loadtxt(\"img_5.txt\").reshape(1, 28, 28, 1)\n",
    "\n",
    "\n",
    "# Build a model that outputs the Flatten layer\n",
    "flatten_model = tf.keras.Model(inputs=model.input, outputs=model.layers[4].output)\n",
    "\n",
    "# Run the image through the model\n",
    "flatten_output = flatten_model.predict(image)  # Shape: (1, 400)\n",
    "\n",
    "# Save to file\n",
    "with open(\"prelims/flatten_out.txt\", \"w\") as f:\n",
    "    for val in flatten_output[0]:  # access the single sample\n",
    "        f.write(f\"{val:.6f}\\n\")"
   ]
  },
  {
   "cell_type": "code",
   "execution_count": 12,
   "id": "e894c70c-3f66-42a2-9557-510eb009325d",
   "metadata": {},
   "outputs": [
    {
     "name": "stdout",
     "output_type": "stream",
     "text": [
      "1/1 [==============================] - 0s 53ms/step\n"
     ]
    }
   ],
   "source": [
    "# Sixth Layer (Dense Layer 1)\n",
    "# Load trained LeNet model\n",
    "model = tf.keras.models.load_model('models/model_lenet.h5py')\n",
    "\n",
    "# Load and reshape the test image\n",
    "image = np.loadtxt(\"img_5.txt\").reshape(1, 28, 28, 1)\n",
    "\n",
    "# Build a model that outputs the first fully connected (Dense) layer, which is typically layer[6] in LeNet\n",
    "fc1_model = tf.keras.Model(inputs=model.input, outputs=model.layers[5].output)\n",
    "\n",
    "# Run the image through the model\n",
    "fc1_output = fc1_model.predict(image)  # Shape: (1, 120)\n",
    "\n",
    "# Save to file\n",
    "with open(\"prelims/fc1_out.txt\", \"w\") as f:\n",
    "    for val in fc1_output[0]:  # access the single sample\n",
    "        f.write(f\"{val:.6f}\\n\")"
   ]
  },
  {
   "cell_type": "code",
   "execution_count": 13,
   "id": "b9d47051-c2b3-4bdd-a906-b5e5e9615e3f",
   "metadata": {},
   "outputs": [
    {
     "name": "stdout",
     "output_type": "stream",
     "text": [
      "1/1 [==============================] - 0s 78ms/step\n"
     ]
    }
   ],
   "source": [
    "# Seven Layer (Dense Layer 2)\n",
    "# Load trained LeNet model\n",
    "model = tf.keras.models.load_model('models/model_lenet.h5py')\n",
    "\n",
    "# Load and reshape the test image\n",
    "image = np.loadtxt(\"img_5.txt\").reshape(1, 28, 28, 1)\n",
    "\n",
    "# Build a model that outputs the first fully connected (Dense) layer, which is typically layer[6] in LeNet\n",
    "fc2_model = tf.keras.Model(inputs=model.input, outputs=model.layers[6].output)\n",
    "\n",
    "# Run the image through the model\n",
    "fc2_output = fc2_model.predict(image)  # Shape: (1, 120)\n",
    "\n",
    "# Save to file\n",
    "with open(\"prelims/fc2_out.txt\", \"w\") as f:\n",
    "    for val in fc2_output[0]:  # access the single sample\n",
    "        f.write(f\"{val:.6f}\\n\")"
   ]
  },
  {
   "cell_type": "markdown",
   "id": "9eb2fb36-3112-4aa2-b0e9-2039098e134f",
   "metadata": {},
   "source": [
    "### Helper Functions"
   ]
  },
  {
   "cell_type": "code",
   "execution_count": 5,
   "id": "7af46104-be78-4b97-bd61-9cebb58ff9d7",
   "metadata": {},
   "outputs": [],
   "source": [
    "def show_sample_images(x_data, n=5):\n",
    "    \"\"\"\n",
    "    Display the first `n` images in the dataset as heatmaps.\n",
    "    \n",
    "    Args:\n",
    "        x_data (numpy.ndarray): The dataset (e.g., x_train).\n",
    "        n (int): Number of images to display (default 5).\n",
    "    \"\"\"\n",
    "    plt.figure(figsize=(n * 2, 2))\n",
    "    for i in range(n):\n",
    "        plt.subplot(1, n, i + 1)\n",
    "        plt.imshow(x_data[i].squeeze(), cmap='plasma')  # squeeze in case shape is (28, 28, 1)\n",
    "        plt.axis('off')\n",
    "        plt.title(f\"Sample {i}\")\n",
    "    plt.tight_layout()\n",
    "    plt.show()"
   ]
  },
  {
   "cell_type": "code",
   "execution_count": 26,
   "id": "685685e8-0bb0-4045-a3ff-9e2b5957e4f0",
   "metadata": {},
   "outputs": [],
   "source": [
    "## Convert the current img to normalized text file values \n",
    "from PIL import Image\n",
    "import numpy as np\n",
    "\n",
    "img_5 = Image.open(\"C:\\\\Users\\\\Baron\\\\Desktop\\\\EE_297_Repo\\\\EE_297\\\\ML_PATH_EE297\\\\EE297_env\\\\pictures\\\\img_9.jpg\").convert(\"L\").resize((28, 28))\n",
    "arr = np.asarray(img_5).astype('float32') / 255.0\n",
    "# Save as a flat .txt file\n",
    "arr.tofile(\"pics_test_files/img_9.txt\", sep=\"\\n\", format=\"%.6f\")"
   ]
  },
  {
   "cell_type": "code",
   "execution_count": null,
   "id": "7ceb6191-9fea-4004-899d-dd70144401e0",
   "metadata": {},
   "outputs": [],
   "source": [
    "import matplotlib.pyplot as plt\n",
    "import matplotlib.patches as mpatches\n",
    "\n",
    "def draw_full_lenet_neuron_diagram():\n",
    "    fig, ax = plt.subplots(figsize=(20, 10))\n",
    "    ax.set_xlim(0, 18)\n",
    "    ax.set_ylim(0, 10)\n",
    "    ax.axis('off')\n",
    "\n",
    "    # Full neuron counts for each major layer\n",
    "    layers = [\n",
    "        {\"label\": \"Input Layer\\n28x28\", \"x\": 1, \"neurons\": 10},\n",
    "        {\"label\": \"Conv2D\\n6@28x28\", \"x\": 3, \"neurons\": 6},\n",
    "        {\"label\": \"AvgPool\\n6@14x14\", \"x\": 4.5, \"neurons\": 6},\n",
    "        {\"label\": \"Conv2D\\n16@10x10\", \"x\": 6, \"neurons\": 8},\n",
    "        {\"label\": \"AvgPool\\n16@5x5\", \"x\": 7.5, \"neurons\": 8},\n",
    "        {\"label\": \"Flatten\\n400\", \"x\": 9, \"neurons\": 10},\n",
    "        {\"label\": \"Dense\\n120\", \"x\": 11, \"neurons\": 10},\n",
    "        {\"label\": \"Dense\\n84\", \"x\": 13, \"neurons\": 10},\n",
    "        {\"label\": \"Output\\n10\", \"x\": 15, \"neurons\": 10}\n",
    "    ]\n",
    "\n",
    "    # Draw neurons\n",
    "    for layer in layers:\n",
    "        x = layer[\"x\"]\n",
    "        n = layer[\"neurons\"]\n",
    "        spacing = 8.0 / max(n, 1)\n",
    "        offset = (10 - (n * spacing)) / 2\n",
    "        for i in range(n):\n",
    "            y = 9 - (i * spacing + offset)\n",
    "            circle = plt.Circle((x, y), 0.25, color='white', ec='black', zorder=3)\n",
    "            ax.add_patch(circle)\n",
    "\n",
    "        # Label each layer\n",
    "        ax.text(x, 9.5, layer[\"label\"], ha='center', fontsize=10, fontweight='bold')\n",
    "\n",
    "    # Draw full connections (dense) between adjacent layers\n",
    "    for i in range(len(layers) - 1):\n",
    "        x1, n1 = layers[i][\"x\"], layers[i][\"neurons\"]\n",
    "        x2, n2 = layers[i+1][\"x\"], layers[i+1][\"neurons\"]\n",
    "        spacing1 = 8.0 / max(n1, 1)\n",
    "        spacing2 = 8.0 / max(n2, 1)\n",
    "        offset1 = (10 - (n1 * spacing1)) / 2\n",
    "        offset2 = (10 - (n2 * spacing2)) / 2\n",
    "        for j in range(n1):\n",
    "            y1 = 9 - (j * spacing1 + offset1)\n",
    "            for k in range(n2):\n",
    "                y2 = 9 - (k * spacing2 + offset2)\n",
    "                ax.plot([x1 + 0.25, x2 - 0.25], [y1, y2], 'gray', linewidth=0.3, zorder=1)\n",
    "\n",
    "    plt.title(\"LeNet Architecture — Full Neuron-Level Visualization\", fontsize=16, weight='bold')\n",
    "    plt.tight_layout()\n",
    "    plt.show()"
   ]
  },
  {
   "cell_type": "code",
   "execution_count": null,
   "id": "d188a78e-c451-4d30-84f8-91f461b595b2",
   "metadata": {},
   "outputs": [],
   "source": [
    "import matplotlib.pyplot as plt\n",
    "import numpy as np\n",
    "import matplotlib.patches as patches\n",
    "\n",
    "def visualize_conv2d_operation():\n",
    "    fig, ax = plt.subplots(figsize=(28, 28))\n",
    "\n",
    "    # Create a fake 8x8 input image\n",
    "    input_image = np.arange(784).reshape(28, 28)\n",
    "\n",
    "    # Simulated 5x5 filter kernel (not showing values, just visualization)\n",
    "    filter_size = 5\n",
    "    stride = 1\n",
    "    start_x, start_y = 1, 1  # where the filter is \"sliding\" over\n",
    "\n",
    "    ax.imshow(input_image, cmap='gray', alpha=0.5)\n",
    "\n",
    "    # Draw the filter sliding position (5x5 square)\n",
    "    rect = patches.Rectangle((start_y-0.5, start_x-0.5), filter_size, filter_size, linewidth=2, edgecolor='red', facecolor='none')\n",
    "    ax.add_patch(rect)\n",
    "\n",
    "    # Annotate pixels\n",
    "    for i in range(28):\n",
    "        for j in range(28):\n",
    "            ax.text(j, i, str(input_image[i, j]), ha='center', va='center', fontsize=8)\n",
    "\n",
    "    ax.set_title(\"Example: A 5x5 Filter Sliding Over an 8x8 Image\")\n",
    "    ax.axis('off')\n",
    "    plt.tight_layout()\n",
    "    plt.show()\n",
    "\n",
    "visualize_conv2d_operation()\n"
   ]
  },
  {
   "cell_type": "code",
   "execution_count": null,
   "id": "bf08a49f-59b7-4916-8173-74b596a90f6e",
   "metadata": {},
   "outputs": [],
   "source": []
  }
 ],
 "metadata": {
  "kernelspec": {
   "display_name": "Python 3 (ipykernel)",
   "language": "python",
   "name": "python3"
  },
  "language_info": {
   "codemirror_mode": {
    "name": "ipython",
    "version": 3
   },
   "file_extension": ".py",
   "mimetype": "text/x-python",
   "name": "python",
   "nbconvert_exporter": "python",
   "pygments_lexer": "ipython3",
   "version": "3.11.11"
  }
 },
 "nbformat": 4,
 "nbformat_minor": 5
}
