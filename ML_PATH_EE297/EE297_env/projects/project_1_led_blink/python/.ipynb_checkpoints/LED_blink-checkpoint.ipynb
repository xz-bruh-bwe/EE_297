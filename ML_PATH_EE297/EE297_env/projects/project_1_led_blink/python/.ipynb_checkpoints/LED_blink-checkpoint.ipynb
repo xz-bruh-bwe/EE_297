{
 "cells": [
  {
   "cell_type": "markdown",
   "id": "263d1d38-bc51-4b1a-bd37-58fb9db338e0",
   "metadata": {},
   "source": [
    "### Project 1: LED Blink"
   ]
  },
  {
   "cell_type": "code",
   "execution_count": null,
   "id": "46e5f2fd-3abc-4e03-92aa-57bf1da7170b",
   "metadata": {},
   "outputs": [],
   "source": []
  },
  {
   "cell_type": "markdown",
   "id": "46b3d25b-a7a7-4eb0-8484-5d2c6703dc64",
   "metadata": {},
   "source": [
    "## Main HDL Design"
   ]
  },
  {
   "cell_type": "code",
   "execution_count": 8,
   "id": "9d3b7e02-e02e-4146-951d-ca8c00946d7f",
   "metadata": {},
   "outputs": [
    {
     "name": "stdout",
     "output_type": "stream",
     "text": [
      "Simulating LED Blink:\n",
      "Cycle 0: LED State = 0\n",
      "Cycle 1: LED State = 0\n",
      "Cycle 2: LED State = 1\n",
      "Cycle 3: LED State = 1\n",
      "Cycle 4: LED State = 1\n",
      "Cycle 5: LED State = 0\n",
      "Cycle 6: LED State = 0\n",
      "Cycle 7: LED State = 0\n",
      "Cycle 8: LED State = 1\n",
      "Cycle 9: LED State = 1\n"
     ]
    }
   ],
   "source": [
    "import torch\n",
    "import torch.nn as nn\n",
    "\n",
    "class LEDBlink(nn.Module):\n",
    "    def __init__(self, toggle_interval=5):\n",
    "        super(LEDBlink, self).__init__()\n",
    "        self.toggle_interval = toggle_interval\n",
    "        self.counter = 0\n",
    "        self.led_state = 0\n",
    "\n",
    "    def forward(self, x):\n",
    "        self.counter += 1\n",
    "        if self.counter >= self.toggle_interval:\n",
    "            self.led_state = 1 - self.led_state  # Toggle LED\n",
    "            self.counter = 0\n",
    "        return torch.tensor([self.led_state])\n",
    "\n",
    "# Simulate the LED Blink\n",
    "def simulate():\n",
    "    model = LEDBlink(toggle_interval=3)  # Toggle every 3 cycles\n",
    "    print(\"Simulating LED Blink:\")\n",
    "    for i in range(10):  # Run for 10 cycles\n",
    "        led_out = model(torch.tensor([0]))  # No input required\n",
    "        print(f\"Cycle {i}: LED State = {led_out.item()}\")\n",
    "\n",
    "if __name__ == \"__main__\":\n",
    "    simulate()\n"
   ]
  },
  {
   "cell_type": "code",
   "execution_count": 9,
   "id": "8005f104-a2b0-4112-9d3e-2bb9be678ad2",
   "metadata": {},
   "outputs": [
    {
     "data": {
      "text/plain": [
       "'C:\\\\Users\\\\Baron\\\\Desktop\\\\EE_297_Repo\\\\EE_297\\\\ML_PATH_EE297\\\\EE297_env\\\\projects\\\\project_1_led_blink\\\\python'"
      ]
     },
     "execution_count": 9,
     "metadata": {},
     "output_type": "execute_result"
    }
   ],
   "source": [
    "pwd"
   ]
  },
  {
   "cell_type": "code",
   "execution_count": 22,
   "id": "f687b974-552f-462b-92e4-aef29fcd115e",
   "metadata": {},
   "outputs": [],
   "source": [
    "import qkeras\n"
   ]
  },
  {
   "cell_type": "code",
   "execution_count": 23,
   "id": "440bb49e-7275-43ab-9d42-6da84436f4b2",
   "metadata": {},
   "outputs": [
    {
     "name": "stdout",
     "output_type": "stream",
     "text": [
      "QKeras installation not found, installing one...\n",
      "Could not find QKeras installation, make sure you have QKeras installed.\n"
     ]
    },
    {
     "ename": "ImportError",
     "evalue": "DLL load failed while importing onnx_cpp2py_export: A dynamic link library (DLL) initialization routine failed.",
     "output_type": "error",
     "traceback": [
      "\u001b[1;31m---------------------------------------------------------------------------\u001b[0m",
      "\u001b[1;31mImportError\u001b[0m                               Traceback (most recent call last)",
      "Cell \u001b[1;32mIn[23], line 1\u001b[0m\n\u001b[1;32m----> 1\u001b[0m \u001b[38;5;28;01mimport\u001b[39;00m \u001b[38;5;21;01mhls4ml\u001b[39;00m\n\u001b[0;32m      3\u001b[0m \u001b[38;5;28;01mfrom\u001b[39;00m \u001b[38;5;21;01mled_blink\u001b[39;00m \u001b[38;5;28;01mimport\u001b[39;00m LEDBlink\n\u001b[0;32m      5\u001b[0m \u001b[38;5;66;03m# Load the LED Blink model\u001b[39;00m\n",
      "File \u001b[1;32m~\\anaconda3\\Lib\\site-packages\\hls4ml\\__init__.py:31\u001b[0m\n\u001b[0;32m     27\u001b[0m     \u001b[38;5;28mprint\u001b[39m(\u001b[38;5;124m'\u001b[39m\u001b[38;5;124mCould not find QKeras installation, make sure you have QKeras installed.\u001b[39m\u001b[38;5;124m'\u001b[39m)\n\u001b[0;32m     29\u001b[0m \u001b[38;5;66;03m# End of workaround\u001b[39;00m\n\u001b[1;32m---> 31\u001b[0m \u001b[38;5;28;01mfrom\u001b[39;00m \u001b[38;5;21;01mhls4ml\u001b[39;00m \u001b[38;5;28;01mimport\u001b[39;00m converters, report, utils  \u001b[38;5;66;03m# noqa: F401, E402\u001b[39;00m\n\u001b[0;32m     33\u001b[0m \u001b[38;5;28;01mtry\u001b[39;00m:\n\u001b[0;32m     34\u001b[0m     \u001b[38;5;28;01mfrom\u001b[39;00m \u001b[38;5;21;01m.\u001b[39;00m\u001b[38;5;21;01m_version\u001b[39;00m \u001b[38;5;28;01mimport\u001b[39;00m version \u001b[38;5;28;01mas\u001b[39;00m __version__\n",
      "File \u001b[1;32m~\\anaconda3\\Lib\\site-packages\\hls4ml\\converters\\__init__.py:13\u001b[0m\n\u001b[0;32m     11\u001b[0m \u001b[38;5;28;01mfrom\u001b[39;00m \u001b[38;5;21;01mhls4ml\u001b[39;00m\u001b[38;5;21;01m.\u001b[39;00m\u001b[38;5;21;01mconverters\u001b[39;00m\u001b[38;5;21;01m.\u001b[39;00m\u001b[38;5;21;01mkeras_to_hls\u001b[39;00m \u001b[38;5;28;01mimport\u001b[39;00m parse_keras_model  \u001b[38;5;66;03m# noqa: F401\u001b[39;00m\n\u001b[0;32m     12\u001b[0m \u001b[38;5;28;01mfrom\u001b[39;00m \u001b[38;5;21;01mhls4ml\u001b[39;00m\u001b[38;5;21;01m.\u001b[39;00m\u001b[38;5;21;01mconverters\u001b[39;00m\u001b[38;5;21;01m.\u001b[39;00m\u001b[38;5;21;01mkeras_to_hls\u001b[39;00m \u001b[38;5;28;01mimport\u001b[39;00m keras_to_hls, register_keras_layer_handler\n\u001b[1;32m---> 13\u001b[0m \u001b[38;5;28;01mfrom\u001b[39;00m \u001b[38;5;21;01mhls4ml\u001b[39;00m\u001b[38;5;21;01m.\u001b[39;00m\u001b[38;5;21;01mconverters\u001b[39;00m\u001b[38;5;21;01m.\u001b[39;00m\u001b[38;5;21;01monnx_to_hls\u001b[39;00m \u001b[38;5;28;01mimport\u001b[39;00m parse_onnx_model  \u001b[38;5;66;03m# noqa: F401\u001b[39;00m\n\u001b[0;32m     14\u001b[0m \u001b[38;5;28;01mfrom\u001b[39;00m \u001b[38;5;21;01mhls4ml\u001b[39;00m\u001b[38;5;21;01m.\u001b[39;00m\u001b[38;5;21;01mmodel\u001b[39;00m \u001b[38;5;28;01mimport\u001b[39;00m ModelGraph\n\u001b[0;32m     15\u001b[0m \u001b[38;5;28;01mfrom\u001b[39;00m \u001b[38;5;21;01mhls4ml\u001b[39;00m\u001b[38;5;21;01m.\u001b[39;00m\u001b[38;5;21;01mutils\u001b[39;00m\u001b[38;5;21;01m.\u001b[39;00m\u001b[38;5;21;01mconfig\u001b[39;00m \u001b[38;5;28;01mimport\u001b[39;00m create_config\n",
      "File \u001b[1;32m~\\anaconda3\\Lib\\site-packages\\hls4ml\\converters\\onnx_to_hls.py:1\u001b[0m\n\u001b[1;32m----> 1\u001b[0m \u001b[38;5;28;01mimport\u001b[39;00m \u001b[38;5;21;01monnx\u001b[39;00m\n\u001b[0;32m      2\u001b[0m \u001b[38;5;28;01mfrom\u001b[39;00m \u001b[38;5;21;01monnx\u001b[39;00m \u001b[38;5;28;01mimport\u001b[39;00m helper, numpy_helper\n\u001b[0;32m      4\u001b[0m \u001b[38;5;28;01mfrom\u001b[39;00m \u001b[38;5;21;01mhls4ml\u001b[39;00m\u001b[38;5;21;01m.\u001b[39;00m\u001b[38;5;21;01mmodel\u001b[39;00m \u001b[38;5;28;01mimport\u001b[39;00m ModelGraph\n",
      "File \u001b[1;32m~\\anaconda3\\Lib\\site-packages\\onnx\\__init__.py:77\u001b[0m\n\u001b[0;32m     73\u001b[0m \u001b[38;5;28;01mfrom\u001b[39;00m \u001b[38;5;21;01mtyping\u001b[39;00m \u001b[38;5;28;01mimport\u001b[39;00m IO, Literal, Union\n\u001b[0;32m     76\u001b[0m \u001b[38;5;28;01mfrom\u001b[39;00m \u001b[38;5;21;01monnx\u001b[39;00m \u001b[38;5;28;01mimport\u001b[39;00m serialization\n\u001b[1;32m---> 77\u001b[0m \u001b[38;5;28;01mfrom\u001b[39;00m \u001b[38;5;21;01monnx\u001b[39;00m\u001b[38;5;21;01m.\u001b[39;00m\u001b[38;5;21;01monnx_cpp2py_export\u001b[39;00m \u001b[38;5;28;01mimport\u001b[39;00m ONNX_ML\n\u001b[0;32m     78\u001b[0m \u001b[38;5;28;01mfrom\u001b[39;00m \u001b[38;5;21;01monnx\u001b[39;00m\u001b[38;5;21;01m.\u001b[39;00m\u001b[38;5;21;01mexternal_data_helper\u001b[39;00m \u001b[38;5;28;01mimport\u001b[39;00m (\n\u001b[0;32m     79\u001b[0m     load_external_data_for_model,\n\u001b[0;32m     80\u001b[0m     write_external_data_tensors,\n\u001b[0;32m     81\u001b[0m     convert_model_to_external_data,\n\u001b[0;32m     82\u001b[0m )\n\u001b[0;32m     83\u001b[0m \u001b[38;5;28;01mfrom\u001b[39;00m \u001b[38;5;21;01monnx\u001b[39;00m\u001b[38;5;21;01m.\u001b[39;00m\u001b[38;5;21;01monnx_pb\u001b[39;00m \u001b[38;5;28;01mimport\u001b[39;00m (\n\u001b[0;32m     84\u001b[0m     AttributeProto,\n\u001b[0;32m     85\u001b[0m     EXPERIMENTAL,\n\u001b[1;32m   (...)\u001b[0m\n\u001b[0;32m    111\u001b[0m     Version,\n\u001b[0;32m    112\u001b[0m )\n",
      "\u001b[1;31mImportError\u001b[0m: DLL load failed while importing onnx_cpp2py_export: A dynamic link library (DLL) initialization routine failed."
     ]
    }
   ],
   "source": [
    "\n",
    "import hls4ml\n",
    "\n",
    "from led_blink import LEDBlink\n",
    "\n",
    "# Load the LED Blink model\n",
    "model = LEDBlink(toggle_interval=3)\n",
    "\n",
    "# Convert to HDL\n",
    "ml4hls.convert(model, output_dir=\"hls_led\", backend=\"vivado_hls\")\n",
    "\n",
    "print(\"HDL conversion complete! Check the 'hls_led' directory.\")"
   ]
  },
  {
   "cell_type": "code",
   "execution_count": null,
   "id": "a6604b35-3e20-4278-8f03-75c8142ff294",
   "metadata": {},
   "outputs": [],
   "source": []
  }
 ],
 "metadata": {
  "kernelspec": {
   "display_name": "Python 3 (ipykernel)",
   "language": "python",
   "name": "python3"
  },
  "language_info": {
   "codemirror_mode": {
    "name": "ipython",
    "version": 3
   },
   "file_extension": ".py",
   "mimetype": "text/x-python",
   "name": "python",
   "nbconvert_exporter": "python",
   "pygments_lexer": "ipython3",
   "version": "3.11.5"
  }
 },
 "nbformat": 4,
 "nbformat_minor": 5
}
