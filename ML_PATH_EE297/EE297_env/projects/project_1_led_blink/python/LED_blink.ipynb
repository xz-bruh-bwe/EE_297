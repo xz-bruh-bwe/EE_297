{
 "cells": [
  {
   "cell_type": "markdown",
   "id": "263d1d38-bc51-4b1a-bd37-58fb9db338e0",
   "metadata": {},
   "source": [
    "### Project 1: LED Blink"
   ]
  },
  {
   "cell_type": "code",
   "execution_count": 4,
   "id": "b410b418-a9f3-45fd-9603-b71c3c8a5968",
   "metadata": {},
   "outputs": [
    {
     "name": "stdout",
     "output_type": "stream",
     "text": [
      "Collecting hls4ml\n",
      "  Downloading hls4ml-0.8.1-py3-none-any.whl.metadata (8.9 kB)\n",
      "Collecting calmjs.parse (from hls4ml)\n",
      "  Downloading calmjs.parse-1.3.3-py3-none-any.whl.metadata (51 kB)\n",
      "Requirement already satisfied: h5py in c:\\users\\baron\\%ml_path%\\baron_env\\lib\\site-packages (from hls4ml) (3.11.0)\n",
      "Requirement already satisfied: numpy in c:\\users\\baron\\%ml_path%\\baron_env\\lib\\site-packages (from hls4ml) (1.24.3)\n",
      "Collecting onnx>=1.4.0 (from hls4ml)\n",
      "  Downloading onnx-1.17.0-cp38-cp38-win_amd64.whl.metadata (16 kB)\n",
      "Collecting pydigitalwavetools==1.1 (from hls4ml)\n",
      "  Downloading pyDigitalWaveTools-1.1-py3-none-any.whl.metadata (3.1 kB)\n",
      "Requirement already satisfied: pyyaml in c:\\users\\baron\\%ml_path%\\baron_env\\lib\\site-packages (from hls4ml) (6.0.1)\n",
      "Requirement already satisfied: qkeras in c:\\users\\baron\\%ml_path%\\baron_env\\lib\\site-packages (from hls4ml) (0.9.0)\n",
      "Collecting tabulate (from hls4ml)\n",
      "  Downloading tabulate-0.9.0-py3-none-any.whl.metadata (34 kB)\n",
      "Requirement already satisfied: tensorflow in c:\\users\\baron\\%ml_path%\\baron_env\\lib\\site-packages (from hls4ml) (2.13.0)\n",
      "Requirement already satisfied: protobuf>=3.20.2 in c:\\users\\baron\\%ml_path%\\baron_env\\lib\\site-packages (from onnx>=1.4.0->hls4ml) (3.20.3)\n",
      "Requirement already satisfied: setuptools in c:\\users\\baron\\%ml_path%\\baron_env\\lib\\site-packages (from calmjs.parse->hls4ml) (75.3.0)\n",
      "Collecting ply>=3.6 (from calmjs.parse->hls4ml)\n",
      "  Downloading ply-3.11-py2.py3-none-any.whl.metadata (844 bytes)\n",
      "Requirement already satisfied: scipy>=1.4.1 in c:\\users\\baron\\%ml_path%\\baron_env\\lib\\site-packages (from qkeras->hls4ml) (1.10.1)\n",
      "Requirement already satisfied: pyparser in c:\\users\\baron\\%ml_path%\\baron_env\\lib\\site-packages (from qkeras->hls4ml) (1.0)\n",
      "Requirement already satisfied: tensorflow-model-optimization>=0.2.1 in c:\\users\\baron\\%ml_path%\\baron_env\\lib\\site-packages (from qkeras->hls4ml) (0.8.0)\n",
      "Requirement already satisfied: networkx>=2.1 in c:\\users\\baron\\%ml_path%\\baron_env\\lib\\site-packages (from qkeras->hls4ml) (3.1)\n",
      "Requirement already satisfied: keras-tuner>=1.0.1 in c:\\users\\baron\\%ml_path%\\baron_env\\lib\\site-packages (from qkeras->hls4ml) (1.4.7)\n",
      "Requirement already satisfied: scikit-learn>=0.23.1 in c:\\users\\baron\\%ml_path%\\baron_env\\lib\\site-packages (from qkeras->hls4ml) (1.3.2)\n",
      "Requirement already satisfied: tqdm>=4.48.0 in c:\\users\\baron\\%ml_path%\\baron_env\\lib\\site-packages (from qkeras->hls4ml) (4.67.0)\n",
      "Requirement already satisfied: tensorflow-intel==2.13.0 in c:\\users\\baron\\%ml_path%\\baron_env\\lib\\site-packages (from tensorflow->hls4ml) (2.13.0)\n",
      "Requirement already satisfied: absl-py>=1.0.0 in c:\\users\\baron\\%ml_path%\\baron_env\\lib\\site-packages (from tensorflow-intel==2.13.0->tensorflow->hls4ml) (1.4.0)\n",
      "Requirement already satisfied: astunparse>=1.6.0 in c:\\users\\baron\\%ml_path%\\baron_env\\lib\\site-packages (from tensorflow-intel==2.13.0->tensorflow->hls4ml) (1.6.3)\n",
      "Requirement already satisfied: flatbuffers>=23.1.21 in c:\\users\\baron\\%ml_path%\\baron_env\\lib\\site-packages (from tensorflow-intel==2.13.0->tensorflow->hls4ml) (24.3.25)\n",
      "Requirement already satisfied: gast<=0.4.0,>=0.2.1 in c:\\users\\baron\\%ml_path%\\baron_env\\lib\\site-packages (from tensorflow-intel==2.13.0->tensorflow->hls4ml) (0.4.0)\n",
      "Requirement already satisfied: google-pasta>=0.1.1 in c:\\users\\baron\\%ml_path%\\baron_env\\lib\\site-packages (from tensorflow-intel==2.13.0->tensorflow->hls4ml) (0.2.0)\n",
      "Requirement already satisfied: libclang>=13.0.0 in c:\\users\\baron\\%ml_path%\\baron_env\\lib\\site-packages (from tensorflow-intel==2.13.0->tensorflow->hls4ml) (18.1.1)\n",
      "Requirement already satisfied: opt-einsum>=2.3.2 in c:\\users\\baron\\%ml_path%\\baron_env\\lib\\site-packages (from tensorflow-intel==2.13.0->tensorflow->hls4ml) (3.4.0)\n",
      "Requirement already satisfied: packaging in c:\\users\\baron\\%ml_path%\\baron_env\\lib\\site-packages (from tensorflow-intel==2.13.0->tensorflow->hls4ml) (23.2)\n",
      "Requirement already satisfied: six>=1.12.0 in c:\\users\\baron\\%ml_path%\\baron_env\\lib\\site-packages (from tensorflow-intel==2.13.0->tensorflow->hls4ml) (1.16.0)\n",
      "Requirement already satisfied: termcolor>=1.1.0 in c:\\users\\baron\\%ml_path%\\baron_env\\lib\\site-packages (from tensorflow-intel==2.13.0->tensorflow->hls4ml) (2.4.0)\n",
      "Requirement already satisfied: typing-extensions<4.6.0,>=3.6.6 in c:\\users\\baron\\%ml_path%\\baron_env\\lib\\site-packages (from tensorflow-intel==2.13.0->tensorflow->hls4ml) (4.5.0)\n",
      "Requirement already satisfied: wrapt>=1.11.0 in c:\\users\\baron\\%ml_path%\\baron_env\\lib\\site-packages (from tensorflow-intel==2.13.0->tensorflow->hls4ml) (1.17.0)\n",
      "Requirement already satisfied: grpcio<2.0,>=1.24.3 in c:\\users\\baron\\%ml_path%\\baron_env\\lib\\site-packages (from tensorflow-intel==2.13.0->tensorflow->hls4ml) (1.67.1)\n",
      "Requirement already satisfied: tensorboard<2.14,>=2.13 in c:\\users\\baron\\%ml_path%\\baron_env\\lib\\site-packages (from tensorflow-intel==2.13.0->tensorflow->hls4ml) (2.13.0)\n",
      "Requirement already satisfied: tensorflow-estimator<2.14,>=2.13.0 in c:\\users\\baron\\%ml_path%\\baron_env\\lib\\site-packages (from tensorflow-intel==2.13.0->tensorflow->hls4ml) (2.13.0)\n",
      "Requirement already satisfied: keras<2.14,>=2.13.1 in c:\\users\\baron\\%ml_path%\\baron_env\\lib\\site-packages (from tensorflow-intel==2.13.0->tensorflow->hls4ml) (2.13.1)\n",
      "Requirement already satisfied: tensorflow-io-gcs-filesystem>=0.23.1 in c:\\users\\baron\\%ml_path%\\baron_env\\lib\\site-packages (from tensorflow-intel==2.13.0->tensorflow->hls4ml) (0.31.0)\n",
      "Requirement already satisfied: requests in c:\\users\\baron\\%ml_path%\\baron_env\\lib\\site-packages (from keras-tuner>=1.0.1->qkeras->hls4ml) (2.31.0)\n",
      "Requirement already satisfied: kt-legacy in c:\\users\\baron\\%ml_path%\\baron_env\\lib\\site-packages (from keras-tuner>=1.0.1->qkeras->hls4ml) (1.0.5)\n",
      "Requirement already satisfied: joblib>=1.1.1 in c:\\users\\baron\\%ml_path%\\baron_env\\lib\\site-packages (from scikit-learn>=0.23.1->qkeras->hls4ml) (1.3.2)\n",
      "Requirement already satisfied: threadpoolctl>=2.0.0 in c:\\users\\baron\\%ml_path%\\baron_env\\lib\\site-packages (from scikit-learn>=0.23.1->qkeras->hls4ml) (3.2.0)\n",
      "Requirement already satisfied: dm-tree~=0.1.1 in c:\\users\\baron\\%ml_path%\\baron_env\\lib\\site-packages (from tensorflow-model-optimization>=0.2.1->qkeras->hls4ml) (0.1.8)\n",
      "Requirement already satisfied: colorama in c:\\users\\baron\\%ml_path%\\baron_env\\lib\\site-packages (from tqdm>=4.48.0->qkeras->hls4ml) (0.4.6)\n",
      "Requirement already satisfied: parse==1.6.5 in c:\\users\\baron\\%ml_path%\\baron_env\\lib\\site-packages (from pyparser->qkeras->hls4ml) (1.6.5)\n",
      "Requirement already satisfied: wheel<1.0,>=0.23.0 in c:\\users\\baron\\%ml_path%\\baron_env\\lib\\site-packages (from astunparse>=1.6.0->tensorflow-intel==2.13.0->tensorflow->hls4ml) (0.42.0)\n",
      "Requirement already satisfied: google-auth<3,>=1.6.3 in c:\\users\\baron\\%ml_path%\\baron_env\\lib\\site-packages (from tensorboard<2.14,>=2.13->tensorflow-intel==2.13.0->tensorflow->hls4ml) (2.36.0)\n",
      "Requirement already satisfied: google-auth-oauthlib<1.1,>=0.5 in c:\\users\\baron\\%ml_path%\\baron_env\\lib\\site-packages (from tensorboard<2.14,>=2.13->tensorflow-intel==2.13.0->tensorflow->hls4ml) (1.0.0)\n",
      "Requirement already satisfied: markdown>=2.6.8 in c:\\users\\baron\\%ml_path%\\baron_env\\lib\\site-packages (from tensorboard<2.14,>=2.13->tensorflow-intel==2.13.0->tensorflow->hls4ml) (3.7)\n",
      "Requirement already satisfied: tensorboard-data-server<0.8.0,>=0.7.0 in c:\\users\\baron\\%ml_path%\\baron_env\\lib\\site-packages (from tensorboard<2.14,>=2.13->tensorflow-intel==2.13.0->tensorflow->hls4ml) (0.7.2)\n",
      "Requirement already satisfied: werkzeug>=1.0.1 in c:\\users\\baron\\%ml_path%\\baron_env\\lib\\site-packages (from tensorboard<2.14,>=2.13->tensorflow-intel==2.13.0->tensorflow->hls4ml) (3.0.6)\n",
      "Requirement already satisfied: charset-normalizer<4,>=2 in c:\\users\\baron\\%ml_path%\\baron_env\\lib\\site-packages (from requests->keras-tuner>=1.0.1->qkeras->hls4ml) (3.3.2)\n",
      "Requirement already satisfied: idna<4,>=2.5 in c:\\users\\baron\\%ml_path%\\baron_env\\lib\\site-packages (from requests->keras-tuner>=1.0.1->qkeras->hls4ml) (3.7)\n",
      "Requirement already satisfied: urllib3<3,>=1.21.1 in c:\\users\\baron\\%ml_path%\\baron_env\\lib\\site-packages (from requests->keras-tuner>=1.0.1->qkeras->hls4ml) (1.26.20)\n",
      "Requirement already satisfied: certifi>=2017.4.17 in c:\\users\\baron\\%ml_path%\\baron_env\\lib\\site-packages (from requests->keras-tuner>=1.0.1->qkeras->hls4ml) (2023.11.17)\n",
      "Requirement already satisfied: cachetools<6.0,>=2.0.0 in c:\\users\\baron\\%ml_path%\\baron_env\\lib\\site-packages (from google-auth<3,>=1.6.3->tensorboard<2.14,>=2.13->tensorflow-intel==2.13.0->tensorflow->hls4ml) (4.2.4)\n",
      "Requirement already satisfied: pyasn1-modules>=0.2.1 in c:\\users\\baron\\%ml_path%\\baron_env\\lib\\site-packages (from google-auth<3,>=1.6.3->tensorboard<2.14,>=2.13->tensorflow-intel==2.13.0->tensorflow->hls4ml) (0.4.1)\n",
      "Requirement already satisfied: rsa<5,>=3.1.4 in c:\\users\\baron\\%ml_path%\\baron_env\\lib\\site-packages (from google-auth<3,>=1.6.3->tensorboard<2.14,>=2.13->tensorflow-intel==2.13.0->tensorflow->hls4ml) (4.9)\n",
      "Requirement already satisfied: requests-oauthlib>=0.7.0 in c:\\users\\baron\\%ml_path%\\baron_env\\lib\\site-packages (from google-auth-oauthlib<1.1,>=0.5->tensorboard<2.14,>=2.13->tensorflow-intel==2.13.0->tensorflow->hls4ml) (2.0.0)\n",
      "Requirement already satisfied: importlib-metadata>=4.4 in c:\\users\\baron\\%ml_path%\\baron_env\\lib\\site-packages (from markdown>=2.6.8->tensorboard<2.14,>=2.13->tensorflow-intel==2.13.0->tensorflow->hls4ml) (7.0.1)\n",
      "Requirement already satisfied: MarkupSafe>=2.1.1 in c:\\users\\baron\\%ml_path%\\baron_env\\lib\\site-packages (from werkzeug>=1.0.1->tensorboard<2.14,>=2.13->tensorflow-intel==2.13.0->tensorflow->hls4ml) (2.1.4)\n",
      "Requirement already satisfied: zipp>=0.5 in c:\\users\\baron\\%ml_path%\\baron_env\\lib\\site-packages (from importlib-metadata>=4.4->markdown>=2.6.8->tensorboard<2.14,>=2.13->tensorflow-intel==2.13.0->tensorflow->hls4ml) (3.17.0)\n",
      "Requirement already satisfied: pyasn1<0.7.0,>=0.4.6 in c:\\users\\baron\\%ml_path%\\baron_env\\lib\\site-packages (from pyasn1-modules>=0.2.1->google-auth<3,>=1.6.3->tensorboard<2.14,>=2.13->tensorflow-intel==2.13.0->tensorflow->hls4ml) (0.6.1)\n",
      "Requirement already satisfied: oauthlib>=3.0.0 in c:\\users\\baron\\%ml_path%\\baron_env\\lib\\site-packages (from requests-oauthlib>=0.7.0->google-auth-oauthlib<1.1,>=0.5->tensorboard<2.14,>=2.13->tensorflow-intel==2.13.0->tensorflow->hls4ml) (3.2.2)\n",
      "Downloading hls4ml-0.8.1-py3-none-any.whl (572 kB)\n",
      "   ---------------------------------------- 0.0/572.3 kB ? eta -:--:--\n",
      "   ---------------------------------------- 572.3/572.3 kB 4.9 MB/s eta 0:00:00\n",
      "Downloading pyDigitalWaveTools-1.1-py3-none-any.whl (13 kB)\n",
      "Downloading onnx-1.17.0-cp38-cp38-win_amd64.whl (14.5 MB)\n",
      "   ---------------------------------------- 0.0/14.5 MB ? eta -:--:--\n",
      "   -- ------------------------------------- 1.0/14.5 MB 5.6 MB/s eta 0:00:03\n",
      "   ------- -------------------------------- 2.6/14.5 MB 6.3 MB/s eta 0:00:02\n",
      "   ---------- ----------------------------- 3.9/14.5 MB 6.2 MB/s eta 0:00:02\n",
      "   --------------- ------------------------ 5.5/14.5 MB 6.7 MB/s eta 0:00:02\n",
      "   -------------------- ------------------- 7.3/14.5 MB 7.0 MB/s eta 0:00:02\n",
      "   ------------------------- -------------- 9.2/14.5 MB 7.2 MB/s eta 0:00:01\n",
      "   ---------------------------- ----------- 10.5/14.5 MB 7.4 MB/s eta 0:00:01\n",
      "   --------------------------------- ------ 12.1/14.5 MB 7.2 MB/s eta 0:00:01\n",
      "   -------------------------------------- - 13.9/14.5 MB 7.3 MB/s eta 0:00:01\n",
      "   ---------------------------------------- 14.5/14.5 MB 7.2 MB/s eta 0:00:00\n",
      "Downloading calmjs.parse-1.3.3-py3-none-any.whl (296 kB)\n",
      "Downloading tabulate-0.9.0-py3-none-any.whl (35 kB)\n",
      "Downloading ply-3.11-py2.py3-none-any.whl (49 kB)\n",
      "Installing collected packages: pydigitalwavetools, ply, tabulate, onnx, calmjs.parse, hls4ml\n",
      "Successfully installed calmjs.parse-1.3.3 hls4ml-0.8.1 onnx-1.17.0 ply-3.11 pydigitalwavetools-1.1 tabulate-0.9.0\n",
      "Note: you may need to restart the kernel to use updated packages.\n"
     ]
    },
    {
     "name": "stderr",
     "output_type": "stream",
     "text": [
      "\n",
      "[notice] A new release of pip is available: 24.3.1 -> 25.0.1\n",
      "[notice] To update, run: C:\\Users\\Baron\\%ML_PATH%\\baron_env\\Scripts\\python.exe -m pip install --upgrade pip\n"
     ]
    }
   ],
   "source": [
    "pip install hls4ml"
   ]
  },
  {
   "cell_type": "code",
   "execution_count": 3,
   "id": "46e5f2fd-3abc-4e03-92aa-57bf1da7170b",
   "metadata": {},
   "outputs": [],
   "source": [
    "#pip install qkeras"
   ]
  },
  {
   "cell_type": "markdown",
   "id": "46b3d25b-a7a7-4eb0-8484-5d2c6703dc64",
   "metadata": {},
   "source": [
    "## Main HDL Design"
   ]
  },
  {
   "cell_type": "code",
   "execution_count": 14,
   "id": "9d3b7e02-e02e-4146-951d-ca8c00946d7f",
   "metadata": {},
   "outputs": [
    {
     "name": "stdout",
     "output_type": "stream",
     "text": [
      "1/1 [==============================] - 0s 69ms/step\n",
      "Cycle 0: LED State = 0\n",
      "Cycle 1: LED State = 0\n",
      "Cycle 2: LED State = 0\n",
      "Cycle 3: LED State = 0\n",
      "Cycle 4: LED State = 0\n",
      "Cycle 5: LED State = 0\n",
      "Cycle 6: LED State = 0\n",
      "Cycle 7: LED State = 0\n",
      "Cycle 8: LED State = 0\n",
      "Cycle 9: LED State = 0\n"
     ]
    }
   ],
   "source": [
    "import numpy as np\n",
    "import tensorflow as tf\n",
    "from tensorflow.keras.models import Model\n",
    "from tensorflow.keras.layers import Input, Dense, Activation\n",
    "\n",
    "# Define a Keras-compatible LED Blink Model\n",
    "def LEDBlinkModel():\n",
    "    inp = Input(shape=(1,), name=\"led_input\")  # Rename input layer\n",
    "\n",
    "    # Use a Dense layer as a simple counter\n",
    "    count = Dense(1, use_bias=False, activation=None, name=\"counter\")(inp)\n",
    "\n",
    "    # Use Activation function as a threshold to toggle LED state\n",
    "    led_state = Activation('sigmoid', name=\"led_logic\")(count)\n",
    "\n",
    "    return Model(inputs=inp, outputs=led_state)\n",
    "\n",
    "# Create the model\n",
    "model = LEDBlinkModel()\n",
    "\n",
    "# Test the model\n",
    "test_input = np.arange(10).reshape(-1, 1)  # Simulate cycles 0 to 9\n",
    "output = model.predict(test_input)\n",
    "\n",
    "for i, state in enumerate(output):\n",
    "    print(f\"Cycle {i}: LED State = {int(state[0] > 0.5)}\")  # Threshold at 0.5\n"
   ]
  },
  {
   "cell_type": "code",
   "execution_count": 2,
   "id": "8005f104-a2b0-4112-9d3e-2bb9be678ad2",
   "metadata": {},
   "outputs": [
    {
     "data": {
      "text/plain": [
       "'C:\\\\Users\\\\Baron\\\\Desktop\\\\EE_297_Repo\\\\EE_297\\\\ML_PATH_EE297\\\\EE297_env\\\\projects\\\\project_1_led_blink\\\\python'"
      ]
     },
     "execution_count": 2,
     "metadata": {},
     "output_type": "execute_result"
    }
   ],
   "source": [
    "pwd"
   ]
  },
  {
   "cell_type": "code",
   "execution_count": 15,
   "id": "f687b974-552f-462b-92e4-aef29fcd115e",
   "metadata": {},
   "outputs": [
    {
     "name": "stdout",
     "output_type": "stream",
     "text": [
      "Interpreting Model\n",
      "Topology:\n",
      "Layer name: led_input, layer type: InputLayer, input shapes: [[None, 1]], output shape: [None, 1]\n",
      "Layer name: counter, layer type: Dense, input shapes: [[None, 1]], output shape: [None, 1]\n",
      "Layer name: led_logic, layer type: Activation, input shapes: [[None, 1]], output shape: [None, 1]\n",
      "Creating HLS model\n",
      "Writing HLS project\n",
      "WARNING:tensorflow:Compiled the loaded model, but the compiled metrics have yet to be built. `model.compile_metrics` will be empty until you train or evaluate the model.\n"
     ]
    },
    {
     "name": "stderr",
     "output_type": "stream",
     "text": [
      "C:\\Users\\Baron\\%ML_PATH%\\baron_env\\lib\\site-packages\\keras\\src\\engine\\training.py:3000: UserWarning: You are saving your model as an HDF5 file via `model.save()`. This file format is considered legacy. We recommend using instead the native Keras format, e.g. `model.save('my_model.keras')`.\n",
      "  saving_api.save_model(\n"
     ]
    },
    {
     "name": "stdout",
     "output_type": "stream",
     "text": [
      "Done\n"
     ]
    },
    {
     "ename": "Exception",
     "evalue": "Failed to compile project \"myproject\"",
     "output_type": "error",
     "traceback": [
      "\u001b[1;31m---------------------------------------------------------------------------\u001b[0m",
      "\u001b[1;31mException\u001b[0m                                 Traceback (most recent call last)",
      "Cell \u001b[1;32mIn[15], line 11\u001b[0m\n\u001b[0;32m      4\u001b[0m hls_model \u001b[38;5;241m=\u001b[39m hls4ml\u001b[38;5;241m.\u001b[39mconverters\u001b[38;5;241m.\u001b[39mconvert_from_keras_model(\n\u001b[0;32m      5\u001b[0m     model,\n\u001b[0;32m      6\u001b[0m     output_dir\u001b[38;5;241m=\u001b[39m\u001b[38;5;124m\"\u001b[39m\u001b[38;5;124mhls_led\u001b[39m\u001b[38;5;124m\"\u001b[39m,\n\u001b[0;32m      7\u001b[0m     backend\u001b[38;5;241m=\u001b[39m\u001b[38;5;124m\"\u001b[39m\u001b[38;5;124mVivado\u001b[39m\u001b[38;5;124m\"\u001b[39m\n\u001b[0;32m      8\u001b[0m )\n\u001b[0;32m     10\u001b[0m \u001b[38;5;66;03m# Build HDL\u001b[39;00m\n\u001b[1;32m---> 11\u001b[0m \u001b[43mhls_model\u001b[49m\u001b[38;5;241;43m.\u001b[39;49m\u001b[43mcompile\u001b[49m\u001b[43m(\u001b[49m\u001b[43m)\u001b[49m\n\u001b[0;32m     12\u001b[0m hls_model\u001b[38;5;241m.\u001b[39mbuild()\n\u001b[0;32m     14\u001b[0m \u001b[38;5;28mprint\u001b[39m(\u001b[38;5;124m\"\u001b[39m\u001b[38;5;124mHDL conversion complete! Check the \u001b[39m\u001b[38;5;124m'\u001b[39m\u001b[38;5;124mhls_led\u001b[39m\u001b[38;5;124m'\u001b[39m\u001b[38;5;124m directory.\u001b[39m\u001b[38;5;124m\"\u001b[39m)\n",
      "File \u001b[1;32m~\\%ML_PATH%\\baron_env\\lib\\site-packages\\hls4ml\\model\\graph.py:662\u001b[0m, in \u001b[0;36mModelGraph.compile\u001b[1;34m(self)\u001b[0m\n\u001b[0;32m    657\u001b[0m \u001b[38;5;250m\u001b[39m\u001b[38;5;124;03m\"\"\"Compile the generated project and link the library into current environment.\u001b[39;00m\n\u001b[0;32m    658\u001b[0m \n\u001b[0;32m    659\u001b[0m \u001b[38;5;124;03mUsers should call this function if they want to use `predict` functionality for simulation.\u001b[39;00m\n\u001b[0;32m    660\u001b[0m \u001b[38;5;124;03m\"\"\"\u001b[39;00m\n\u001b[0;32m    661\u001b[0m \u001b[38;5;28mself\u001b[39m\u001b[38;5;241m.\u001b[39mwrite()\n\u001b[1;32m--> 662\u001b[0m \u001b[38;5;28;43mself\u001b[39;49m\u001b[38;5;241;43m.\u001b[39;49m\u001b[43m_compile\u001b[49m\u001b[43m(\u001b[49m\u001b[43m)\u001b[49m\n",
      "File \u001b[1;32m~\\%ML_PATH%\\baron_env\\lib\\site-packages\\hls4ml\\model\\graph.py:665\u001b[0m, in \u001b[0;36mModelGraph._compile\u001b[1;34m(self)\u001b[0m\n\u001b[0;32m    664\u001b[0m \u001b[38;5;28;01mdef\u001b[39;00m \u001b[38;5;21m_compile\u001b[39m(\u001b[38;5;28mself\u001b[39m):\n\u001b[1;32m--> 665\u001b[0m     lib_name \u001b[38;5;241m=\u001b[39m \u001b[38;5;28;43mself\u001b[39;49m\u001b[38;5;241;43m.\u001b[39;49m\u001b[43mconfig\u001b[49m\u001b[38;5;241;43m.\u001b[39;49m\u001b[43mbackend\u001b[49m\u001b[38;5;241;43m.\u001b[39;49m\u001b[43mcompile\u001b[49m\u001b[43m(\u001b[49m\u001b[38;5;28;43mself\u001b[39;49m\u001b[43m)\u001b[49m\n\u001b[0;32m    666\u001b[0m     \u001b[38;5;28;01mif\u001b[39;00m \u001b[38;5;28mself\u001b[39m\u001b[38;5;241m.\u001b[39m_top_function_lib \u001b[38;5;129;01mis\u001b[39;00m \u001b[38;5;129;01mnot\u001b[39;00m \u001b[38;5;28;01mNone\u001b[39;00m:\n\u001b[0;32m    667\u001b[0m         \u001b[38;5;28;01mif\u001b[39;00m platform\u001b[38;5;241m.\u001b[39msystem() \u001b[38;5;241m==\u001b[39m \u001b[38;5;124m\"\u001b[39m\u001b[38;5;124mLinux\u001b[39m\u001b[38;5;124m\"\u001b[39m:\n",
      "File \u001b[1;32m~\\%ML_PATH%\\baron_env\\lib\\site-packages\\hls4ml\\backends\\fpga\\fpga_backend.py:131\u001b[0m, in \u001b[0;36mFPGABackend.compile\u001b[1;34m(self, model)\u001b[0m\n\u001b[0;32m    129\u001b[0m     ret_val \u001b[38;5;241m=\u001b[39m os\u001b[38;5;241m.\u001b[39msystem(\u001b[38;5;124m'\u001b[39m\u001b[38;5;124mbash build_lib.sh\u001b[39m\u001b[38;5;124m'\u001b[39m)\n\u001b[0;32m    130\u001b[0m     \u001b[38;5;28;01mif\u001b[39;00m ret_val \u001b[38;5;241m!=\u001b[39m \u001b[38;5;241m0\u001b[39m:\n\u001b[1;32m--> 131\u001b[0m         \u001b[38;5;28;01mraise\u001b[39;00m \u001b[38;5;167;01mException\u001b[39;00m(\u001b[38;5;124mf\u001b[39m\u001b[38;5;124m'\u001b[39m\u001b[38;5;124mFailed to compile project \u001b[39m\u001b[38;5;124m\"\u001b[39m\u001b[38;5;132;01m{\u001b[39;00mmodel\u001b[38;5;241m.\u001b[39mconfig\u001b[38;5;241m.\u001b[39mget_project_name()\u001b[38;5;132;01m}\u001b[39;00m\u001b[38;5;124m\"\u001b[39m\u001b[38;5;124m'\u001b[39m)\n\u001b[0;32m    132\u001b[0m     lib_name \u001b[38;5;241m=\u001b[39m \u001b[38;5;124m'\u001b[39m\u001b[38;5;132;01m{}\u001b[39;00m\u001b[38;5;124m/firmware/\u001b[39m\u001b[38;5;132;01m{}\u001b[39;00m\u001b[38;5;124m-\u001b[39m\u001b[38;5;132;01m{}\u001b[39;00m\u001b[38;5;124m.so\u001b[39m\u001b[38;5;124m'\u001b[39m\u001b[38;5;241m.\u001b[39mformat(\n\u001b[0;32m    133\u001b[0m         model\u001b[38;5;241m.\u001b[39mconfig\u001b[38;5;241m.\u001b[39mget_output_dir(), model\u001b[38;5;241m.\u001b[39mconfig\u001b[38;5;241m.\u001b[39mget_project_name(), model\u001b[38;5;241m.\u001b[39mconfig\u001b[38;5;241m.\u001b[39mget_config_value(\u001b[38;5;124m'\u001b[39m\u001b[38;5;124mStamp\u001b[39m\u001b[38;5;124m'\u001b[39m)\n\u001b[0;32m    134\u001b[0m     )\n\u001b[0;32m    135\u001b[0m \u001b[38;5;28;01mfinally\u001b[39;00m:\n",
      "\u001b[1;31mException\u001b[0m: Failed to compile project \"myproject\""
     ]
    }
   ],
   "source": [
    "import hls4ml\n",
    "\n",
    "# Convert the Keras model to HDL\n",
    "hls_model = hls4ml.converters.convert_from_keras_model(\n",
    "    model,\n",
    "    output_dir=\"hls_led\",\n",
    "    backend=\"Vivado\"\n",
    ")\n",
    "\n",
    "# Build HDL\n",
    "hls_model.compile()\n",
    "hls_model.build()\n",
    "\n",
    "print(\"HDL conversion complete! Check the 'hls_led' directory.\")\n"
   ]
  },
  {
   "cell_type": "code",
   "execution_count": null,
   "id": "440bb49e-7275-43ab-9d42-6da84436f4b2",
   "metadata": {},
   "outputs": [],
   "source": []
  },
  {
   "cell_type": "code",
   "execution_count": null,
   "id": "a6604b35-3e20-4278-8f03-75c8142ff294",
   "metadata": {},
   "outputs": [],
   "source": []
  }
 ],
 "metadata": {
  "kernelspec": {
   "display_name": "Python 3 (ipykernel)",
   "language": "python",
   "name": "python3"
  },
  "language_info": {
   "codemirror_mode": {
    "name": "ipython",
    "version": 3
   },
   "file_extension": ".py",
   "mimetype": "text/x-python",
   "name": "python",
   "nbconvert_exporter": "python",
   "pygments_lexer": "ipython3",
   "version": "3.8.18"
  }
 },
 "nbformat": 4,
 "nbformat_minor": 5
}
