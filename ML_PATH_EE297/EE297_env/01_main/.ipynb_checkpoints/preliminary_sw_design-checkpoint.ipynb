{
 "cells": [
  {
   "cell_type": "code",
   "execution_count": 1,
   "id": "72f4d0ab-52cc-4962-9f07-04926df38842",
   "metadata": {},
   "outputs": [
    {
     "data": {
      "text/plain": [
       "'C:\\\\Users\\\\Baron\\\\Desktop\\\\EE_297_Repo\\\\EE_297\\\\ML_PATH_EE297\\\\EE297_env\\\\01_main'"
      ]
     },
     "execution_count": 1,
     "metadata": {},
     "output_type": "execute_result"
    }
   ],
   "source": [
    "pwd"
   ]
  },
  {
   "cell_type": "markdown",
   "id": "365b8dbf-2a2c-45dc-9795-4abaf41ba543",
   "metadata": {},
   "source": [
    "### Preliminary Software Design and Nueral Network\n",
    "    Understanding the Dataset\n",
    "    Figure out simple multitask head git repos"
   ]
  },
  {
   "cell_type": "code",
   "execution_count": null,
   "id": "aeefb6c0-4de1-4ca4-8788-57dcedf2254b",
   "metadata": {},
   "outputs": [],
   "source": []
  }
 ],
 "metadata": {
  "kernelspec": {
   "display_name": "Python 3 (ipykernel)",
   "language": "python",
   "name": "python3"
  },
  "language_info": {
   "codemirror_mode": {
    "name": "ipython",
    "version": 3
   },
   "file_extension": ".py",
   "mimetype": "text/x-python",
   "name": "python",
   "nbconvert_exporter": "python",
   "pygments_lexer": "ipython3",
   "version": "3.8.18"
  }
 },
 "nbformat": 4,
 "nbformat_minor": 5
}
