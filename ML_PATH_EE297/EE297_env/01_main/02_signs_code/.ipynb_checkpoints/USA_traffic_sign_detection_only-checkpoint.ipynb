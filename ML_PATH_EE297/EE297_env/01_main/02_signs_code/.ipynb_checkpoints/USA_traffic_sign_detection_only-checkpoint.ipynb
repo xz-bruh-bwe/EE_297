{
 "cells": [
  {
   "cell_type": "code",
   "execution_count": 1,
   "id": "d2eb37b5-0561-4edd-a107-4f30570056c6",
   "metadata": {},
   "outputs": [
    {
     "data": {
      "text/plain": [
       "'C:\\\\Users\\\\Baron\\\\Desktop\\\\EE_297_Repo\\\\EE_297\\\\ML_PATH_EE297\\\\EE297_env\\\\01_main\\\\02_signs_code'"
      ]
     },
     "execution_count": 1,
     "metadata": {},
     "output_type": "execute_result"
    }
   ],
   "source": [
    "pwd"
   ]
  },
  {
   "cell_type": "code",
   "execution_count": 2,
   "id": "01330591-2a89-4053-970b-da6d91b672f3",
   "metadata": {},
   "outputs": [
    {
     "data": {
      "text/plain": [
       "'C:\\\\Users\\\\Baron\\\\Desktop\\\\EE_297_Repo\\\\EE_297\\\\ML_PATH_EE297\\\\EE297_env\\\\01_main\\\\02_signs_code'"
      ]
     },
     "execution_count": 2,
     "metadata": {},
     "output_type": "execute_result"
    }
   ],
   "source": [
    "pwd"
   ]
  },
  {
   "cell_type": "code",
   "execution_count": 3,
   "id": "583bf57e-8063-43bb-b386-26004b96bff5",
   "metadata": {},
   "outputs": [
    {
     "data": {
      "text/plain": [
       "'C:\\\\Users\\\\Baron\\\\Desktop\\\\EE_297_Repo\\\\EE_297\\\\ML_PATH_EE297\\\\EE297_env\\\\01_main\\\\02_signs_code'"
      ]
     },
     "execution_count": 3,
     "metadata": {},
     "output_type": "execute_result"
    }
   ],
   "source": [
    "pwd"
   ]
  },
  {
   "cell_type": "markdown",
   "id": "fd0a07ce-b9dd-4c4f-8650-df559b5b970a",
   "metadata": {},
   "source": [
    "### Libary Imports"
   ]
  },
  {
   "cell_type": "code",
   "execution_count": 4,
   "id": "399bf18b-3223-4c10-8d78-a80fcb8713ed",
   "metadata": {},
   "outputs": [
    {
     "name": "stdout",
     "output_type": "stream",
     "text": [
      "import complete\n"
     ]
    }
   ],
   "source": [
    "# Core Libraries ========================================================\n",
    "import os\n",
    "import random\n",
    "import shutil\n",
    "import numpy as np\n",
    "import pandas as pd\n",
    "import cv2\n",
    "from PIL import Image\n",
    "\n",
    "# Progress Bar ========================================================\n",
    "from tqdm.auto import tqdm as notebook_tqdm\n",
    "from tqdm import tqdm\n",
    "\n",
    "# Plotting ========================================================\n",
    "import matplotlib as mpl\n",
    "import matplotlib.pyplot as plt\n",
    "import seaborn as sns\n",
    "\n",
    "# Jupyter Inline Plots ========================================================\n",
    "%matplotlib inline\n",
    "\n",
    "# TensorFlow and Keras ========================================================\n",
    "import tensorflow as tf\n",
    "from keras.models import Sequential\n",
    "from keras.layers import Input, AveragePooling2D, Conv2D, MaxPooling2D, Flatten, Dense, Dropout, BatchNormalization\n",
    "from keras.optimizers import Adam\n",
    "from tensorflow.keras.regularizers import l1\n",
    "from tensorflow.keras.losses import SparseCategoricalCrossentropy\n",
    "\n",
    "# Scikit-learn ========================================================\n",
    "from sklearn.model_selection import StratifiedKFold, train_test_split, learning_curve\n",
    "from sklearn.metrics import classification_report\n",
    "from sklearn.utils import shuffle\n",
    "from sklearn.model_selection import train_test_split\n",
    "\n",
    "# SciKeras ========================================================\n",
    "from scikeras.wrappers import KerasClassifier\n",
    "\n",
    "# PyTorch ========================================================\n",
    "import torch\n",
    "import torch.nn as nn\n",
    "import torch.optim as optim\n",
    "from torch.utils.data import Dataset, DataLoader\n",
    "from torchvision import transforms\n",
    "from torchvision import models\n",
    "from torch.utils.data import DataLoader\n",
    "from torch.utils.data import Subset\n",
    "\n",
    "from itertools import zip_longest  # to interleave two loaders safely\n",
    "\n",
    "print(\"import complete\")"
   ]
  },
  {
   "cell_type": "code",
   "execution_count": 5,
   "id": "c9232e06-8ec9-4254-9f92-3560066d38a5",
   "metadata": {},
   "outputs": [],
   "source": [
    "#2. Import the Dataset\n",
    "##  Baron's Path\n",
    "signs_dataset = r\"C:\\Users\\Baron\\Documents\\Grad_School\\EE_297A\\Project\\datasets\\signs_0\\db_lisa_tiny\"\n",
    "\n",
    "#Construct the Dataset\n",
    "signs_df = pd.read_csv(f\"{signs_dataset}/annotations.csv\", delimiter = \",\")\n",
    "\n",
    "# Create a mapping: class name → index\n",
    "class_id_to_index = {cls: idx for idx, cls in enumerate(signs_df[\"class\"].unique())}\n",
    "\n",
    "# Map class names to integers\n",
    "signs_df[\"LabelIndex\"] = signs_df[\"class\"].map(class_id_to_index)\n",
    "\n"
   ]
  },
  {
   "cell_type": "markdown",
   "id": "b76512d7-49ad-4a0d-81d9-37a97c5e794c",
   "metadata": {},
   "source": [
    "### Part B) Dataset Description and Visualizaton\n",
    "\n",
    "    1. General Info\n",
    "    2. Describing the Dataset\n",
    "    3. Head of the Dataset\n",
    "    4. Describing the characteristicts of the images\n",
    "    4. Creating General Dataframes (For later use)\n",
    "    5. Plot of the Widths and Heights for preprocessing"
   ]
  },
  {
   "cell_type": "code",
   "execution_count": 6,
   "id": "c83f5eff-5b68-4fab-8980-06a1d21a0d4b",
   "metadata": {},
   "outputs": [
    {
     "name": "stdout",
     "output_type": "stream",
     "text": [
      "<class 'pandas.core.frame.DataFrame'>\n",
      "RangeIndex: 900 entries, 0 to 899\n",
      "Data columns (total 7 columns):\n",
      " #   Column      Non-Null Count  Dtype \n",
      "---  ------      --------------  ----- \n",
      " 0   filename    900 non-null    object\n",
      " 1   x1          900 non-null    int64 \n",
      " 2   y1          900 non-null    int64 \n",
      " 3   x2          900 non-null    int64 \n",
      " 4   y2          900 non-null    int64 \n",
      " 5   class       900 non-null    object\n",
      " 6   LabelIndex  900 non-null    int64 \n",
      "dtypes: int64(5), object(2)\n",
      "memory usage: 49.3+ KB\n"
     ]
    }
   ],
   "source": [
    "#1. General Info\n",
    "signs_df.info()"
   ]
  },
  {
   "cell_type": "code",
   "execution_count": 7,
   "id": "7de7e583-291b-4bd7-af5e-0abd3e56c881",
   "metadata": {},
   "outputs": [],
   "source": [
    "#signs_df.describe()"
   ]
  },
  {
   "cell_type": "code",
   "execution_count": 8,
   "id": "776a79a7-1ec1-44f9-ba1e-fb1642e62c63",
   "metadata": {},
   "outputs": [
    {
     "data": {
      "text/html": [
       "<div>\n",
       "<style scoped>\n",
       "    .dataframe tbody tr th:only-of-type {\n",
       "        vertical-align: middle;\n",
       "    }\n",
       "\n",
       "    .dataframe tbody tr th {\n",
       "        vertical-align: top;\n",
       "    }\n",
       "\n",
       "    .dataframe thead th {\n",
       "        text-align: right;\n",
       "    }\n",
       "</style>\n",
       "<table border=\"1\" class=\"dataframe\">\n",
       "  <thead>\n",
       "    <tr style=\"text-align: right;\">\n",
       "      <th></th>\n",
       "      <th>filename</th>\n",
       "      <th>x1</th>\n",
       "      <th>y1</th>\n",
       "      <th>x2</th>\n",
       "      <th>y2</th>\n",
       "      <th>class</th>\n",
       "      <th>LabelIndex</th>\n",
       "      <th>full_path</th>\n",
       "    </tr>\n",
       "  </thead>\n",
       "  <tbody>\n",
       "    <tr>\n",
       "      <th>0</th>\n",
       "      <td>sample_001.png</td>\n",
       "      <td>190</td>\n",
       "      <td>40</td>\n",
       "      <td>211</td>\n",
       "      <td>63</td>\n",
       "      <td>stop</td>\n",
       "      <td>0</td>\n",
       "      <td>C:\\Users\\Baron\\Documents\\Grad_School\\EE_297A\\P...</td>\n",
       "    </tr>\n",
       "    <tr>\n",
       "      <th>1</th>\n",
       "      <td>sample_002.png</td>\n",
       "      <td>4</td>\n",
       "      <td>246</td>\n",
       "      <td>43</td>\n",
       "      <td>283</td>\n",
       "      <td>stop</td>\n",
       "      <td>0</td>\n",
       "      <td>C:\\Users\\Baron\\Documents\\Grad_School\\EE_297A\\P...</td>\n",
       "    </tr>\n",
       "    <tr>\n",
       "      <th>2</th>\n",
       "      <td>sample_003.png</td>\n",
       "      <td>389</td>\n",
       "      <td>286</td>\n",
       "      <td>418</td>\n",
       "      <td>314</td>\n",
       "      <td>stop</td>\n",
       "      <td>0</td>\n",
       "      <td>C:\\Users\\Baron\\Documents\\Grad_School\\EE_297A\\P...</td>\n",
       "    </tr>\n",
       "    <tr>\n",
       "      <th>3</th>\n",
       "      <td>sample_004.png</td>\n",
       "      <td>307</td>\n",
       "      <td>243</td>\n",
       "      <td>315</td>\n",
       "      <td>251</td>\n",
       "      <td>stop</td>\n",
       "      <td>0</td>\n",
       "      <td>C:\\Users\\Baron\\Documents\\Grad_School\\EE_297A\\P...</td>\n",
       "    </tr>\n",
       "    <tr>\n",
       "      <th>4</th>\n",
       "      <td>sample_005.png</td>\n",
       "      <td>377</td>\n",
       "      <td>249</td>\n",
       "      <td>398</td>\n",
       "      <td>270</td>\n",
       "      <td>stop</td>\n",
       "      <td>0</td>\n",
       "      <td>C:\\Users\\Baron\\Documents\\Grad_School\\EE_297A\\P...</td>\n",
       "    </tr>\n",
       "    <tr>\n",
       "      <th>...</th>\n",
       "      <td>...</td>\n",
       "      <td>...</td>\n",
       "      <td>...</td>\n",
       "      <td>...</td>\n",
       "      <td>...</td>\n",
       "      <td>...</td>\n",
       "      <td>...</td>\n",
       "      <td>...</td>\n",
       "    </tr>\n",
       "    <tr>\n",
       "      <th>115</th>\n",
       "      <td>sample_116.png</td>\n",
       "      <td>422</td>\n",
       "      <td>47</td>\n",
       "      <td>447</td>\n",
       "      <td>70</td>\n",
       "      <td>stop</td>\n",
       "      <td>0</td>\n",
       "      <td>C:\\Users\\Baron\\Documents\\Grad_School\\EE_297A\\P...</td>\n",
       "    </tr>\n",
       "    <tr>\n",
       "      <th>116</th>\n",
       "      <td>sample_117.png</td>\n",
       "      <td>514</td>\n",
       "      <td>180</td>\n",
       "      <td>556</td>\n",
       "      <td>220</td>\n",
       "      <td>stop</td>\n",
       "      <td>0</td>\n",
       "      <td>C:\\Users\\Baron\\Documents\\Grad_School\\EE_297A\\P...</td>\n",
       "    </tr>\n",
       "    <tr>\n",
       "      <th>117</th>\n",
       "      <td>sample_118.png</td>\n",
       "      <td>568</td>\n",
       "      <td>280</td>\n",
       "      <td>592</td>\n",
       "      <td>305</td>\n",
       "      <td>stop</td>\n",
       "      <td>0</td>\n",
       "      <td>C:\\Users\\Baron\\Documents\\Grad_School\\EE_297A\\P...</td>\n",
       "    </tr>\n",
       "    <tr>\n",
       "      <th>118</th>\n",
       "      <td>sample_119.png</td>\n",
       "      <td>359</td>\n",
       "      <td>212</td>\n",
       "      <td>382</td>\n",
       "      <td>235</td>\n",
       "      <td>stop</td>\n",
       "      <td>0</td>\n",
       "      <td>C:\\Users\\Baron\\Documents\\Grad_School\\EE_297A\\P...</td>\n",
       "    </tr>\n",
       "    <tr>\n",
       "      <th>119</th>\n",
       "      <td>sample_120.png</td>\n",
       "      <td>299</td>\n",
       "      <td>251</td>\n",
       "      <td>337</td>\n",
       "      <td>287</td>\n",
       "      <td>stop</td>\n",
       "      <td>0</td>\n",
       "      <td>C:\\Users\\Baron\\Documents\\Grad_School\\EE_297A\\P...</td>\n",
       "    </tr>\n",
       "  </tbody>\n",
       "</table>\n",
       "<p>120 rows × 8 columns</p>\n",
       "</div>"
      ],
      "text/plain": [
       "           filename   x1   y1   x2   y2 class  LabelIndex  \\\n",
       "0    sample_001.png  190   40  211   63  stop           0   \n",
       "1    sample_002.png    4  246   43  283  stop           0   \n",
       "2    sample_003.png  389  286  418  314  stop           0   \n",
       "3    sample_004.png  307  243  315  251  stop           0   \n",
       "4    sample_005.png  377  249  398  270  stop           0   \n",
       "..              ...  ...  ...  ...  ...   ...         ...   \n",
       "115  sample_116.png  422   47  447   70  stop           0   \n",
       "116  sample_117.png  514  180  556  220  stop           0   \n",
       "117  sample_118.png  568  280  592  305  stop           0   \n",
       "118  sample_119.png  359  212  382  235  stop           0   \n",
       "119  sample_120.png  299  251  337  287  stop           0   \n",
       "\n",
       "                                             full_path  \n",
       "0    C:\\Users\\Baron\\Documents\\Grad_School\\EE_297A\\P...  \n",
       "1    C:\\Users\\Baron\\Documents\\Grad_School\\EE_297A\\P...  \n",
       "2    C:\\Users\\Baron\\Documents\\Grad_School\\EE_297A\\P...  \n",
       "3    C:\\Users\\Baron\\Documents\\Grad_School\\EE_297A\\P...  \n",
       "4    C:\\Users\\Baron\\Documents\\Grad_School\\EE_297A\\P...  \n",
       "..                                                 ...  \n",
       "115  C:\\Users\\Baron\\Documents\\Grad_School\\EE_297A\\P...  \n",
       "116  C:\\Users\\Baron\\Documents\\Grad_School\\EE_297A\\P...  \n",
       "117  C:\\Users\\Baron\\Documents\\Grad_School\\EE_297A\\P...  \n",
       "118  C:\\Users\\Baron\\Documents\\Grad_School\\EE_297A\\P...  \n",
       "119  C:\\Users\\Baron\\Documents\\Grad_School\\EE_297A\\P...  \n",
       "\n",
       "[120 rows x 8 columns]"
      ]
     },
     "execution_count": 8,
     "metadata": {},
     "output_type": "execute_result"
    }
   ],
   "source": [
    "##  Baron's Path\n",
    "signs_dataset = r\"C:\\Users\\Baron\\Documents\\Grad_School\\EE_297A\\Project\\datasets\\signs_0\\db_lisa_tiny\\original\"\n",
    "\n",
    "# Add full path column\n",
    "signs_df[\"full_path\"] = signs_df[\"filename\"].apply(lambda name: os.path.join(signs_dataset, name))\n",
    "\n",
    "#3. Head of the Dataset (Used to see a quick glimpse of the dataset)\n",
    "signs_df.head(120)"
   ]
  },
  {
   "cell_type": "code",
   "execution_count": null,
   "id": "e5bbea7b-d1cd-418e-bfac-032d8b249db4",
   "metadata": {},
   "outputs": [],
   "source": []
  },
  {
   "cell_type": "code",
   "execution_count": 9,
   "id": "0e16688b-7c24-433c-b3ef-219c015a2223",
   "metadata": {},
   "outputs": [
    {
     "data": {
      "image/png": "[encoded data removed]",
      "text/plain": [
       "<Figure size 1200x500 with 1 Axes>"
      ]
     },
     "metadata": {},
     "output_type": "display_data"
    }
   ],
   "source": [
    "# Get sorted list of unique signs \n",
    "unique_classes = signs_df['class'].unique()\n",
    "num_classes = len(unique_classes)\n",
    "step = 10\n",
    "\n",
    "for i in range(0, num_classes, step):\n",
    "    subset = unique_classes[i:i+step]\n",
    "    plt.figure(figsize=(12, 5))\n",
    "    sns.histplot(data=signs_df[signs_df['class'].isin(subset)],\n",
    "                 x='class', bins=step, kde=False)\n",
    "    plt.xticks(rotation=90)\n",
    "    plt.title(f\"Image Count for the signs dataset {i+1} to {i+step}\")\n",
    "    plt.ylabel(\"Number of Images\")\n",
    "    plt.tight_layout()\n",
    "    plt.show()"
   ]
  },
  {
   "cell_type": "code",
   "execution_count": 10,
   "id": "dcff0e91-18af-40cb-90e0-363e6053234e",
   "metadata": {},
   "outputs": [],
   "source": [
    "# Classes to remove due to low count\n",
    "drop_classes = [\"yield\", \"yieldAhead\", \"speedLimit25\"]\n",
    "\n",
    "# Create a new DataFrame without those classes\n",
    "signs_df = signs_df[~signs_df[\"class\"].isin(drop_classes)].reset_index(drop=True)"
   ]
  },
  {
   "cell_type": "code",
   "execution_count": 11,
   "id": "923ce526-174e-480a-8038-5ce4924e5603",
   "metadata": {},
   "outputs": [
    {
     "data": {
      "text/plain": [
       "{'stop': 0,\n",
       " 'merge': 1,\n",
       " 'signalAhead': 2,\n",
       " 'pedestrianCrossing': 3,\n",
       " 'keepRight': 4,\n",
       " 'speedLimit35': 5}"
      ]
     },
     "execution_count": 11,
     "metadata": {},
     "output_type": "execute_result"
    }
   ],
   "source": [
    "# Map classes to index based on first appearance\n",
    "class_id_to_index = {cls: idx for idx, cls in enumerate(signs_df[\"class\"].unique())}\n",
    "signs_df[\"LabelIndex\"] = signs_df[\"class\"].map(class_id_to_index)\n",
    "\n",
    "# Count samples per label index\n",
    "label_counts = signs_df[\"LabelIndex\"].value_counts().sort_index()\n",
    "\n",
    "class_id_to_index"
   ]
  },
  {
   "cell_type": "code",
   "execution_count": 12,
   "id": "c82ae288-60e1-4d04-bfaa-732ea4d00aa5",
   "metadata": {},
   "outputs": [
    {
     "name": "stdout",
     "output_type": "stream",
     "text": [
      "class\n",
      "keepRight             110\n",
      "merge                 100\n",
      "pedestrianCrossing    100\n",
      "signalAhead           100\n",
      "speedLimit35          110\n",
      "stop                  210\n",
      "Name: count, dtype: int64\n"
     ]
    }
   ],
   "source": [
    "class_counts = signs_df[\"class\"].value_counts().sort_index()\n",
    "print(class_counts)"
   ]
  },
  {
   "cell_type": "code",
   "execution_count": 13,
   "id": "bda7cc4c-61a0-4d1f-bf5f-b4b88a438ac5",
   "metadata": {},
   "outputs": [
    {
     "name": "stdout",
     "output_type": "stream",
     "text": [
      "class\n",
      "merge                 100\n",
      "speedLimit35          100\n",
      "stop                  100\n",
      "keepRight             100\n",
      "pedestrianCrossing    100\n",
      "signalAhead           100\n",
      "Name: count, dtype: int64\n"
     ]
    }
   ],
   "source": [
    "# Assume your dataframe is called `df` and has a 'class' column\n",
    "TARGET_COUNT = 100\n",
    "\n",
    "# Group by class and sample 100 per class\n",
    "signs_df = (\n",
    "    signs_df.groupby('class', group_keys=False)\n",
    "    .apply(lambda x: x.sample(n=TARGET_COUNT, random_state=42))\n",
    ")\n",
    "\n",
    "# Optional: Shuffle the final dataset\n",
    "signs_df = signs_df.sample(frac=1, random_state=42).reset_index(drop=True)\n",
    "\n",
    "# Check result\n",
    "print(signs_df['class'].value_counts())"
   ]
  },
  {
   "cell_type": "code",
   "execution_count": 14,
   "id": "72b71b6e-9ce7-4d26-b63e-8e66977e0505",
   "metadata": {},
   "outputs": [
    {
     "name": "stdout",
     "output_type": "stream",
     "text": [
      "C:\\Users\\Baron\\Documents\\Grad_School\\EE_297A\\Project\\datasets\\signs_0\\db_lisa_tiny\\original\\sample_753.png\n"
     ]
    }
   ],
   "source": [
    "#3. Head of the Dataset (Used to see a quick glimpse of the dataset)\n",
    "print(signs_df.iloc[1][\"full_path\"])\n"
   ]
  },
  {
   "cell_type": "markdown",
   "id": "338d7bb1-bd7b-4f2b-b7d9-101838234313",
   "metadata": {},
   "source": [
    "### Part C) Image Set Preprocessing"
   ]
  },
  {
   "cell_type": "code",
   "execution_count": 15,
   "id": "f0bd31cd-79bc-451a-9e95-25cf27e79ed2",
   "metadata": {},
   "outputs": [
    {
     "data": {
      "text/html": [
       "<div>\n",
       "<style scoped>\n",
       "    .dataframe tbody tr th:only-of-type {\n",
       "        vertical-align: middle;\n",
       "    }\n",
       "\n",
       "    .dataframe tbody tr th {\n",
       "        vertical-align: top;\n",
       "    }\n",
       "\n",
       "    .dataframe thead th {\n",
       "        text-align: right;\n",
       "    }\n",
       "</style>\n",
       "<table border=\"1\" class=\"dataframe\">\n",
       "  <thead>\n",
       "    <tr style=\"text-align: right;\">\n",
       "      <th></th>\n",
       "      <th>filename</th>\n",
       "      <th>x1</th>\n",
       "      <th>y1</th>\n",
       "      <th>x2</th>\n",
       "      <th>y2</th>\n",
       "      <th>class</th>\n",
       "      <th>LabelIndex</th>\n",
       "      <th>full_path</th>\n",
       "    </tr>\n",
       "  </thead>\n",
       "  <tbody>\n",
       "    <tr>\n",
       "      <th>0</th>\n",
       "      <td>sample_319.png</td>\n",
       "      <td>413</td>\n",
       "      <td>269</td>\n",
       "      <td>458</td>\n",
       "      <td>312</td>\n",
       "      <td>merge</td>\n",
       "      <td>1</td>\n",
       "      <td>C:\\Users\\Baron\\Documents\\Grad_School\\EE_297A\\P...</td>\n",
       "    </tr>\n",
       "  </tbody>\n",
       "</table>\n",
       "</div>"
      ],
      "text/plain": [
       "         filename   x1   y1   x2   y2  class  LabelIndex  \\\n",
       "0  sample_319.png  413  269  458  312  merge           1   \n",
       "\n",
       "                                           full_path  \n",
       "0  C:\\Users\\Baron\\Documents\\Grad_School\\EE_297A\\P...  "
      ]
     },
     "execution_count": 15,
     "metadata": {},
     "output_type": "execute_result"
    }
   ],
   "source": [
    "signs_df.head(1)"
   ]
  },
  {
   "cell_type": "code",
   "execution_count": 16,
   "id": "8f13231a-3887-4343-bdea-7f88b4a49d19",
   "metadata": {},
   "outputs": [
    {
     "name": "stdout",
     "output_type": "stream",
     "text": [
      "Saved train ledger to: C:\\Users\\Baron\\Documents\\Grad_School\\EE_297A\\Project\\datasets\\signs_0\\db_lisa_tiny\\annotations_train.csv\n",
      "Saved test  ledger to: C:\\Users\\Baron\\Documents\\Grad_School\\EE_297A\\Project\\datasets\\signs_0\\db_lisa_tiny\\annotations_test.csv\n",
      "\n",
      "Counts per class (train):\n",
      "class\n",
      "keepRight             90\n",
      "merge                 90\n",
      "pedestrianCrossing    90\n",
      "signalAhead           90\n",
      "speedLimit35          90\n",
      "stop                  90\n",
      "Name: count, dtype: int64\n",
      "\n",
      "Counts per class (test):\n",
      "class\n",
      "keepRight             10\n",
      "merge                 10\n",
      "pedestrianCrossing    10\n",
      "signalAhead           10\n",
      "speedLimit35          10\n",
      "stop                  10\n",
      "Name: count, dtype: int64\n"
     ]
    }
   ],
   "source": [
    "import os\n",
    "import numpy as np\n",
    "import pandas as pd\n",
    "\n",
    "# ---- INPUTS ----\n",
    "# Your single balanced dataframe (100 per class)\n",
    "# rename this if your variable is different\n",
    "df = signs_df.copy()\n",
    "\n",
    "# column that holds the class label\n",
    "CLASS_COL = \"class\"          # change to \"LabelIndex\" if you prefer\n",
    "# optional: sort within each class before taking the \"first\" 90%\n",
    "SORT_BY = \"filename\"         # set to None to keep the current order\n",
    "\n",
    "# where to save the two CSVs\n",
    "out_dir = r\"C:\\Users\\Baron\\Documents\\Grad_School\\EE_297A\\Project\\datasets\\signs_0\\db_lisa_tiny\"\n",
    "os.makedirs(out_dir, exist_ok=True)\n",
    "\n",
    "# ---- SPLIT ----\n",
    "# (1) Deterministic ordering\n",
    "if SORT_BY and SORT_BY in df.columns:\n",
    "    df = df.sort_values([CLASS_COL, SORT_BY]).reset_index(drop=True)\n",
    "else:\n",
    "    # keep current order but groupby will NOT shuffle because sort=False\n",
    "    df = df.reset_index(drop=True)\n",
    "\n",
    "# (2) Take first 90% per class for train, remaining 10% for test\n",
    "train_parts, test_parts = [], []\n",
    "\n",
    "for cls, g in df.groupby(CLASS_COL, sort=False):\n",
    "    n = len(g)\n",
    "    n_train = int(np.floor(n * 0.9))   # for 100 -> 90\n",
    "    train_parts.append(g.iloc[:n_train])\n",
    "    test_parts.append(g.iloc[n_train:])\n",
    "\n",
    "train_df = pd.concat(train_parts, ignore_index=True)\n",
    "test_df  = pd.concat(test_parts,  ignore_index=True)\n",
    "\n",
    "# ---- SAVE ----\n",
    "train_csv = os.path.join(out_dir, \"annotations_train.csv\")\n",
    "test_csv  = os.path.join(out_dir, \"annotations_test.csv\")\n",
    "train_df.to_csv(train_csv, index=False)\n",
    "test_df.to_csv(test_csv, index=False)\n",
    "\n",
    "# ---- Quick sanity printouts ----\n",
    "print(f\"Saved train ledger to: {train_csv}\")\n",
    "print(f\"Saved test  ledger to: {test_csv}\")\n",
    "print(\"\\nCounts per class (train):\")\n",
    "print(train_df[CLASS_COL].value_counts().sort_index())\n",
    "print(\"\\nCounts per class (test):\")\n",
    "print(test_df[CLASS_COL].value_counts().sort_index())\n"
   ]
  },
  {
   "cell_type": "raw",
   "id": "12c4986e-5b14-4e0f-819a-dadd7442b979",
   "metadata": {},
   "source": [
    "import os\n",
    "import shutil\n",
    "import pandas as pd\n",
    "\n",
    "# ==== CONFIG ====\n",
    "root_dir = r\"C:\\Users\\Baron\\Documents\\Grad_School\\EE_297A\\Project\\datasets\\signs_0\\db_lisa_tiny\"\n",
    "annotations_csv = os.path.join(root_dir, \"annotations_train.csv\")  # train ledger\n",
    "output_train_dir = os.path.join(root_dir, \"train\")\n",
    "\n",
    "# ==== LOAD CSV ====\n",
    "df = pd.read_csv(annotations_csv)\n",
    "\n",
    "# Decide which column has the full path\n",
    "path_col = \"full_path\" if \"full_path\" in df.columns else \"filepath\"\n",
    "\n",
    "# ==== CREATE TRAIN FOLDER STRUCTURE ====\n",
    "os.makedirs(output_train_dir, exist_ok=True)\n",
    "\n",
    "# Loop over each row in the ledger\n",
    "for _, row in df.iterrows():\n",
    "    src = row[path_col]\n",
    "    label_idx = str(row[\"LabelIndex\"])\n",
    "    \n",
    "    # Destination directory for this label\n",
    "    class_dir = os.path.join(output_train_dir, label_idx)\n",
    "    os.makedirs(class_dir, exist_ok=True)\n",
    "    \n",
    "    # Destination file path\n",
    "    dst = os.path.join(class_dir, row[\"filename\"])\n",
    "    \n",
    "    # Copy the image\n",
    "    if os.path.exists(src):\n",
    "        shutil.copy2(src, dst)\n",
    "    else:\n",
    "        print(f\"⚠️ Missing file: {src}\")\n",
    "\n",
    "print(f\"✅ Train folders created under: {output_train_dir}\")\n"
   ]
  },
  {
   "cell_type": "raw",
   "id": "770a1154-3ebc-491d-9fee-f5e41bb9ae3e",
   "metadata": {},
   "source": [
    "import os\n",
    "import shutil\n",
    "import pandas as pd\n",
    "\n",
    "# ==== CONFIG ====\n",
    "root_dir = r\"C:\\Users\\Baron\\Documents\\Grad_School\\EE_297A\\Project\\datasets\\signs_0\\db_lisa_tiny\"\n",
    "annotations_test_csv = os.path.join(root_dir, \"annotations_test.csv\")\n",
    "output_test_dir = os.path.join(root_dir, \"test\")\n",
    "\n",
    "# ==== LOAD CSV ====\n",
    "df = pd.read_csv(annotations_test_csv)\n",
    "\n",
    "# Decide which column has the image path\n",
    "path_col = \"full_path\" if \"full_path\" in df.columns else \"filepath\"\n",
    "\n",
    "# ==== CREATE TEST FOLDER ====\n",
    "os.makedirs(output_test_dir, exist_ok=True)\n",
    "\n",
    "# Loop through test ledger and copy images\n",
    "for _, row in df.iterrows():\n",
    "    src = row[path_col]\n",
    "    dst = os.path.join(output_test_dir, row[\"filename\"])\n",
    "\n",
    "    if os.path.exists(src):\n",
    "        shutil.copy2(src, dst)\n",
    "    else:\n",
    "        print(f\"⚠️ Missing file: {src}\")\n",
    "\n",
    "print(f\"✅ Test folder created under: {output_test_dir}\")"
   ]
  },
  {
   "cell_type": "code",
   "execution_count": null,
   "id": "abf3c33b-5df1-4e78-afe1-a2c3fd55360a",
   "metadata": {},
   "outputs": [],
   "source": []
  },
  {
   "cell_type": "code",
   "execution_count": 17,
   "id": "27d7c551-b6c7-4406-a1c5-1fe7ba990a46",
   "metadata": {},
   "outputs": [],
   "source": [
    "original_dir_train = os.path.join(signs_dataset, 'train')\n",
    "original_dir_test = os.path.join(signs_dataset, 'test') \n",
    "\n",
    "processed_dir_train = os.path.join(signs_dataset, 'train_p')\n",
    "processed_dir_test = os.path.join(signs_dataset, 'test_p')"
   ]
  },
  {
   "cell_type": "code",
   "execution_count": null,
   "id": "fb92726d-f116-4264-8dee-8e58271ebf02",
   "metadata": {},
   "outputs": [],
   "source": []
  },
  {
   "cell_type": "raw",
   "id": "bcde3bda-46e0-4059-8e2d-0987fd36100b",
   "metadata": {},
   "source": [
    "import os\n",
    "from PIL import Image\n",
    "from tqdm import tqdm\n",
    "\n",
    "# ==== CONFIG ====\n",
    "# Source: your organized class folders (0..9)\n",
    "original_dir_train = r\"C:\\Users\\Baron\\Documents\\Grad_School\\EE_297A\\Project\\datasets\\signs_0\\db_lisa_tiny\\train\"\n",
    "# Destination: new folder to hold 640x640 copies (same subfolder structure)\n",
    "processed_dir_train = r\"C:\\Users\\Baron\\Documents\\Grad_School\\EE_297A\\Project\\datasets\\signs_0\\db_lisa_tiny\\train_p\"\n",
    "target_size = (640, 640)\n",
    "valid_exts = {\".jpg\", \".jpeg\", \".png\", \".bmp\", \".webp\"}\n",
    "\n",
    "# ==== SAFETY CHECKS ====\n",
    "if not os.path.isdir(original_dir_train):\n",
    "    raise FileNotFoundError(f\"Source directory not found: {original_dir_train}\")\n",
    "if os.path.abspath(original_dir_train) == os.path.abspath(processed_dir_train):\n",
    "    raise ValueError(\"original_dir_train and processed_dir_train must be different directories.\")\n",
    "os.makedirs(processed_dir_train, exist_ok=True)\n",
    "\n",
    "# ==== COLLECT FILES ====\n",
    "to_process = []\n",
    "for root, _, files in os.walk(original_dir_train):\n",
    "    for f in files:\n",
    "        ext = os.path.splitext(f)[1].lower()\n",
    "        if ext in valid_exts:\n",
    "            to_process.append(os.path.join(root, f))\n",
    "\n",
    "print(f\"Found {len(to_process)} image(s) under: {original_dir_train}\")\n",
    "if not to_process:\n",
    "    print(\"No images found. Check the path and extensions.\")\n",
    "    \n",
    "# ==== PROCESS ====\n",
    "errors = 0\n",
    "for src_path in tqdm(to_process, desc=\"Resizing to 640x640\"):\n",
    "    # Build destination path with same relative structure\n",
    "    rel = os.path.relpath(src_path, original_dir_train)\n",
    "    dst_path = os.path.join(processed_dir_train, rel)\n",
    "    os.makedirs(os.path.dirname(dst_path), exist_ok=True)\n",
    "\n",
    "    try:\n",
    "        with Image.open(src_path) as img:\n",
    "            img = img.convert(\"RGB\")\n",
    "            img_resized = img.resize(target_size, Image.BILINEAR)  # direct resize (no letterbox)\n",
    "            img_resized.save(dst_path)\n",
    "    except Exception as e:\n",
    "        errors += 1\n",
    "        print(f\"Failed: {src_path} -> {e}\")\n",
    "\n",
    "print(f\"Done. Wrote images to: {processed_dir_train}\")\n",
    "if errors:\n",
    "    print(f\"Completed with {errors} error(s).\")\n"
   ]
  },
  {
   "cell_type": "raw",
   "id": "726f0d1b-4eae-4d9c-963c-910b079a43de",
   "metadata": {},
   "source": [
    "import os\n",
    "from PIL import Image\n",
    "from tqdm import tqdm\n",
    "\n",
    "# ==== CONFIG ====\n",
    "# Source: your organized class folders (0..9)\n",
    "original_dir_train = r\"C:\\Users\\Baron\\Documents\\Grad_School\\EE_297A\\Project\\datasets\\signs_0\\db_lisa_tiny\\test\"\n",
    "# Destination: new folder to hold 640x640 copies (same subfolder structure)\n",
    "processed_dir_train = r\"C:\\Users\\Baron\\Documents\\Grad_School\\EE_297A\\Project\\datasets\\signs_0\\db_lisa_tiny\\test_p\"\n",
    "target_size = (640, 640)\n",
    "valid_exts = {\".jpg\", \".jpeg\", \".png\", \".bmp\", \".webp\"}\n",
    "\n",
    "# ==== SAFETY CHECKS ====\n",
    "if not os.path.isdir(original_dir_train):\n",
    "    raise FileNotFoundError(f\"Source directory not found: {original_dir_train}\")\n",
    "if os.path.abspath(original_dir_train) == os.path.abspath(processed_dir_train):\n",
    "    raise ValueError(\"original_dir_train and processed_dir_train must be different directories.\")\n",
    "os.makedirs(processed_dir_train, exist_ok=True)\n",
    "\n",
    "# ==== COLLECT FILES ====\n",
    "to_process = []\n",
    "for root, _, files in os.walk(original_dir_train):\n",
    "    for f in files:\n",
    "        ext = os.path.splitext(f)[1].lower()\n",
    "        if ext in valid_exts:\n",
    "            to_process.append(os.path.join(root, f))\n",
    "\n",
    "print(f\"Found {len(to_process)} image(s) under: {original_dir_train}\")\n",
    "if not to_process:\n",
    "    print(\"No images found. Check the path and extensions.\")\n",
    "    \n",
    "# ==== PROCESS ====\n",
    "errors = 0\n",
    "for src_path in tqdm(to_process, desc=\"Resizing to 640x640\"):\n",
    "    # Build destination path with same relative structure\n",
    "    rel = os.path.relpath(src_path, original_dir_train)\n",
    "    dst_path = os.path.join(processed_dir_train, rel)\n",
    "    os.makedirs(os.path.dirname(dst_path), exist_ok=True)\n",
    "\n",
    "    try:\n",
    "        with Image.open(src_path) as img:\n",
    "            img = img.convert(\"RGB\")\n",
    "            img_resized = img.resize(target_size, Image.BILINEAR)  # direct resize (no letterbox)\n",
    "            img_resized.save(dst_path)\n",
    "    except Exception as e:\n",
    "        errors += 1\n",
    "        print(f\"Failed: {src_path} -> {e}\")\n",
    "\n",
    "print(f\"Done. Wrote images to: {processed_dir_train}\")\n",
    "if errors:\n",
    "    print(f\"Completed with {errors} error(s).\")\n"
   ]
  },
  {
   "cell_type": "code",
   "execution_count": 18,
   "id": "a1412294-c873-490c-bf55-a3be778f2340",
   "metadata": {},
   "outputs": [
    {
     "data": {
      "text/plain": [
       "'C:\\\\Users\\\\Baron\\\\Documents\\\\Grad_School\\\\EE_297A\\\\Project\\\\datasets\\\\signs_0\\\\db_lisa_tiny\\\\original'"
      ]
     },
     "execution_count": 18,
     "metadata": {},
     "output_type": "execute_result"
    }
   ],
   "source": [
    "signs_dataset"
   ]
  },
  {
   "cell_type": "markdown",
   "id": "0a220892-e2e7-4738-a3a2-ea0c947f59a4",
   "metadata": {},
   "source": [
    "### Bounding boxes test and setup\n",
    "    1.) "
   ]
  },
  {
   "cell_type": "code",
   "execution_count": 19,
   "id": "1214ea96-2770-4b00-97e7-740cf146972c",
   "metadata": {},
   "outputs": [
    {
     "data": {
      "text/html": [
       "<div>\n",
       "<style scoped>\n",
       "    .dataframe tbody tr th:only-of-type {\n",
       "        vertical-align: middle;\n",
       "    }\n",
       "\n",
       "    .dataframe tbody tr th {\n",
       "        vertical-align: top;\n",
       "    }\n",
       "\n",
       "    .dataframe thead th {\n",
       "        text-align: right;\n",
       "    }\n",
       "</style>\n",
       "<table border=\"1\" class=\"dataframe\">\n",
       "  <thead>\n",
       "    <tr style=\"text-align: right;\">\n",
       "      <th></th>\n",
       "      <th>filename</th>\n",
       "      <th>x1</th>\n",
       "      <th>y1</th>\n",
       "      <th>x2</th>\n",
       "      <th>y2</th>\n",
       "      <th>class</th>\n",
       "      <th>LabelIndex</th>\n",
       "      <th>full_path</th>\n",
       "    </tr>\n",
       "  </thead>\n",
       "  <tbody>\n",
       "    <tr>\n",
       "      <th>0</th>\n",
       "      <td>sample_319.png</td>\n",
       "      <td>413</td>\n",
       "      <td>269</td>\n",
       "      <td>458</td>\n",
       "      <td>312</td>\n",
       "      <td>merge</td>\n",
       "      <td>1</td>\n",
       "      <td>C:\\Users\\Baron\\Documents\\Grad_School\\EE_297A\\P...</td>\n",
       "    </tr>\n",
       "    <tr>\n",
       "      <th>1</th>\n",
       "      <td>sample_753.png</td>\n",
       "      <td>460</td>\n",
       "      <td>236</td>\n",
       "      <td>494</td>\n",
       "      <td>277</td>\n",
       "      <td>speedLimit35</td>\n",
       "      <td>5</td>\n",
       "      <td>C:\\Users\\Baron\\Documents\\Grad_School\\EE_297A\\P...</td>\n",
       "    </tr>\n",
       "    <tr>\n",
       "      <th>2</th>\n",
       "      <td>sample_206.png</td>\n",
       "      <td>505</td>\n",
       "      <td>264</td>\n",
       "      <td>537</td>\n",
       "      <td>294</td>\n",
       "      <td>stop</td>\n",
       "      <td>0</td>\n",
       "      <td>C:\\Users\\Baron\\Documents\\Grad_School\\EE_297A\\P...</td>\n",
       "    </tr>\n",
       "    <tr>\n",
       "      <th>3</th>\n",
       "      <td>sample_701.png</td>\n",
       "      <td>229</td>\n",
       "      <td>45</td>\n",
       "      <td>250</td>\n",
       "      <td>68</td>\n",
       "      <td>keepRight</td>\n",
       "      <td>4</td>\n",
       "      <td>C:\\Users\\Baron\\Documents\\Grad_School\\EE_297A\\P...</td>\n",
       "    </tr>\n",
       "    <tr>\n",
       "      <th>4</th>\n",
       "      <td>sample_385.png</td>\n",
       "      <td>505</td>\n",
       "      <td>218</td>\n",
       "      <td>581</td>\n",
       "      <td>288</td>\n",
       "      <td>merge</td>\n",
       "      <td>1</td>\n",
       "      <td>C:\\Users\\Baron\\Documents\\Grad_School\\EE_297A\\P...</td>\n",
       "    </tr>\n",
       "  </tbody>\n",
       "</table>\n",
       "</div>"
      ],
      "text/plain": [
       "         filename   x1   y1   x2   y2         class  LabelIndex  \\\n",
       "0  sample_319.png  413  269  458  312         merge           1   \n",
       "1  sample_753.png  460  236  494  277  speedLimit35           5   \n",
       "2  sample_206.png  505  264  537  294          stop           0   \n",
       "3  sample_701.png  229   45  250   68     keepRight           4   \n",
       "4  sample_385.png  505  218  581  288         merge           1   \n",
       "\n",
       "                                           full_path  \n",
       "0  C:\\Users\\Baron\\Documents\\Grad_School\\EE_297A\\P...  \n",
       "1  C:\\Users\\Baron\\Documents\\Grad_School\\EE_297A\\P...  \n",
       "2  C:\\Users\\Baron\\Documents\\Grad_School\\EE_297A\\P...  \n",
       "3  C:\\Users\\Baron\\Documents\\Grad_School\\EE_297A\\P...  \n",
       "4  C:\\Users\\Baron\\Documents\\Grad_School\\EE_297A\\P...  "
      ]
     },
     "execution_count": 19,
     "metadata": {},
     "output_type": "execute_result"
    }
   ],
   "source": [
    "#3. Head of the Dataset (Used to see a quick glimpse of the dataset)\n",
    "signs_df.head(5)\n"
   ]
  },
  {
   "cell_type": "code",
   "execution_count": 20,
   "id": "c8492fc4-4155-4371-b118-01f4df6b1549",
   "metadata": {},
   "outputs": [
    {
     "name": "stdout",
     "output_type": "stream",
     "text": [
      "C:\\Users\\Baron\\Documents\\Grad_School\\EE_297A\\Project\\datasets\\signs_0\\db_lisa_tiny\\original\\sample_343.png\n"
     ]
    }
   ],
   "source": [
    "print(signs_df.iloc[360][\"full_path\"])"
   ]
  },
  {
   "cell_type": "code",
   "execution_count": 21,
   "id": "bad9359a-f5d0-4558-8266-4e18d622f173",
   "metadata": {},
   "outputs": [
    {
     "data": {
      "image/png": "[encoded data removed]",
      "text/plain": [
       "<Figure size 600x600 with 1 Axes>"
      ]
     },
     "metadata": {},
     "output_type": "display_data"
    }
   ],
   "source": [
    "import cv2\n",
    "import matplotlib.pyplot as plt\n",
    "\n",
    "# Pick which row to visualize\n",
    "row_index = 10  # change this to inspect different images\n",
    "\n",
    "# Get the row from signs_df\n",
    "row = signs_df.iloc[row_index]\n",
    "\n",
    "# Load the image from the full path\n",
    "image_path = row[\"full_path\"]\n",
    "img = cv2.imread(image_path)\n",
    "\n",
    "if img is None:\n",
    "    raise FileNotFoundError(f\"Image not found: {image_path}\")\n",
    "\n",
    "# Extract bounding box coordinates\n",
    "x1, y1, x2, y2 = int(row[\"x1\"]), int(row[\"y1\"]), int(row[\"x2\"]), int(row[\"y2\"])\n",
    "\n",
    "# Draw the bounding box\n",
    "img_with_box = img.copy()\n",
    "cv2.rectangle(img_with_box, (x1, y1), (x2, y2), (0, 255, 0), 2)\n",
    "cv2.putText(img_with_box, f\"{row['class']} ({row['LabelIndex']})\", (x1, y1 - 10),\n",
    "            cv2.FONT_HERSHEY_SIMPLEX, 0.6, (0, 255, 0), 2)\n",
    "\n",
    "# Show the image\n",
    "plt.figure(figsize=(6, 6))\n",
    "plt.imshow(cv2.cvtColor(img_with_box, cv2.COLOR_BGR2RGB))\n",
    "plt.title(f\"Class: {row['class']} | LabelIndex: {row['LabelIndex']} | File: {row['filename']}\")\n",
    "plt.axis('off')\n",
    "plt.show()\n"
   ]
  },
  {
   "cell_type": "code",
   "execution_count": 22,
   "id": "cab70b95-7bf0-4e5e-b1bf-ae6739ea5e84",
   "metadata": {},
   "outputs": [],
   "source": [
    "import os\n",
    "import cv2\n",
    "\n",
    "# ==== LOAD CSV ====\n",
    "root_dir = r\"C:\\Users\\Baron\\Documents\\Grad_School\\EE_297A\\Project\\datasets\\signs_0\\db_lisa_tiny\"\n",
    "annotations_train_csv = os.path.join(root_dir, \"annotations_train.csv\")  # train ledger\n",
    "signs_df = pd.read_csv(annotations_train_csv)\n",
    "\n",
    "# Assume signs_df already exists in memory\n",
    "TARGET_WH = (640, 640)   # new image size\n",
    "RESIZE_MODE = \"resize\"   # or \"letterbox\" if padded resize\n",
    "\n",
    "train_p_dir = r\"C:\\Users\\Baron\\Documents\\Grad_School\\EE_297A\\Project\\datasets\\signs_0\\db_lisa_tiny\\train_p\"\n",
    "root_dir = r\"C:\\Users\\Baron\\Documents\\Grad_School\\EE_297A\\Project\\datasets\\signs_0\\db_lisa_tiny\"\n",
    "\n",
    "def box_resize_transform(box, orig_wh, new_wh):\n",
    "    (x1, y1, x2, y2) = map(float, box)\n",
    "    (ow, oh) = orig_wh\n",
    "    (nw, nh) = new_wh\n",
    "    sx, sy = nw / ow, nh / oh\n",
    "    return [int(round(x1 * sx)), int(round(y1 * sy)),\n",
    "            int(round(x2 * sx)), int(round(y2 * sy))]\n",
    "\n",
    "def box_letterbox_transform(box, orig_wh, new_wh):\n",
    "    (x1, y1, x2, y2) = map(float, box)\n",
    "    (ow, oh) = orig_wh\n",
    "    (nw, nh) = new_wh\n",
    "    s = min(nw / ow, nh / oh)\n",
    "    pw, ph = int(round(ow * s)), int(round(oh * s))\n",
    "    dw, dh = (nw - pw) // 2, (nh - ph) // 2\n",
    "    return [int(round(x1 * s + dw)), int(round(y1 * s + dh)),\n",
    "            int(round(x2 * s + dw)), int(round(y2 * s + dh))]\n",
    "\n",
    "transform_fn = box_resize_transform if RESIZE_MODE == \"resize\" else box_letterbox_transform\n",
    "\n",
    "# Overwrite values in-place\n",
    "for i, row in signs_df.iterrows():\n",
    "    img = cv2.imread(row[\"full_path\"])\n",
    "    if img is None:\n",
    "        continue\n",
    "    oh, ow = img.shape[:2]\n",
    "\n",
    "    # Transform bounding box\n",
    "    new_x1, new_y1, new_x2, new_y2 = transform_fn(\n",
    "        [row[\"x1\"], row[\"y1\"], row[\"x2\"], row[\"y2\"]],\n",
    "        (ow, oh),\n",
    "        TARGET_WH\n",
    "    )\n",
    "\n",
    "    # Overwrite coordinates\n",
    "    signs_df.at[i, \"x1\"] = new_x1\n",
    "    signs_df.at[i, \"y1\"] = new_y1\n",
    "    signs_df.at[i, \"x2\"] = new_x2\n",
    "    signs_df.at[i, \"y2\"] = new_y2\n",
    "\n",
    "    # Overwrite path to point to Train_p/<LabelIndex>/filename\n",
    "    new_path = os.path.join(train_p_dir, str(row[\"LabelIndex\"]), row[\"filename\"])\n",
    "    signs_df.at[i, \"full_path\"] = new_path\n",
    "\n",
    "    signs_df_640=signs_df\n",
    "\n",
    "\n",
    "# Save if you want:\n",
    "signs_df_640.to_csv(os.path.join(root_dir, \"annotations_train_640.csv\"), index=False)\n"
   ]
  },
  {
   "cell_type": "code",
   "execution_count": 23,
   "id": "e19128a0-762b-472f-b08d-819eb514be34",
   "metadata": {},
   "outputs": [
    {
     "data": {
      "image/png": "[encoded data removed]",
      "text/plain": [
       "<Figure size 600x600 with 1 Axes>"
      ]
     },
     "metadata": {},
     "output_type": "display_data"
    }
   ],
   "source": [
    "import cv2\n",
    "import matplotlib.pyplot as plt\n",
    "import numpy as np\n",
    "\n",
    "def draw_box_on_row(row, thickness=2):\n",
    "    \"\"\"Draw the bbox from a signs_df row onto its resized image and show it.\"\"\"\n",
    "    img = cv2.imread(row[\"full_path\"])\n",
    "    if img is None:\n",
    "        raise FileNotFoundError(f\"Image not found: {row['full_path']}\")\n",
    "\n",
    "    # Integer + clamp just in case\n",
    "    h, w = img.shape[:2]\n",
    "    x1, y1, x2, y2 = map(int, [row[\"x1\"], row[\"y1\"], row[\"x2\"], row[\"y2\"]])\n",
    "    x1 = np.clip(x1, 0, w-1); x2 = np.clip(x2, 0, w-1)\n",
    "    y1 = np.clip(y1, 0, h-1); y2 = np.clip(y2, 0, h-1)\n",
    "\n",
    "    vis = img.copy()\n",
    "    cv2.rectangle(vis, (x1, y1), (x2, y2), (0, 255, 0), thickness)\n",
    "    cv2.putText(vis, f\"{row['class']} ({row['LabelIndex']})\",\n",
    "                (x1, max(0, y1-8)), cv2.FONT_HERSHEY_SIMPLEX, 0.6, (0,255,0), 2)\n",
    "\n",
    "    plt.figure(figsize=(6,6))\n",
    "    plt.imshow(cv2.cvtColor(vis, cv2.COLOR_BGR2RGB))\n",
    "    plt.title(f\"Class: {row['class']} | LabelIndex: {row['LabelIndex']} | File: {row['filename']}\")\n",
    "    plt.axis('off')\n",
    "    plt.show()\n",
    "\n",
    "# --- Example usages ---\n",
    "\n",
    "# 1) Show a specific row\n",
    "draw_box_on_row(signs_df.iloc[100])\n",
    "\n"
   ]
  },
  {
   "cell_type": "markdown",
   "id": "c9da9229-50a6-460b-9169-fc15871fb0d3",
   "metadata": {},
   "source": [
    "### Part D) Baseline Model Training\n",
    "    Contents include the prototyping of different pretained models\n",
    "    1.) ResNet18\n",
    "    2.) MobileNet\n",
    "    3.) Yolov7"
   ]
  },
  {
   "cell_type": "code",
   "execution_count": 24,
   "id": "a02debf0-c0b0-4fcd-b89a-bbff2337a96a",
   "metadata": {},
   "outputs": [
    {
     "name": "stdout",
     "output_type": "stream",
     "text": [
      "C:\\Users\\Baron\\Documents\\Grad_School\\EE_297A\\Project\\datasets\\signs_0\\db_lisa_tiny\\train_p\\5\\sample_711.png\n"
     ]
    }
   ],
   "source": [
    "print(signs_df.iloc[360][\"full_path\"])"
   ]
  },
  {
   "cell_type": "code",
   "execution_count": 25,
   "id": "ab3c44f2-b916-42f7-827a-a685fe15d56c",
   "metadata": {},
   "outputs": [
    {
     "data": {
      "text/html": [
       "<div>\n",
       "<style scoped>\n",
       "    .dataframe tbody tr th:only-of-type {\n",
       "        vertical-align: middle;\n",
       "    }\n",
       "\n",
       "    .dataframe tbody tr th {\n",
       "        vertical-align: top;\n",
       "    }\n",
       "\n",
       "    .dataframe thead th {\n",
       "        text-align: right;\n",
       "    }\n",
       "</style>\n",
       "<table border=\"1\" class=\"dataframe\">\n",
       "  <thead>\n",
       "    <tr style=\"text-align: right;\">\n",
       "      <th></th>\n",
       "      <th>filename</th>\n",
       "      <th>x1</th>\n",
       "      <th>y1</th>\n",
       "      <th>x2</th>\n",
       "      <th>y2</th>\n",
       "      <th>class</th>\n",
       "      <th>LabelIndex</th>\n",
       "      <th>full_path</th>\n",
       "    </tr>\n",
       "  </thead>\n",
       "  <tbody>\n",
       "    <tr>\n",
       "      <th>0</th>\n",
       "      <td>sample_601.png</td>\n",
       "      <td>121</td>\n",
       "      <td>313</td>\n",
       "      <td>146</td>\n",
       "      <td>356</td>\n",
       "      <td>keepRight</td>\n",
       "      <td>4</td>\n",
       "      <td>C:\\Users\\Baron\\Documents\\Grad_School\\EE_297A\\P...</td>\n",
       "    </tr>\n",
       "    <tr>\n",
       "      <th>1</th>\n",
       "      <td>sample_602.png</td>\n",
       "      <td>56</td>\n",
       "      <td>316</td>\n",
       "      <td>91</td>\n",
       "      <td>373</td>\n",
       "      <td>keepRight</td>\n",
       "      <td>4</td>\n",
       "      <td>C:\\Users\\Baron\\Documents\\Grad_School\\EE_297A\\P...</td>\n",
       "    </tr>\n",
       "    <tr>\n",
       "      <th>2</th>\n",
       "      <td>sample_603.png</td>\n",
       "      <td>140</td>\n",
       "      <td>351</td>\n",
       "      <td>163</td>\n",
       "      <td>384</td>\n",
       "      <td>keepRight</td>\n",
       "      <td>4</td>\n",
       "      <td>C:\\Users\\Baron\\Documents\\Grad_School\\EE_297A\\P...</td>\n",
       "    </tr>\n",
       "    <tr>\n",
       "      <th>3</th>\n",
       "      <td>sample_604.png</td>\n",
       "      <td>246</td>\n",
       "      <td>441</td>\n",
       "      <td>263</td>\n",
       "      <td>468</td>\n",
       "      <td>keepRight</td>\n",
       "      <td>4</td>\n",
       "      <td>C:\\Users\\Baron\\Documents\\Grad_School\\EE_297A\\P...</td>\n",
       "    </tr>\n",
       "    <tr>\n",
       "      <th>4</th>\n",
       "      <td>sample_605.png</td>\n",
       "      <td>35</td>\n",
       "      <td>351</td>\n",
       "      <td>76</td>\n",
       "      <td>423</td>\n",
       "      <td>keepRight</td>\n",
       "      <td>4</td>\n",
       "      <td>C:\\Users\\Baron\\Documents\\Grad_School\\EE_297A\\P...</td>\n",
       "    </tr>\n",
       "    <tr>\n",
       "      <th>...</th>\n",
       "      <td>...</td>\n",
       "      <td>...</td>\n",
       "      <td>...</td>\n",
       "      <td>...</td>\n",
       "      <td>...</td>\n",
       "      <td>...</td>\n",
       "      <td>...</td>\n",
       "      <td>...</td>\n",
       "    </tr>\n",
       "    <tr>\n",
       "      <th>535</th>\n",
       "      <td>sample_174.png</td>\n",
       "      <td>139</td>\n",
       "      <td>409</td>\n",
       "      <td>155</td>\n",
       "      <td>432</td>\n",
       "      <td>stop</td>\n",
       "      <td>0</td>\n",
       "      <td>C:\\Users\\Baron\\Documents\\Grad_School\\EE_297A\\P...</td>\n",
       "    </tr>\n",
       "    <tr>\n",
       "      <th>536</th>\n",
       "      <td>sample_179.png</td>\n",
       "      <td>474</td>\n",
       "      <td>261</td>\n",
       "      <td>495</td>\n",
       "      <td>293</td>\n",
       "      <td>stop</td>\n",
       "      <td>0</td>\n",
       "      <td>C:\\Users\\Baron\\Documents\\Grad_School\\EE_297A\\P...</td>\n",
       "    </tr>\n",
       "    <tr>\n",
       "      <th>537</th>\n",
       "      <td>sample_181.png</td>\n",
       "      <td>203</td>\n",
       "      <td>389</td>\n",
       "      <td>231</td>\n",
       "      <td>427</td>\n",
       "      <td>stop</td>\n",
       "      <td>0</td>\n",
       "      <td>C:\\Users\\Baron\\Documents\\Grad_School\\EE_297A\\P...</td>\n",
       "    </tr>\n",
       "    <tr>\n",
       "      <th>538</th>\n",
       "      <td>sample_183.png</td>\n",
       "      <td>590</td>\n",
       "      <td>7</td>\n",
       "      <td>627</td>\n",
       "      <td>57</td>\n",
       "      <td>stop</td>\n",
       "      <td>0</td>\n",
       "      <td>C:\\Users\\Baron\\Documents\\Grad_School\\EE_297A\\P...</td>\n",
       "    </tr>\n",
       "    <tr>\n",
       "      <th>539</th>\n",
       "      <td>sample_184.png</td>\n",
       "      <td>441</td>\n",
       "      <td>55</td>\n",
       "      <td>458</td>\n",
       "      <td>79</td>\n",
       "      <td>stop</td>\n",
       "      <td>0</td>\n",
       "      <td>C:\\Users\\Baron\\Documents\\Grad_School\\EE_297A\\P...</td>\n",
       "    </tr>\n",
       "  </tbody>\n",
       "</table>\n",
       "<p>540 rows × 8 columns</p>\n",
       "</div>"
      ],
      "text/plain": [
       "           filename   x1   y1   x2   y2      class  LabelIndex  \\\n",
       "0    sample_601.png  121  313  146  356  keepRight           4   \n",
       "1    sample_602.png   56  316   91  373  keepRight           4   \n",
       "2    sample_603.png  140  351  163  384  keepRight           4   \n",
       "3    sample_604.png  246  441  263  468  keepRight           4   \n",
       "4    sample_605.png   35  351   76  423  keepRight           4   \n",
       "..              ...  ...  ...  ...  ...        ...         ...   \n",
       "535  sample_174.png  139  409  155  432       stop           0   \n",
       "536  sample_179.png  474  261  495  293       stop           0   \n",
       "537  sample_181.png  203  389  231  427       stop           0   \n",
       "538  sample_183.png  590    7  627   57       stop           0   \n",
       "539  sample_184.png  441   55  458   79       stop           0   \n",
       "\n",
       "                                             full_path  \n",
       "0    C:\\Users\\Baron\\Documents\\Grad_School\\EE_297A\\P...  \n",
       "1    C:\\Users\\Baron\\Documents\\Grad_School\\EE_297A\\P...  \n",
       "2    C:\\Users\\Baron\\Documents\\Grad_School\\EE_297A\\P...  \n",
       "3    C:\\Users\\Baron\\Documents\\Grad_School\\EE_297A\\P...  \n",
       "4    C:\\Users\\Baron\\Documents\\Grad_School\\EE_297A\\P...  \n",
       "..                                                 ...  \n",
       "535  C:\\Users\\Baron\\Documents\\Grad_School\\EE_297A\\P...  \n",
       "536  C:\\Users\\Baron\\Documents\\Grad_School\\EE_297A\\P...  \n",
       "537  C:\\Users\\Baron\\Documents\\Grad_School\\EE_297A\\P...  \n",
       "538  C:\\Users\\Baron\\Documents\\Grad_School\\EE_297A\\P...  \n",
       "539  C:\\Users\\Baron\\Documents\\Grad_School\\EE_297A\\P...  \n",
       "\n",
       "[540 rows x 8 columns]"
      ]
     },
     "execution_count": 25,
     "metadata": {},
     "output_type": "execute_result"
    }
   ],
   "source": [
    "signs_df"
   ]
  },
  {
   "cell_type": "code",
   "execution_count": 26,
   "id": "f752000f-31f5-4999-9f1e-cffdfcb8cb20",
   "metadata": {},
   "outputs": [],
   "source": [
    "import torch\n",
    "from torch.utils.data import Dataset\n",
    "from PIL import Image\n",
    "\n",
    "class SignDetectionDataset(Dataset):\n",
    "    \"\"\"\n",
    "    Expects dataframe columns: full_path, LabelIndex, x1, y1, x2, y2, class (optional).\n",
    "    No image or box resizing is performed.\n",
    "    \"\"\"\n",
    "    def __init__(self, dataframe, transform=None, normalize=False):\n",
    "        self.df = dataframe.reset_index(drop=True)\n",
    "        self.transform = transform\n",
    "        self.normalize = normalize  # if True -> YOLO-style [0,1] normalization\n",
    "\n",
    "    def __len__(self):\n",
    "        return len(self.df)\n",
    "\n",
    "    def __getitem__(self, idx):\n",
    "        row = self.df.iloc[idx]\n",
    "        img_path = str(row[\"full_path\"])\n",
    "        class_id = int(row[\"LabelIndex\"])\n",
    "\n",
    "        # Load image (no resizing)\n",
    "        image = Image.open(img_path).convert(\"RGB\")\n",
    "        W, H = image.size\n",
    "\n",
    "        # Read bbox (pixel coords) and convert to [cx, cy, w, h]\n",
    "        x1 = float(row[\"x1\"]); y1 = float(row[\"y1\"])\n",
    "        x2 = float(row[\"x2\"]); y2 = float(row[\"y2\"])\n",
    "        cx = (x1 + x2) / 2.0\n",
    "        cy = (y1 + y2) / 2.0\n",
    "        bw = (x2 - x1)\n",
    "        bh = (y2 - y1)\n",
    "\n",
    "        if self.normalize:\n",
    "            cx /= W; cy /= H\n",
    "            bw /= W; bh /= H\n",
    "\n",
    "        if self.transform:\n",
    "            image = self.transform(image)\n",
    "\n",
    "        target = {\n",
    "            \"bbox\": torch.tensor([cx, cy, bw, bh], dtype=torch.float32),\n",
    "            \"label\": torch.tensor(class_id, dtype=torch.long),\n",
    "            \"size\": torch.tensor([H, W], dtype=torch.int64),  # optional; remove if not needed\n",
    "        }\n",
    "        \n",
    "        return image, target"
   ]
  },
  {
   "cell_type": "code",
   "execution_count": 27,
   "id": "d7e158c8-b46d-4c78-b506-8b41aad1766e",
   "metadata": {},
   "outputs": [],
   "source": [
    "def custom_collate_fn(batch):\n",
    "    images = []\n",
    "    bboxes = []\n",
    "    labels = []\n",
    "    for img, target in batch:\n",
    "        images.append(img)\n",
    "        bboxes.append(target[\"bbox\"])\n",
    "        labels.append(target[\"label\"])\n",
    "    return torch.stack(images), torch.stack(bboxes), torch.tensor(labels)"
   ]
  },
  {
   "cell_type": "code",
   "execution_count": 28,
   "id": "fb00c74c-6b95-4db6-b9ac-211b8152e813",
   "metadata": {},
   "outputs": [],
   "source": [
    "# Use ImageNet normalization for ResNet\n",
    "transform = transforms.Compose([\n",
    "    transforms.Resize((224, 224)),\n",
    "    transforms.ToTensor(),\n",
    "    transforms.Normalize(mean=[0.485, 0.456, 0.406],\n",
    "                         std=[0.229, 0.224, 0.225])\n",
    "])\n",
    "\n",
    "# Create dataset and loader\n",
    "sign_dataset = SignDetectionDataset(signs_df, transform=transform)\n",
    "sign_loader = DataLoader(sign_dataset, batch_size=32, shuffle=True)"
   ]
  },
  {
   "cell_type": "code",
   "execution_count": null,
   "id": "e6963c7c-084f-42a3-b605-c5dea391c2f6",
   "metadata": {},
   "outputs": [],
   "source": []
  },
  {
   "cell_type": "code",
   "execution_count": 29,
   "id": "491af1f4-dab1-42a1-b64a-05c4df90c740",
   "metadata": {},
   "outputs": [],
   "source": [
    "# 90% train, 10% validation split\n",
    "train_indices, val_indices = train_test_split(\n",
    "    list(range(len(sign_dataset))), test_size=0.1, random_state=42)\n",
    "\n",
    "train_subset = Subset(sign_dataset, train_indices)\n",
    "val_subset = Subset(sign_dataset, val_indices)\n",
    "\n",
    "#train_loader = DataLoader(train_subset, batch_size=16, shuffle=True)\n",
    "#val_loader = DataLoader(val_subset, batch_size=16, shuffle=False)\\\n",
    "\n",
    "train_loader = DataLoader(train_subset, batch_size=16, shuffle=True, collate_fn=custom_collate_fn)\n",
    "val_loader = DataLoader(val_subset, batch_size=16, shuffle=False, collate_fn=custom_collate_fn)"
   ]
  },
  {
   "cell_type": "markdown",
   "id": "390ce9e9-6d5e-4647-9434-70191714def8",
   "metadata": {},
   "source": [
    "### Model Creation\n",
    "    1. GPU Assertion"
   ]
  },
  {
   "cell_type": "code",
   "execution_count": 30,
   "id": "a6c36e06-53ea-4f0d-b179-060035871ad3",
   "metadata": {},
   "outputs": [
    {
     "data": {
      "text/plain": [
       "'3.8.20 (default, Oct  3 2024, 15:19:54) [MSC v.1929 64 bit (AMD64)]'"
      ]
     },
     "execution_count": 30,
     "metadata": {},
     "output_type": "execute_result"
    }
   ],
   "source": [
    "# Print Python version\n",
    "import sys\n",
    "sys.version"
   ]
  },
  {
   "cell_type": "code",
   "execution_count": 31,
   "id": "8e4e19f8-9254-4ee5-8d5c-976fb056bbd7",
   "metadata": {},
   "outputs": [
    {
     "name": "stdout",
     "output_type": "stream",
     "text": [
      "PyTorch version: 2.4.1\n"
     ]
    }
   ],
   "source": [
    "import torch\n",
    "print(\"PyTorch version:\", torch.__version__)"
   ]
  },
  {
   "cell_type": "code",
   "execution_count": 32,
   "id": "7bc843e1-d0de-4871-9360-407536d48ff6",
   "metadata": {},
   "outputs": [
    {
     "name": "stdout",
     "output_type": "stream",
     "text": [
      "CUDA available: True\n"
     ]
    }
   ],
   "source": [
    "# Check GPU availability\n",
    "cuda_available = torch.cuda.is_available()\n",
    "print(\"CUDA available:\", cuda_available)"
   ]
  },
  {
   "cell_type": "code",
   "execution_count": 33,
   "id": "9414f897-e140-41fc-950d-77a9e16532d4",
   "metadata": {},
   "outputs": [
    {
     "name": "stdout",
     "output_type": "stream",
     "text": [
      "CUDA version (PyTorch built with): 12.1\n",
      "Number of CUDA devices: 1\n",
      "\n",
      "[GPU 0]\n",
      "Device Name: NVIDIA GeForce RTX 3060 Ti\n",
      "Total Memory (MB): 8191.38\n",
      "Cached Memory (MB): 0.0\n"
     ]
    }
   ],
   "source": [
    "if cuda_available:\n",
    "    print(\"CUDA version (PyTorch built with):\", torch.version.cuda)\n",
    "    print(\"Number of CUDA devices:\", torch.cuda.device_count())\n",
    "\n",
    "    for i in range(torch.cuda.device_count()):\n",
    "        print(f\"\\n[GPU {i}]\")\n",
    "        print(\"Device Name:\", torch.cuda.get_device_name(i))\n",
    "        print(\"Total Memory (MB):\", round(torch.cuda.get_device_properties(i).total_memory / 1024**2, 2))\n",
    "        print(\"Cached Memory (MB):\", round(torch.cuda.memory_reserved(i) / 1024**2, 2))\n",
    "else:\n",
    "    print(\"⚠️ No CUDA-compatible GPU detected.\")"
   ]
  },
  {
   "cell_type": "code",
   "execution_count": 34,
   "id": "b509303e-5197-483d-8437-56e2de1fa1a2",
   "metadata": {},
   "outputs": [
    {
     "data": {
      "text/plain": [
       "device(type='cuda')"
      ]
     },
     "execution_count": 34,
     "metadata": {},
     "output_type": "execute_result"
    }
   ],
   "source": [
    "# === Setup ===\n",
    "device = torch.device(\"cuda\" if torch.cuda.is_available() else \"cpu\")\n",
    "device"
   ]
  },
  {
   "cell_type": "raw",
   "id": "28a1cef5-1917-49ee-88b2-56351fe63e27",
   "metadata": {},
   "source": [
    "import torch\n",
    "import torch.nn as nn\n",
    "import torch.nn.functional as F\n",
    "\n",
    "class MultiTaskNet(nn.Module):\n",
    "    def __init__(self, num_classes=9, yolo_variant='yolov5s', pretrained=True, freeze_backbone=False):\n",
    "        super().__init__()\n",
    "\n",
    "        # Load YOLOv5 from torch.hub and unwrap AutoShape for training\n",
    "        yolo_model = torch.hub.load('ultralytics/yolov5', yolo_variant, pretrained=pretrained)\n",
    "        if hasattr(yolo_model, 'model'):  # unwrap AutoShape\n",
    "            yolo_model = yolo_model.model\n",
    "        self.yolo = yolo_model\n",
    "        self.backbone = self.yolo\n",
    "\n",
    "        if freeze_backbone:\n",
    "            for p in self.backbone.parameters():\n",
    "                p.requires_grad = False\n",
    "\n",
    "        # Hook to capture P3, P4, P5 from PAN/FPN before Detect head\n",
    "        self._pyramid = None \n",
    "        def _capture_pyramid(module, inputs):\n",
    "            feats = inputs[0]\n",
    "            if isinstance(feats, (list, tuple)):\n",
    "                self._pyramid = list(feats)  # grad-enabled tensors\n",
    "            else:\n",
    "                raise RuntimeError(f\"Unexpected pyramid format: {type(feats)}\")\n",
    "\n",
    "        # Register hook on YOLO Detect module\n",
    "        self.detect_module = None\n",
    "        for m in self.backbone.modules():\n",
    "            if m.__class__.__name__ == \"Detect\":\n",
    "                self.detect_module = m\n",
    "                break\n",
    "        if self.detect_module is None:\n",
    "            raise RuntimeError(\"YOLOv5 Detect module not found.\")\n",
    "        self.detect_module.register_forward_pre_hook(_capture_pyramid)\n",
    "\n",
    "        self.det_pool = nn.AdaptiveAvgPool2d(1)\n",
    "\n",
    "        # Heads will be built after first forward (dynamic channel detection)\n",
    "        self.det_fc = None\n",
    "        self.bbox_regressor = None\n",
    "        self.classifier = None\n",
    "        self.seg_head = None\n",
    "        self.num_classes = num_classes\n",
    "\n",
    "    def _build_heads(self, P3, P4, P5, device):\n",
    "        \"\"\"Build detection and segmentation heads dynamically from YOLO feature maps.\"\"\"\n",
    "        c3, c4, c5 = P3.shape[1], P4.shape[1], P5.shape[1]\n",
    "        det_in_ch = c3 + c4 + c5\n",
    "\n",
    "        self.det_fc = nn.Sequential(\n",
    "            nn.Flatten(),\n",
    "            nn.Linear(det_in_ch, 256), nn.ReLU(inplace=True),\n",
    "            nn.Linear(256, 128), nn.ReLU(inplace=True),\n",
    "        ).to(device)\n",
    "\n",
    "        self.bbox_regressor = nn.Linear(128, 4).to(device)\n",
    "        self.classifier = nn.Linear(128, self.num_classes).to(device)\n",
    "\n",
    "        self.seg_head = nn.Sequential(\n",
    "            nn.Conv2d(c3, 128, 3, padding=1), nn.BatchNorm2d(128), nn.ReLU(inplace=True),\n",
    "            nn.ConvTranspose2d(128, 64, 2, 2), nn.BatchNorm2d(64), nn.ReLU(inplace=True),\n",
    "            nn.ConvTranspose2d(64, 32, 2, 2), nn.BatchNorm2d(32), nn.ReLU(inplace=True),\n",
    "            nn.ConvTranspose2d(32, 16, 2, 2), nn.BatchNorm2d(16), nn.ReLU(inplace=True),\n",
    "            nn.Conv2d(16, 1, 1),\n",
    "        ).to(device)\n",
    "\n",
    "    def forward(self, x):\n",
    "        B, _, H, W = x.shape\n",
    "\n",
    "        # Run YOLO forward to capture features\n",
    "        _ = self.yolo(x)\n",
    "\n",
    "        if not (self._pyramid and len(self._pyramid) == 3):\n",
    "            raise RuntimeError(\"Pyramid features not captured correctly.\")\n",
    "        P3, P4, P5 = self._pyramid\n",
    "\n",
    "        # Build heads dynamically on correct device\n",
    "        if self.det_fc is None:\n",
    "            self._build_heads(P3, P4, P5, device=x.device)\n",
    "\n",
    "        # Detection head\n",
    "        p3p = self.det_pool(P3)\n",
    "        p4p = self.det_pool(P4)\n",
    "        p5p = self.det_pool(P5)\n",
    "        det_in = torch.cat([p3p, p4p, p5p], dim=1)\n",
    "        det_feat = self.det_fc(det_in)\n",
    "        bbox_out = self.bbox_regressor(det_feat)\n",
    "        class_out = self.classifier(det_feat)\n",
    "\n",
    "        # Segmentation head\n",
    "        seg = self.seg_head(P3)\n",
    "        seg_out = F.interpolate(seg, size=(H, W), mode='bilinear', align_corners=False)\n",
    "\n",
    "        return bbox_out, class_out, seg_out"
   ]
  },
  {
   "cell_type": "code",
   "execution_count": 38,
   "id": "94d456c8-c7d4-4fcb-8cc0-01e24bd87b84",
   "metadata": {},
   "outputs": [],
   "source": [
    "import torch\n",
    "import torch.nn as nn\n",
    "import torch.nn.functional as F\n",
    "\n",
    "class MultiTaskNet(nn.Module):\n",
    "    def __init__(self, num_classes=9, yolo_variant='yolov5s', pretrained=True, freeze_backbone=False):\n",
    "        super().__init__()\n",
    "\n",
    "        # Load YOLOv5 from torch.hub and unwrap AutoShape for training\n",
    "        yolo_model = torch.hub.load('ultralytics/yolov5', yolo_variant, pretrained=pretrained)\n",
    "        if hasattr(yolo_model, 'model'):  # unwrap AutoShape\n",
    "            yolo_model = yolo_model.model\n",
    "        self.yolo = yolo_model\n",
    "        self.backbone = self.yolo\n",
    "\n",
    "        if freeze_backbone:\n",
    "            for p in self.backbone.parameters():\n",
    "                p.requires_grad = False\n",
    "\n",
    "        # Put BN layers into eval mode to stabilize training with small batches\n",
    "        for m in self.backbone.modules():\n",
    "            if isinstance(m, nn.BatchNorm2d):\n",
    "                m.eval()\n",
    "\n",
    "        # Hook to capture P3, P4, P5 from PAN/FPN before Detect head\n",
    "        self._pyramid = None\n",
    "\n",
    "        def _capture_pyramid(module, inputs):\n",
    "            feats = inputs[0]\n",
    "            if isinstance(feats, (list, tuple)):\n",
    "                self._pyramid = list(feats)  # grad-enabled tensors\n",
    "            else:\n",
    "                raise RuntimeError(f\"Unexpected pyramid format: {type(feats)}\")\n",
    "\n",
    "        # Register hook on YOLO Detect module\n",
    "        self.detect_module = None\n",
    "        for m in self.backbone.modules():\n",
    "            if m.__class__.__name__ == \"Detect\":\n",
    "                self.detect_module = m\n",
    "                break\n",
    "        if self.detect_module is None:\n",
    "            raise RuntimeError(\"YOLOv5 Detect module not found.\")\n",
    "        self.detect_module.register_forward_pre_hook(_capture_pyramid)\n",
    "\n",
    "        self.det_pool = nn.AdaptiveAvgPool2d(1)\n",
    "\n",
    "        # Heads will be built after first forward (dynamic channel detection)\n",
    "        self.det_fc = None\n",
    "        self.bbox_regressor = None\n",
    "        self.classifier = None\n",
    "        self.seg_head = None\n",
    "        self.num_classes = num_classes\n",
    "\n",
    "    def _build_heads(self, P3, P4, P5, device):\n",
    "        \"\"\"Build detection and segmentation heads dynamically from YOLO feature maps.\"\"\"\n",
    "        c3, c4, c5 = P3.shape[1], P4.shape[1], P5.shape[1]\n",
    "        det_in_ch = c3 + c4 + c5\n",
    "\n",
    "        # Wider MLP + dropout for stability/capacity\n",
    "        self.det_fc = nn.Sequential(\n",
    "            nn.Flatten(),\n",
    "            nn.Linear(det_in_ch, 512),\n",
    "            nn.ReLU(inplace=True),\n",
    "            nn.Dropout(0.4),\n",
    "            nn.Linear(512, 256),\n",
    "            nn.ReLU(inplace=True),\n",
    "        ).to(device)\n",
    "\n",
    "        # Normalized bbox (0..1), scale to image size in forward\n",
    "        self.bbox_regressor = nn.Sequential(\n",
    "            nn.Linear(256, 4),\n",
    "            nn.Sigmoid()\n",
    "        ).to(device)\n",
    "\n",
    "        # Classifier with dropout; outputs logits\n",
    "        self.classifier = nn.Sequential(\n",
    "            nn.Dropout(0.4),\n",
    "            nn.Linear(256, self.num_classes)\n",
    "        ).to(device)\n",
    "\n",
    "        # Segmentation head (binary logits). Keep simple P3 upsampler (use BCEWithLogitsLoss)\n",
    "        self.seg_head = nn.Sequential(\n",
    "            nn.Conv2d(c3, 128, 3, padding=1),\n",
    "            nn.BatchNorm2d(128),\n",
    "            nn.ReLU(inplace=True),\n",
    "\n",
    "            nn.ConvTranspose2d(128, 64, 2, 2),\n",
    "            nn.BatchNorm2d(64),\n",
    "            nn.ReLU(inplace=True),\n",
    "\n",
    "            nn.ConvTranspose2d(64, 32, 2, 2),\n",
    "            nn.BatchNorm2d(32),\n",
    "            nn.ReLU(inplace=True),\n",
    "\n",
    "            nn.ConvTranspose2d(32, 16, 2, 2),\n",
    "            nn.BatchNorm2d(16),\n",
    "            nn.ReLU(inplace=True),\n",
    "\n",
    "            nn.Conv2d(16, 1, 1)  # logits (no sigmoid)\n",
    "        ).to(device)\n",
    "\n",
    "    def forward(self, x):\n",
    "        B, _, H, W = x.shape\n",
    "\n",
    "        # Clear any stale refs from prior call\n",
    "        self._pyramid = None\n",
    "\n",
    "        # Temporarily stabilize BN/Dropout in backbone during feature capture\n",
    "        backbone_was_training = self.backbone.training\n",
    "        self.backbone.eval()\n",
    "        _ = self.yolo(x)  # run forward to populate self._pyramid\n",
    "        if backbone_was_training:\n",
    "            self.backbone.train()\n",
    "\n",
    "        if not (self._pyramid and len(self._pyramid) == 3):\n",
    "            raise RuntimeError(\"Pyramid features not captured correctly.\")\n",
    "        P3, P4, P5 = self._pyramid\n",
    "\n",
    "        # Build heads dynamically on correct device\n",
    "        if self.det_fc is None:\n",
    "            self._build_heads(P3, P4, P5, device=x.device)\n",
    "\n",
    "        # Detection head (global pooled multi-scale features)\n",
    "        p3p = self.det_pool(P3)\n",
    "        p4p = self.det_pool(P4)\n",
    "        p5p = self.det_pool(P5)\n",
    "        det_in = torch.cat([p3p, p4p, p5p], dim=1)   # (B, c3+c4+c5, 1, 1)\n",
    "        det_feat = self.det_fc(det_in)               # (B, 256)\n",
    "\n",
    "        # Normalized bbox -> pixel space (cx, cy, w, h)\n",
    "        bbox_norm = self.bbox_regressor(det_feat)    # in [0,1]\n",
    "        bbox_out = torch.stack([\n",
    "            bbox_norm[:, 0] * W,\n",
    "            bbox_norm[:, 1] * H,\n",
    "            bbox_norm[:, 2] * W,\n",
    "            bbox_norm[:, 3] * H\n",
    "        ], dim=1)\n",
    "\n",
    "        # Class logits\n",
    "        class_out = self.classifier(det_feat)\n",
    "\n",
    "        # Segmentation head (logits), upsample to input size\n",
    "        seg = self.seg_head(P3)\n",
    "        seg_out = F.interpolate(seg, size=(H, W), mode='bilinear', align_corners=False)\n",
    "\n",
    "        return bbox_out, class_out, seg_out\n"
   ]
  },
  {
   "cell_type": "code",
   "execution_count": null,
   "id": "fcfcc162-36f2-40d1-b746-976530b1831c",
   "metadata": {},
   "outputs": [],
   "source": []
  },
  {
   "cell_type": "code",
   "execution_count": 39,
   "id": "81650325-ca65-4b13-ba07-c438fd92c639",
   "metadata": {},
   "outputs": [
    {
     "name": "stderr",
     "output_type": "stream",
     "text": [
      "Using cache found in C:\\Users\\Baron/.cache\\torch\\hub\\ultralytics_yolov5_master\n",
      "YOLOv5  2025-8-13 Python-3.8.20 torch-2.4.1 CUDA:0 (NVIDIA GeForce RTX 3060 Ti, 8191MiB)\n",
      "\n",
      "Fusing layers... \n",
      "YOLOv5s summary: 213 layers, 7225885 parameters, 0 gradients, 16.4 GFLOPs\n",
      "Adding AutoShape... \n"
     ]
    },
    {
     "name": "stdout",
     "output_type": "stream",
     "text": [
      "torch.Size([2, 4]) torch.Size([2, 6]) torch.Size([2, 1, 640, 640])\n"
     ]
    }
   ],
   "source": [
    "num_classes = 6  # your case\n",
    "model = MultiTaskNet(num_classes=num_classes, yolo_variant='yolov5s', pretrained=True, freeze_backbone=False)\n",
    "\n",
    "model.to(device)\n",
    "model.train()  # when you start training\n",
    "\n",
    "# Dummy forward\n",
    "x = torch.randn(2, 3, 640, 640, device=device)\n",
    "bbox_out, class_out, seg_out = model(x)\n",
    "print(bbox_out.shape, class_out.shape, seg_out.shape)\n",
    "# -> torch.Size([2, 4]) torch.Size([2, 9]) torch.Size([2, 1, 640, 640])\n"
   ]
  },
  {
   "cell_type": "markdown",
   "id": "7da98575-63c0-4bfb-9088-4bf110a76021",
   "metadata": {},
   "source": [
    "### TRAINING"
   ]
  },
  {
   "cell_type": "code",
   "execution_count": 40,
   "id": "640e8ccd-0741-4dbd-9a31-0aeab8ab8561",
   "metadata": {
    "scrolled": true
   },
   "outputs": [
    {
     "name": "stdout",
     "output_type": "stream",
     "text": [
      "\n",
      "Epoch 1/200\n"
     ]
    },
    {
     "name": "stderr",
     "output_type": "stream",
     "text": [
      "Train: 100%|███████████████████████████████████████████████████████████████████████████| 31/31 [00:09<00:00,  3.44it/s]\n"
     ]
    },
    {
     "name": "stdout",
     "output_type": "stream",
     "text": [
      "Train Loss: 93.3952\n"
     ]
    },
    {
     "name": "stderr",
     "output_type": "stream",
     "text": [
      "Val: 100%|███████████████████████████████████████████████████████████████████████████████| 4/4 [00:00<00:00,  4.49it/s]\n"
     ]
    },
    {
     "name": "stdout",
     "output_type": "stream",
     "text": [
      "Val Loss: 79.7232\n",
      "\n",
      "Epoch 2/200\n"
     ]
    },
    {
     "name": "stderr",
     "output_type": "stream",
     "text": [
      "Train: 100%|███████████████████████████████████████████████████████████████████████████| 31/31 [00:09<00:00,  3.28it/s]\n"
     ]
    },
    {
     "name": "stdout",
     "output_type": "stream",
     "text": [
      "Train Loss: 87.2722\n"
     ]
    },
    {
     "name": "stderr",
     "output_type": "stream",
     "text": [
      "Val: 100%|███████████████████████████████████████████████████████████████████████████████| 4/4 [00:00<00:00,  4.15it/s]\n"
     ]
    },
    {
     "name": "stdout",
     "output_type": "stream",
     "text": [
      "Val Loss: 79.7037\n",
      "\n",
      "Epoch 3/200\n"
     ]
    },
    {
     "name": "stderr",
     "output_type": "stream",
     "text": [
      "Train: 100%|███████████████████████████████████████████████████████████████████████████| 31/31 [00:09<00:00,  3.29it/s]\n"
     ]
    },
    {
     "name": "stdout",
     "output_type": "stream",
     "text": [
      "Train Loss: 86.4478\n"
     ]
    },
    {
     "name": "stderr",
     "output_type": "stream",
     "text": [
      "Val: 100%|███████████████████████████████████████████████████████████████████████████████| 4/4 [00:00<00:00,  4.50it/s]\n"
     ]
    },
    {
     "name": "stdout",
     "output_type": "stream",
     "text": [
      "Val Loss: 79.0171\n",
      "\n",
      "Epoch 4/200\n"
     ]
    },
    {
     "name": "stderr",
     "output_type": "stream",
     "text": [
      "Train: 100%|███████████████████████████████████████████████████████████████████████████| 31/31 [00:09<00:00,  3.28it/s]\n"
     ]
    },
    {
     "name": "stdout",
     "output_type": "stream",
     "text": [
      "Train Loss: 86.5526\n"
     ]
    },
    {
     "name": "stderr",
     "output_type": "stream",
     "text": [
      "Val: 100%|███████████████████████████████████████████████████████████████████████████████| 4/4 [00:00<00:00,  4.55it/s]\n"
     ]
    },
    {
     "name": "stdout",
     "output_type": "stream",
     "text": [
      "Val Loss: 78.6654\n",
      "\n",
      "Epoch 5/200\n"
     ]
    },
    {
     "name": "stderr",
     "output_type": "stream",
     "text": [
      "Train: 100%|███████████████████████████████████████████████████████████████████████████| 31/31 [00:09<00:00,  3.39it/s]\n"
     ]
    },
    {
     "name": "stdout",
     "output_type": "stream",
     "text": [
      "Train Loss: 85.3077\n"
     ]
    },
    {
     "name": "stderr",
     "output_type": "stream",
     "text": [
      "Val: 100%|███████████████████████████████████████████████████████████████████████████████| 4/4 [00:00<00:00,  4.54it/s]\n"
     ]
    },
    {
     "name": "stdout",
     "output_type": "stream",
     "text": [
      "Val Loss: 79.5925\n",
      "\n",
      "Epoch 6/200\n"
     ]
    },
    {
     "name": "stderr",
     "output_type": "stream",
     "text": [
      "Train: 100%|███████████████████████████████████████████████████████████████████████████| 31/31 [00:09<00:00,  3.29it/s]\n"
     ]
    },
    {
     "name": "stdout",
     "output_type": "stream",
     "text": [
      "Train Loss: 84.9006\n"
     ]
    },
    {
     "name": "stderr",
     "output_type": "stream",
     "text": [
      "Val: 100%|███████████████████████████████████████████████████████████████████████████████| 4/4 [00:00<00:00,  4.54it/s]\n"
     ]
    },
    {
     "name": "stdout",
     "output_type": "stream",
     "text": [
      "Val Loss: 78.9825\n",
      "\n",
      "Epoch 7/200\n"
     ]
    },
    {
     "name": "stderr",
     "output_type": "stream",
     "text": [
      "Train: 100%|███████████████████████████████████████████████████████████████████████████| 31/31 [00:09<00:00,  3.35it/s]\n"
     ]
    },
    {
     "name": "stdout",
     "output_type": "stream",
     "text": [
      "Train Loss: 85.2495\n"
     ]
    },
    {
     "name": "stderr",
     "output_type": "stream",
     "text": [
      "Val: 100%|███████████████████████████████████████████████████████████████████████████████| 4/4 [00:00<00:00,  4.53it/s]\n"
     ]
    },
    {
     "name": "stdout",
     "output_type": "stream",
     "text": [
      "Val Loss: 80.6482\n",
      "\n",
      "Epoch 8/200\n"
     ]
    },
    {
     "name": "stderr",
     "output_type": "stream",
     "text": [
      "Train: 100%|███████████████████████████████████████████████████████████████████████████| 31/31 [00:09<00:00,  3.34it/s]\n"
     ]
    },
    {
     "name": "stdout",
     "output_type": "stream",
     "text": [
      "Train Loss: 83.9850\n"
     ]
    },
    {
     "name": "stderr",
     "output_type": "stream",
     "text": [
      "Val: 100%|███████████████████████████████████████████████████████████████████████████████| 4/4 [00:00<00:00,  4.51it/s]\n"
     ]
    },
    {
     "name": "stdout",
     "output_type": "stream",
     "text": [
      "Val Loss: 79.3912\n",
      "\n",
      "Epoch 9/200\n"
     ]
    },
    {
     "name": "stderr",
     "output_type": "stream",
     "text": [
      "Train: 100%|███████████████████████████████████████████████████████████████████████████| 31/31 [00:09<00:00,  3.32it/s]\n"
     ]
    },
    {
     "name": "stdout",
     "output_type": "stream",
     "text": [
      "Train Loss: 84.2526\n"
     ]
    },
    {
     "name": "stderr",
     "output_type": "stream",
     "text": [
      "Val: 100%|███████████████████████████████████████████████████████████████████████████████| 4/4 [00:00<00:00,  4.32it/s]\n"
     ]
    },
    {
     "name": "stdout",
     "output_type": "stream",
     "text": [
      "Val Loss: 78.8113\n",
      "\n",
      "Epoch 10/200\n"
     ]
    },
    {
     "name": "stderr",
     "output_type": "stream",
     "text": [
      "Train: 100%|███████████████████████████████████████████████████████████████████████████| 31/31 [00:09<00:00,  3.31it/s]\n"
     ]
    },
    {
     "name": "stdout",
     "output_type": "stream",
     "text": [
      "Train Loss: 83.5359\n"
     ]
    },
    {
     "name": "stderr",
     "output_type": "stream",
     "text": [
      "Val: 100%|███████████████████████████████████████████████████████████████████████████████| 4/4 [00:00<00:00,  4.64it/s]\n"
     ]
    },
    {
     "name": "stdout",
     "output_type": "stream",
     "text": [
      "Val Loss: 78.2031\n",
      "\n",
      "Epoch 11/200\n"
     ]
    },
    {
     "name": "stderr",
     "output_type": "stream",
     "text": [
      "Train: 100%|███████████████████████████████████████████████████████████████████████████| 31/31 [00:09<00:00,  3.37it/s]\n"
     ]
    },
    {
     "name": "stdout",
     "output_type": "stream",
     "text": [
      "Train Loss: 83.5429\n"
     ]
    },
    {
     "name": "stderr",
     "output_type": "stream",
     "text": [
      "Val: 100%|███████████████████████████████████████████████████████████████████████████████| 4/4 [00:00<00:00,  4.52it/s]\n"
     ]
    },
    {
     "name": "stdout",
     "output_type": "stream",
     "text": [
      "Val Loss: 78.7308\n",
      "\n",
      "Epoch 12/200\n"
     ]
    },
    {
     "name": "stderr",
     "output_type": "stream",
     "text": [
      "Train: 100%|███████████████████████████████████████████████████████████████████████████| 31/31 [00:09<00:00,  3.37it/s]\n"
     ]
    },
    {
     "name": "stdout",
     "output_type": "stream",
     "text": [
      "Train Loss: 83.2523\n"
     ]
    },
    {
     "name": "stderr",
     "output_type": "stream",
     "text": [
      "Val: 100%|███████████████████████████████████████████████████████████████████████████████| 4/4 [00:00<00:00,  4.80it/s]\n"
     ]
    },
    {
     "name": "stdout",
     "output_type": "stream",
     "text": [
      "Val Loss: 78.6840\n",
      "\n",
      "Epoch 13/200\n"
     ]
    },
    {
     "name": "stderr",
     "output_type": "stream",
     "text": [
      "Train: 100%|███████████████████████████████████████████████████████████████████████████| 31/31 [00:09<00:00,  3.43it/s]\n"
     ]
    },
    {
     "name": "stdout",
     "output_type": "stream",
     "text": [
      "Train Loss: 83.6966\n"
     ]
    },
    {
     "name": "stderr",
     "output_type": "stream",
     "text": [
      "Val: 100%|███████████████████████████████████████████████████████████████████████████████| 4/4 [00:00<00:00,  4.60it/s]\n"
     ]
    },
    {
     "name": "stdout",
     "output_type": "stream",
     "text": [
      "Val Loss: 79.3604\n",
      "\n",
      "Epoch 14/200\n"
     ]
    },
    {
     "name": "stderr",
     "output_type": "stream",
     "text": [
      "Train: 100%|███████████████████████████████████████████████████████████████████████████| 31/31 [00:09<00:00,  3.36it/s]\n"
     ]
    },
    {
     "name": "stdout",
     "output_type": "stream",
     "text": [
      "Train Loss: 82.9914\n"
     ]
    },
    {
     "name": "stderr",
     "output_type": "stream",
     "text": [
      "Val: 100%|███████████████████████████████████████████████████████████████████████████████| 4/4 [00:00<00:00,  4.70it/s]\n"
     ]
    },
    {
     "name": "stdout",
     "output_type": "stream",
     "text": [
      "Val Loss: 78.3050\n",
      "\n",
      "Epoch 15/200\n"
     ]
    },
    {
     "name": "stderr",
     "output_type": "stream",
     "text": [
      "Train: 100%|███████████████████████████████████████████████████████████████████████████| 31/31 [00:09<00:00,  3.37it/s]\n"
     ]
    },
    {
     "name": "stdout",
     "output_type": "stream",
     "text": [
      "Train Loss: 82.5070\n"
     ]
    },
    {
     "name": "stderr",
     "output_type": "stream",
     "text": [
      "Val: 100%|███████████████████████████████████████████████████████████████████████████████| 4/4 [00:00<00:00,  4.58it/s]\n"
     ]
    },
    {
     "name": "stdout",
     "output_type": "stream",
     "text": [
      "Val Loss: 77.6712\n",
      "\n",
      "Epoch 16/200\n"
     ]
    },
    {
     "name": "stderr",
     "output_type": "stream",
     "text": [
      "Train: 100%|███████████████████████████████████████████████████████████████████████████| 31/31 [00:09<00:00,  3.37it/s]\n"
     ]
    },
    {
     "name": "stdout",
     "output_type": "stream",
     "text": [
      "Train Loss: 82.6738\n"
     ]
    },
    {
     "name": "stderr",
     "output_type": "stream",
     "text": [
      "Val: 100%|███████████████████████████████████████████████████████████████████████████████| 4/4 [00:00<00:00,  4.61it/s]\n"
     ]
    },
    {
     "name": "stdout",
     "output_type": "stream",
     "text": [
      "Val Loss: 77.6626\n",
      "\n",
      "Epoch 17/200\n"
     ]
    },
    {
     "name": "stderr",
     "output_type": "stream",
     "text": [
      "Train: 100%|███████████████████████████████████████████████████████████████████████████| 31/31 [00:09<00:00,  3.41it/s]\n"
     ]
    },
    {
     "name": "stdout",
     "output_type": "stream",
     "text": [
      "Train Loss: 82.8773\n"
     ]
    },
    {
     "name": "stderr",
     "output_type": "stream",
     "text": [
      "Val: 100%|███████████████████████████████████████████████████████████████████████████████| 4/4 [00:00<00:00,  4.63it/s]\n"
     ]
    },
    {
     "name": "stdout",
     "output_type": "stream",
     "text": [
      "Val Loss: 79.1525\n",
      "\n",
      "Epoch 18/200\n"
     ]
    },
    {
     "name": "stderr",
     "output_type": "stream",
     "text": [
      "Train: 100%|███████████████████████████████████████████████████████████████████████████| 31/31 [00:09<00:00,  3.37it/s]\n"
     ]
    },
    {
     "name": "stdout",
     "output_type": "stream",
     "text": [
      "Train Loss: 82.2539\n"
     ]
    },
    {
     "name": "stderr",
     "output_type": "stream",
     "text": [
      "Val: 100%|███████████████████████████████████████████████████████████████████████████████| 4/4 [00:00<00:00,  4.77it/s]\n"
     ]
    },
    {
     "name": "stdout",
     "output_type": "stream",
     "text": [
      "Val Loss: 77.7487\n",
      "\n",
      "Epoch 19/200\n"
     ]
    },
    {
     "name": "stderr",
     "output_type": "stream",
     "text": [
      "Train: 100%|███████████████████████████████████████████████████████████████████████████| 31/31 [00:09<00:00,  3.38it/s]\n"
     ]
    },
    {
     "name": "stdout",
     "output_type": "stream",
     "text": [
      "Train Loss: 82.8111\n"
     ]
    },
    {
     "name": "stderr",
     "output_type": "stream",
     "text": [
      "Val: 100%|███████████████████████████████████████████████████████████████████████████████| 4/4 [00:00<00:00,  4.71it/s]\n"
     ]
    },
    {
     "name": "stdout",
     "output_type": "stream",
     "text": [
      "Val Loss: 77.7705\n",
      "\n",
      "Epoch 20/200\n"
     ]
    },
    {
     "name": "stderr",
     "output_type": "stream",
     "text": [
      "Train: 100%|███████████████████████████████████████████████████████████████████████████| 31/31 [00:09<00:00,  3.39it/s]\n"
     ]
    },
    {
     "name": "stdout",
     "output_type": "stream",
     "text": [
      "Train Loss: 82.3562\n"
     ]
    },
    {
     "name": "stderr",
     "output_type": "stream",
     "text": [
      "Val: 100%|███████████████████████████████████████████████████████████████████████████████| 4/4 [00:00<00:00,  4.83it/s]\n"
     ]
    },
    {
     "name": "stdout",
     "output_type": "stream",
     "text": [
      "Val Loss: 77.8407\n",
      "\n",
      "Epoch 21/200\n"
     ]
    },
    {
     "name": "stderr",
     "output_type": "stream",
     "text": [
      "Train: 100%|███████████████████████████████████████████████████████████████████████████| 31/31 [00:09<00:00,  3.41it/s]\n"
     ]
    },
    {
     "name": "stdout",
     "output_type": "stream",
     "text": [
      "Train Loss: 82.2068\n"
     ]
    },
    {
     "name": "stderr",
     "output_type": "stream",
     "text": [
      "Val: 100%|███████████████████████████████████████████████████████████████████████████████| 4/4 [00:00<00:00,  4.61it/s]\n"
     ]
    },
    {
     "name": "stdout",
     "output_type": "stream",
     "text": [
      "Val Loss: 77.4166\n",
      "\n",
      "Epoch 22/200\n"
     ]
    },
    {
     "name": "stderr",
     "output_type": "stream",
     "text": [
      "Train: 100%|███████████████████████████████████████████████████████████████████████████| 31/31 [00:09<00:00,  3.36it/s]\n"
     ]
    },
    {
     "name": "stdout",
     "output_type": "stream",
     "text": [
      "Train Loss: 82.1386\n"
     ]
    },
    {
     "name": "stderr",
     "output_type": "stream",
     "text": [
      "Val: 100%|███████████████████████████████████████████████████████████████████████████████| 4/4 [00:00<00:00,  4.64it/s]\n"
     ]
    },
    {
     "name": "stdout",
     "output_type": "stream",
     "text": [
      "Val Loss: 77.7936\n",
      "\n",
      "Epoch 23/200\n"
     ]
    },
    {
     "name": "stderr",
     "output_type": "stream",
     "text": [
      "Train: 100%|███████████████████████████████████████████████████████████████████████████| 31/31 [00:09<00:00,  3.40it/s]\n"
     ]
    },
    {
     "name": "stdout",
     "output_type": "stream",
     "text": [
      "Train Loss: 81.8910\n"
     ]
    },
    {
     "name": "stderr",
     "output_type": "stream",
     "text": [
      "Val: 100%|███████████████████████████████████████████████████████████████████████████████| 4/4 [00:00<00:00,  4.71it/s]\n"
     ]
    },
    {
     "name": "stdout",
     "output_type": "stream",
     "text": [
      "Val Loss: 77.8778\n",
      "\n",
      "Epoch 24/200\n"
     ]
    },
    {
     "name": "stderr",
     "output_type": "stream",
     "text": [
      "Train: 100%|███████████████████████████████████████████████████████████████████████████| 31/31 [00:09<00:00,  3.39it/s]\n"
     ]
    },
    {
     "name": "stdout",
     "output_type": "stream",
     "text": [
      "Train Loss: 82.2050\n"
     ]
    },
    {
     "name": "stderr",
     "output_type": "stream",
     "text": [
      "Val: 100%|███████████████████████████████████████████████████████████████████████████████| 4/4 [00:00<00:00,  4.73it/s]\n"
     ]
    },
    {
     "name": "stdout",
     "output_type": "stream",
     "text": [
      "Val Loss: 78.2490\n",
      "\n",
      "Epoch 25/200\n"
     ]
    },
    {
     "name": "stderr",
     "output_type": "stream",
     "text": [
      "Train: 100%|███████████████████████████████████████████████████████████████████████████| 31/31 [00:09<00:00,  3.38it/s]\n"
     ]
    },
    {
     "name": "stdout",
     "output_type": "stream",
     "text": [
      "Train Loss: 81.8698\n"
     ]
    },
    {
     "name": "stderr",
     "output_type": "stream",
     "text": [
      "Val: 100%|███████████████████████████████████████████████████████████████████████████████| 4/4 [00:00<00:00,  4.61it/s]\n"
     ]
    },
    {
     "name": "stdout",
     "output_type": "stream",
     "text": [
      "Val Loss: 77.2194\n",
      "\n",
      "Epoch 26/200\n"
     ]
    },
    {
     "name": "stderr",
     "output_type": "stream",
     "text": [
      "Train: 100%|███████████████████████████████████████████████████████████████████████████| 31/31 [00:09<00:00,  3.37it/s]\n"
     ]
    },
    {
     "name": "stdout",
     "output_type": "stream",
     "text": [
      "Train Loss: 82.0507\n"
     ]
    },
    {
     "name": "stderr",
     "output_type": "stream",
     "text": [
      "Val: 100%|███████████████████████████████████████████████████████████████████████████████| 4/4 [00:00<00:00,  4.51it/s]\n"
     ]
    },
    {
     "name": "stdout",
     "output_type": "stream",
     "text": [
      "Val Loss: 76.9925\n",
      "\n",
      "Epoch 27/200\n"
     ]
    },
    {
     "name": "stderr",
     "output_type": "stream",
     "text": [
      "Train: 100%|███████████████████████████████████████████████████████████████████████████| 31/31 [00:08<00:00,  3.51it/s]\n"
     ]
    },
    {
     "name": "stdout",
     "output_type": "stream",
     "text": [
      "Train Loss: 81.4025\n"
     ]
    },
    {
     "name": "stderr",
     "output_type": "stream",
     "text": [
      "Val: 100%|███████████████████████████████████████████████████████████████████████████████| 4/4 [00:00<00:00,  4.65it/s]\n"
     ]
    },
    {
     "name": "stdout",
     "output_type": "stream",
     "text": [
      "Val Loss: 77.2863\n",
      "\n",
      "Epoch 28/200\n"
     ]
    },
    {
     "name": "stderr",
     "output_type": "stream",
     "text": [
      "Train: 100%|███████████████████████████████████████████████████████████████████████████| 31/31 [00:09<00:00,  3.39it/s]\n"
     ]
    },
    {
     "name": "stdout",
     "output_type": "stream",
     "text": [
      "Train Loss: 81.4281\n"
     ]
    },
    {
     "name": "stderr",
     "output_type": "stream",
     "text": [
      "Val: 100%|███████████████████████████████████████████████████████████████████████████████| 4/4 [00:00<00:00,  4.59it/s]\n"
     ]
    },
    {
     "name": "stdout",
     "output_type": "stream",
     "text": [
      "Val Loss: 77.1433\n",
      "\n",
      "Epoch 29/200\n"
     ]
    },
    {
     "name": "stderr",
     "output_type": "stream",
     "text": [
      "Train: 100%|███████████████████████████████████████████████████████████████████████████| 31/31 [00:08<00:00,  3.48it/s]\n"
     ]
    },
    {
     "name": "stdout",
     "output_type": "stream",
     "text": [
      "Train Loss: 81.1873\n"
     ]
    },
    {
     "name": "stderr",
     "output_type": "stream",
     "text": [
      "Val: 100%|███████████████████████████████████████████████████████████████████████████████| 4/4 [00:00<00:00,  4.60it/s]\n"
     ]
    },
    {
     "name": "stdout",
     "output_type": "stream",
     "text": [
      "Val Loss: 77.7469\n",
      "\n",
      "Epoch 30/200\n"
     ]
    },
    {
     "name": "stderr",
     "output_type": "stream",
     "text": [
      "Train: 100%|███████████████████████████████████████████████████████████████████████████| 31/31 [00:09<00:00,  3.38it/s]\n"
     ]
    },
    {
     "name": "stdout",
     "output_type": "stream",
     "text": [
      "Train Loss: 81.5686\n"
     ]
    },
    {
     "name": "stderr",
     "output_type": "stream",
     "text": [
      "Val: 100%|███████████████████████████████████████████████████████████████████████████████| 4/4 [00:00<00:00,  4.60it/s]\n"
     ]
    },
    {
     "name": "stdout",
     "output_type": "stream",
     "text": [
      "Val Loss: 77.9139\n",
      "\n",
      "Epoch 31/200\n"
     ]
    },
    {
     "name": "stderr",
     "output_type": "stream",
     "text": [
      "Train: 100%|███████████████████████████████████████████████████████████████████████████| 31/31 [00:08<00:00,  3.53it/s]\n"
     ]
    },
    {
     "name": "stdout",
     "output_type": "stream",
     "text": [
      "Train Loss: 81.5945\n"
     ]
    },
    {
     "name": "stderr",
     "output_type": "stream",
     "text": [
      "Val: 100%|███████████████████████████████████████████████████████████████████████████████| 4/4 [00:00<00:00,  4.53it/s]\n"
     ]
    },
    {
     "name": "stdout",
     "output_type": "stream",
     "text": [
      "Val Loss: 77.2445\n",
      "\n",
      "Epoch 32/200\n"
     ]
    },
    {
     "name": "stderr",
     "output_type": "stream",
     "text": [
      "Train: 100%|███████████████████████████████████████████████████████████████████████████| 31/31 [00:09<00:00,  3.38it/s]\n"
     ]
    },
    {
     "name": "stdout",
     "output_type": "stream",
     "text": [
      "Train Loss: 81.7374\n"
     ]
    },
    {
     "name": "stderr",
     "output_type": "stream",
     "text": [
      "Val: 100%|███████████████████████████████████████████████████████████████████████████████| 4/4 [00:00<00:00,  4.67it/s]\n"
     ]
    },
    {
     "name": "stdout",
     "output_type": "stream",
     "text": [
      "Val Loss: 77.3387\n",
      "\n",
      "Epoch 33/200\n"
     ]
    },
    {
     "name": "stderr",
     "output_type": "stream",
     "text": [
      "Train: 100%|███████████████████████████████████████████████████████████████████████████| 31/31 [00:09<00:00,  3.39it/s]\n"
     ]
    },
    {
     "name": "stdout",
     "output_type": "stream",
     "text": [
      "Train Loss: 81.2063\n"
     ]
    },
    {
     "name": "stderr",
     "output_type": "stream",
     "text": [
      "Val: 100%|███████████████████████████████████████████████████████████████████████████████| 4/4 [00:00<00:00,  4.46it/s]\n"
     ]
    },
    {
     "name": "stdout",
     "output_type": "stream",
     "text": [
      "Val Loss: 76.9269\n",
      "\n",
      "Epoch 34/200\n"
     ]
    },
    {
     "name": "stderr",
     "output_type": "stream",
     "text": [
      "Train: 100%|███████████████████████████████████████████████████████████████████████████| 31/31 [00:09<00:00,  3.38it/s]\n"
     ]
    },
    {
     "name": "stdout",
     "output_type": "stream",
     "text": [
      "Train Loss: 80.9118\n"
     ]
    },
    {
     "name": "stderr",
     "output_type": "stream",
     "text": [
      "Val: 100%|███████████████████████████████████████████████████████████████████████████████| 4/4 [00:00<00:00,  4.61it/s]\n"
     ]
    },
    {
     "name": "stdout",
     "output_type": "stream",
     "text": [
      "Val Loss: 76.9079\n",
      "\n",
      "Epoch 35/200\n"
     ]
    },
    {
     "name": "stderr",
     "output_type": "stream",
     "text": [
      "Train: 100%|███████████████████████████████████████████████████████████████████████████| 31/31 [00:09<00:00,  3.37it/s]\n"
     ]
    },
    {
     "name": "stdout",
     "output_type": "stream",
     "text": [
      "Train Loss: 81.3331\n"
     ]
    },
    {
     "name": "stderr",
     "output_type": "stream",
     "text": [
      "Val: 100%|███████████████████████████████████████████████████████████████████████████████| 4/4 [00:00<00:00,  4.74it/s]\n"
     ]
    },
    {
     "name": "stdout",
     "output_type": "stream",
     "text": [
      "Val Loss: 77.1483\n",
      "\n",
      "Epoch 36/200\n"
     ]
    },
    {
     "name": "stderr",
     "output_type": "stream",
     "text": [
      "Train: 100%|███████████████████████████████████████████████████████████████████████████| 31/31 [00:09<00:00,  3.40it/s]\n"
     ]
    },
    {
     "name": "stdout",
     "output_type": "stream",
     "text": [
      "Train Loss: 81.1797\n"
     ]
    },
    {
     "name": "stderr",
     "output_type": "stream",
     "text": [
      "Val: 100%|███████████████████████████████████████████████████████████████████████████████| 4/4 [00:00<00:00,  4.69it/s]\n"
     ]
    },
    {
     "name": "stdout",
     "output_type": "stream",
     "text": [
      "Val Loss: 77.4632\n",
      "\n",
      "Epoch 37/200\n"
     ]
    },
    {
     "name": "stderr",
     "output_type": "stream",
     "text": [
      "Train: 100%|███████████████████████████████████████████████████████████████████████████| 31/31 [00:09<00:00,  3.38it/s]\n"
     ]
    },
    {
     "name": "stdout",
     "output_type": "stream",
     "text": [
      "Train Loss: 80.9915\n"
     ]
    },
    {
     "name": "stderr",
     "output_type": "stream",
     "text": [
      "Val: 100%|███████████████████████████████████████████████████████████████████████████████| 4/4 [00:00<00:00,  4.59it/s]\n"
     ]
    },
    {
     "name": "stdout",
     "output_type": "stream",
     "text": [
      "Val Loss: 77.4043\n",
      "\n",
      "Epoch 38/200\n"
     ]
    },
    {
     "name": "stderr",
     "output_type": "stream",
     "text": [
      "Train: 100%|███████████████████████████████████████████████████████████████████████████| 31/31 [00:09<00:00,  3.32it/s]\n"
     ]
    },
    {
     "name": "stdout",
     "output_type": "stream",
     "text": [
      "Train Loss: 80.9545\n"
     ]
    },
    {
     "name": "stderr",
     "output_type": "stream",
     "text": [
      "Val: 100%|███████████████████████████████████████████████████████████████████████████████| 4/4 [00:00<00:00,  4.60it/s]\n"
     ]
    },
    {
     "name": "stdout",
     "output_type": "stream",
     "text": [
      "Val Loss: 77.2099\n",
      "\n",
      "Epoch 39/200\n"
     ]
    },
    {
     "name": "stderr",
     "output_type": "stream",
     "text": [
      "Train: 100%|███████████████████████████████████████████████████████████████████████████| 31/31 [00:09<00:00,  3.37it/s]\n"
     ]
    },
    {
     "name": "stdout",
     "output_type": "stream",
     "text": [
      "Train Loss: 81.2855\n"
     ]
    },
    {
     "name": "stderr",
     "output_type": "stream",
     "text": [
      "Val: 100%|███████████████████████████████████████████████████████████████████████████████| 4/4 [00:00<00:00,  4.60it/s]\n"
     ]
    },
    {
     "name": "stdout",
     "output_type": "stream",
     "text": [
      "Val Loss: 77.6061\n",
      "\n",
      "Epoch 40/200\n"
     ]
    },
    {
     "name": "stderr",
     "output_type": "stream",
     "text": [
      "Train: 100%|███████████████████████████████████████████████████████████████████████████| 31/31 [00:09<00:00,  3.37it/s]\n"
     ]
    },
    {
     "name": "stdout",
     "output_type": "stream",
     "text": [
      "Train Loss: 81.0134\n"
     ]
    },
    {
     "name": "stderr",
     "output_type": "stream",
     "text": [
      "Val: 100%|███████████████████████████████████████████████████████████████████████████████| 4/4 [00:00<00:00,  4.74it/s]\n"
     ]
    },
    {
     "name": "stdout",
     "output_type": "stream",
     "text": [
      "Val Loss: 77.5361\n",
      "\n",
      "Epoch 41/200\n"
     ]
    },
    {
     "name": "stderr",
     "output_type": "stream",
     "text": [
      "Train: 100%|███████████████████████████████████████████████████████████████████████████| 31/31 [00:09<00:00,  3.42it/s]\n"
     ]
    },
    {
     "name": "stdout",
     "output_type": "stream",
     "text": [
      "Train Loss: 80.8115\n"
     ]
    },
    {
     "name": "stderr",
     "output_type": "stream",
     "text": [
      "Val: 100%|███████████████████████████████████████████████████████████████████████████████| 4/4 [00:00<00:00,  4.63it/s]\n"
     ]
    },
    {
     "name": "stdout",
     "output_type": "stream",
     "text": [
      "Val Loss: 78.3251\n",
      "\n",
      "Epoch 42/200\n"
     ]
    },
    {
     "name": "stderr",
     "output_type": "stream",
     "text": [
      "Train: 100%|███████████████████████████████████████████████████████████████████████████| 31/31 [00:09<00:00,  3.42it/s]\n"
     ]
    },
    {
     "name": "stdout",
     "output_type": "stream",
     "text": [
      "Train Loss: 80.3222\n"
     ]
    },
    {
     "name": "stderr",
     "output_type": "stream",
     "text": [
      "Val: 100%|███████████████████████████████████████████████████████████████████████████████| 4/4 [00:00<00:00,  4.53it/s]\n"
     ]
    },
    {
     "name": "stdout",
     "output_type": "stream",
     "text": [
      "Val Loss: 77.3668\n",
      "\n",
      "Epoch 43/200\n"
     ]
    },
    {
     "name": "stderr",
     "output_type": "stream",
     "text": [
      "Train: 100%|███████████████████████████████████████████████████████████████████████████| 31/31 [00:09<00:00,  3.35it/s]\n"
     ]
    },
    {
     "name": "stdout",
     "output_type": "stream",
     "text": [
      "Train Loss: 81.0862\n"
     ]
    },
    {
     "name": "stderr",
     "output_type": "stream",
     "text": [
      "Val: 100%|███████████████████████████████████████████████████████████████████████████████| 4/4 [00:00<00:00,  4.65it/s]\n"
     ]
    },
    {
     "name": "stdout",
     "output_type": "stream",
     "text": [
      "Val Loss: 77.0981\n",
      "\n",
      "Epoch 44/200\n"
     ]
    },
    {
     "name": "stderr",
     "output_type": "stream",
     "text": [
      "Train: 100%|███████████████████████████████████████████████████████████████████████████| 31/31 [00:09<00:00,  3.41it/s]\n"
     ]
    },
    {
     "name": "stdout",
     "output_type": "stream",
     "text": [
      "Train Loss: 80.8111\n"
     ]
    },
    {
     "name": "stderr",
     "output_type": "stream",
     "text": [
      "Val: 100%|███████████████████████████████████████████████████████████████████████████████| 4/4 [00:00<00:00,  4.61it/s]\n"
     ]
    },
    {
     "name": "stdout",
     "output_type": "stream",
     "text": [
      "Val Loss: 77.2259\n",
      "\n",
      "Epoch 45/200\n"
     ]
    },
    {
     "name": "stderr",
     "output_type": "stream",
     "text": [
      "Train: 100%|███████████████████████████████████████████████████████████████████████████| 31/31 [00:09<00:00,  3.38it/s]\n"
     ]
    },
    {
     "name": "stdout",
     "output_type": "stream",
     "text": [
      "Train Loss: 80.9899\n"
     ]
    },
    {
     "name": "stderr",
     "output_type": "stream",
     "text": [
      "Val: 100%|███████████████████████████████████████████████████████████████████████████████| 4/4 [00:00<00:00,  4.70it/s]\n"
     ]
    },
    {
     "name": "stdout",
     "output_type": "stream",
     "text": [
      "Val Loss: 76.6989\n",
      "\n",
      "Epoch 46/200\n"
     ]
    },
    {
     "name": "stderr",
     "output_type": "stream",
     "text": [
      "Train: 100%|███████████████████████████████████████████████████████████████████████████| 31/31 [00:08<00:00,  3.53it/s]\n"
     ]
    },
    {
     "name": "stdout",
     "output_type": "stream",
     "text": [
      "Train Loss: 80.7224\n"
     ]
    },
    {
     "name": "stderr",
     "output_type": "stream",
     "text": [
      "Val: 100%|███████████████████████████████████████████████████████████████████████████████| 4/4 [00:00<00:00,  4.67it/s]\n"
     ]
    },
    {
     "name": "stdout",
     "output_type": "stream",
     "text": [
      "Val Loss: 77.8685\n",
      "\n",
      "Epoch 47/200\n"
     ]
    },
    {
     "name": "stderr",
     "output_type": "stream",
     "text": [
      "Train: 100%|███████████████████████████████████████████████████████████████████████████| 31/31 [00:09<00:00,  3.35it/s]\n"
     ]
    },
    {
     "name": "stdout",
     "output_type": "stream",
     "text": [
      "Train Loss: 80.5426\n"
     ]
    },
    {
     "name": "stderr",
     "output_type": "stream",
     "text": [
      "Val: 100%|███████████████████████████████████████████████████████████████████████████████| 4/4 [00:00<00:00,  4.61it/s]\n"
     ]
    },
    {
     "name": "stdout",
     "output_type": "stream",
     "text": [
      "Val Loss: 77.1607\n",
      "\n",
      "Epoch 48/200\n"
     ]
    },
    {
     "name": "stderr",
     "output_type": "stream",
     "text": [
      "Train: 100%|███████████████████████████████████████████████████████████████████████████| 31/31 [00:09<00:00,  3.43it/s]\n"
     ]
    },
    {
     "name": "stdout",
     "output_type": "stream",
     "text": [
      "Train Loss: 80.4953\n"
     ]
    },
    {
     "name": "stderr",
     "output_type": "stream",
     "text": [
      "Val: 100%|███████████████████████████████████████████████████████████████████████████████| 4/4 [00:00<00:00,  4.55it/s]\n"
     ]
    },
    {
     "name": "stdout",
     "output_type": "stream",
     "text": [
      "Val Loss: 77.8980\n",
      "\n",
      "Epoch 49/200\n"
     ]
    },
    {
     "name": "stderr",
     "output_type": "stream",
     "text": [
      "Train: 100%|███████████████████████████████████████████████████████████████████████████| 31/31 [00:08<00:00,  3.51it/s]\n"
     ]
    },
    {
     "name": "stdout",
     "output_type": "stream",
     "text": [
      "Train Loss: 80.5453\n"
     ]
    },
    {
     "name": "stderr",
     "output_type": "stream",
     "text": [
      "Val: 100%|███████████████████████████████████████████████████████████████████████████████| 4/4 [00:00<00:00,  4.69it/s]\n"
     ]
    },
    {
     "name": "stdout",
     "output_type": "stream",
     "text": [
      "Val Loss: 77.0817\n",
      "\n",
      "Epoch 50/200\n"
     ]
    },
    {
     "name": "stderr",
     "output_type": "stream",
     "text": [
      "Train: 100%|███████████████████████████████████████████████████████████████████████████| 31/31 [00:09<00:00,  3.38it/s]\n"
     ]
    },
    {
     "name": "stdout",
     "output_type": "stream",
     "text": [
      "Train Loss: 80.5476\n"
     ]
    },
    {
     "name": "stderr",
     "output_type": "stream",
     "text": [
      "Val: 100%|███████████████████████████████████████████████████████████████████████████████| 4/4 [00:00<00:00,  4.65it/s]\n"
     ]
    },
    {
     "name": "stdout",
     "output_type": "stream",
     "text": [
      "Val Loss: 78.5921\n",
      "\n",
      "Epoch 51/200\n"
     ]
    },
    {
     "name": "stderr",
     "output_type": "stream",
     "text": [
      "Train: 100%|███████████████████████████████████████████████████████████████████████████| 31/31 [00:09<00:00,  3.40it/s]\n"
     ]
    },
    {
     "name": "stdout",
     "output_type": "stream",
     "text": [
      "Train Loss: 80.5332\n"
     ]
    },
    {
     "name": "stderr",
     "output_type": "stream",
     "text": [
      "Val: 100%|███████████████████████████████████████████████████████████████████████████████| 4/4 [00:00<00:00,  4.58it/s]\n"
     ]
    },
    {
     "name": "stdout",
     "output_type": "stream",
     "text": [
      "Val Loss: 76.8483\n",
      "\n",
      "Epoch 52/200\n"
     ]
    },
    {
     "name": "stderr",
     "output_type": "stream",
     "text": [
      "Train: 100%|███████████████████████████████████████████████████████████████████████████| 31/31 [00:09<00:00,  3.40it/s]\n"
     ]
    },
    {
     "name": "stdout",
     "output_type": "stream",
     "text": [
      "Train Loss: 80.4418\n"
     ]
    },
    {
     "name": "stderr",
     "output_type": "stream",
     "text": [
      "Val: 100%|███████████████████████████████████████████████████████████████████████████████| 4/4 [00:00<00:00,  4.68it/s]\n"
     ]
    },
    {
     "name": "stdout",
     "output_type": "stream",
     "text": [
      "Val Loss: 77.1260\n",
      "\n",
      "Epoch 53/200\n"
     ]
    },
    {
     "name": "stderr",
     "output_type": "stream",
     "text": [
      "Train: 100%|███████████████████████████████████████████████████████████████████████████| 31/31 [00:09<00:00,  3.37it/s]\n"
     ]
    },
    {
     "name": "stdout",
     "output_type": "stream",
     "text": [
      "Train Loss: 80.2438\n"
     ]
    },
    {
     "name": "stderr",
     "output_type": "stream",
     "text": [
      "Val: 100%|███████████████████████████████████████████████████████████████████████████████| 4/4 [00:00<00:00,  4.59it/s]\n"
     ]
    },
    {
     "name": "stdout",
     "output_type": "stream",
     "text": [
      "Val Loss: 77.2166\n",
      "\n",
      "Epoch 54/200\n"
     ]
    },
    {
     "name": "stderr",
     "output_type": "stream",
     "text": [
      "Train: 100%|███████████████████████████████████████████████████████████████████████████| 31/31 [00:08<00:00,  3.51it/s]\n"
     ]
    },
    {
     "name": "stdout",
     "output_type": "stream",
     "text": [
      "Train Loss: 80.4614\n"
     ]
    },
    {
     "name": "stderr",
     "output_type": "stream",
     "text": [
      "Val: 100%|███████████████████████████████████████████████████████████████████████████████| 4/4 [00:00<00:00,  4.61it/s]\n"
     ]
    },
    {
     "name": "stdout",
     "output_type": "stream",
     "text": [
      "Val Loss: 76.9697\n",
      "\n",
      "Epoch 55/200\n"
     ]
    },
    {
     "name": "stderr",
     "output_type": "stream",
     "text": [
      "Train: 100%|███████████████████████████████████████████████████████████████████████████| 31/31 [00:09<00:00,  3.35it/s]\n"
     ]
    },
    {
     "name": "stdout",
     "output_type": "stream",
     "text": [
      "Train Loss: 80.6415\n"
     ]
    },
    {
     "name": "stderr",
     "output_type": "stream",
     "text": [
      "Val: 100%|███████████████████████████████████████████████████████████████████████████████| 4/4 [00:00<00:00,  4.52it/s]\n"
     ]
    },
    {
     "name": "stdout",
     "output_type": "stream",
     "text": [
      "Val Loss: 77.1899\n",
      "\n",
      "Epoch 56/200\n"
     ]
    },
    {
     "name": "stderr",
     "output_type": "stream",
     "text": [
      "Train: 100%|███████████████████████████████████████████████████████████████████████████| 31/31 [00:09<00:00,  3.38it/s]\n"
     ]
    },
    {
     "name": "stdout",
     "output_type": "stream",
     "text": [
      "Train Loss: 80.5009\n"
     ]
    },
    {
     "name": "stderr",
     "output_type": "stream",
     "text": [
      "Val: 100%|███████████████████████████████████████████████████████████████████████████████| 4/4 [00:00<00:00,  4.73it/s]\n"
     ]
    },
    {
     "name": "stdout",
     "output_type": "stream",
     "text": [
      "Val Loss: 77.1216\n",
      "\n",
      "Epoch 57/200\n"
     ]
    },
    {
     "name": "stderr",
     "output_type": "stream",
     "text": [
      "Train: 100%|███████████████████████████████████████████████████████████████████████████| 31/31 [00:09<00:00,  3.40it/s]\n"
     ]
    },
    {
     "name": "stdout",
     "output_type": "stream",
     "text": [
      "Train Loss: 80.5537\n"
     ]
    },
    {
     "name": "stderr",
     "output_type": "stream",
     "text": [
      "Val: 100%|███████████████████████████████████████████████████████████████████████████████| 4/4 [00:00<00:00,  4.72it/s]\n"
     ]
    },
    {
     "name": "stdout",
     "output_type": "stream",
     "text": [
      "Val Loss: 77.4329\n",
      "\n",
      "Epoch 58/200\n"
     ]
    },
    {
     "name": "stderr",
     "output_type": "stream",
     "text": [
      "Train: 100%|███████████████████████████████████████████████████████████████████████████| 31/31 [00:09<00:00,  3.39it/s]\n"
     ]
    },
    {
     "name": "stdout",
     "output_type": "stream",
     "text": [
      "Train Loss: 80.3490\n"
     ]
    },
    {
     "name": "stderr",
     "output_type": "stream",
     "text": [
      "Val: 100%|███████████████████████████████████████████████████████████████████████████████| 4/4 [00:00<00:00,  4.78it/s]\n"
     ]
    },
    {
     "name": "stdout",
     "output_type": "stream",
     "text": [
      "Val Loss: 77.1214\n",
      "\n",
      "Epoch 59/200\n"
     ]
    },
    {
     "name": "stderr",
     "output_type": "stream",
     "text": [
      "Train: 100%|███████████████████████████████████████████████████████████████████████████| 31/31 [00:09<00:00,  3.38it/s]\n"
     ]
    },
    {
     "name": "stdout",
     "output_type": "stream",
     "text": [
      "Train Loss: 80.4117\n"
     ]
    },
    {
     "name": "stderr",
     "output_type": "stream",
     "text": [
      "Val: 100%|███████████████████████████████████████████████████████████████████████████████| 4/4 [00:00<00:00,  4.67it/s]\n"
     ]
    },
    {
     "name": "stdout",
     "output_type": "stream",
     "text": [
      "Val Loss: 77.0179\n",
      "\n",
      "Epoch 60/200\n"
     ]
    },
    {
     "name": "stderr",
     "output_type": "stream",
     "text": [
      "Train: 100%|███████████████████████████████████████████████████████████████████████████| 31/31 [00:09<00:00,  3.42it/s]\n"
     ]
    },
    {
     "name": "stdout",
     "output_type": "stream",
     "text": [
      "Train Loss: 79.7154\n"
     ]
    },
    {
     "name": "stderr",
     "output_type": "stream",
     "text": [
      "Val: 100%|███████████████████████████████████████████████████████████████████████████████| 4/4 [00:00<00:00,  4.69it/s]\n"
     ]
    },
    {
     "name": "stdout",
     "output_type": "stream",
     "text": [
      "Val Loss: 77.5599\n",
      "\n",
      "Epoch 61/200\n"
     ]
    },
    {
     "name": "stderr",
     "output_type": "stream",
     "text": [
      "Train: 100%|███████████████████████████████████████████████████████████████████████████| 31/31 [00:09<00:00,  3.35it/s]\n"
     ]
    },
    {
     "name": "stdout",
     "output_type": "stream",
     "text": [
      "Train Loss: 79.9558\n"
     ]
    },
    {
     "name": "stderr",
     "output_type": "stream",
     "text": [
      "Val: 100%|███████████████████████████████████████████████████████████████████████████████| 4/4 [00:00<00:00,  4.60it/s]\n"
     ]
    },
    {
     "name": "stdout",
     "output_type": "stream",
     "text": [
      "Val Loss: 76.5804\n",
      "\n",
      "Epoch 62/200\n"
     ]
    },
    {
     "name": "stderr",
     "output_type": "stream",
     "text": [
      "Train: 100%|███████████████████████████████████████████████████████████████████████████| 31/31 [00:09<00:00,  3.37it/s]\n"
     ]
    },
    {
     "name": "stdout",
     "output_type": "stream",
     "text": [
      "Train Loss: 80.2604\n"
     ]
    },
    {
     "name": "stderr",
     "output_type": "stream",
     "text": [
      "Val: 100%|███████████████████████████████████████████████████████████████████████████████| 4/4 [00:00<00:00,  4.51it/s]\n"
     ]
    },
    {
     "name": "stdout",
     "output_type": "stream",
     "text": [
      "Val Loss: 77.5175\n",
      "\n",
      "Epoch 63/200\n"
     ]
    },
    {
     "name": "stderr",
     "output_type": "stream",
     "text": [
      "Train: 100%|███████████████████████████████████████████████████████████████████████████| 31/31 [00:08<00:00,  3.51it/s]\n"
     ]
    },
    {
     "name": "stdout",
     "output_type": "stream",
     "text": [
      "Train Loss: 80.2039\n"
     ]
    },
    {
     "name": "stderr",
     "output_type": "stream",
     "text": [
      "Val: 100%|███████████████████████████████████████████████████████████████████████████████| 4/4 [00:00<00:00,  4.63it/s]\n"
     ]
    },
    {
     "name": "stdout",
     "output_type": "stream",
     "text": [
      "Val Loss: 76.0467\n",
      "\n",
      "Epoch 64/200\n"
     ]
    },
    {
     "name": "stderr",
     "output_type": "stream",
     "text": [
      "Train: 100%|███████████████████████████████████████████████████████████████████████████| 31/31 [00:09<00:00,  3.39it/s]\n"
     ]
    },
    {
     "name": "stdout",
     "output_type": "stream",
     "text": [
      "Train Loss: 79.9893\n"
     ]
    },
    {
     "name": "stderr",
     "output_type": "stream",
     "text": [
      "Val: 100%|███████████████████████████████████████████████████████████████████████████████| 4/4 [00:00<00:00,  4.59it/s]\n"
     ]
    },
    {
     "name": "stdout",
     "output_type": "stream",
     "text": [
      "Val Loss: 77.7703\n",
      "\n",
      "Epoch 65/200\n"
     ]
    },
    {
     "name": "stderr",
     "output_type": "stream",
     "text": [
      "Train: 100%|███████████████████████████████████████████████████████████████████████████| 31/31 [00:08<00:00,  3.54it/s]\n"
     ]
    },
    {
     "name": "stdout",
     "output_type": "stream",
     "text": [
      "Train Loss: 80.5632\n"
     ]
    },
    {
     "name": "stderr",
     "output_type": "stream",
     "text": [
      "Val: 100%|███████████████████████████████████████████████████████████████████████████████| 4/4 [00:00<00:00,  4.66it/s]\n"
     ]
    },
    {
     "name": "stdout",
     "output_type": "stream",
     "text": [
      "Val Loss: 76.6208\n",
      "\n",
      "Epoch 66/200\n"
     ]
    },
    {
     "name": "stderr",
     "output_type": "stream",
     "text": [
      "Train: 100%|███████████████████████████████████████████████████████████████████████████| 31/31 [00:08<00:00,  3.53it/s]\n"
     ]
    },
    {
     "name": "stdout",
     "output_type": "stream",
     "text": [
      "Train Loss: 79.6849\n"
     ]
    },
    {
     "name": "stderr",
     "output_type": "stream",
     "text": [
      "Val: 100%|███████████████████████████████████████████████████████████████████████████████| 4/4 [00:00<00:00,  4.52it/s]\n"
     ]
    },
    {
     "name": "stdout",
     "output_type": "stream",
     "text": [
      "Val Loss: 78.0634\n",
      "\n",
      "Epoch 67/200\n"
     ]
    },
    {
     "name": "stderr",
     "output_type": "stream",
     "text": [
      "Train: 100%|███████████████████████████████████████████████████████████████████████████| 31/31 [00:09<00:00,  3.39it/s]\n"
     ]
    },
    {
     "name": "stdout",
     "output_type": "stream",
     "text": [
      "Train Loss: 80.3368\n"
     ]
    },
    {
     "name": "stderr",
     "output_type": "stream",
     "text": [
      "Val: 100%|███████████████████████████████████████████████████████████████████████████████| 4/4 [00:00<00:00,  4.75it/s]\n"
     ]
    },
    {
     "name": "stdout",
     "output_type": "stream",
     "text": [
      "Val Loss: 77.4142\n",
      "\n",
      "Epoch 68/200\n"
     ]
    },
    {
     "name": "stderr",
     "output_type": "stream",
     "text": [
      "Train: 100%|███████████████████████████████████████████████████████████████████████████| 31/31 [00:09<00:00,  3.38it/s]\n"
     ]
    },
    {
     "name": "stdout",
     "output_type": "stream",
     "text": [
      "Train Loss: 79.7756\n"
     ]
    },
    {
     "name": "stderr",
     "output_type": "stream",
     "text": [
      "Val: 100%|███████████████████████████████████████████████████████████████████████████████| 4/4 [00:00<00:00,  4.74it/s]\n"
     ]
    },
    {
     "name": "stdout",
     "output_type": "stream",
     "text": [
      "Val Loss: 76.0535\n",
      "\n",
      "Epoch 69/200\n"
     ]
    },
    {
     "name": "stderr",
     "output_type": "stream",
     "text": [
      "Train: 100%|███████████████████████████████████████████████████████████████████████████| 31/31 [00:08<00:00,  3.53it/s]\n"
     ]
    },
    {
     "name": "stdout",
     "output_type": "stream",
     "text": [
      "Train Loss: 80.4699\n"
     ]
    },
    {
     "name": "stderr",
     "output_type": "stream",
     "text": [
      "Val: 100%|███████████████████████████████████████████████████████████████████████████████| 4/4 [00:00<00:00,  4.63it/s]\n"
     ]
    },
    {
     "name": "stdout",
     "output_type": "stream",
     "text": [
      "Val Loss: 77.4673\n",
      "\n",
      "Epoch 70/200\n"
     ]
    },
    {
     "name": "stderr",
     "output_type": "stream",
     "text": [
      "Train: 100%|███████████████████████████████████████████████████████████████████████████| 31/31 [00:09<00:00,  3.35it/s]\n"
     ]
    },
    {
     "name": "stdout",
     "output_type": "stream",
     "text": [
      "Train Loss: 80.1740\n"
     ]
    },
    {
     "name": "stderr",
     "output_type": "stream",
     "text": [
      "Val: 100%|███████████████████████████████████████████████████████████████████████████████| 4/4 [00:00<00:00,  4.58it/s]\n"
     ]
    },
    {
     "name": "stdout",
     "output_type": "stream",
     "text": [
      "Val Loss: 76.3586\n",
      "\n",
      "Epoch 71/200\n"
     ]
    },
    {
     "name": "stderr",
     "output_type": "stream",
     "text": [
      "Train: 100%|███████████████████████████████████████████████████████████████████████████| 31/31 [00:08<00:00,  3.50it/s]\n"
     ]
    },
    {
     "name": "stdout",
     "output_type": "stream",
     "text": [
      "Train Loss: 79.2572\n"
     ]
    },
    {
     "name": "stderr",
     "output_type": "stream",
     "text": [
      "Val: 100%|███████████████████████████████████████████████████████████████████████████████| 4/4 [00:00<00:00,  4.56it/s]\n"
     ]
    },
    {
     "name": "stdout",
     "output_type": "stream",
     "text": [
      "Val Loss: 75.7029\n",
      "\n",
      "Epoch 72/200\n"
     ]
    },
    {
     "name": "stderr",
     "output_type": "stream",
     "text": [
      "Train: 100%|███████████████████████████████████████████████████████████████████████████| 31/31 [00:09<00:00,  3.38it/s]\n"
     ]
    },
    {
     "name": "stdout",
     "output_type": "stream",
     "text": [
      "Train Loss: 79.2397\n"
     ]
    },
    {
     "name": "stderr",
     "output_type": "stream",
     "text": [
      "Val: 100%|███████████████████████████████████████████████████████████████████████████████| 4/4 [00:00<00:00,  4.74it/s]\n"
     ]
    },
    {
     "name": "stdout",
     "output_type": "stream",
     "text": [
      "Val Loss: 75.8279\n",
      "\n",
      "Epoch 73/200\n"
     ]
    },
    {
     "name": "stderr",
     "output_type": "stream",
     "text": [
      "Train: 100%|███████████████████████████████████████████████████████████████████████████| 31/31 [00:09<00:00,  3.40it/s]\n"
     ]
    },
    {
     "name": "stdout",
     "output_type": "stream",
     "text": [
      "Train Loss: 78.6918\n"
     ]
    },
    {
     "name": "stderr",
     "output_type": "stream",
     "text": [
      "Val: 100%|███████████████████████████████████████████████████████████████████████████████| 4/4 [00:00<00:00,  4.35it/s]\n"
     ]
    },
    {
     "name": "stdout",
     "output_type": "stream",
     "text": [
      "Val Loss: 77.4892\n",
      "\n",
      "Epoch 74/200\n"
     ]
    },
    {
     "name": "stderr",
     "output_type": "stream",
     "text": [
      "Train: 100%|███████████████████████████████████████████████████████████████████████████| 31/31 [00:09<00:00,  3.36it/s]\n"
     ]
    },
    {
     "name": "stdout",
     "output_type": "stream",
     "text": [
      "Train Loss: 79.6739\n"
     ]
    },
    {
     "name": "stderr",
     "output_type": "stream",
     "text": [
      "Val: 100%|███████████████████████████████████████████████████████████████████████████████| 4/4 [00:00<00:00,  4.56it/s]\n"
     ]
    },
    {
     "name": "stdout",
     "output_type": "stream",
     "text": [
      "Val Loss: 75.7252\n",
      "\n",
      "Epoch 75/200\n"
     ]
    },
    {
     "name": "stderr",
     "output_type": "stream",
     "text": [
      "Train: 100%|███████████████████████████████████████████████████████████████████████████| 31/31 [00:09<00:00,  3.34it/s]\n"
     ]
    },
    {
     "name": "stdout",
     "output_type": "stream",
     "text": [
      "Train Loss: 79.1570\n"
     ]
    },
    {
     "name": "stderr",
     "output_type": "stream",
     "text": [
      "Val: 100%|███████████████████████████████████████████████████████████████████████████████| 4/4 [00:00<00:00,  4.44it/s]\n"
     ]
    },
    {
     "name": "stdout",
     "output_type": "stream",
     "text": [
      "Val Loss: 76.0069\n",
      "\n",
      "Epoch 76/200\n"
     ]
    },
    {
     "name": "stderr",
     "output_type": "stream",
     "text": [
      "Train: 100%|███████████████████████████████████████████████████████████████████████████| 31/31 [00:08<00:00,  3.49it/s]\n"
     ]
    },
    {
     "name": "stdout",
     "output_type": "stream",
     "text": [
      "Train Loss: 79.0223\n"
     ]
    },
    {
     "name": "stderr",
     "output_type": "stream",
     "text": [
      "Val: 100%|███████████████████████████████████████████████████████████████████████████████| 4/4 [00:00<00:00,  4.64it/s]\n"
     ]
    },
    {
     "name": "stdout",
     "output_type": "stream",
     "text": [
      "Val Loss: 75.7895\n",
      "\n",
      "Epoch 77/200\n"
     ]
    },
    {
     "name": "stderr",
     "output_type": "stream",
     "text": [
      "Train: 100%|███████████████████████████████████████████████████████████████████████████| 31/31 [00:09<00:00,  3.34it/s]\n"
     ]
    },
    {
     "name": "stdout",
     "output_type": "stream",
     "text": [
      "Train Loss: 78.7867\n"
     ]
    },
    {
     "name": "stderr",
     "output_type": "stream",
     "text": [
      "Val: 100%|███████████████████████████████████████████████████████████████████████████████| 4/4 [00:00<00:00,  4.61it/s]\n"
     ]
    },
    {
     "name": "stdout",
     "output_type": "stream",
     "text": [
      "Val Loss: 75.3650\n",
      "\n",
      "Epoch 78/200\n"
     ]
    },
    {
     "name": "stderr",
     "output_type": "stream",
     "text": [
      "Train: 100%|███████████████████████████████████████████████████████████████████████████| 31/31 [00:09<00:00,  3.38it/s]\n"
     ]
    },
    {
     "name": "stdout",
     "output_type": "stream",
     "text": [
      "Train Loss: 77.9677\n"
     ]
    },
    {
     "name": "stderr",
     "output_type": "stream",
     "text": [
      "Val: 100%|███████████████████████████████████████████████████████████████████████████████| 4/4 [00:00<00:00,  4.55it/s]\n"
     ]
    },
    {
     "name": "stdout",
     "output_type": "stream",
     "text": [
      "Val Loss: 75.4254\n",
      "\n",
      "Epoch 79/200\n"
     ]
    },
    {
     "name": "stderr",
     "output_type": "stream",
     "text": [
      "Train: 100%|███████████████████████████████████████████████████████████████████████████| 31/31 [00:08<00:00,  3.52it/s]\n"
     ]
    },
    {
     "name": "stdout",
     "output_type": "stream",
     "text": [
      "Train Loss: 78.6971\n"
     ]
    },
    {
     "name": "stderr",
     "output_type": "stream",
     "text": [
      "Val: 100%|███████████████████████████████████████████████████████████████████████████████| 4/4 [00:00<00:00,  4.71it/s]\n"
     ]
    },
    {
     "name": "stdout",
     "output_type": "stream",
     "text": [
      "Val Loss: 75.1394\n",
      "\n",
      "Epoch 80/200\n"
     ]
    },
    {
     "name": "stderr",
     "output_type": "stream",
     "text": [
      "Train: 100%|███████████████████████████████████████████████████████████████████████████| 31/31 [00:09<00:00,  3.41it/s]\n"
     ]
    },
    {
     "name": "stdout",
     "output_type": "stream",
     "text": [
      "Train Loss: 77.9467\n"
     ]
    },
    {
     "name": "stderr",
     "output_type": "stream",
     "text": [
      "Val: 100%|███████████████████████████████████████████████████████████████████████████████| 4/4 [00:00<00:00,  4.65it/s]\n"
     ]
    },
    {
     "name": "stdout",
     "output_type": "stream",
     "text": [
      "Val Loss: 74.8923\n",
      "\n",
      "Epoch 81/200\n"
     ]
    },
    {
     "name": "stderr",
     "output_type": "stream",
     "text": [
      "Train: 100%|███████████████████████████████████████████████████████████████████████████| 31/31 [00:09<00:00,  3.35it/s]\n"
     ]
    },
    {
     "name": "stdout",
     "output_type": "stream",
     "text": [
      "Train Loss: 78.7543\n"
     ]
    },
    {
     "name": "stderr",
     "output_type": "stream",
     "text": [
      "Val: 100%|███████████████████████████████████████████████████████████████████████████████| 4/4 [00:00<00:00,  4.56it/s]\n"
     ]
    },
    {
     "name": "stdout",
     "output_type": "stream",
     "text": [
      "Val Loss: 75.7135\n",
      "\n",
      "Epoch 82/200\n"
     ]
    },
    {
     "name": "stderr",
     "output_type": "stream",
     "text": [
      "Train: 100%|███████████████████████████████████████████████████████████████████████████| 31/31 [00:09<00:00,  3.37it/s]\n"
     ]
    },
    {
     "name": "stdout",
     "output_type": "stream",
     "text": [
      "Train Loss: 78.8978\n"
     ]
    },
    {
     "name": "stderr",
     "output_type": "stream",
     "text": [
      "Val: 100%|███████████████████████████████████████████████████████████████████████████████| 4/4 [00:00<00:00,  4.68it/s]\n"
     ]
    },
    {
     "name": "stdout",
     "output_type": "stream",
     "text": [
      "Val Loss: 75.4382\n",
      "\n",
      "Epoch 83/200\n"
     ]
    },
    {
     "name": "stderr",
     "output_type": "stream",
     "text": [
      "Train: 100%|███████████████████████████████████████████████████████████████████████████| 31/31 [00:08<00:00,  3.51it/s]\n"
     ]
    },
    {
     "name": "stdout",
     "output_type": "stream",
     "text": [
      "Train Loss: 77.7435\n"
     ]
    },
    {
     "name": "stderr",
     "output_type": "stream",
     "text": [
      "Val: 100%|███████████████████████████████████████████████████████████████████████████████| 4/4 [00:00<00:00,  4.59it/s]\n"
     ]
    },
    {
     "name": "stdout",
     "output_type": "stream",
     "text": [
      "Val Loss: 75.5061\n",
      "\n",
      "Epoch 84/200\n"
     ]
    },
    {
     "name": "stderr",
     "output_type": "stream",
     "text": [
      "Train: 100%|███████████████████████████████████████████████████████████████████████████| 31/31 [00:09<00:00,  3.39it/s]\n"
     ]
    },
    {
     "name": "stdout",
     "output_type": "stream",
     "text": [
      "Train Loss: 77.6023\n"
     ]
    },
    {
     "name": "stderr",
     "output_type": "stream",
     "text": [
      "Val: 100%|███████████████████████████████████████████████████████████████████████████████| 4/4 [00:00<00:00,  4.49it/s]\n"
     ]
    },
    {
     "name": "stdout",
     "output_type": "stream",
     "text": [
      "Val Loss: 76.4008\n",
      "\n",
      "Epoch 85/200\n"
     ]
    },
    {
     "name": "stderr",
     "output_type": "stream",
     "text": [
      "Train: 100%|███████████████████████████████████████████████████████████████████████████| 31/31 [00:09<00:00,  3.37it/s]\n"
     ]
    },
    {
     "name": "stdout",
     "output_type": "stream",
     "text": [
      "Train Loss: 78.1228\n"
     ]
    },
    {
     "name": "stderr",
     "output_type": "stream",
     "text": [
      "Val: 100%|███████████████████████████████████████████████████████████████████████████████| 4/4 [00:00<00:00,  4.72it/s]\n"
     ]
    },
    {
     "name": "stdout",
     "output_type": "stream",
     "text": [
      "Val Loss: 75.0565\n",
      "\n",
      "Epoch 86/200\n"
     ]
    },
    {
     "name": "stderr",
     "output_type": "stream",
     "text": [
      "Train: 100%|███████████████████████████████████████████████████████████████████████████| 31/31 [00:09<00:00,  3.43it/s]\n"
     ]
    },
    {
     "name": "stdout",
     "output_type": "stream",
     "text": [
      "Train Loss: 77.0065\n"
     ]
    },
    {
     "name": "stderr",
     "output_type": "stream",
     "text": [
      "Val: 100%|███████████████████████████████████████████████████████████████████████████████| 4/4 [00:00<00:00,  4.60it/s]\n"
     ]
    },
    {
     "name": "stdout",
     "output_type": "stream",
     "text": [
      "Val Loss: 75.2054\n",
      "\n",
      "Epoch 87/200\n"
     ]
    },
    {
     "name": "stderr",
     "output_type": "stream",
     "text": [
      "Train: 100%|███████████████████████████████████████████████████████████████████████████| 31/31 [00:09<00:00,  3.35it/s]\n"
     ]
    },
    {
     "name": "stdout",
     "output_type": "stream",
     "text": [
      "Train Loss: 77.1414\n"
     ]
    },
    {
     "name": "stderr",
     "output_type": "stream",
     "text": [
      "Val: 100%|███████████████████████████████████████████████████████████████████████████████| 4/4 [00:00<00:00,  4.65it/s]\n"
     ]
    },
    {
     "name": "stdout",
     "output_type": "stream",
     "text": [
      "Val Loss: 75.9427\n",
      "\n",
      "Epoch 88/200\n"
     ]
    },
    {
     "name": "stderr",
     "output_type": "stream",
     "text": [
      "Train: 100%|███████████████████████████████████████████████████████████████████████████| 31/31 [00:08<00:00,  3.51it/s]\n"
     ]
    },
    {
     "name": "stdout",
     "output_type": "stream",
     "text": [
      "Train Loss: 77.2853\n"
     ]
    },
    {
     "name": "stderr",
     "output_type": "stream",
     "text": [
      "Val: 100%|███████████████████████████████████████████████████████████████████████████████| 4/4 [00:00<00:00,  4.58it/s]\n"
     ]
    },
    {
     "name": "stdout",
     "output_type": "stream",
     "text": [
      "Val Loss: 75.5859\n",
      "\n",
      "Epoch 89/200\n"
     ]
    },
    {
     "name": "stderr",
     "output_type": "stream",
     "text": [
      "Train: 100%|███████████████████████████████████████████████████████████████████████████| 31/31 [00:09<00:00,  3.37it/s]\n"
     ]
    },
    {
     "name": "stdout",
     "output_type": "stream",
     "text": [
      "Train Loss: 77.2417\n"
     ]
    },
    {
     "name": "stderr",
     "output_type": "stream",
     "text": [
      "Val: 100%|███████████████████████████████████████████████████████████████████████████████| 4/4 [00:00<00:00,  4.66it/s]\n"
     ]
    },
    {
     "name": "stdout",
     "output_type": "stream",
     "text": [
      "Val Loss: 75.1740\n",
      "\n",
      "Epoch 90/200\n"
     ]
    },
    {
     "name": "stderr",
     "output_type": "stream",
     "text": [
      "Train: 100%|███████████████████████████████████████████████████████████████████████████| 31/31 [00:09<00:00,  3.39it/s]\n"
     ]
    },
    {
     "name": "stdout",
     "output_type": "stream",
     "text": [
      "Train Loss: 77.4569\n"
     ]
    },
    {
     "name": "stderr",
     "output_type": "stream",
     "text": [
      "Val: 100%|███████████████████████████████████████████████████████████████████████████████| 4/4 [00:00<00:00,  4.81it/s]\n"
     ]
    },
    {
     "name": "stdout",
     "output_type": "stream",
     "text": [
      "Val Loss: 75.6398\n",
      "\n",
      "Epoch 91/200\n"
     ]
    },
    {
     "name": "stderr",
     "output_type": "stream",
     "text": [
      "Train: 100%|███████████████████████████████████████████████████████████████████████████| 31/31 [00:09<00:00,  3.39it/s]\n"
     ]
    },
    {
     "name": "stdout",
     "output_type": "stream",
     "text": [
      "Train Loss: 77.3217\n"
     ]
    },
    {
     "name": "stderr",
     "output_type": "stream",
     "text": [
      "Val: 100%|███████████████████████████████████████████████████████████████████████████████| 4/4 [00:00<00:00,  4.47it/s]\n"
     ]
    },
    {
     "name": "stdout",
     "output_type": "stream",
     "text": [
      "Val Loss: 74.4340\n",
      "\n",
      "Epoch 92/200\n"
     ]
    },
    {
     "name": "stderr",
     "output_type": "stream",
     "text": [
      "Train: 100%|███████████████████████████████████████████████████████████████████████████| 31/31 [00:09<00:00,  3.37it/s]\n"
     ]
    },
    {
     "name": "stdout",
     "output_type": "stream",
     "text": [
      "Train Loss: 76.9563\n"
     ]
    },
    {
     "name": "stderr",
     "output_type": "stream",
     "text": [
      "Val: 100%|███████████████████████████████████████████████████████████████████████████████| 4/4 [00:00<00:00,  4.58it/s]\n"
     ]
    },
    {
     "name": "stdout",
     "output_type": "stream",
     "text": [
      "Val Loss: 75.5238\n",
      "\n",
      "Epoch 93/200\n"
     ]
    },
    {
     "name": "stderr",
     "output_type": "stream",
     "text": [
      "Train: 100%|███████████████████████████████████████████████████████████████████████████| 31/31 [00:09<00:00,  3.38it/s]\n"
     ]
    },
    {
     "name": "stdout",
     "output_type": "stream",
     "text": [
      "Train Loss: 77.7818\n"
     ]
    },
    {
     "name": "stderr",
     "output_type": "stream",
     "text": [
      "Val: 100%|███████████████████████████████████████████████████████████████████████████████| 4/4 [00:00<00:00,  4.60it/s]\n"
     ]
    },
    {
     "name": "stdout",
     "output_type": "stream",
     "text": [
      "Val Loss: 76.5552\n",
      "\n",
      "Epoch 94/200\n"
     ]
    },
    {
     "name": "stderr",
     "output_type": "stream",
     "text": [
      "Train: 100%|███████████████████████████████████████████████████████████████████████████| 31/31 [00:09<00:00,  3.38it/s]\n"
     ]
    },
    {
     "name": "stdout",
     "output_type": "stream",
     "text": [
      "Train Loss: 77.3870\n"
     ]
    },
    {
     "name": "stderr",
     "output_type": "stream",
     "text": [
      "Val: 100%|███████████████████████████████████████████████████████████████████████████████| 4/4 [00:00<00:00,  4.73it/s]\n"
     ]
    },
    {
     "name": "stdout",
     "output_type": "stream",
     "text": [
      "Val Loss: 75.5885\n",
      "\n",
      "Epoch 95/200\n"
     ]
    },
    {
     "name": "stderr",
     "output_type": "stream",
     "text": [
      "Train: 100%|███████████████████████████████████████████████████████████████████████████| 31/31 [00:09<00:00,  3.39it/s]\n"
     ]
    },
    {
     "name": "stdout",
     "output_type": "stream",
     "text": [
      "Train Loss: 77.4348\n"
     ]
    },
    {
     "name": "stderr",
     "output_type": "stream",
     "text": [
      "Val: 100%|███████████████████████████████████████████████████████████████████████████████| 4/4 [00:00<00:00,  4.68it/s]\n"
     ]
    },
    {
     "name": "stdout",
     "output_type": "stream",
     "text": [
      "Val Loss: 75.6528\n",
      "\n",
      "Epoch 96/200\n"
     ]
    },
    {
     "name": "stderr",
     "output_type": "stream",
     "text": [
      "Train: 100%|███████████████████████████████████████████████████████████████████████████| 31/31 [00:09<00:00,  3.39it/s]\n"
     ]
    },
    {
     "name": "stdout",
     "output_type": "stream",
     "text": [
      "Train Loss: 77.4058\n"
     ]
    },
    {
     "name": "stderr",
     "output_type": "stream",
     "text": [
      "Val: 100%|███████████████████████████████████████████████████████████████████████████████| 4/4 [00:00<00:00,  4.58it/s]\n"
     ]
    },
    {
     "name": "stdout",
     "output_type": "stream",
     "text": [
      "Val Loss: 75.5480\n",
      "\n",
      "Epoch 97/200\n"
     ]
    },
    {
     "name": "stderr",
     "output_type": "stream",
     "text": [
      "Train: 100%|███████████████████████████████████████████████████████████████████████████| 31/31 [00:09<00:00,  3.36it/s]\n"
     ]
    },
    {
     "name": "stdout",
     "output_type": "stream",
     "text": [
      "Train Loss: 77.0040\n"
     ]
    },
    {
     "name": "stderr",
     "output_type": "stream",
     "text": [
      "Val: 100%|███████████████████████████████████████████████████████████████████████████████| 4/4 [00:00<00:00,  4.56it/s]\n"
     ]
    },
    {
     "name": "stdout",
     "output_type": "stream",
     "text": [
      "Val Loss: 75.7794\n",
      "\n",
      "Epoch 98/200\n"
     ]
    },
    {
     "name": "stderr",
     "output_type": "stream",
     "text": [
      "Train: 100%|███████████████████████████████████████████████████████████████████████████| 31/31 [00:09<00:00,  3.39it/s]\n"
     ]
    },
    {
     "name": "stdout",
     "output_type": "stream",
     "text": [
      "Train Loss: 78.0329\n"
     ]
    },
    {
     "name": "stderr",
     "output_type": "stream",
     "text": [
      "Val: 100%|███████████████████████████████████████████████████████████████████████████████| 4/4 [00:00<00:00,  4.69it/s]\n"
     ]
    },
    {
     "name": "stdout",
     "output_type": "stream",
     "text": [
      "Val Loss: 75.1906\n",
      "\n",
      "Epoch 99/200\n"
     ]
    },
    {
     "name": "stderr",
     "output_type": "stream",
     "text": [
      "Train: 100%|███████████████████████████████████████████████████████████████████████████| 31/31 [00:09<00:00,  3.42it/s]\n"
     ]
    },
    {
     "name": "stdout",
     "output_type": "stream",
     "text": [
      "Train Loss: 77.2159\n"
     ]
    },
    {
     "name": "stderr",
     "output_type": "stream",
     "text": [
      "Val: 100%|███████████████████████████████████████████████████████████████████████████████| 4/4 [00:00<00:00,  4.49it/s]\n"
     ]
    },
    {
     "name": "stdout",
     "output_type": "stream",
     "text": [
      "Val Loss: 75.4619\n",
      "\n",
      "Epoch 100/200\n"
     ]
    },
    {
     "name": "stderr",
     "output_type": "stream",
     "text": [
      "Train: 100%|███████████████████████████████████████████████████████████████████████████| 31/31 [00:09<00:00,  3.35it/s]\n"
     ]
    },
    {
     "name": "stdout",
     "output_type": "stream",
     "text": [
      "Train Loss: 77.0600\n"
     ]
    },
    {
     "name": "stderr",
     "output_type": "stream",
     "text": [
      "Val: 100%|███████████████████████████████████████████████████████████████████████████████| 4/4 [00:00<00:00,  4.46it/s]\n"
     ]
    },
    {
     "name": "stdout",
     "output_type": "stream",
     "text": [
      "Val Loss: 75.2471\n",
      "\n",
      "Epoch 101/200\n"
     ]
    },
    {
     "name": "stderr",
     "output_type": "stream",
     "text": [
      "Train: 100%|███████████████████████████████████████████████████████████████████████████| 31/31 [00:09<00:00,  3.36it/s]\n"
     ]
    },
    {
     "name": "stdout",
     "output_type": "stream",
     "text": [
      "Train Loss: 77.4728\n"
     ]
    },
    {
     "name": "stderr",
     "output_type": "stream",
     "text": [
      "Val: 100%|███████████████████████████████████████████████████████████████████████████████| 4/4 [00:00<00:00,  4.70it/s]\n"
     ]
    },
    {
     "name": "stdout",
     "output_type": "stream",
     "text": [
      "Val Loss: 74.9138\n",
      "\n",
      "Epoch 102/200\n"
     ]
    },
    {
     "name": "stderr",
     "output_type": "stream",
     "text": [
      "Train: 100%|███████████████████████████████████████████████████████████████████████████| 31/31 [00:09<00:00,  3.40it/s]\n"
     ]
    },
    {
     "name": "stdout",
     "output_type": "stream",
     "text": [
      "Train Loss: 76.8857\n"
     ]
    },
    {
     "name": "stderr",
     "output_type": "stream",
     "text": [
      "Val: 100%|███████████████████████████████████████████████████████████████████████████████| 4/4 [00:00<00:00,  4.64it/s]\n"
     ]
    },
    {
     "name": "stdout",
     "output_type": "stream",
     "text": [
      "Val Loss: 75.2626\n",
      "\n",
      "Epoch 103/200\n"
     ]
    },
    {
     "name": "stderr",
     "output_type": "stream",
     "text": [
      "Train: 100%|███████████████████████████████████████████████████████████████████████████| 31/31 [00:09<00:00,  3.41it/s]\n"
     ]
    },
    {
     "name": "stdout",
     "output_type": "stream",
     "text": [
      "Train Loss: 77.0044\n"
     ]
    },
    {
     "name": "stderr",
     "output_type": "stream",
     "text": [
      "Val: 100%|███████████████████████████████████████████████████████████████████████████████| 4/4 [00:00<00:00,  4.46it/s]\n"
     ]
    },
    {
     "name": "stdout",
     "output_type": "stream",
     "text": [
      "Val Loss: 76.4438\n",
      "\n",
      "Epoch 104/200\n"
     ]
    },
    {
     "name": "stderr",
     "output_type": "stream",
     "text": [
      "Train: 100%|███████████████████████████████████████████████████████████████████████████| 31/31 [00:09<00:00,  3.37it/s]\n"
     ]
    },
    {
     "name": "stdout",
     "output_type": "stream",
     "text": [
      "Train Loss: 76.9195\n"
     ]
    },
    {
     "name": "stderr",
     "output_type": "stream",
     "text": [
      "Val: 100%|███████████████████████████████████████████████████████████████████████████████| 4/4 [00:00<00:00,  4.61it/s]\n"
     ]
    },
    {
     "name": "stdout",
     "output_type": "stream",
     "text": [
      "Val Loss: 77.9906\n",
      "\n",
      "Epoch 105/200\n"
     ]
    },
    {
     "name": "stderr",
     "output_type": "stream",
     "text": [
      "Train: 100%|███████████████████████████████████████████████████████████████████████████| 31/31 [00:09<00:00,  3.37it/s]\n"
     ]
    },
    {
     "name": "stdout",
     "output_type": "stream",
     "text": [
      "Train Loss: 77.3501\n"
     ]
    },
    {
     "name": "stderr",
     "output_type": "stream",
     "text": [
      "Val: 100%|███████████████████████████████████████████████████████████████████████████████| 4/4 [00:00<00:00,  4.58it/s]\n"
     ]
    },
    {
     "name": "stdout",
     "output_type": "stream",
     "text": [
      "Val Loss: 74.6447\n",
      "\n",
      "Epoch 106/200\n"
     ]
    },
    {
     "name": "stderr",
     "output_type": "stream",
     "text": [
      "Train: 100%|███████████████████████████████████████████████████████████████████████████| 31/31 [00:09<00:00,  3.36it/s]\n"
     ]
    },
    {
     "name": "stdout",
     "output_type": "stream",
     "text": [
      "Train Loss: 77.1505\n"
     ]
    },
    {
     "name": "stderr",
     "output_type": "stream",
     "text": [
      "Val: 100%|███████████████████████████████████████████████████████████████████████████████| 4/4 [00:00<00:00,  4.65it/s]\n"
     ]
    },
    {
     "name": "stdout",
     "output_type": "stream",
     "text": [
      "Val Loss: 75.5312\n",
      "\n",
      "Epoch 107/200\n"
     ]
    },
    {
     "name": "stderr",
     "output_type": "stream",
     "text": [
      "Train: 100%|███████████████████████████████████████████████████████████████████████████| 31/31 [00:09<00:00,  3.38it/s]\n"
     ]
    },
    {
     "name": "stdout",
     "output_type": "stream",
     "text": [
      "Train Loss: 76.5396\n"
     ]
    },
    {
     "name": "stderr",
     "output_type": "stream",
     "text": [
      "Val: 100%|███████████████████████████████████████████████████████████████████████████████| 4/4 [00:00<00:00,  4.44it/s]\n"
     ]
    },
    {
     "name": "stdout",
     "output_type": "stream",
     "text": [
      "Val Loss: 75.2773\n",
      "\n",
      "Epoch 108/200\n"
     ]
    },
    {
     "name": "stderr",
     "output_type": "stream",
     "text": [
      "Train: 100%|███████████████████████████████████████████████████████████████████████████| 31/31 [00:08<00:00,  3.53it/s]\n"
     ]
    },
    {
     "name": "stdout",
     "output_type": "stream",
     "text": [
      "Train Loss: 76.6588\n"
     ]
    },
    {
     "name": "stderr",
     "output_type": "stream",
     "text": [
      "Val: 100%|███████████████████████████████████████████████████████████████████████████████| 4/4 [00:00<00:00,  4.60it/s]\n"
     ]
    },
    {
     "name": "stdout",
     "output_type": "stream",
     "text": [
      "Val Loss: 75.0499\n",
      "\n",
      "Epoch 109/200\n"
     ]
    },
    {
     "name": "stderr",
     "output_type": "stream",
     "text": [
      "Train: 100%|███████████████████████████████████████████████████████████████████████████| 31/31 [00:09<00:00,  3.40it/s]\n"
     ]
    },
    {
     "name": "stdout",
     "output_type": "stream",
     "text": [
      "Train Loss: 77.4308\n"
     ]
    },
    {
     "name": "stderr",
     "output_type": "stream",
     "text": [
      "Val: 100%|███████████████████████████████████████████████████████████████████████████████| 4/4 [00:00<00:00,  4.72it/s]\n"
     ]
    },
    {
     "name": "stdout",
     "output_type": "stream",
     "text": [
      "Val Loss: 74.5395\n",
      "\n",
      "Epoch 110/200\n"
     ]
    },
    {
     "name": "stderr",
     "output_type": "stream",
     "text": [
      "Train: 100%|███████████████████████████████████████████████████████████████████████████| 31/31 [00:09<00:00,  3.39it/s]\n"
     ]
    },
    {
     "name": "stdout",
     "output_type": "stream",
     "text": [
      "Train Loss: 77.2834\n"
     ]
    },
    {
     "name": "stderr",
     "output_type": "stream",
     "text": [
      "Val: 100%|███████████████████████████████████████████████████████████████████████████████| 4/4 [00:00<00:00,  4.70it/s]\n"
     ]
    },
    {
     "name": "stdout",
     "output_type": "stream",
     "text": [
      "Val Loss: 74.8468\n",
      "\n",
      "Epoch 111/200\n"
     ]
    },
    {
     "name": "stderr",
     "output_type": "stream",
     "text": [
      "Train: 100%|███████████████████████████████████████████████████████████████████████████| 31/31 [00:09<00:00,  3.43it/s]\n"
     ]
    },
    {
     "name": "stdout",
     "output_type": "stream",
     "text": [
      "Train Loss: 77.1030\n"
     ]
    },
    {
     "name": "stderr",
     "output_type": "stream",
     "text": [
      "Val: 100%|███████████████████████████████████████████████████████████████████████████████| 4/4 [00:00<00:00,  4.56it/s]\n"
     ]
    },
    {
     "name": "stdout",
     "output_type": "stream",
     "text": [
      "Val Loss: 74.7628\n",
      "\n",
      "Epoch 112/200\n"
     ]
    },
    {
     "name": "stderr",
     "output_type": "stream",
     "text": [
      "Train: 100%|███████████████████████████████████████████████████████████████████████████| 31/31 [00:08<00:00,  3.53it/s]\n"
     ]
    },
    {
     "name": "stdout",
     "output_type": "stream",
     "text": [
      "Train Loss: 76.9688\n"
     ]
    },
    {
     "name": "stderr",
     "output_type": "stream",
     "text": [
      "Val: 100%|███████████████████████████████████████████████████████████████████████████████| 4/4 [00:00<00:00,  4.64it/s]\n"
     ]
    },
    {
     "name": "stdout",
     "output_type": "stream",
     "text": [
      "Val Loss: 74.2649\n",
      "\n",
      "Epoch 113/200\n"
     ]
    },
    {
     "name": "stderr",
     "output_type": "stream",
     "text": [
      "Train: 100%|███████████████████████████████████████████████████████████████████████████| 31/31 [00:09<00:00,  3.39it/s]\n"
     ]
    },
    {
     "name": "stdout",
     "output_type": "stream",
     "text": [
      "Train Loss: 76.9037\n"
     ]
    },
    {
     "name": "stderr",
     "output_type": "stream",
     "text": [
      "Val: 100%|███████████████████████████████████████████████████████████████████████████████| 4/4 [00:00<00:00,  4.77it/s]\n"
     ]
    },
    {
     "name": "stdout",
     "output_type": "stream",
     "text": [
      "Val Loss: 73.5242\n",
      "\n",
      "Epoch 114/200\n"
     ]
    },
    {
     "name": "stderr",
     "output_type": "stream",
     "text": [
      "Train: 100%|███████████████████████████████████████████████████████████████████████████| 31/31 [00:09<00:00,  3.41it/s]\n"
     ]
    },
    {
     "name": "stdout",
     "output_type": "stream",
     "text": [
      "Train Loss: 76.7936\n"
     ]
    },
    {
     "name": "stderr",
     "output_type": "stream",
     "text": [
      "Val: 100%|███████████████████████████████████████████████████████████████████████████████| 4/4 [00:00<00:00,  4.59it/s]\n"
     ]
    },
    {
     "name": "stdout",
     "output_type": "stream",
     "text": [
      "Val Loss: 75.7098\n",
      "\n",
      "Epoch 115/200\n"
     ]
    },
    {
     "name": "stderr",
     "output_type": "stream",
     "text": [
      "Train: 100%|███████████████████████████████████████████████████████████████████████████| 31/31 [00:09<00:00,  3.39it/s]\n"
     ]
    },
    {
     "name": "stdout",
     "output_type": "stream",
     "text": [
      "Train Loss: 76.6534\n"
     ]
    },
    {
     "name": "stderr",
     "output_type": "stream",
     "text": [
      "Val: 100%|███████████████████████████████████████████████████████████████████████████████| 4/4 [00:00<00:00,  4.80it/s]\n"
     ]
    },
    {
     "name": "stdout",
     "output_type": "stream",
     "text": [
      "Val Loss: 74.4824\n",
      "\n",
      "Epoch 116/200\n"
     ]
    },
    {
     "name": "stderr",
     "output_type": "stream",
     "text": [
      "Train: 100%|███████████████████████████████████████████████████████████████████████████| 31/31 [00:09<00:00,  3.41it/s]\n"
     ]
    },
    {
     "name": "stdout",
     "output_type": "stream",
     "text": [
      "Train Loss: 76.9354\n"
     ]
    },
    {
     "name": "stderr",
     "output_type": "stream",
     "text": [
      "Val: 100%|███████████████████████████████████████████████████████████████████████████████| 4/4 [00:00<00:00,  4.60it/s]\n"
     ]
    },
    {
     "name": "stdout",
     "output_type": "stream",
     "text": [
      "Val Loss: 75.1158\n",
      "\n",
      "Epoch 117/200\n"
     ]
    },
    {
     "name": "stderr",
     "output_type": "stream",
     "text": [
      "Train: 100%|███████████████████████████████████████████████████████████████████████████| 31/31 [00:09<00:00,  3.38it/s]\n"
     ]
    },
    {
     "name": "stdout",
     "output_type": "stream",
     "text": [
      "Train Loss: 76.5852\n"
     ]
    },
    {
     "name": "stderr",
     "output_type": "stream",
     "text": [
      "Val: 100%|███████████████████████████████████████████████████████████████████████████████| 4/4 [00:00<00:00,  4.67it/s]\n"
     ]
    },
    {
     "name": "stdout",
     "output_type": "stream",
     "text": [
      "Val Loss: 74.8791\n",
      "\n",
      "Epoch 118/200\n"
     ]
    },
    {
     "name": "stderr",
     "output_type": "stream",
     "text": [
      "Train: 100%|███████████████████████████████████████████████████████████████████████████| 31/31 [00:09<00:00,  3.38it/s]\n"
     ]
    },
    {
     "name": "stdout",
     "output_type": "stream",
     "text": [
      "Train Loss: 76.7144\n"
     ]
    },
    {
     "name": "stderr",
     "output_type": "stream",
     "text": [
      "Val: 100%|███████████████████████████████████████████████████████████████████████████████| 4/4 [00:00<00:00,  4.69it/s]\n"
     ]
    },
    {
     "name": "stdout",
     "output_type": "stream",
     "text": [
      "Val Loss: 74.6442\n",
      "\n",
      "Epoch 119/200\n"
     ]
    },
    {
     "name": "stderr",
     "output_type": "stream",
     "text": [
      "Train: 100%|███████████████████████████████████████████████████████████████████████████| 31/31 [00:09<00:00,  3.40it/s]\n"
     ]
    },
    {
     "name": "stdout",
     "output_type": "stream",
     "text": [
      "Train Loss: 76.6625\n"
     ]
    },
    {
     "name": "stderr",
     "output_type": "stream",
     "text": [
      "Val: 100%|███████████████████████████████████████████████████████████████████████████████| 4/4 [00:00<00:00,  4.67it/s]\n"
     ]
    },
    {
     "name": "stdout",
     "output_type": "stream",
     "text": [
      "Val Loss: 74.9237\n",
      "\n",
      "Epoch 120/200\n"
     ]
    },
    {
     "name": "stderr",
     "output_type": "stream",
     "text": [
      "Train: 100%|███████████████████████████████████████████████████████████████████████████| 31/31 [00:09<00:00,  3.39it/s]\n"
     ]
    },
    {
     "name": "stdout",
     "output_type": "stream",
     "text": [
      "Train Loss: 76.1086\n"
     ]
    },
    {
     "name": "stderr",
     "output_type": "stream",
     "text": [
      "Val: 100%|███████████████████████████████████████████████████████████████████████████████| 4/4 [00:00<00:00,  4.75it/s]\n"
     ]
    },
    {
     "name": "stdout",
     "output_type": "stream",
     "text": [
      "Val Loss: 74.3120\n",
      "\n",
      "Epoch 121/200\n"
     ]
    },
    {
     "name": "stderr",
     "output_type": "stream",
     "text": [
      "Train: 100%|███████████████████████████████████████████████████████████████████████████| 31/31 [00:09<00:00,  3.39it/s]\n"
     ]
    },
    {
     "name": "stdout",
     "output_type": "stream",
     "text": [
      "Train Loss: 76.6496\n"
     ]
    },
    {
     "name": "stderr",
     "output_type": "stream",
     "text": [
      "Val: 100%|███████████████████████████████████████████████████████████████████████████████| 4/4 [00:00<00:00,  4.70it/s]\n"
     ]
    },
    {
     "name": "stdout",
     "output_type": "stream",
     "text": [
      "Val Loss: 75.4373\n",
      "\n",
      "Epoch 122/200\n"
     ]
    },
    {
     "name": "stderr",
     "output_type": "stream",
     "text": [
      "Train: 100%|███████████████████████████████████████████████████████████████████████████| 31/31 [00:09<00:00,  3.40it/s]\n"
     ]
    },
    {
     "name": "stdout",
     "output_type": "stream",
     "text": [
      "Train Loss: 76.4088\n"
     ]
    },
    {
     "name": "stderr",
     "output_type": "stream",
     "text": [
      "Val: 100%|███████████████████████████████████████████████████████████████████████████████| 4/4 [00:00<00:00,  4.52it/s]\n"
     ]
    },
    {
     "name": "stdout",
     "output_type": "stream",
     "text": [
      "Val Loss: 74.7581\n",
      "\n",
      "Epoch 123/200\n"
     ]
    },
    {
     "name": "stderr",
     "output_type": "stream",
     "text": [
      "Train: 100%|███████████████████████████████████████████████████████████████████████████| 31/31 [00:09<00:00,  3.40it/s]\n"
     ]
    },
    {
     "name": "stdout",
     "output_type": "stream",
     "text": [
      "Train Loss: 76.3885\n"
     ]
    },
    {
     "name": "stderr",
     "output_type": "stream",
     "text": [
      "Val: 100%|███████████████████████████████████████████████████████████████████████████████| 4/4 [00:00<00:00,  4.84it/s]\n"
     ]
    },
    {
     "name": "stdout",
     "output_type": "stream",
     "text": [
      "Val Loss: 73.7069\n",
      "\n",
      "Epoch 124/200\n"
     ]
    },
    {
     "name": "stderr",
     "output_type": "stream",
     "text": [
      "Train: 100%|███████████████████████████████████████████████████████████████████████████| 31/31 [00:09<00:00,  3.42it/s]\n"
     ]
    },
    {
     "name": "stdout",
     "output_type": "stream",
     "text": [
      "Train Loss: 76.7978\n"
     ]
    },
    {
     "name": "stderr",
     "output_type": "stream",
     "text": [
      "Val: 100%|███████████████████████████████████████████████████████████████████████████████| 4/4 [00:00<00:00,  4.59it/s]\n"
     ]
    },
    {
     "name": "stdout",
     "output_type": "stream",
     "text": [
      "Val Loss: 74.2904\n",
      "\n",
      "Epoch 125/200\n"
     ]
    },
    {
     "name": "stderr",
     "output_type": "stream",
     "text": [
      "Train: 100%|███████████████████████████████████████████████████████████████████████████| 31/31 [00:08<00:00,  3.51it/s]\n"
     ]
    },
    {
     "name": "stdout",
     "output_type": "stream",
     "text": [
      "Train Loss: 76.1966\n"
     ]
    },
    {
     "name": "stderr",
     "output_type": "stream",
     "text": [
      "Val: 100%|███████████████████████████████████████████████████████████████████████████████| 4/4 [00:00<00:00,  4.57it/s]\n"
     ]
    },
    {
     "name": "stdout",
     "output_type": "stream",
     "text": [
      "Val Loss: 74.5458\n",
      "\n",
      "Epoch 126/200\n"
     ]
    },
    {
     "name": "stderr",
     "output_type": "stream",
     "text": [
      "Train: 100%|███████████████████████████████████████████████████████████████████████████| 31/31 [00:09<00:00,  3.35it/s]\n"
     ]
    },
    {
     "name": "stdout",
     "output_type": "stream",
     "text": [
      "Train Loss: 76.6596\n"
     ]
    },
    {
     "name": "stderr",
     "output_type": "stream",
     "text": [
      "Val: 100%|███████████████████████████████████████████████████████████████████████████████| 4/4 [00:00<00:00,  4.73it/s]\n"
     ]
    },
    {
     "name": "stdout",
     "output_type": "stream",
     "text": [
      "Val Loss: 74.5972\n",
      "\n",
      "Epoch 127/200\n"
     ]
    },
    {
     "name": "stderr",
     "output_type": "stream",
     "text": [
      "Train: 100%|███████████████████████████████████████████████████████████████████████████| 31/31 [00:09<00:00,  3.39it/s]\n"
     ]
    },
    {
     "name": "stdout",
     "output_type": "stream",
     "text": [
      "Train Loss: 76.2420\n"
     ]
    },
    {
     "name": "stderr",
     "output_type": "stream",
     "text": [
      "Val: 100%|███████████████████████████████████████████████████████████████████████████████| 4/4 [00:00<00:00,  4.73it/s]\n"
     ]
    },
    {
     "name": "stdout",
     "output_type": "stream",
     "text": [
      "Val Loss: 74.4505\n",
      "\n",
      "Epoch 128/200\n"
     ]
    },
    {
     "name": "stderr",
     "output_type": "stream",
     "text": [
      "Train: 100%|███████████████████████████████████████████████████████████████████████████| 31/31 [00:09<00:00,  3.39it/s]\n"
     ]
    },
    {
     "name": "stdout",
     "output_type": "stream",
     "text": [
      "Train Loss: 76.3350\n"
     ]
    },
    {
     "name": "stderr",
     "output_type": "stream",
     "text": [
      "Val: 100%|███████████████████████████████████████████████████████████████████████████████| 4/4 [00:00<00:00,  4.42it/s]\n"
     ]
    },
    {
     "name": "stdout",
     "output_type": "stream",
     "text": [
      "Val Loss: 73.9148\n",
      "\n",
      "Epoch 129/200\n"
     ]
    },
    {
     "name": "stderr",
     "output_type": "stream",
     "text": [
      "Train: 100%|███████████████████████████████████████████████████████████████████████████| 31/31 [00:08<00:00,  3.47it/s]\n"
     ]
    },
    {
     "name": "stdout",
     "output_type": "stream",
     "text": [
      "Train Loss: 76.4146\n"
     ]
    },
    {
     "name": "stderr",
     "output_type": "stream",
     "text": [
      "Val: 100%|███████████████████████████████████████████████████████████████████████████████| 4/4 [00:00<00:00,  4.56it/s]\n"
     ]
    },
    {
     "name": "stdout",
     "output_type": "stream",
     "text": [
      "Val Loss: 74.1143\n",
      "\n",
      "Epoch 130/200\n"
     ]
    },
    {
     "name": "stderr",
     "output_type": "stream",
     "text": [
      "Train: 100%|███████████████████████████████████████████████████████████████████████████| 31/31 [00:09<00:00,  3.38it/s]\n"
     ]
    },
    {
     "name": "stdout",
     "output_type": "stream",
     "text": [
      "Train Loss: 76.5101\n"
     ]
    },
    {
     "name": "stderr",
     "output_type": "stream",
     "text": [
      "Val: 100%|███████████████████████████████████████████████████████████████████████████████| 4/4 [00:00<00:00,  4.61it/s]\n"
     ]
    },
    {
     "name": "stdout",
     "output_type": "stream",
     "text": [
      "Val Loss: 74.3927\n",
      "\n",
      "Epoch 131/200\n"
     ]
    },
    {
     "name": "stderr",
     "output_type": "stream",
     "text": [
      "Train: 100%|███████████████████████████████████████████████████████████████████████████| 31/31 [00:09<00:00,  3.35it/s]\n"
     ]
    },
    {
     "name": "stdout",
     "output_type": "stream",
     "text": [
      "Train Loss: 76.5796\n"
     ]
    },
    {
     "name": "stderr",
     "output_type": "stream",
     "text": [
      "Val: 100%|███████████████████████████████████████████████████████████████████████████████| 4/4 [00:00<00:00,  4.67it/s]\n"
     ]
    },
    {
     "name": "stdout",
     "output_type": "stream",
     "text": [
      "Val Loss: 74.0644\n",
      "\n",
      "Epoch 132/200\n"
     ]
    },
    {
     "name": "stderr",
     "output_type": "stream",
     "text": [
      "Train: 100%|███████████████████████████████████████████████████████████████████████████| 31/31 [00:09<00:00,  3.38it/s]\n"
     ]
    },
    {
     "name": "stdout",
     "output_type": "stream",
     "text": [
      "Train Loss: 76.2440\n"
     ]
    },
    {
     "name": "stderr",
     "output_type": "stream",
     "text": [
      "Val: 100%|███████████████████████████████████████████████████████████████████████████████| 4/4 [00:00<00:00,  4.51it/s]\n"
     ]
    },
    {
     "name": "stdout",
     "output_type": "stream",
     "text": [
      "Val Loss: 75.4698\n",
      "\n",
      "Epoch 133/200\n"
     ]
    },
    {
     "name": "stderr",
     "output_type": "stream",
     "text": [
      "Train: 100%|███████████████████████████████████████████████████████████████████████████| 31/31 [00:09<00:00,  3.37it/s]\n"
     ]
    },
    {
     "name": "stdout",
     "output_type": "stream",
     "text": [
      "Train Loss: 76.2683\n"
     ]
    },
    {
     "name": "stderr",
     "output_type": "stream",
     "text": [
      "Val: 100%|███████████████████████████████████████████████████████████████████████████████| 4/4 [00:00<00:00,  4.64it/s]\n"
     ]
    },
    {
     "name": "stdout",
     "output_type": "stream",
     "text": [
      "Val Loss: 74.6725\n",
      "\n",
      "Epoch 134/200\n"
     ]
    },
    {
     "name": "stderr",
     "output_type": "stream",
     "text": [
      "Train: 100%|███████████████████████████████████████████████████████████████████████████| 31/31 [00:09<00:00,  3.38it/s]\n"
     ]
    },
    {
     "name": "stdout",
     "output_type": "stream",
     "text": [
      "Train Loss: 76.3875\n"
     ]
    },
    {
     "name": "stderr",
     "output_type": "stream",
     "text": [
      "Val: 100%|███████████████████████████████████████████████████████████████████████████████| 4/4 [00:00<00:00,  4.67it/s]\n"
     ]
    },
    {
     "name": "stdout",
     "output_type": "stream",
     "text": [
      "Val Loss: 74.8826\n",
      "\n",
      "Epoch 135/200\n"
     ]
    },
    {
     "name": "stderr",
     "output_type": "stream",
     "text": [
      "Train: 100%|███████████████████████████████████████████████████████████████████████████| 31/31 [00:09<00:00,  3.35it/s]\n"
     ]
    },
    {
     "name": "stdout",
     "output_type": "stream",
     "text": [
      "Train Loss: 76.1717\n"
     ]
    },
    {
     "name": "stderr",
     "output_type": "stream",
     "text": [
      "Val: 100%|███████████████████████████████████████████████████████████████████████████████| 4/4 [00:00<00:00,  4.53it/s]\n"
     ]
    },
    {
     "name": "stdout",
     "output_type": "stream",
     "text": [
      "Val Loss: 74.6976\n",
      "\n",
      "Epoch 136/200\n"
     ]
    },
    {
     "name": "stderr",
     "output_type": "stream",
     "text": [
      "Train: 100%|███████████████████████████████████████████████████████████████████████████| 31/31 [00:09<00:00,  3.37it/s]\n"
     ]
    },
    {
     "name": "stdout",
     "output_type": "stream",
     "text": [
      "Train Loss: 75.9728\n"
     ]
    },
    {
     "name": "stderr",
     "output_type": "stream",
     "text": [
      "Val: 100%|███████████████████████████████████████████████████████████████████████████████| 4/4 [00:00<00:00,  4.60it/s]\n"
     ]
    },
    {
     "name": "stdout",
     "output_type": "stream",
     "text": [
      "Val Loss: 73.8584\n",
      "\n",
      "Epoch 137/200\n"
     ]
    },
    {
     "name": "stderr",
     "output_type": "stream",
     "text": [
      "Train: 100%|███████████████████████████████████████████████████████████████████████████| 31/31 [00:09<00:00,  3.36it/s]\n"
     ]
    },
    {
     "name": "stdout",
     "output_type": "stream",
     "text": [
      "Train Loss: 76.4167\n"
     ]
    },
    {
     "name": "stderr",
     "output_type": "stream",
     "text": [
      "Val: 100%|███████████████████████████████████████████████████████████████████████████████| 4/4 [00:00<00:00,  4.61it/s]\n"
     ]
    },
    {
     "name": "stdout",
     "output_type": "stream",
     "text": [
      "Val Loss: 74.3997\n",
      "\n",
      "Epoch 138/200\n"
     ]
    },
    {
     "name": "stderr",
     "output_type": "stream",
     "text": [
      "Train: 100%|███████████████████████████████████████████████████████████████████████████| 31/31 [00:09<00:00,  3.38it/s]\n"
     ]
    },
    {
     "name": "stdout",
     "output_type": "stream",
     "text": [
      "Train Loss: 76.0332\n"
     ]
    },
    {
     "name": "stderr",
     "output_type": "stream",
     "text": [
      "Val: 100%|███████████████████████████████████████████████████████████████████████████████| 4/4 [00:00<00:00,  4.66it/s]\n"
     ]
    },
    {
     "name": "stdout",
     "output_type": "stream",
     "text": [
      "Val Loss: 74.0290\n",
      "\n",
      "Epoch 139/200\n"
     ]
    },
    {
     "name": "stderr",
     "output_type": "stream",
     "text": [
      "Train: 100%|███████████████████████████████████████████████████████████████████████████| 31/31 [00:09<00:00,  3.40it/s]\n"
     ]
    },
    {
     "name": "stdout",
     "output_type": "stream",
     "text": [
      "Train Loss: 76.5669\n"
     ]
    },
    {
     "name": "stderr",
     "output_type": "stream",
     "text": [
      "Val: 100%|███████████████████████████████████████████████████████████████████████████████| 4/4 [00:00<00:00,  4.63it/s]\n"
     ]
    },
    {
     "name": "stdout",
     "output_type": "stream",
     "text": [
      "Val Loss: 74.2955\n",
      "\n",
      "Epoch 140/200\n"
     ]
    },
    {
     "name": "stderr",
     "output_type": "stream",
     "text": [
      "Train: 100%|███████████████████████████████████████████████████████████████████████████| 31/31 [00:09<00:00,  3.37it/s]\n"
     ]
    },
    {
     "name": "stdout",
     "output_type": "stream",
     "text": [
      "Train Loss: 75.9430\n"
     ]
    },
    {
     "name": "stderr",
     "output_type": "stream",
     "text": [
      "Val: 100%|███████████████████████████████████████████████████████████████████████████████| 4/4 [00:00<00:00,  4.65it/s]\n"
     ]
    },
    {
     "name": "stdout",
     "output_type": "stream",
     "text": [
      "Val Loss: 74.4759\n",
      "\n",
      "Epoch 141/200\n"
     ]
    },
    {
     "name": "stderr",
     "output_type": "stream",
     "text": [
      "Train: 100%|███████████████████████████████████████████████████████████████████████████| 31/31 [00:09<00:00,  3.34it/s]\n"
     ]
    },
    {
     "name": "stdout",
     "output_type": "stream",
     "text": [
      "Train Loss: 76.1505\n"
     ]
    },
    {
     "name": "stderr",
     "output_type": "stream",
     "text": [
      "Val: 100%|███████████████████████████████████████████████████████████████████████████████| 4/4 [00:00<00:00,  4.64it/s]\n"
     ]
    },
    {
     "name": "stdout",
     "output_type": "stream",
     "text": [
      "Val Loss: 74.9532\n",
      "\n",
      "Epoch 142/200\n"
     ]
    },
    {
     "name": "stderr",
     "output_type": "stream",
     "text": [
      "Train: 100%|███████████████████████████████████████████████████████████████████████████| 31/31 [00:08<00:00,  3.54it/s]\n"
     ]
    },
    {
     "name": "stdout",
     "output_type": "stream",
     "text": [
      "Train Loss: 75.8869\n"
     ]
    },
    {
     "name": "stderr",
     "output_type": "stream",
     "text": [
      "Val: 100%|███████████████████████████████████████████████████████████████████████████████| 4/4 [00:00<00:00,  4.69it/s]\n"
     ]
    },
    {
     "name": "stdout",
     "output_type": "stream",
     "text": [
      "Val Loss: 74.5040\n",
      "\n",
      "Epoch 143/200\n"
     ]
    },
    {
     "name": "stderr",
     "output_type": "stream",
     "text": [
      "Train: 100%|███████████████████████████████████████████████████████████████████████████| 31/31 [00:09<00:00,  3.37it/s]\n"
     ]
    },
    {
     "name": "stdout",
     "output_type": "stream",
     "text": [
      "Train Loss: 76.3378\n"
     ]
    },
    {
     "name": "stderr",
     "output_type": "stream",
     "text": [
      "Val: 100%|███████████████████████████████████████████████████████████████████████████████| 4/4 [00:00<00:00,  4.64it/s]\n"
     ]
    },
    {
     "name": "stdout",
     "output_type": "stream",
     "text": [
      "Val Loss: 74.8496\n",
      "\n",
      "Epoch 144/200\n"
     ]
    },
    {
     "name": "stderr",
     "output_type": "stream",
     "text": [
      "Train: 100%|███████████████████████████████████████████████████████████████████████████| 31/31 [00:09<00:00,  3.36it/s]\n"
     ]
    },
    {
     "name": "stdout",
     "output_type": "stream",
     "text": [
      "Train Loss: 76.3218\n"
     ]
    },
    {
     "name": "stderr",
     "output_type": "stream",
     "text": [
      "Val: 100%|███████████████████████████████████████████████████████████████████████████████| 4/4 [00:00<00:00,  4.78it/s]\n"
     ]
    },
    {
     "name": "stdout",
     "output_type": "stream",
     "text": [
      "Val Loss: 74.5059\n",
      "\n",
      "Epoch 145/200\n"
     ]
    },
    {
     "name": "stderr",
     "output_type": "stream",
     "text": [
      "Train: 100%|███████████████████████████████████████████████████████████████████████████| 31/31 [00:09<00:00,  3.37it/s]\n"
     ]
    },
    {
     "name": "stdout",
     "output_type": "stream",
     "text": [
      "Train Loss: 76.5363\n"
     ]
    },
    {
     "name": "stderr",
     "output_type": "stream",
     "text": [
      "Val: 100%|███████████████████████████████████████████████████████████████████████████████| 4/4 [00:00<00:00,  4.65it/s]\n"
     ]
    },
    {
     "name": "stdout",
     "output_type": "stream",
     "text": [
      "Val Loss: 74.1712\n",
      "\n",
      "Epoch 146/200\n"
     ]
    },
    {
     "name": "stderr",
     "output_type": "stream",
     "text": [
      "Train: 100%|███████████████████████████████████████████████████████████████████████████| 31/31 [00:09<00:00,  3.38it/s]\n"
     ]
    },
    {
     "name": "stdout",
     "output_type": "stream",
     "text": [
      "Train Loss: 75.8223\n"
     ]
    },
    {
     "name": "stderr",
     "output_type": "stream",
     "text": [
      "Val: 100%|███████████████████████████████████████████████████████████████████████████████| 4/4 [00:00<00:00,  4.61it/s]\n"
     ]
    },
    {
     "name": "stdout",
     "output_type": "stream",
     "text": [
      "Val Loss: 76.0596\n",
      "\n",
      "Epoch 147/200\n"
     ]
    },
    {
     "name": "stderr",
     "output_type": "stream",
     "text": [
      "Train: 100%|███████████████████████████████████████████████████████████████████████████| 31/31 [00:09<00:00,  3.36it/s]\n"
     ]
    },
    {
     "name": "stdout",
     "output_type": "stream",
     "text": [
      "Train Loss: 76.2635\n"
     ]
    },
    {
     "name": "stderr",
     "output_type": "stream",
     "text": [
      "Val: 100%|███████████████████████████████████████████████████████████████████████████████| 4/4 [00:00<00:00,  4.70it/s]\n"
     ]
    },
    {
     "name": "stdout",
     "output_type": "stream",
     "text": [
      "Val Loss: 74.8775\n",
      "\n",
      "Epoch 148/200\n"
     ]
    },
    {
     "name": "stderr",
     "output_type": "stream",
     "text": [
      "Train: 100%|███████████████████████████████████████████████████████████████████████████| 31/31 [00:09<00:00,  3.38it/s]\n"
     ]
    },
    {
     "name": "stdout",
     "output_type": "stream",
     "text": [
      "Train Loss: 76.0737\n"
     ]
    },
    {
     "name": "stderr",
     "output_type": "stream",
     "text": [
      "Val: 100%|███████████████████████████████████████████████████████████████████████████████| 4/4 [00:00<00:00,  4.62it/s]\n"
     ]
    },
    {
     "name": "stdout",
     "output_type": "stream",
     "text": [
      "Val Loss: 74.9506\n",
      "\n",
      "Epoch 149/200\n"
     ]
    },
    {
     "name": "stderr",
     "output_type": "stream",
     "text": [
      "Train: 100%|███████████████████████████████████████████████████████████████████████████| 31/31 [00:09<00:00,  3.40it/s]\n"
     ]
    },
    {
     "name": "stdout",
     "output_type": "stream",
     "text": [
      "Train Loss: 76.5188\n"
     ]
    },
    {
     "name": "stderr",
     "output_type": "stream",
     "text": [
      "Val: 100%|███████████████████████████████████████████████████████████████████████████████| 4/4 [00:00<00:00,  4.69it/s]\n"
     ]
    },
    {
     "name": "stdout",
     "output_type": "stream",
     "text": [
      "Val Loss: 74.1470\n",
      "\n",
      "Epoch 150/200\n"
     ]
    },
    {
     "name": "stderr",
     "output_type": "stream",
     "text": [
      "Train: 100%|███████████████████████████████████████████████████████████████████████████| 31/31 [00:09<00:00,  3.38it/s]\n"
     ]
    },
    {
     "name": "stdout",
     "output_type": "stream",
     "text": [
      "Train Loss: 76.1588\n"
     ]
    },
    {
     "name": "stderr",
     "output_type": "stream",
     "text": [
      "Val: 100%|███████████████████████████████████████████████████████████████████████████████| 4/4 [00:00<00:00,  4.61it/s]\n"
     ]
    },
    {
     "name": "stdout",
     "output_type": "stream",
     "text": [
      "Val Loss: 74.9454\n",
      "\n",
      "Epoch 151/200\n"
     ]
    },
    {
     "name": "stderr",
     "output_type": "stream",
     "text": [
      "Train: 100%|███████████████████████████████████████████████████████████████████████████| 31/31 [00:09<00:00,  3.35it/s]\n"
     ]
    },
    {
     "name": "stdout",
     "output_type": "stream",
     "text": [
      "Train Loss: 76.1941\n"
     ]
    },
    {
     "name": "stderr",
     "output_type": "stream",
     "text": [
      "Val: 100%|███████████████████████████████████████████████████████████████████████████████| 4/4 [00:00<00:00,  4.66it/s]\n"
     ]
    },
    {
     "name": "stdout",
     "output_type": "stream",
     "text": [
      "Val Loss: 74.6670\n",
      "\n",
      "Epoch 152/200\n"
     ]
    },
    {
     "name": "stderr",
     "output_type": "stream",
     "text": [
      "Train: 100%|███████████████████████████████████████████████████████████████████████████| 31/31 [00:09<00:00,  3.36it/s]\n"
     ]
    },
    {
     "name": "stdout",
     "output_type": "stream",
     "text": [
      "Train Loss: 76.1900\n"
     ]
    },
    {
     "name": "stderr",
     "output_type": "stream",
     "text": [
      "Val: 100%|███████████████████████████████████████████████████████████████████████████████| 4/4 [00:00<00:00,  4.65it/s]\n"
     ]
    },
    {
     "name": "stdout",
     "output_type": "stream",
     "text": [
      "Val Loss: 74.3560\n",
      "\n",
      "Epoch 153/200\n"
     ]
    },
    {
     "name": "stderr",
     "output_type": "stream",
     "text": [
      "Train: 100%|███████████████████████████████████████████████████████████████████████████| 31/31 [00:09<00:00,  3.36it/s]\n"
     ]
    },
    {
     "name": "stdout",
     "output_type": "stream",
     "text": [
      "Train Loss: 76.2389\n"
     ]
    },
    {
     "name": "stderr",
     "output_type": "stream",
     "text": [
      "Val: 100%|███████████████████████████████████████████████████████████████████████████████| 4/4 [00:00<00:00,  4.54it/s]\n"
     ]
    },
    {
     "name": "stdout",
     "output_type": "stream",
     "text": [
      "Val Loss: 75.2747\n",
      "\n",
      "Epoch 154/200\n"
     ]
    },
    {
     "name": "stderr",
     "output_type": "stream",
     "text": [
      "Train: 100%|███████████████████████████████████████████████████████████████████████████| 31/31 [00:09<00:00,  3.41it/s]\n"
     ]
    },
    {
     "name": "stdout",
     "output_type": "stream",
     "text": [
      "Train Loss: 75.5533\n"
     ]
    },
    {
     "name": "stderr",
     "output_type": "stream",
     "text": [
      "Val: 100%|███████████████████████████████████████████████████████████████████████████████| 4/4 [00:00<00:00,  4.58it/s]\n"
     ]
    },
    {
     "name": "stdout",
     "output_type": "stream",
     "text": [
      "Val Loss: 74.4018\n",
      "\n",
      "Epoch 155/200\n"
     ]
    },
    {
     "name": "stderr",
     "output_type": "stream",
     "text": [
      "Train: 100%|███████████████████████████████████████████████████████████████████████████| 31/31 [00:09<00:00,  3.39it/s]\n"
     ]
    },
    {
     "name": "stdout",
     "output_type": "stream",
     "text": [
      "Train Loss: 76.1497\n"
     ]
    },
    {
     "name": "stderr",
     "output_type": "stream",
     "text": [
      "Val: 100%|███████████████████████████████████████████████████████████████████████████████| 4/4 [00:00<00:00,  4.66it/s]\n"
     ]
    },
    {
     "name": "stdout",
     "output_type": "stream",
     "text": [
      "Val Loss: 73.9790\n",
      "\n",
      "Epoch 156/200\n"
     ]
    },
    {
     "name": "stderr",
     "output_type": "stream",
     "text": [
      "Train: 100%|███████████████████████████████████████████████████████████████████████████| 31/31 [00:09<00:00,  3.37it/s]\n"
     ]
    },
    {
     "name": "stdout",
     "output_type": "stream",
     "text": [
      "Train Loss: 76.1994\n"
     ]
    },
    {
     "name": "stderr",
     "output_type": "stream",
     "text": [
      "Val: 100%|███████████████████████████████████████████████████████████████████████████████| 4/4 [00:00<00:00,  4.72it/s]\n"
     ]
    },
    {
     "name": "stdout",
     "output_type": "stream",
     "text": [
      "Val Loss: 73.5872\n",
      "\n",
      "Epoch 157/200\n"
     ]
    },
    {
     "name": "stderr",
     "output_type": "stream",
     "text": [
      "Train: 100%|███████████████████████████████████████████████████████████████████████████| 31/31 [00:09<00:00,  3.37it/s]\n"
     ]
    },
    {
     "name": "stdout",
     "output_type": "stream",
     "text": [
      "Train Loss: 76.1319\n"
     ]
    },
    {
     "name": "stderr",
     "output_type": "stream",
     "text": [
      "Val: 100%|███████████████████████████████████████████████████████████████████████████████| 4/4 [00:00<00:00,  4.60it/s]\n"
     ]
    },
    {
     "name": "stdout",
     "output_type": "stream",
     "text": [
      "Val Loss: 74.3560\n",
      "\n",
      "Epoch 158/200\n"
     ]
    },
    {
     "name": "stderr",
     "output_type": "stream",
     "text": [
      "Train: 100%|███████████████████████████████████████████████████████████████████████████| 31/31 [00:08<00:00,  3.50it/s]\n"
     ]
    },
    {
     "name": "stdout",
     "output_type": "stream",
     "text": [
      "Train Loss: 76.2316\n"
     ]
    },
    {
     "name": "stderr",
     "output_type": "stream",
     "text": [
      "Val: 100%|███████████████████████████████████████████████████████████████████████████████| 4/4 [00:00<00:00,  4.58it/s]\n"
     ]
    },
    {
     "name": "stdout",
     "output_type": "stream",
     "text": [
      "Val Loss: 75.6687\n",
      "\n",
      "Epoch 159/200\n"
     ]
    },
    {
     "name": "stderr",
     "output_type": "stream",
     "text": [
      "Train: 100%|███████████████████████████████████████████████████████████████████████████| 31/31 [00:09<00:00,  3.35it/s]\n"
     ]
    },
    {
     "name": "stdout",
     "output_type": "stream",
     "text": [
      "Train Loss: 75.7593\n"
     ]
    },
    {
     "name": "stderr",
     "output_type": "stream",
     "text": [
      "Val: 100%|███████████████████████████████████████████████████████████████████████████████| 4/4 [00:00<00:00,  4.69it/s]\n"
     ]
    },
    {
     "name": "stdout",
     "output_type": "stream",
     "text": [
      "Val Loss: 74.0087\n",
      "\n",
      "Epoch 160/200\n"
     ]
    },
    {
     "name": "stderr",
     "output_type": "stream",
     "text": [
      "Train: 100%|███████████████████████████████████████████████████████████████████████████| 31/31 [00:09<00:00,  3.36it/s]\n"
     ]
    },
    {
     "name": "stdout",
     "output_type": "stream",
     "text": [
      "Train Loss: 75.8669\n"
     ]
    },
    {
     "name": "stderr",
     "output_type": "stream",
     "text": [
      "Val: 100%|███████████████████████████████████████████████████████████████████████████████| 4/4 [00:00<00:00,  4.43it/s]\n"
     ]
    },
    {
     "name": "stdout",
     "output_type": "stream",
     "text": [
      "Val Loss: 74.0520\n",
      "\n",
      "Epoch 161/200\n"
     ]
    },
    {
     "name": "stderr",
     "output_type": "stream",
     "text": [
      "Train: 100%|███████████████████████████████████████████████████████████████████████████| 31/31 [00:08<00:00,  3.52it/s]\n"
     ]
    },
    {
     "name": "stdout",
     "output_type": "stream",
     "text": [
      "Train Loss: 75.7282\n"
     ]
    },
    {
     "name": "stderr",
     "output_type": "stream",
     "text": [
      "Val: 100%|███████████████████████████████████████████████████████████████████████████████| 4/4 [00:00<00:00,  4.71it/s]\n"
     ]
    },
    {
     "name": "stdout",
     "output_type": "stream",
     "text": [
      "Val Loss: 75.2116\n",
      "\n",
      "Epoch 162/200\n"
     ]
    },
    {
     "name": "stderr",
     "output_type": "stream",
     "text": [
      "Train: 100%|███████████████████████████████████████████████████████████████████████████| 31/31 [00:09<00:00,  3.41it/s]\n"
     ]
    },
    {
     "name": "stdout",
     "output_type": "stream",
     "text": [
      "Train Loss: 75.7572\n"
     ]
    },
    {
     "name": "stderr",
     "output_type": "stream",
     "text": [
      "Val: 100%|███████████████████████████████████████████████████████████████████████████████| 4/4 [00:00<00:00,  4.47it/s]\n"
     ]
    },
    {
     "name": "stdout",
     "output_type": "stream",
     "text": [
      "Val Loss: 75.4865\n",
      "\n",
      "Epoch 163/200\n"
     ]
    },
    {
     "name": "stderr",
     "output_type": "stream",
     "text": [
      "Train: 100%|███████████████████████████████████████████████████████████████████████████| 31/31 [00:09<00:00,  3.33it/s]\n"
     ]
    },
    {
     "name": "stdout",
     "output_type": "stream",
     "text": [
      "Train Loss: 76.2869\n"
     ]
    },
    {
     "name": "stderr",
     "output_type": "stream",
     "text": [
      "Val: 100%|███████████████████████████████████████████████████████████████████████████████| 4/4 [00:00<00:00,  4.55it/s]\n"
     ]
    },
    {
     "name": "stdout",
     "output_type": "stream",
     "text": [
      "Val Loss: 73.9593\n",
      "\n",
      "Epoch 164/200\n"
     ]
    },
    {
     "name": "stderr",
     "output_type": "stream",
     "text": [
      "Train: 100%|███████████████████████████████████████████████████████████████████████████| 31/31 [00:09<00:00,  3.40it/s]\n"
     ]
    },
    {
     "name": "stdout",
     "output_type": "stream",
     "text": [
      "Train Loss: 75.7043\n"
     ]
    },
    {
     "name": "stderr",
     "output_type": "stream",
     "text": [
      "Val: 100%|███████████████████████████████████████████████████████████████████████████████| 4/4 [00:00<00:00,  4.57it/s]\n"
     ]
    },
    {
     "name": "stdout",
     "output_type": "stream",
     "text": [
      "Val Loss: 74.2280\n",
      "\n",
      "Epoch 165/200\n"
     ]
    },
    {
     "name": "stderr",
     "output_type": "stream",
     "text": [
      "Train: 100%|███████████████████████████████████████████████████████████████████████████| 31/31 [00:08<00:00,  3.51it/s]\n"
     ]
    },
    {
     "name": "stdout",
     "output_type": "stream",
     "text": [
      "Train Loss: 76.2171\n"
     ]
    },
    {
     "name": "stderr",
     "output_type": "stream",
     "text": [
      "Val: 100%|███████████████████████████████████████████████████████████████████████████████| 4/4 [00:00<00:00,  4.52it/s]\n"
     ]
    },
    {
     "name": "stdout",
     "output_type": "stream",
     "text": [
      "Val Loss: 75.0194\n",
      "\n",
      "Epoch 166/200\n"
     ]
    },
    {
     "name": "stderr",
     "output_type": "stream",
     "text": [
      "Train: 100%|███████████████████████████████████████████████████████████████████████████| 31/31 [00:09<00:00,  3.36it/s]\n"
     ]
    },
    {
     "name": "stdout",
     "output_type": "stream",
     "text": [
      "Train Loss: 75.8290\n"
     ]
    },
    {
     "name": "stderr",
     "output_type": "stream",
     "text": [
      "Val: 100%|███████████████████████████████████████████████████████████████████████████████| 4/4 [00:00<00:00,  4.67it/s]\n"
     ]
    },
    {
     "name": "stdout",
     "output_type": "stream",
     "text": [
      "Val Loss: 74.0697\n",
      "\n",
      "Epoch 167/200\n"
     ]
    },
    {
     "name": "stderr",
     "output_type": "stream",
     "text": [
      "Train: 100%|███████████████████████████████████████████████████████████████████████████| 31/31 [00:08<00:00,  3.50it/s]\n"
     ]
    },
    {
     "name": "stdout",
     "output_type": "stream",
     "text": [
      "Train Loss: 76.1083\n"
     ]
    },
    {
     "name": "stderr",
     "output_type": "stream",
     "text": [
      "Val: 100%|███████████████████████████████████████████████████████████████████████████████| 4/4 [00:00<00:00,  4.58it/s]\n"
     ]
    },
    {
     "name": "stdout",
     "output_type": "stream",
     "text": [
      "Val Loss: 74.3905\n",
      "\n",
      "Epoch 168/200\n"
     ]
    },
    {
     "name": "stderr",
     "output_type": "stream",
     "text": [
      "Train: 100%|███████████████████████████████████████████████████████████████████████████| 31/31 [00:09<00:00,  3.37it/s]\n"
     ]
    },
    {
     "name": "stdout",
     "output_type": "stream",
     "text": [
      "Train Loss: 75.4239\n"
     ]
    },
    {
     "name": "stderr",
     "output_type": "stream",
     "text": [
      "Val: 100%|███████████████████████████████████████████████████████████████████████████████| 4/4 [00:00<00:00,  4.63it/s]\n"
     ]
    },
    {
     "name": "stdout",
     "output_type": "stream",
     "text": [
      "Val Loss: 75.2268\n",
      "\n",
      "Epoch 169/200\n"
     ]
    },
    {
     "name": "stderr",
     "output_type": "stream",
     "text": [
      "Train: 100%|███████████████████████████████████████████████████████████████████████████| 31/31 [00:08<00:00,  3.51it/s]\n"
     ]
    },
    {
     "name": "stdout",
     "output_type": "stream",
     "text": [
      "Train Loss: 76.3674\n"
     ]
    },
    {
     "name": "stderr",
     "output_type": "stream",
     "text": [
      "Val: 100%|███████████████████████████████████████████████████████████████████████████████| 4/4 [00:00<00:00,  4.61it/s]\n"
     ]
    },
    {
     "name": "stdout",
     "output_type": "stream",
     "text": [
      "Val Loss: 75.3683\n",
      "\n",
      "Epoch 170/200\n"
     ]
    },
    {
     "name": "stderr",
     "output_type": "stream",
     "text": [
      "Train: 100%|███████████████████████████████████████████████████████████████████████████| 31/31 [00:09<00:00,  3.35it/s]\n"
     ]
    },
    {
     "name": "stdout",
     "output_type": "stream",
     "text": [
      "Train Loss: 75.7971\n"
     ]
    },
    {
     "name": "stderr",
     "output_type": "stream",
     "text": [
      "Val: 100%|███████████████████████████████████████████████████████████████████████████████| 4/4 [00:00<00:00,  4.63it/s]\n"
     ]
    },
    {
     "name": "stdout",
     "output_type": "stream",
     "text": [
      "Val Loss: 73.8854\n",
      "\n",
      "Epoch 171/200\n"
     ]
    },
    {
     "name": "stderr",
     "output_type": "stream",
     "text": [
      "Train: 100%|███████████████████████████████████████████████████████████████████████████| 31/31 [00:09<00:00,  3.37it/s]\n"
     ]
    },
    {
     "name": "stdout",
     "output_type": "stream",
     "text": [
      "Train Loss: 75.8649\n"
     ]
    },
    {
     "name": "stderr",
     "output_type": "stream",
     "text": [
      "Val: 100%|███████████████████████████████████████████████████████████████████████████████| 4/4 [00:00<00:00,  4.44it/s]\n"
     ]
    },
    {
     "name": "stdout",
     "output_type": "stream",
     "text": [
      "Val Loss: 75.6022\n",
      "\n",
      "Epoch 172/200\n"
     ]
    },
    {
     "name": "stderr",
     "output_type": "stream",
     "text": [
      "Train: 100%|███████████████████████████████████████████████████████████████████████████| 31/31 [00:08<00:00,  3.48it/s]\n"
     ]
    },
    {
     "name": "stdout",
     "output_type": "stream",
     "text": [
      "Train Loss: 75.8627\n"
     ]
    },
    {
     "name": "stderr",
     "output_type": "stream",
     "text": [
      "Val: 100%|███████████████████████████████████████████████████████████████████████████████| 4/4 [00:00<00:00,  4.47it/s]\n"
     ]
    },
    {
     "name": "stdout",
     "output_type": "stream",
     "text": [
      "Val Loss: 74.6613\n",
      "\n",
      "Epoch 173/200\n"
     ]
    },
    {
     "name": "stderr",
     "output_type": "stream",
     "text": [
      "Train: 100%|███████████████████████████████████████████████████████████████████████████| 31/31 [00:09<00:00,  3.34it/s]\n"
     ]
    },
    {
     "name": "stdout",
     "output_type": "stream",
     "text": [
      "Train Loss: 76.0726\n"
     ]
    },
    {
     "name": "stderr",
     "output_type": "stream",
     "text": [
      "Val: 100%|███████████████████████████████████████████████████████████████████████████████| 4/4 [00:00<00:00,  4.58it/s]\n"
     ]
    },
    {
     "name": "stdout",
     "output_type": "stream",
     "text": [
      "Val Loss: 74.9035\n",
      "\n",
      "Epoch 174/200\n"
     ]
    },
    {
     "name": "stderr",
     "output_type": "stream",
     "text": [
      "Train: 100%|███████████████████████████████████████████████████████████████████████████| 31/31 [00:09<00:00,  3.39it/s]\n"
     ]
    },
    {
     "name": "stdout",
     "output_type": "stream",
     "text": [
      "Train Loss: 75.6648\n"
     ]
    },
    {
     "name": "stderr",
     "output_type": "stream",
     "text": [
      "Val: 100%|███████████████████████████████████████████████████████████████████████████████| 4/4 [00:00<00:00,  4.78it/s]\n"
     ]
    },
    {
     "name": "stdout",
     "output_type": "stream",
     "text": [
      "Val Loss: 75.0742\n",
      "\n",
      "Epoch 175/200\n"
     ]
    },
    {
     "name": "stderr",
     "output_type": "stream",
     "text": [
      "Train: 100%|███████████████████████████████████████████████████████████████████████████| 31/31 [00:09<00:00,  3.38it/s]\n"
     ]
    },
    {
     "name": "stdout",
     "output_type": "stream",
     "text": [
      "Train Loss: 75.9039\n"
     ]
    },
    {
     "name": "stderr",
     "output_type": "stream",
     "text": [
      "Val: 100%|███████████████████████████████████████████████████████████████████████████████| 4/4 [00:00<00:00,  4.64it/s]\n"
     ]
    },
    {
     "name": "stdout",
     "output_type": "stream",
     "text": [
      "Val Loss: 74.4852\n",
      "\n",
      "Epoch 176/200\n"
     ]
    },
    {
     "name": "stderr",
     "output_type": "stream",
     "text": [
      "Train: 100%|███████████████████████████████████████████████████████████████████████████| 31/31 [00:09<00:00,  3.38it/s]\n"
     ]
    },
    {
     "name": "stdout",
     "output_type": "stream",
     "text": [
      "Train Loss: 75.5828\n"
     ]
    },
    {
     "name": "stderr",
     "output_type": "stream",
     "text": [
      "Val: 100%|███████████████████████████████████████████████████████████████████████████████| 4/4 [00:00<00:00,  4.55it/s]\n"
     ]
    },
    {
     "name": "stdout",
     "output_type": "stream",
     "text": [
      "Val Loss: 75.9957\n",
      "\n",
      "Epoch 177/200\n"
     ]
    },
    {
     "name": "stderr",
     "output_type": "stream",
     "text": [
      "Train: 100%|███████████████████████████████████████████████████████████████████████████| 31/31 [00:08<00:00,  3.52it/s]\n"
     ]
    },
    {
     "name": "stdout",
     "output_type": "stream",
     "text": [
      "Train Loss: 75.7200\n"
     ]
    },
    {
     "name": "stderr",
     "output_type": "stream",
     "text": [
      "Val: 100%|███████████████████████████████████████████████████████████████████████████████| 4/4 [00:00<00:00,  4.61it/s]\n"
     ]
    },
    {
     "name": "stdout",
     "output_type": "stream",
     "text": [
      "Val Loss: 75.1821\n",
      "\n",
      "Epoch 178/200\n"
     ]
    },
    {
     "name": "stderr",
     "output_type": "stream",
     "text": [
      "Train: 100%|███████████████████████████████████████████████████████████████████████████| 31/31 [00:09<00:00,  3.36it/s]\n"
     ]
    },
    {
     "name": "stdout",
     "output_type": "stream",
     "text": [
      "Train Loss: 75.6782\n"
     ]
    },
    {
     "name": "stderr",
     "output_type": "stream",
     "text": [
      "Val: 100%|███████████████████████████████████████████████████████████████████████████████| 4/4 [00:00<00:00,  4.52it/s]\n"
     ]
    },
    {
     "name": "stdout",
     "output_type": "stream",
     "text": [
      "Val Loss: 75.0479\n",
      "\n",
      "Epoch 179/200\n"
     ]
    },
    {
     "name": "stderr",
     "output_type": "stream",
     "text": [
      "Train: 100%|███████████████████████████████████████████████████████████████████████████| 31/31 [00:08<00:00,  3.51it/s]\n"
     ]
    },
    {
     "name": "stdout",
     "output_type": "stream",
     "text": [
      "Train Loss: 75.7788\n"
     ]
    },
    {
     "name": "stderr",
     "output_type": "stream",
     "text": [
      "Val: 100%|███████████████████████████████████████████████████████████████████████████████| 4/4 [00:00<00:00,  4.80it/s]\n"
     ]
    },
    {
     "name": "stdout",
     "output_type": "stream",
     "text": [
      "Val Loss: 75.3011\n",
      "\n",
      "Epoch 180/200\n"
     ]
    },
    {
     "name": "stderr",
     "output_type": "stream",
     "text": [
      "Train: 100%|███████████████████████████████████████████████████████████████████████████| 31/31 [00:09<00:00,  3.40it/s]\n"
     ]
    },
    {
     "name": "stdout",
     "output_type": "stream",
     "text": [
      "Train Loss: 75.8483\n"
     ]
    },
    {
     "name": "stderr",
     "output_type": "stream",
     "text": [
      "Val: 100%|███████████████████████████████████████████████████████████████████████████████| 4/4 [00:00<00:00,  4.51it/s]\n"
     ]
    },
    {
     "name": "stdout",
     "output_type": "stream",
     "text": [
      "Val Loss: 76.0188\n",
      "\n",
      "Epoch 181/200\n"
     ]
    },
    {
     "name": "stderr",
     "output_type": "stream",
     "text": [
      "Train: 100%|███████████████████████████████████████████████████████████████████████████| 31/31 [00:09<00:00,  3.35it/s]\n"
     ]
    },
    {
     "name": "stdout",
     "output_type": "stream",
     "text": [
      "Train Loss: 75.1994\n"
     ]
    },
    {
     "name": "stderr",
     "output_type": "stream",
     "text": [
      "Val: 100%|███████████████████████████████████████████████████████████████████████████████| 4/4 [00:00<00:00,  4.57it/s]\n"
     ]
    },
    {
     "name": "stdout",
     "output_type": "stream",
     "text": [
      "Val Loss: 75.2175\n",
      "\n",
      "Epoch 182/200\n"
     ]
    },
    {
     "name": "stderr",
     "output_type": "stream",
     "text": [
      "Train: 100%|███████████████████████████████████████████████████████████████████████████| 31/31 [00:09<00:00,  3.35it/s]\n"
     ]
    },
    {
     "name": "stdout",
     "output_type": "stream",
     "text": [
      "Train Loss: 75.1997\n"
     ]
    },
    {
     "name": "stderr",
     "output_type": "stream",
     "text": [
      "Val: 100%|███████████████████████████████████████████████████████████████████████████████| 4/4 [00:00<00:00,  4.52it/s]\n"
     ]
    },
    {
     "name": "stdout",
     "output_type": "stream",
     "text": [
      "Val Loss: 74.3779\n",
      "\n",
      "Epoch 183/200\n"
     ]
    },
    {
     "name": "stderr",
     "output_type": "stream",
     "text": [
      "Train: 100%|███████████████████████████████████████████████████████████████████████████| 31/31 [00:09<00:00,  3.36it/s]\n"
     ]
    },
    {
     "name": "stdout",
     "output_type": "stream",
     "text": [
      "Train Loss: 75.6300\n"
     ]
    },
    {
     "name": "stderr",
     "output_type": "stream",
     "text": [
      "Val: 100%|███████████████████████████████████████████████████████████████████████████████| 4/4 [00:00<00:00,  4.63it/s]\n"
     ]
    },
    {
     "name": "stdout",
     "output_type": "stream",
     "text": [
      "Val Loss: 74.9071\n",
      "\n",
      "Epoch 184/200\n"
     ]
    },
    {
     "name": "stderr",
     "output_type": "stream",
     "text": [
      "Train: 100%|███████████████████████████████████████████████████████████████████████████| 31/31 [00:09<00:00,  3.37it/s]\n"
     ]
    },
    {
     "name": "stdout",
     "output_type": "stream",
     "text": [
      "Train Loss: 75.7106\n"
     ]
    },
    {
     "name": "stderr",
     "output_type": "stream",
     "text": [
      "Val: 100%|███████████████████████████████████████████████████████████████████████████████| 4/4 [00:00<00:00,  4.46it/s]\n"
     ]
    },
    {
     "name": "stdout",
     "output_type": "stream",
     "text": [
      "Val Loss: 76.0735\n",
      "\n",
      "Epoch 185/200\n"
     ]
    },
    {
     "name": "stderr",
     "output_type": "stream",
     "text": [
      "Train: 100%|███████████████████████████████████████████████████████████████████████████| 31/31 [00:09<00:00,  3.36it/s]\n"
     ]
    },
    {
     "name": "stdout",
     "output_type": "stream",
     "text": [
      "Train Loss: 75.8800\n"
     ]
    },
    {
     "name": "stderr",
     "output_type": "stream",
     "text": [
      "Val: 100%|███████████████████████████████████████████████████████████████████████████████| 4/4 [00:00<00:00,  4.65it/s]\n"
     ]
    },
    {
     "name": "stdout",
     "output_type": "stream",
     "text": [
      "Val Loss: 74.8232\n",
      "\n",
      "Epoch 186/200\n"
     ]
    },
    {
     "name": "stderr",
     "output_type": "stream",
     "text": [
      "Train: 100%|███████████████████████████████████████████████████████████████████████████| 31/31 [00:09<00:00,  3.38it/s]\n"
     ]
    },
    {
     "name": "stdout",
     "output_type": "stream",
     "text": [
      "Train Loss: 75.8876\n"
     ]
    },
    {
     "name": "stderr",
     "output_type": "stream",
     "text": [
      "Val: 100%|███████████████████████████████████████████████████████████████████████████████| 4/4 [00:00<00:00,  4.67it/s]\n"
     ]
    },
    {
     "name": "stdout",
     "output_type": "stream",
     "text": [
      "Val Loss: 74.5655\n",
      "\n",
      "Epoch 187/200\n"
     ]
    },
    {
     "name": "stderr",
     "output_type": "stream",
     "text": [
      "Train: 100%|███████████████████████████████████████████████████████████████████████████| 31/31 [00:09<00:00,  3.41it/s]\n"
     ]
    },
    {
     "name": "stdout",
     "output_type": "stream",
     "text": [
      "Train Loss: 75.6227\n"
     ]
    },
    {
     "name": "stderr",
     "output_type": "stream",
     "text": [
      "Val: 100%|███████████████████████████████████████████████████████████████████████████████| 4/4 [00:00<00:00,  4.71it/s]\n"
     ]
    },
    {
     "name": "stdout",
     "output_type": "stream",
     "text": [
      "Val Loss: 75.2245\n",
      "\n",
      "Epoch 188/200\n"
     ]
    },
    {
     "name": "stderr",
     "output_type": "stream",
     "text": [
      "Train: 100%|███████████████████████████████████████████████████████████████████████████| 31/31 [00:09<00:00,  3.37it/s]\n"
     ]
    },
    {
     "name": "stdout",
     "output_type": "stream",
     "text": [
      "Train Loss: 75.7837\n"
     ]
    },
    {
     "name": "stderr",
     "output_type": "stream",
     "text": [
      "Val: 100%|███████████████████████████████████████████████████████████████████████████████| 4/4 [00:00<00:00,  4.59it/s]\n"
     ]
    },
    {
     "name": "stdout",
     "output_type": "stream",
     "text": [
      "Val Loss: 75.3624\n",
      "\n",
      "Epoch 189/200\n"
     ]
    },
    {
     "name": "stderr",
     "output_type": "stream",
     "text": [
      "Train: 100%|███████████████████████████████████████████████████████████████████████████| 31/31 [00:09<00:00,  3.34it/s]\n"
     ]
    },
    {
     "name": "stdout",
     "output_type": "stream",
     "text": [
      "Train Loss: 76.1451\n"
     ]
    },
    {
     "name": "stderr",
     "output_type": "stream",
     "text": [
      "Val: 100%|███████████████████████████████████████████████████████████████████████████████| 4/4 [00:00<00:00,  4.60it/s]\n"
     ]
    },
    {
     "name": "stdout",
     "output_type": "stream",
     "text": [
      "Val Loss: 75.4075\n",
      "\n",
      "Epoch 190/200\n"
     ]
    },
    {
     "name": "stderr",
     "output_type": "stream",
     "text": [
      "Train: 100%|███████████████████████████████████████████████████████████████████████████| 31/31 [00:09<00:00,  3.38it/s]\n"
     ]
    },
    {
     "name": "stdout",
     "output_type": "stream",
     "text": [
      "Train Loss: 75.4035\n"
     ]
    },
    {
     "name": "stderr",
     "output_type": "stream",
     "text": [
      "Val: 100%|███████████████████████████████████████████████████████████████████████████████| 4/4 [00:00<00:00,  4.43it/s]\n"
     ]
    },
    {
     "name": "stdout",
     "output_type": "stream",
     "text": [
      "Val Loss: 75.0758\n",
      "\n",
      "Epoch 191/200\n"
     ]
    },
    {
     "name": "stderr",
     "output_type": "stream",
     "text": [
      "Train: 100%|███████████████████████████████████████████████████████████████████████████| 31/31 [00:08<00:00,  3.52it/s]\n"
     ]
    },
    {
     "name": "stdout",
     "output_type": "stream",
     "text": [
      "Train Loss: 75.8980\n"
     ]
    },
    {
     "name": "stderr",
     "output_type": "stream",
     "text": [
      "Val: 100%|███████████████████████████████████████████████████████████████████████████████| 4/4 [00:00<00:00,  4.61it/s]\n"
     ]
    },
    {
     "name": "stdout",
     "output_type": "stream",
     "text": [
      "Val Loss: 76.4507\n",
      "\n",
      "Epoch 192/200\n"
     ]
    },
    {
     "name": "stderr",
     "output_type": "stream",
     "text": [
      "Train: 100%|███████████████████████████████████████████████████████████████████████████| 31/31 [00:09<00:00,  3.39it/s]\n"
     ]
    },
    {
     "name": "stdout",
     "output_type": "stream",
     "text": [
      "Train Loss: 76.0242\n"
     ]
    },
    {
     "name": "stderr",
     "output_type": "stream",
     "text": [
      "Val: 100%|███████████████████████████████████████████████████████████████████████████████| 4/4 [00:00<00:00,  4.65it/s]\n"
     ]
    },
    {
     "name": "stdout",
     "output_type": "stream",
     "text": [
      "Val Loss: 74.8029\n",
      "\n",
      "Epoch 193/200\n"
     ]
    },
    {
     "name": "stderr",
     "output_type": "stream",
     "text": [
      "Train: 100%|███████████████████████████████████████████████████████████████████████████| 31/31 [00:09<00:00,  3.40it/s]\n"
     ]
    },
    {
     "name": "stdout",
     "output_type": "stream",
     "text": [
      "Train Loss: 75.4430\n"
     ]
    },
    {
     "name": "stderr",
     "output_type": "stream",
     "text": [
      "Val: 100%|███████████████████████████████████████████████████████████████████████████████| 4/4 [00:00<00:00,  4.63it/s]\n"
     ]
    },
    {
     "name": "stdout",
     "output_type": "stream",
     "text": [
      "Val Loss: 73.2438\n",
      "\n",
      "Epoch 194/200\n"
     ]
    },
    {
     "name": "stderr",
     "output_type": "stream",
     "text": [
      "Train: 100%|███████████████████████████████████████████████████████████████████████████| 31/31 [00:08<00:00,  3.51it/s]\n"
     ]
    },
    {
     "name": "stdout",
     "output_type": "stream",
     "text": [
      "Train Loss: 75.6699\n"
     ]
    },
    {
     "name": "stderr",
     "output_type": "stream",
     "text": [
      "Val: 100%|███████████████████████████████████████████████████████████████████████████████| 4/4 [00:00<00:00,  4.66it/s]\n"
     ]
    },
    {
     "name": "stdout",
     "output_type": "stream",
     "text": [
      "Val Loss: 76.8421\n",
      "\n",
      "Epoch 195/200\n"
     ]
    },
    {
     "name": "stderr",
     "output_type": "stream",
     "text": [
      "Train: 100%|███████████████████████████████████████████████████████████████████████████| 31/31 [00:09<00:00,  3.29it/s]\n"
     ]
    },
    {
     "name": "stdout",
     "output_type": "stream",
     "text": [
      "Train Loss: 75.4541\n"
     ]
    },
    {
     "name": "stderr",
     "output_type": "stream",
     "text": [
      "Val: 100%|███████████████████████████████████████████████████████████████████████████████| 4/4 [00:00<00:00,  4.63it/s]\n"
     ]
    },
    {
     "name": "stdout",
     "output_type": "stream",
     "text": [
      "Val Loss: 75.2443\n",
      "\n",
      "Epoch 196/200\n"
     ]
    },
    {
     "name": "stderr",
     "output_type": "stream",
     "text": [
      "Train: 100%|███████████████████████████████████████████████████████████████████████████| 31/31 [00:09<00:00,  3.35it/s]\n"
     ]
    },
    {
     "name": "stdout",
     "output_type": "stream",
     "text": [
      "Train Loss: 75.7964\n"
     ]
    },
    {
     "name": "stderr",
     "output_type": "stream",
     "text": [
      "Val: 100%|███████████████████████████████████████████████████████████████████████████████| 4/4 [00:00<00:00,  4.44it/s]\n"
     ]
    },
    {
     "name": "stdout",
     "output_type": "stream",
     "text": [
      "Val Loss: 74.7655\n",
      "\n",
      "Epoch 197/200\n"
     ]
    },
    {
     "name": "stderr",
     "output_type": "stream",
     "text": [
      "Train: 100%|███████████████████████████████████████████████████████████████████████████| 31/31 [00:09<00:00,  3.36it/s]\n"
     ]
    },
    {
     "name": "stdout",
     "output_type": "stream",
     "text": [
      "Train Loss: 75.5235\n"
     ]
    },
    {
     "name": "stderr",
     "output_type": "stream",
     "text": [
      "Val: 100%|███████████████████████████████████████████████████████████████████████████████| 4/4 [00:00<00:00,  4.61it/s]\n"
     ]
    },
    {
     "name": "stdout",
     "output_type": "stream",
     "text": [
      "Val Loss: 76.5723\n",
      "\n",
      "Epoch 198/200\n"
     ]
    },
    {
     "name": "stderr",
     "output_type": "stream",
     "text": [
      "Train: 100%|███████████████████████████████████████████████████████████████████████████| 31/31 [00:09<00:00,  3.33it/s]\n"
     ]
    },
    {
     "name": "stdout",
     "output_type": "stream",
     "text": [
      "Train Loss: 75.7328\n"
     ]
    },
    {
     "name": "stderr",
     "output_type": "stream",
     "text": [
      "Val: 100%|███████████████████████████████████████████████████████████████████████████████| 4/4 [00:00<00:00,  4.47it/s]\n"
     ]
    },
    {
     "name": "stdout",
     "output_type": "stream",
     "text": [
      "Val Loss: 74.9775\n",
      "\n",
      "Epoch 199/200\n"
     ]
    },
    {
     "name": "stderr",
     "output_type": "stream",
     "text": [
      "Train: 100%|███████████████████████████████████████████████████████████████████████████| 31/31 [00:09<00:00,  3.34it/s]\n"
     ]
    },
    {
     "name": "stdout",
     "output_type": "stream",
     "text": [
      "Train Loss: 75.7312\n"
     ]
    },
    {
     "name": "stderr",
     "output_type": "stream",
     "text": [
      "Val: 100%|███████████████████████████████████████████████████████████████████████████████| 4/4 [00:00<00:00,  4.58it/s]\n"
     ]
    },
    {
     "name": "stdout",
     "output_type": "stream",
     "text": [
      "Val Loss: 74.4845\n",
      "\n",
      "Epoch 200/200\n"
     ]
    },
    {
     "name": "stderr",
     "output_type": "stream",
     "text": [
      "Train: 100%|███████████████████████████████████████████████████████████████████████████| 31/31 [00:09<00:00,  3.36it/s]\n"
     ]
    },
    {
     "name": "stdout",
     "output_type": "stream",
     "text": [
      "Train Loss: 75.3932\n"
     ]
    },
    {
     "name": "stderr",
     "output_type": "stream",
     "text": [
      "Val: 100%|███████████████████████████████████████████████████████████████████████████████| 4/4 [00:00<00:00,  4.54it/s]"
     ]
    },
    {
     "name": "stdout",
     "output_type": "stream",
     "text": [
      "Val Loss: 76.6011\n"
     ]
    },
    {
     "name": "stderr",
     "output_type": "stream",
     "text": [
      "\n"
     ]
    }
   ],
   "source": [
    "import torch\n",
    "import torch.nn as nn\n",
    "from tqdm import tqdm\n",
    "\n",
    "# === Freeze Segmentation Head Only ===\n",
    "for param in model.seg_head.parameters():\n",
    "    param.requires_grad = False\n",
    "\n",
    "# Unfreeze YOLO backbone + detection heads\n",
    "for param in model.yolo.parameters():\n",
    "    param.requires_grad = True\n",
    "for param in model.det_fc.parameters():\n",
    "    param.requires_grad = True\n",
    "for param in model.bbox_regressor.parameters():\n",
    "    param.requires_grad = True\n",
    "for param in model.classifier.parameters():\n",
    "    param.requires_grad = True\n",
    "\n",
    "# === Loss Functions (Scalar Reduction) ===\n",
    "criterion_bbox = nn.SmoothL1Loss(reduction='mean')   # regression for bbox\n",
    "criterion_cls = nn.CrossEntropyLoss(reduction='mean') # classification loss\n",
    "\n",
    "# === Optimizer ===\n",
    "optimizer = torch.optim.Adam([\n",
    "    {'params': model.yolo.parameters(), 'lr': 1e-4},           # backbone\n",
    "    {'params': model.det_fc.parameters(), 'lr': 1e-3},         # detection feature head\n",
    "    {'params': model.bbox_regressor.parameters(), 'lr': 1e-3}, # bbox regressor\n",
    "    {'params': model.classifier.parameters(), 'lr': 1e-3}      # classifier\n",
    "])\n",
    "\n",
    "# === Training Loop ===\n",
    "EPOCHS = 200\n",
    "\n",
    "for epoch in range(EPOCHS):\n",
    "    model.train()\n",
    "    train_loss = 0.0\n",
    "    print(f\"\\nEpoch {epoch+1}/{EPOCHS}\")\n",
    "\n",
    "    for images, bbox_targets, class_targets in tqdm(train_loader, desc=\"Train\"):\n",
    "        images = images.to(device)\n",
    "        bbox_targets = bbox_targets.to(device)\n",
    "        class_targets = class_targets.to(device)\n",
    "\n",
    "        optimizer.zero_grad()\n",
    "\n",
    "        # Forward pass\n",
    "        bbox_out, class_out, _ = model(images)\n",
    "\n",
    "        # Compute losses\n",
    "        loss_bbox = criterion_bbox(bbox_out, bbox_targets)\n",
    "        loss_cls = criterion_cls(class_out, class_targets)\n",
    "        loss = loss_bbox + loss_cls\n",
    "\n",
    "        # Ensure scalar loss\n",
    "        assert loss.dim() == 0, f\"Expected scalar loss, got shape: {loss.shape}\"\n",
    "\n",
    "        # Backpropagation\n",
    "        loss.backward()\n",
    "        optimizer.step()\n",
    "\n",
    "        train_loss += loss.item()\n",
    "\n",
    "    avg_train_loss = train_loss / len(train_loader)\n",
    "    print(f\"Train Loss: {avg_train_loss:.4f}\")\n",
    "\n",
    "    # === Validation ===\n",
    "    model.eval()\n",
    "    val_loss = 0.0\n",
    "    with torch.no_grad():\n",
    "        for images, bbox_targets, class_targets in tqdm(val_loader, desc=\"Val\"):\n",
    "            images = images.to(device)\n",
    "            bbox_targets = bbox_targets.to(device)\n",
    "            class_targets = class_targets.to(device)\n",
    "\n",
    "            bbox_out, class_out, _ = model(images)\n",
    "\n",
    "            loss_bbox = criterion_bbox(bbox_out, bbox_targets)\n",
    "            loss_cls = criterion_cls(class_out, class_targets)\n",
    "            loss = loss_bbox + loss_cls\n",
    "\n",
    "            val_loss += loss.item()\n",
    "\n",
    "    avg_val_loss = val_loss / len(val_loader)\n",
    "    print(f\"Val Loss: {avg_val_loss:.4f}\")\n"
   ]
  },
  {
   "cell_type": "code",
   "execution_count": 41,
   "id": "38cb8ebb-bfbc-45eb-92d1-5b81326b1ee8",
   "metadata": {},
   "outputs": [
    {
     "data": {
      "text/plain": [
       "'C:\\\\Users\\\\Baron\\\\Desktop\\\\EE_297_Repo\\\\EE_297\\\\ML_PATH_EE297\\\\EE297_env\\\\01_main\\\\02_signs_code'"
      ]
     },
     "execution_count": 41,
     "metadata": {},
     "output_type": "execute_result"
    }
   ],
   "source": [
    "pwd"
   ]
  },
  {
   "cell_type": "code",
   "execution_count": 48,
   "id": "51b1f905-67f6-455c-8a6f-f2bcf7303a1d",
   "metadata": {},
   "outputs": [
    {
     "name": "stdout",
     "output_type": "stream",
     "text": [
      "[[10  0  1  0  0  1]\n",
      " [ 0  6  0  0  0  0]\n",
      " [ 1  0  7  0  0  0]\n",
      " [ 0  0  3  5  0  0]\n",
      " [ 1  0  1  0  9  1]\n",
      " [ 4  0  0  0  0  4]]\n"
     ]
    }
   ],
   "source": [
    "# After training loop finishes\n",
    "from sklearn.metrics import confusion_matrix\n",
    "import numpy as np\n",
    "\n",
    "all_t, all_p = [], []\n",
    "model.eval()\n",
    "with torch.no_grad():\n",
    "    for x, b, y in val_loader:\n",
    "        _, logits, _ = model(x.to(device))\n",
    "        all_t.extend(y.cpu().tolist())\n",
    "        all_p.extend(logits.argmax(1).cpu().tolist())\n",
    "\n",
    "cm = confusion_matrix(all_t, all_p, labels=list(range(num_classes)))\n",
    "print(cm)"
   ]
  },
  {
   "cell_type": "markdown",
   "id": "8f856faa-74cb-41ce-b16b-40354d573285",
   "metadata": {},
   "source": [
    "### Load Model"
   ]
  },
  {
   "cell_type": "code",
   "execution_count": 42,
   "id": "e0442a07-61ae-4ec8-a037-9639bdb11723",
   "metadata": {},
   "outputs": [
    {
     "name": "stdout",
     "output_type": "stream",
     "text": [
      "✅ Model saved to C:\\Users\\Baron\\Desktop\\EE_297_Repo\\EE_297\\ML_PATH_EE297\\EE297_env\\01_main\\01_models\\yolo_bbox_sign_weights.pth\n"
     ]
    }
   ],
   "source": [
    "# Define path\n",
    "save_path = r\"C:\\Users\\Baron\\Desktop\\EE_297_Repo\\EE_297\\ML_PATH_EE297\\EE297_env\\01_main\\01_models\\yolo_bbox_sign_weights.pth\"\n",
    "\n",
    "# ✅ Now save the model\n",
    "torch.save(model.state_dict(), save_path)\n",
    "print(f\"✅ Model saved to {save_path}\")"
   ]
  },
  {
   "cell_type": "code",
   "execution_count": 43,
   "id": "eb8246d6-0203-4186-8c88-e39a59a7f938",
   "metadata": {},
   "outputs": [
    {
     "name": "stderr",
     "output_type": "stream",
     "text": [
      "C:\\Users\\Baron\\AppData\\Local\\Temp\\ipykernel_94052\\3326419338.py:2: FutureWarning: You are using `torch.load` with `weights_only=False` (the current default value), which uses the default pickle module implicitly. It is possible to construct malicious pickle data which will execute arbitrary code during unpickling (See https://github.com/pytorch/pytorch/blob/main/SECURITY.md#untrusted-models for more details). In a future release, the default value for `weights_only` will be flipped to `True`. This limits the functions that could be executed during unpickling. Arbitrary objects will no longer be allowed to be loaded via this mode unless they are explicitly allowlisted by the user via `torch.serialization.add_safe_globals`. We recommend you start setting `weights_only=True` for any use case where you don't have full control of the loaded file. Please open an issue on GitHub for any issues related to this experimental feature.\n",
      "  state_dict = torch.load(r\"C:\\Users\\Baron\\Desktop\\EE_297_Repo\\EE_297\\ML_PATH_EE297\\EE297_env\\01_main\\01_models\\yolo_bbox_sign_weights.pth\", map_location=device)\n"
     ]
    },
    {
     "data": {
      "text/plain": [
       "<All keys matched successfully>"
      ]
     },
     "execution_count": 43,
     "metadata": {},
     "output_type": "execute_result"
    }
   ],
   "source": [
    "# 🔁 Load pretrained encoder (from segmentation phase)\n",
    "state_dict = torch.load(r\"C:\\Users\\Baron\\Desktop\\EE_297_Repo\\EE_297\\ML_PATH_EE297\\EE297_env\\01_main\\01_models\\yolo_bbox_sign_weights.pth\", map_location=device)\n",
    "model.load_state_dict(state_dict)"
   ]
  },
  {
   "cell_type": "code",
   "execution_count": 44,
   "id": "5f4543c7-277f-48f7-9470-f132c6dfff91",
   "metadata": {},
   "outputs": [],
   "source": [
    "### Importing the Test Values\n",
    "##  Baron's Path\n",
    "signs_dataset = r\"C:\\Users\\Baron\\Documents\\Grad_School\\EE_297A\\Project\\datasets\\signs_0\\db_lisa_tiny\"\n",
    "\n",
    "signs_df_test = pd.read_csv(f\"{signs_dataset}/annotations_test.csv\", delimiter = \",\")\n"
   ]
  },
  {
   "cell_type": "code",
   "execution_count": 45,
   "id": "2d357302-576d-41ce-8b0e-8d0289d1615b",
   "metadata": {},
   "outputs": [],
   "source": [
    "# Use ImageNet normalization for ResNet\n",
    "\n",
    "# Create dataset and loader\n",
    "sign_dataset = SignDetectionDataset(signs_df_test, transform=transform)\n",
    "sign_loader = DataLoader(sign_dataset, batch_size=32, shuffle=True)"
   ]
  },
  {
   "cell_type": "code",
   "execution_count": 46,
   "id": "7fada3be-cbd3-454a-b71e-d7925f73ebe1",
   "metadata": {},
   "outputs": [],
   "source": [
    "# -------- Define transform (same as training) --------\n",
    "transform = transforms.Compose([\n",
    "    transforms.Resize((224, 224)),\n",
    "    transforms.ToTensor(),\n",
    "    transforms.Normalize(mean=[0.485, 0.456, 0.406],\n",
    "                         std=[0.229, 0.224, 0.225])\n",
    "])"
   ]
  },
  {
   "cell_type": "code",
   "execution_count": 47,
   "id": "1501d953-6f6f-441a-9c87-efd5f37aae4b",
   "metadata": {},
   "outputs": [
    {
     "name": "stderr",
     "output_type": "stream",
     "text": [
      "Evaluating on test data: 100%|█████████████████████████████████████████████████████████| 60/60 [00:02<00:00, 21.68it/s]"
     ]
    },
    {
     "name": "stdout",
     "output_type": "stream",
     "text": [
      "\n",
      "🧠 Classification Accuracy on test set: 18.33%\n",
      "📦 Average BBox Loss (SmoothL1) on test set: 1480.4796\n"
     ]
    },
    {
     "name": "stderr",
     "output_type": "stream",
     "text": [
      "\n"
     ]
    }
   ],
   "source": [
    "import torch\n",
    "from PIL import Image\n",
    "from tqdm import tqdm\n",
    "import torchvision.transforms as transforms\n",
    "import torch.nn as nn\n",
    "\n",
    "# === Eval Mode ===\n",
    "model.eval()\n",
    "\n",
    "# Counters\n",
    "correct = 0\n",
    "total = 0\n",
    "bbox_loss_total = 0.0\n",
    "\n",
    "# BBox loss for evaluation\n",
    "criterion_bbox = nn.SmoothL1Loss(reduction='sum')\n",
    "\n",
    "# Transform (same as training, but adjust to your input size)\n",
    "transform = transforms.Compose([\n",
    "    transforms.Resize((640, 640)),  # match model input size\n",
    "    transforms.ToTensor(),\n",
    "])\n",
    "\n",
    "# Ensure dataframe is in order\n",
    "signs_df_test = signs_df_test.reset_index(drop=True)\n",
    "\n",
    "# Loop through test set\n",
    "for idx in tqdm(range(len(signs_df_test)), desc=\"Evaluating on test data\"):\n",
    "    # === Load image and label ===\n",
    "    img_path = signs_df_test.loc[idx, \"full_path\"]\n",
    "    true_label = int(signs_df_test.loc[idx, \"LabelIndex\"])\n",
    "\n",
    "    image = Image.open(img_path).convert(\"RGB\")\n",
    "    input_tensor = transform(image).unsqueeze(0).to(device)  # shape: (1, 3, 640, 640)\n",
    "\n",
    "    # Read bbox from dataframe in cx, cy, w, h format\n",
    "    x1, y1 = float(signs_df_test.loc[idx, \"x1\"]), float(signs_df_test.loc[idx, \"y1\"])\n",
    "    x2, y2 = float(signs_df_test.loc[idx, \"x2\"]), float(signs_df_test.loc[idx, \"y2\"])\n",
    "    cx = (x1 + x2) / 2.0\n",
    "    cy = (y1 + y2) / 2.0\n",
    "    bw = (x2 - x1)\n",
    "    bh = (y2 - y1)\n",
    "\n",
    "    # Normalize bbox coords to [0,1] for SmoothL1 loss\n",
    "    img_w, img_h = image.size\n",
    "    cx /= img_w; cy /= img_h\n",
    "    bw /= img_w; bh /= img_h\n",
    "\n",
    "    true_bbox = torch.tensor([[cx, cy, bw, bh]], dtype=torch.float32).to(device)\n",
    "\n",
    "    # === Inference ===\n",
    "    with torch.no_grad():\n",
    "        pred_bbox, pred_class_logits, _ = model(input_tensor)\n",
    "\n",
    "    # Classification accuracy\n",
    "    predicted_class = pred_class_logits.argmax(dim=1).item()\n",
    "    if predicted_class == true_label:\n",
    "        correct += 1\n",
    "    total += 1\n",
    "\n",
    "    # BBox loss\n",
    "    bbox_loss_total += criterion_bbox(pred_bbox, true_bbox).item()\n",
    "\n",
    "# === Final Results ===\n",
    "accuracy = 100 * correct / total\n",
    "avg_bbox_loss = bbox_loss_total / total\n",
    "\n",
    "print(f\"\\n🧠 Classification Accuracy on test set: {accuracy:.2f}%\")\n",
    "print(f\"📦 Average BBox Loss (SmoothL1) on test set: {avg_bbox_loss:.4f}\")\n"
   ]
  },
  {
   "cell_type": "code",
   "execution_count": null,
   "id": "2b7f8797-97e1-4feb-bce1-e34199a16a09",
   "metadata": {},
   "outputs": [],
   "source": []
  },
  {
   "cell_type": "code",
   "execution_count": null,
   "id": "c40ecc55-7f7b-44c8-9aad-d6cb85062c23",
   "metadata": {},
   "outputs": [],
   "source": []
  }
 ],
 "metadata": {
  "kernelspec": {
   "display_name": "Python 3 (ipykernel)",
   "language": "python",
   "name": "python3"
  },
  "language_info": {
   "codemirror_mode": {
    "name": "ipython",
    "version": 3
   },
   "file_extension": ".py",
   "mimetype": "text/x-python",
   "name": "python",
   "nbconvert_exporter": "python",
   "pygments_lexer": "ipython3",
   "version": "3.8.20"
  }
 },
 "nbformat": 4,
 "nbformat_minor": 5
}
