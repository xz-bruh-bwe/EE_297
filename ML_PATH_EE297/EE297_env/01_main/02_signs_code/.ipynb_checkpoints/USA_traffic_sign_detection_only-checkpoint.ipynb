{
 "cells": [
  {
   "cell_type": "code",
   "execution_count": 1,
   "id": "d2eb37b5-0561-4edd-a107-4f30570056c6",
   "metadata": {},
   "outputs": [
    {
     "data": {
      "text/plain": [
       "'C:\\\\Users\\\\Baron\\\\Desktop\\\\EE_297_Repo\\\\EE_297\\\\ML_PATH_EE297\\\\EE297_env\\\\01_main\\\\02_signs_code'"
      ]
     },
     "execution_count": 1,
     "metadata": {},
     "output_type": "execute_result"
    }
   ],
   "source": [
    "pwd"
   ]
  },
  {
   "cell_type": "code",
   "execution_count": 2,
   "id": "01330591-2a89-4053-970b-da6d91b672f3",
   "metadata": {},
   "outputs": [
    {
     "data": {
      "text/plain": [
       "'C:\\\\Users\\\\Baron\\\\Desktop\\\\EE_297_Repo\\\\EE_297\\\\ML_PATH_EE297\\\\EE297_env\\\\01_main\\\\02_signs_code'"
      ]
     },
     "execution_count": 2,
     "metadata": {},
     "output_type": "execute_result"
    }
   ],
   "source": [
    "pwd"
   ]
  },
  {
   "cell_type": "code",
   "execution_count": 3,
   "id": "583bf57e-8063-43bb-b386-26004b96bff5",
   "metadata": {},
   "outputs": [
    {
     "data": {
      "text/plain": [
       "'C:\\\\Users\\\\Baron\\\\Desktop\\\\EE_297_Repo\\\\EE_297\\\\ML_PATH_EE297\\\\EE297_env\\\\01_main\\\\02_signs_code'"
      ]
     },
     "execution_count": 3,
     "metadata": {},
     "output_type": "execute_result"
    }
   ],
   "source": [
    "pwd"
   ]
  },
  {
   "cell_type": "markdown",
   "id": "fd0a07ce-b9dd-4c4f-8650-df559b5b970a",
   "metadata": {},
   "source": [
    "### Libary Imports"
   ]
  },
  {
   "cell_type": "code",
   "execution_count": 21,
   "id": "399bf18b-3223-4c10-8d78-a80fcb8713ed",
   "metadata": {},
   "outputs": [
    {
     "name": "stdout",
     "output_type": "stream",
     "text": [
      "import complete\n"
     ]
    }
   ],
   "source": [
    "# Core Libraries ========================================================\n",
    "import os\n",
    "import random\n",
    "import shutil\n",
    "import numpy as np\n",
    "import pandas as pd\n",
    "import cv2\n",
    "from PIL import Image\n",
    "\n",
    "# Progress Bar ========================================================\n",
    "from tqdm.auto import tqdm as notebook_tqdm\n",
    "from tqdm import tqdm\n",
    "\n",
    "# Plotting ========================================================\n",
    "import matplotlib as mpl\n",
    "import matplotlib.pyplot as plt\n",
    "import seaborn as sns\n",
    "\n",
    "# Jupyter Inline Plots ========================================================\n",
    "%matplotlib inline\n",
    "\n",
    "# TensorFlow and Keras ========================================================\n",
    "import tensorflow as tf\n",
    "from keras.models import Sequential\n",
    "from keras.layers import Input, AveragePooling2D, Conv2D, MaxPooling2D, Flatten, Dense, Dropout, BatchNormalization\n",
    "from keras.optimizers import Adam\n",
    "from tensorflow.keras.regularizers import l1\n",
    "from tensorflow.keras.losses import SparseCategoricalCrossentropy\n",
    "\n",
    "# Scikit-learn ========================================================\n",
    "from sklearn.model_selection import StratifiedKFold, train_test_split, learning_curve\n",
    "from sklearn.metrics import classification_report\n",
    "from sklearn.utils import shuffle\n",
    "from sklearn.model_selection import train_test_split\n",
    "\n",
    "# SciKeras ========================================================\n",
    "from scikeras.wrappers import KerasClassifier\n",
    "\n",
    "# PyTorch ========================================================\n",
    "import torch\n",
    "import torch.nn as nn\n",
    "import torch.optim as optim\n",
    "from torch.utils.data import Dataset, DataLoader\n",
    "from torchvision import transforms\n",
    "from torchvision import models\n",
    "from torch.utils.data import DataLoader\n",
    "from torch.utils.data import Subset\n",
    "\n",
    "from itertools import zip_longest  # to interleave two loaders safely\n",
    "\n",
    "print(\"import complete\")"
   ]
  },
  {
   "cell_type": "code",
   "execution_count": 32,
   "id": "c9232e06-8ec9-4254-9f92-3560066d38a5",
   "metadata": {},
   "outputs": [],
   "source": [
    "#2. Import the Dataset\n",
    "##  Baron's Path\n",
    "signs_dataset = r\"C:\\Users\\Baron\\Documents\\Grad_School\\EE_297A\\Project\\datasets\\signs_0\\db_lisa_tiny\"\n",
    "\n",
    "#Construct the Dataset\n",
    "signs_df = pd.read_csv(f\"{signs_dataset}/annotations.csv\", delimiter = \",\")\n",
    "\n",
    "# Create a mapping: class name → index\n",
    "class_id_to_index = {cls: idx for idx, cls in enumerate(signs_df[\"class\"].unique())}\n",
    "\n",
    "# Map class names to integers\n",
    "signs_df[\"LabelIndex\"] = signs_df[\"class\"].map(class_id_to_index)\n",
    "\n"
   ]
  },
  {
   "cell_type": "markdown",
   "id": "b76512d7-49ad-4a0d-81d9-37a97c5e794c",
   "metadata": {},
   "source": [
    "### Part B) Dataset Description and Visualizaton\n",
    "\n",
    "    1. General Info\n",
    "    2. Describing the Dataset\n",
    "    3. Head of the Dataset\n",
    "    4. Describing the characteristicts of the images\n",
    "    4. Creating General Dataframes (For later use)\n",
    "    5. Plot of the Widths and Heights for preprocessing"
   ]
  },
  {
   "cell_type": "code",
   "execution_count": 23,
   "id": "c83f5eff-5b68-4fab-8980-06a1d21a0d4b",
   "metadata": {},
   "outputs": [
    {
     "name": "stdout",
     "output_type": "stream",
     "text": [
      "<class 'pandas.core.frame.DataFrame'>\n",
      "RangeIndex: 900 entries, 0 to 899\n",
      "Data columns (total 7 columns):\n",
      " #   Column      Non-Null Count  Dtype \n",
      "---  ------      --------------  ----- \n",
      " 0   filename    900 non-null    object\n",
      " 1   x1          900 non-null    int64 \n",
      " 2   y1          900 non-null    int64 \n",
      " 3   x2          900 non-null    int64 \n",
      " 4   y2          900 non-null    int64 \n",
      " 5   class       900 non-null    object\n",
      " 6   LabelIndex  900 non-null    int64 \n",
      "dtypes: int64(5), object(2)\n",
      "memory usage: 49.3+ KB\n"
     ]
    }
   ],
   "source": [
    "#1. General Info\n",
    "signs_df.info()"
   ]
  },
  {
   "cell_type": "code",
   "execution_count": 24,
   "id": "7de7e583-291b-4bd7-af5e-0abd3e56c881",
   "metadata": {},
   "outputs": [],
   "source": [
    "#signs_df.describe()"
   ]
  },
  {
   "cell_type": "code",
   "execution_count": 25,
   "id": "776a79a7-1ec1-44f9-ba1e-fb1642e62c63",
   "metadata": {},
   "outputs": [
    {
     "data": {
      "text/html": [
       "<div>\n",
       "<style scoped>\n",
       "    .dataframe tbody tr th:only-of-type {\n",
       "        vertical-align: middle;\n",
       "    }\n",
       "\n",
       "    .dataframe tbody tr th {\n",
       "        vertical-align: top;\n",
       "    }\n",
       "\n",
       "    .dataframe thead th {\n",
       "        text-align: right;\n",
       "    }\n",
       "</style>\n",
       "<table border=\"1\" class=\"dataframe\">\n",
       "  <thead>\n",
       "    <tr style=\"text-align: right;\">\n",
       "      <th></th>\n",
       "      <th>filename</th>\n",
       "      <th>x1</th>\n",
       "      <th>y1</th>\n",
       "      <th>x2</th>\n",
       "      <th>y2</th>\n",
       "      <th>class</th>\n",
       "      <th>LabelIndex</th>\n",
       "      <th>full_path</th>\n",
       "    </tr>\n",
       "  </thead>\n",
       "  <tbody>\n",
       "    <tr>\n",
       "      <th>0</th>\n",
       "      <td>sample_001.png</td>\n",
       "      <td>190</td>\n",
       "      <td>40</td>\n",
       "      <td>211</td>\n",
       "      <td>63</td>\n",
       "      <td>stop</td>\n",
       "      <td>0</td>\n",
       "      <td>C:\\Users\\Baron\\Documents\\Grad_School\\EE_297A\\P...</td>\n",
       "    </tr>\n",
       "    <tr>\n",
       "      <th>1</th>\n",
       "      <td>sample_002.png</td>\n",
       "      <td>4</td>\n",
       "      <td>246</td>\n",
       "      <td>43</td>\n",
       "      <td>283</td>\n",
       "      <td>stop</td>\n",
       "      <td>0</td>\n",
       "      <td>C:\\Users\\Baron\\Documents\\Grad_School\\EE_297A\\P...</td>\n",
       "    </tr>\n",
       "    <tr>\n",
       "      <th>2</th>\n",
       "      <td>sample_003.png</td>\n",
       "      <td>389</td>\n",
       "      <td>286</td>\n",
       "      <td>418</td>\n",
       "      <td>314</td>\n",
       "      <td>stop</td>\n",
       "      <td>0</td>\n",
       "      <td>C:\\Users\\Baron\\Documents\\Grad_School\\EE_297A\\P...</td>\n",
       "    </tr>\n",
       "    <tr>\n",
       "      <th>3</th>\n",
       "      <td>sample_004.png</td>\n",
       "      <td>307</td>\n",
       "      <td>243</td>\n",
       "      <td>315</td>\n",
       "      <td>251</td>\n",
       "      <td>stop</td>\n",
       "      <td>0</td>\n",
       "      <td>C:\\Users\\Baron\\Documents\\Grad_School\\EE_297A\\P...</td>\n",
       "    </tr>\n",
       "    <tr>\n",
       "      <th>4</th>\n",
       "      <td>sample_005.png</td>\n",
       "      <td>377</td>\n",
       "      <td>249</td>\n",
       "      <td>398</td>\n",
       "      <td>270</td>\n",
       "      <td>stop</td>\n",
       "      <td>0</td>\n",
       "      <td>C:\\Users\\Baron\\Documents\\Grad_School\\EE_297A\\P...</td>\n",
       "    </tr>\n",
       "    <tr>\n",
       "      <th>...</th>\n",
       "      <td>...</td>\n",
       "      <td>...</td>\n",
       "      <td>...</td>\n",
       "      <td>...</td>\n",
       "      <td>...</td>\n",
       "      <td>...</td>\n",
       "      <td>...</td>\n",
       "      <td>...</td>\n",
       "    </tr>\n",
       "    <tr>\n",
       "      <th>115</th>\n",
       "      <td>sample_116.png</td>\n",
       "      <td>422</td>\n",
       "      <td>47</td>\n",
       "      <td>447</td>\n",
       "      <td>70</td>\n",
       "      <td>stop</td>\n",
       "      <td>0</td>\n",
       "      <td>C:\\Users\\Baron\\Documents\\Grad_School\\EE_297A\\P...</td>\n",
       "    </tr>\n",
       "    <tr>\n",
       "      <th>116</th>\n",
       "      <td>sample_117.png</td>\n",
       "      <td>514</td>\n",
       "      <td>180</td>\n",
       "      <td>556</td>\n",
       "      <td>220</td>\n",
       "      <td>stop</td>\n",
       "      <td>0</td>\n",
       "      <td>C:\\Users\\Baron\\Documents\\Grad_School\\EE_297A\\P...</td>\n",
       "    </tr>\n",
       "    <tr>\n",
       "      <th>117</th>\n",
       "      <td>sample_118.png</td>\n",
       "      <td>568</td>\n",
       "      <td>280</td>\n",
       "      <td>592</td>\n",
       "      <td>305</td>\n",
       "      <td>stop</td>\n",
       "      <td>0</td>\n",
       "      <td>C:\\Users\\Baron\\Documents\\Grad_School\\EE_297A\\P...</td>\n",
       "    </tr>\n",
       "    <tr>\n",
       "      <th>118</th>\n",
       "      <td>sample_119.png</td>\n",
       "      <td>359</td>\n",
       "      <td>212</td>\n",
       "      <td>382</td>\n",
       "      <td>235</td>\n",
       "      <td>stop</td>\n",
       "      <td>0</td>\n",
       "      <td>C:\\Users\\Baron\\Documents\\Grad_School\\EE_297A\\P...</td>\n",
       "    </tr>\n",
       "    <tr>\n",
       "      <th>119</th>\n",
       "      <td>sample_120.png</td>\n",
       "      <td>299</td>\n",
       "      <td>251</td>\n",
       "      <td>337</td>\n",
       "      <td>287</td>\n",
       "      <td>stop</td>\n",
       "      <td>0</td>\n",
       "      <td>C:\\Users\\Baron\\Documents\\Grad_School\\EE_297A\\P...</td>\n",
       "    </tr>\n",
       "  </tbody>\n",
       "</table>\n",
       "<p>120 rows × 8 columns</p>\n",
       "</div>"
      ],
      "text/plain": [
       "           filename   x1   y1   x2   y2 class  LabelIndex  \\\n",
       "0    sample_001.png  190   40  211   63  stop           0   \n",
       "1    sample_002.png    4  246   43  283  stop           0   \n",
       "2    sample_003.png  389  286  418  314  stop           0   \n",
       "3    sample_004.png  307  243  315  251  stop           0   \n",
       "4    sample_005.png  377  249  398  270  stop           0   \n",
       "..              ...  ...  ...  ...  ...   ...         ...   \n",
       "115  sample_116.png  422   47  447   70  stop           0   \n",
       "116  sample_117.png  514  180  556  220  stop           0   \n",
       "117  sample_118.png  568  280  592  305  stop           0   \n",
       "118  sample_119.png  359  212  382  235  stop           0   \n",
       "119  sample_120.png  299  251  337  287  stop           0   \n",
       "\n",
       "                                             full_path  \n",
       "0    C:\\Users\\Baron\\Documents\\Grad_School\\EE_297A\\P...  \n",
       "1    C:\\Users\\Baron\\Documents\\Grad_School\\EE_297A\\P...  \n",
       "2    C:\\Users\\Baron\\Documents\\Grad_School\\EE_297A\\P...  \n",
       "3    C:\\Users\\Baron\\Documents\\Grad_School\\EE_297A\\P...  \n",
       "4    C:\\Users\\Baron\\Documents\\Grad_School\\EE_297A\\P...  \n",
       "..                                                 ...  \n",
       "115  C:\\Users\\Baron\\Documents\\Grad_School\\EE_297A\\P...  \n",
       "116  C:\\Users\\Baron\\Documents\\Grad_School\\EE_297A\\P...  \n",
       "117  C:\\Users\\Baron\\Documents\\Grad_School\\EE_297A\\P...  \n",
       "118  C:\\Users\\Baron\\Documents\\Grad_School\\EE_297A\\P...  \n",
       "119  C:\\Users\\Baron\\Documents\\Grad_School\\EE_297A\\P...  \n",
       "\n",
       "[120 rows x 8 columns]"
      ]
     },
     "execution_count": 25,
     "metadata": {},
     "output_type": "execute_result"
    }
   ],
   "source": [
    "##  Baron's Path\n",
    "signs_dataset = r\"C:\\Users\\Baron\\Documents\\Grad_School\\EE_297A\\Project\\datasets\\signs_0\\db_lisa_tiny\\original\"\n",
    "\n",
    "# Add full path column\n",
    "signs_df[\"full_path\"] = signs_df[\"filename\"].apply(lambda name: os.path.join(signs_dataset, name))\n",
    "\n",
    "#3. Head of the Dataset (Used to see a quick glimpse of the dataset)\n",
    "signs_df.head(120)"
   ]
  },
  {
   "cell_type": "code",
   "execution_count": 26,
   "id": "e5bbea7b-d1cd-418e-bfac-032d8b249db4",
   "metadata": {},
   "outputs": [
    {
     "name": "stdout",
     "output_type": "stream",
     "text": [
      "C:\\Users\\Baron\\Documents\\Grad_School\\EE_297A\\Project\\datasets\\signs_0\\db_lisa_tiny\\original\\sample_361.png\n"
     ]
    }
   ],
   "source": [
    "print(signs_df.iloc[360][\"full_path\"])"
   ]
  },
  {
   "cell_type": "code",
   "execution_count": 27,
   "id": "0e16688b-7c24-433c-b3ef-219c015a2223",
   "metadata": {},
   "outputs": [
    {
     "data": {
      "image/png": "[encoded data removed]",
      "text/plain": [
       "<Figure size 1200x500 with 1 Axes>"
      ]
     },
     "metadata": {},
     "output_type": "display_data"
    }
   ],
   "source": [
    "# Get sorted list of unique signs \n",
    "unique_classes = signs_df['class'].unique()\n",
    "num_classes = len(unique_classes)\n",
    "step = 10\n",
    "\n",
    "for i in range(0, num_classes, step):\n",
    "    subset = unique_classes[i:i+step]\n",
    "    plt.figure(figsize=(12, 5))\n",
    "    sns.histplot(data=signs_df[signs_df['class'].isin(subset)],\n",
    "                 x='class', bins=step, kde=False)\n",
    "    plt.xticks(rotation=90)\n",
    "    plt.title(f\"Image Count for the signs dataset {i+1} to {i+step}\")\n",
    "    plt.ylabel(\"Number of Images\")\n",
    "    plt.tight_layout()\n",
    "    plt.show()"
   ]
  },
  {
   "cell_type": "code",
   "execution_count": 28,
   "id": "dcff0e91-18af-40cb-90e0-363e6053234e",
   "metadata": {},
   "outputs": [],
   "source": [
    "# Classes to remove due to low count\n",
    "drop_classes = [\"yield\", \"yieldAhead\", \"speedLimit25\"]\n",
    "\n",
    "# Create a new DataFrame without those classes\n",
    "signs_df = signs_df[~signs_df[\"class\"].isin(drop_classes)].reset_index(drop=True)"
   ]
  },
  {
   "cell_type": "code",
   "execution_count": 35,
   "id": "923ce526-174e-480a-8038-5ce4924e5603",
   "metadata": {},
   "outputs": [
    {
     "data": {
      "text/plain": [
       "{'stop': 0,\n",
       " 'yield': 1,\n",
       " 'yieldAhead': 2,\n",
       " 'merge': 3,\n",
       " 'signalAhead': 4,\n",
       " 'pedestrianCrossing': 5,\n",
       " 'keepRight': 6,\n",
       " 'speedLimit35': 7,\n",
       " 'speedLimit25': 8}"
      ]
     },
     "execution_count": 35,
     "metadata": {},
     "output_type": "execute_result"
    }
   ],
   "source": [
    "# Map classes to index based on first appearance\n",
    "class_id_to_index = {cls: idx for idx, cls in enumerate(signs_df[\"class\"].unique())}\n",
    "signs_df[\"LabelIndex\"] = signs_df[\"class\"].map(class_id_to_index)\n",
    "\n",
    "# Count samples per label index\n",
    "label_counts = signs_df[\"LabelIndex\"].value_counts().sort_index()\n",
    "\n",
    "class_id_to_index"
   ]
  },
  {
   "cell_type": "code",
   "execution_count": 30,
   "id": "c82ae288-60e1-4d04-bfaa-732ea4d00aa5",
   "metadata": {},
   "outputs": [
    {
     "name": "stdout",
     "output_type": "stream",
     "text": [
      "class\n",
      "keepRight             110\n",
      "merge                 100\n",
      "pedestrianCrossing    100\n",
      "signalAhead           100\n",
      "speedLimit35          110\n",
      "stop                  210\n",
      "Name: count, dtype: int64\n"
     ]
    }
   ],
   "source": [
    "class_counts = signs_df[\"class\"].value_counts().sort_index()\n",
    "print(class_counts)"
   ]
  },
  {
   "cell_type": "code",
   "execution_count": 31,
   "id": "bda7cc4c-61a0-4d1f-bf5f-b4b88a438ac5",
   "metadata": {},
   "outputs": [
    {
     "name": "stdout",
     "output_type": "stream",
     "text": [
      "class\n",
      "merge                 100\n",
      "speedLimit35          100\n",
      "stop                  100\n",
      "keepRight             100\n",
      "pedestrianCrossing    100\n",
      "signalAhead           100\n",
      "Name: count, dtype: int64\n"
     ]
    }
   ],
   "source": [
    "# Assume your dataframe is called `df` and has a 'class' column\n",
    "TARGET_COUNT = 100\n",
    "\n",
    "# Group by class and sample 100 per class\n",
    "signs_df = (\n",
    "    signs_df.groupby('class', group_keys=False)\n",
    "    .apply(lambda x: x.sample(n=TARGET_COUNT, random_state=42))\n",
    ")\n",
    "\n",
    "# Optional: Shuffle the final dataset\n",
    "signs_df = signs_df.sample(frac=1, random_state=42).reset_index(drop=True)\n",
    "\n",
    "# Check result\n",
    "print(signs_df['class'].value_counts())"
   ]
  },
  {
   "cell_type": "code",
   "execution_count": null,
   "id": "72b71b6e-9ce7-4d26-b63e-8e66977e0505",
   "metadata": {},
   "outputs": [],
   "source": [
    "\n"
   ]
  },
  {
   "cell_type": "code",
   "execution_count": 38,
   "id": "08427f34-b6f6-45a4-8ef3-19fcf8075cc0",
   "metadata": {},
   "outputs": [
    {
     "name": "stdout",
     "output_type": "stream",
     "text": [
      "✅ Test annotations saved to: C:\\Users\\Baron\\Documents\\Grad_School\\EE_297A\\Project\\datasets\\signs_0\\db_lisa_tiny\\annotations_test.csv\n",
      "📁 Class-to-index mapping saved to: C:\\Users\\Baron\\Documents\\Grad_School\\EE_297A\\Project\\datasets\\signs_0\\db_lisa_tiny\\class_to_index.csv\n"
     ]
    }
   ],
   "source": [
    "import pandas as pd\n",
    "import os\n",
    "import shutil\n",
    "from sklearn.model_selection import train_test_split\n",
    "\n",
    "# === CONFIG ===\n",
    "root_dir = r\"C:\\Users\\Baron\\Documents\\Grad_School\\EE_297A\\Project\\datasets\\signs_0\\db_lisa_tiny\"\n",
    "original_dir = os.path.join(root_dir, \"original\")\n",
    "train_dir = os.path.join(root_dir, \"train\")\n",
    "test_dir = os.path.join(root_dir, \"test\")\n",
    "annotations_path = os.path.join(root_dir, \"annotations.csv\")\n",
    "annotations_test_csv = os.path.join(root_dir, \"annotations_test.csv\")\n",
    "class_map_csv = os.path.join(root_dir, \"class_to_index.csv\")\n",
    "\n",
    "# === Load CSV ===\n",
    "df = pd.read_csv(annotations_path)\n",
    "\n",
    "# Ensure filepaths are present\n",
    "if 'filepath' not in df.columns:\n",
    "    if 'filename' in df.columns:\n",
    "        df['filepath'] = df['filename'].apply(lambda x: os.path.join(original_dir, x))\n",
    "    else:\n",
    "        raise ValueError(\"CSV must contain 'filepath' or 'filename' column.\")\n",
    "\n",
    "# === Use FIRST APPEARANCE ORDER for class indexing\n",
    "class_id_to_index = {cls: idx for idx, cls in enumerate(df[\"class\"].unique())}\n",
    "df[\"LabelIndex\"] = df[\"class\"].map(class_id_to_index)\n",
    "\n",
    "# Save class-to-index mapping\n",
    "pd.DataFrame(list(class_id_to_index.items()), columns=[\"class\", \"index\"]).to_csv(class_map_csv, index=False)\n",
    "\n",
    "# Ensure train and test directories exist\n",
    "os.makedirs(train_dir, exist_ok=True)\n",
    "os.makedirs(test_dir, exist_ok=True)\n",
    "\n",
    "# === Split and copy\n",
    "test_rows = []\n",
    "\n",
    "for class_name, group in df.groupby(\"class\"):\n",
    "    class_idx = class_id_to_index[class_name]\n",
    "\n",
    "    # Split into 90% train / 10% test\n",
    "    train_split, test_split = train_test_split(\n",
    "        group, test_size=0.1, random_state=42, shuffle=True\n",
    "    )\n",
    "\n",
    "    # === TRAIN: copy to train/<class_idx>/\n",
    "    class_train_dir = os.path.join(train_dir, str(class_idx))\n",
    "    os.makedirs(class_train_dir, exist_ok=True)\n",
    "\n",
    "    for _, row in train_split.iterrows():\n",
    "        src = row['filepath']\n",
    "        if os.path.exists(src):\n",
    "            dst = os.path.join(class_train_dir, os.path.basename(src))\n",
    "            shutil.copy(src, dst)\n",
    "\n",
    "    # === TEST: copy to flat test/ folder\n",
    "    for _, row in test_split.iterrows():\n",
    "        src = row['filepath']\n",
    "        if os.path.exists(src):\n",
    "            dst = os.path.join(test_dir, os.path.basename(src))\n",
    "            shutil.copy(src, dst)\n",
    "            test_rows.append(row)\n",
    "\n",
    "# === Save annotations_test.csv\n",
    "# Save test annotations with corrected test filepaths\n",
    "if test_rows:\n",
    "    test_df = pd.DataFrame(test_rows)\n",
    "    test_df[\"filepath\"] = test_df[\"filename\"].apply(lambda x: os.path.join(test_dir, x))\n",
    "    test_df.to_csv(annotations_test_csv, index=False)\n",
    "    print(f\"✅ Test annotations saved to: {annotations_test_csv}\")\n",
    "    print(f\"📁 Class-to-index mapping saved to: {class_map_csv}\")\n",
    "else:\n",
    "    print(\"⚠️ No test data saved. Check file paths or annotation format.\")\n"
   ]
  },
  {
   "cell_type": "markdown",
   "id": "338d7bb1-bd7b-4f2b-b7d9-101838234313",
   "metadata": {},
   "source": [
    "### Part C) Image Set Preprocessing"
   ]
  },
  {
   "cell_type": "code",
   "execution_count": 39,
   "id": "27d7c551-b6c7-4406-a1c5-1fe7ba990a46",
   "metadata": {},
   "outputs": [],
   "source": [
    "original_dir_train = os.path.join(signs_dataset, 'train')\n",
    "original_dir_test = os.path.join(signs_dataset, 'test') \n",
    "\n",
    "processed_dir_train = os.path.join(signs_dataset, 'train_p')\n",
    "processed_dir_test = os.path.join(signs_dataset, 'test_p')"
   ]
  },
  {
   "cell_type": "code",
   "execution_count": 42,
   "id": "fcebc5ff-c608-4bd5-8b76-d50c13f6ca12",
   "metadata": {},
   "outputs": [
    {
     "name": "stderr",
     "output_type": "stream",
     "text": [
      "Processing images: 0it [00:00, ?it/s]\n",
      "Processing images: 100%|█████████████████████████████████████████████████████████████| 288/288 [00:29<00:00,  9.91it/s]\n",
      "Processing images: 100%|█████████████████████████████████████████████████████████████| 130/130 [00:13<00:00,  9.82it/s]\n",
      "Processing images: 100%|█████████████████████████████████████████████████████████████| 130/130 [00:14<00:00,  9.19it/s]\n",
      "Processing images: 100%|█████████████████████████████████████████████████████████████| 180/180 [00:17<00:00, 10.26it/s]\n",
      "Processing images: 100%|█████████████████████████████████████████████████████████████| 162/162 [00:16<00:00,  9.82it/s]\n",
      "Processing images: 100%|█████████████████████████████████████████████████████████████| 189/189 [00:20<00:00,  9.08it/s]\n",
      "Processing images: 100%|█████████████████████████████████████████████████████████████| 288/288 [00:29<00:00,  9.79it/s]\n",
      "Processing images: 100%|█████████████████████████████████████████████████████████████| 139/139 [00:14<00:00,  9.38it/s]\n",
      "Processing images: 100%|█████████████████████████████████████████████████████████████| 112/112 [00:11<00:00,  9.63it/s]\n"
     ]
    }
   ],
   "source": [
    "from PIL import Image\n",
    "from tqdm import tqdm\n",
    "\n",
    "# Target size\n",
    "target_size = (640, 640)\n",
    "\n",
    "# Walk through all subfolders and images\n",
    "for root, dirs, files in os.walk(original_dir_train):\n",
    "    for file in tqdm(files, desc=\"Processing images\"):\n",
    "        if file.lower().endswith(('.jpg', '.jpeg', '.png')):\n",
    "            # Full path to original image\n",
    "            img_path = os.path.join(root, file)\n",
    "\n",
    "            # Create corresponding path in new directory\n",
    "            relative_path = os.path.relpath(img_path, original_dir_train)\n",
    "            new_path = os.path.join(processed_dir_train, relative_path)\n",
    "\n",
    "            # Create subdirectory if it doesn't exist\n",
    "            os.makedirs(os.path.dirname(new_path), exist_ok=True)\n",
    "\n",
    "            try:\n",
    "                # Open, resize, and save image\n",
    "                img = Image.open(img_path).convert('RGB')\n",
    "                img_resized = img.resize(target_size)\n",
    "                img_resized.save(new_path)\n",
    "            except Exception as e:\n",
    "                print(f\"Failed to process {img_path}: {e}\")"
   ]
  },
  {
   "cell_type": "markdown",
   "id": "0a220892-e2e7-4738-a3a2-ea0c947f59a4",
   "metadata": {},
   "source": [
    "### Bounding boxes test and setup\n",
    "    1.) "
   ]
  },
  {
   "cell_type": "markdown",
   "id": "c9da9229-50a6-460b-9169-fc15871fb0d3",
   "metadata": {},
   "source": [
    "### Part D) Baseline Model Training\n",
    "    Contents include the prototyping of different pretained models\n",
    "    1.) ResNet18\n",
    "    2.) MobileNet\n",
    "    3.) Yolov7"
   ]
  },
  {
   "cell_type": "code",
   "execution_count": null,
   "id": "f752000f-31f5-4999-9f1e-cffdfcb8cb20",
   "metadata": {},
   "outputs": [],
   "source": []
  }
 ],
 "metadata": {
  "kernelspec": {
   "display_name": "Python 3 (ipykernel)",
   "language": "python",
   "name": "python3"
  },
  "language_info": {
   "codemirror_mode": {
    "name": "ipython",
    "version": 3
   },
   "file_extension": ".py",
   "mimetype": "text/x-python",
   "name": "python",
   "nbconvert_exporter": "python",
   "pygments_lexer": "ipython3",
   "version": "3.8.20"
  }
 },
 "nbformat": 4,
 "nbformat_minor": 5
}
