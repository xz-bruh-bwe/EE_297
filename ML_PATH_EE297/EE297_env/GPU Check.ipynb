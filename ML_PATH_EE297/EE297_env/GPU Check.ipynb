{
 "cells": [
  {
   "cell_type": "markdown",
   "id": "e2d1584c",
   "metadata": {},
   "source": [
    "### Test GPU Code"
   ]
  },
  {
   "cell_type": "code",
   "execution_count": 4,
   "id": "22cef712",
   "metadata": {},
   "outputs": [
    {
     "data": {
      "text/plain": [
       "'C:\\\\Users\\\\Baron\\\\Desktop\\\\EE_297_Repo\\\\EE_297\\\\ML_PATH_EE297\\\\EE297_env'"
      ]
     },
     "execution_count": 4,
     "metadata": {},
     "output_type": "execute_result"
    }
   ],
   "source": [
    "pwd"
   ]
  },
  {
   "cell_type": "code",
   "execution_count": 5,
   "id": "70fd42f2",
   "metadata": {},
   "outputs": [
    {
     "name": "stdout",
     "output_type": "stream",
     "text": [
      " Volume in drive C has no label.\n",
      " Volume Serial Number is 86B0-AFDD\n",
      "\n",
      " Directory of C:\\Users\\Baron\\Desktop\\EE_297_Repo\\EE_297\\ML_PATH_EE297\\EE297_env\n",
      "\n",
      "07/20/2025  03:53 PM    <DIR>          .\n",
      "07/20/2025  03:53 PM    <DIR>          ..\n",
      "03/02/2025  08:09 PM               154 .gitignore\n",
      "07/19/2025  07:05 PM    <DIR>          .ipynb_checkpoints\n",
      "07/19/2025  05:57 PM    <DIR>          01_main\n",
      "06/19/2025  10:09 PM    <DIR>          02_projects\n",
      "07/15/2025  10:48 PM    <DIR>          03_example_code\n",
      "06/30/2025  07:40 PM    <DIR>          04_pictures\n",
      "06/19/2025  10:09 PM    <DIR>          10_reference_eg\n",
      "06/19/2025  10:09 PM    <DIR>          11_anaconda_projects\n",
      "06/19/2025  10:09 PM    <DIR>          anaconda_projects\n",
      "02/27/2025  10:00 PM               197 CACHEDIR.TAG\n",
      "07/20/2025  03:53 PM            10,780 GPU Check.ipynb\n",
      "02/27/2025  10:00 PM    <DIR>          Lib\n",
      "06/19/2025  10:09 PM    <DIR>          projects\n",
      "02/27/2025  10:00 PM               290 pyvenv.cfg\n",
      "02/27/2025  10:00 PM    <DIR>          Scripts\n",
      "02/27/2025  10:05 PM    <DIR>          zTransfer\n",
      "               4 File(s)         11,421 bytes\n",
      "              14 Dir(s)  142,328,283,136 bytes free\n"
     ]
    }
   ],
   "source": [
    "ls"
   ]
  },
  {
   "cell_type": "code",
   "execution_count": null,
   "id": "103e4f82-6054-4580-adfb-d0a37f93e3c4",
   "metadata": {},
   "outputs": [],
   "source": []
  },
  {
   "cell_type": "code",
   "execution_count": null,
   "id": "7cac4bd0-b55b-4d27-bf33-10106f22a6f3",
   "metadata": {},
   "outputs": [],
   "source": []
  },
  {
   "cell_type": "code",
   "execution_count": 1,
   "id": "ec311fd4-2629-4dcb-90b0-b573489ec2bc",
   "metadata": {},
   "outputs": [],
   "source": [
    "import tensorflow as tf\n",
    "from tensorflow import keras"
   ]
  },
  {
   "cell_type": "code",
   "execution_count": 3,
   "id": "24e19754",
   "metadata": {},
   "outputs": [
    {
     "name": "stdout",
     "output_type": "stream",
     "text": [
      "Num GPUs Available:  0\n"
     ]
    }
   ],
   "source": [
    "# Check number of GPUs available\n",
    "print(\"Num GPUs Available: \", len(tf.config.experimental.list_physical_devices('GPU')))\n"
   ]
  },
  {
   "cell_type": "code",
   "execution_count": 4,
   "id": "41d8776e",
   "metadata": {},
   "outputs": [
    {
     "data": {
      "text/plain": [
       "False"
      ]
     },
     "execution_count": 4,
     "metadata": {},
     "output_type": "execute_result"
    }
   ],
   "source": [
    "\n",
    "# Check if TensorFlow is built with CUDA (GPU support)\n",
    "tf.test.is_built_with_cuda()"
   ]
  },
  {
   "cell_type": "code",
   "execution_count": 5,
   "id": "039ab023",
   "metadata": {},
   "outputs": [
    {
     "name": "stdout",
     "output_type": "stream",
     "text": [
      "2.13.0\n"
     ]
    }
   ],
   "source": [
    "# Print TensorFlow version\n",
    "print(tf.version.VERSION)"
   ]
  },
  {
   "cell_type": "code",
   "execution_count": 9,
   "id": "47907b21-baed-453f-8424-1e03c739e4a1",
   "metadata": {},
   "outputs": [
    {
     "data": {
      "text/plain": [
       "'3.8.20 (default, Oct  3 2024, 15:19:54) [MSC v.1929 64 bit (AMD64)]'"
      ]
     },
     "execution_count": 9,
     "metadata": {},
     "output_type": "execute_result"
    }
   ],
   "source": [
    "# Print Python version\n",
    "import sys\n",
    "sys.version"
   ]
  },
  {
   "cell_type": "code",
   "execution_count": null,
   "id": "ced8263b-241a-4887-8b8f-4044beac9997",
   "metadata": {},
   "outputs": [],
   "source": []
  },
  {
   "cell_type": "code",
   "execution_count": 8,
   "id": "b67c9cac-a280-43bc-b218-853429e10596",
   "metadata": {},
   "outputs": [
    {
     "name": "stdout",
     "output_type": "stream",
     "text": [
      "TensorFlow version: 2.13.0\n",
      "Num GPUs Available: 0\n",
      "GPU Devices: []\n"
     ]
    }
   ],
   "source": [
    "import tensorflow as tf\n",
    "\n",
    "print(\"TensorFlow version:\", tf.__version__)\n",
    "print(\"Num GPUs Available:\", len(tf.config.list_physical_devices('GPU')))\n",
    "print(\"GPU Devices:\", tf.config.list_physical_devices('GPU'))"
   ]
  },
  {
   "cell_type": "code",
   "execution_count": null,
   "id": "887323f1",
   "metadata": {},
   "outputs": [],
   "source": []
  },
  {
   "cell_type": "raw",
   "id": "cb25f870-1abe-4f51-9524-0a87830bdb1d",
   "metadata": {},
   "source": [
    "import tensorflow as tf\n",
    "import time\n",
    "\n",
    "# Define matrix size\n",
    "size = 12000\n",
    "\n",
    "def benchmark(device_name):\n",
    "    print(f\"\\nRunning on: {device_name.upper()}\")\n",
    "    with tf.device(device_name):\n",
    "        a = tf.random.normal([size, size])\n",
    "        b = tf.random.normal([size, size])\n",
    "        \n",
    "        # Warm-up\n",
    "        tf.matmul(a, b)\n",
    "        \n",
    "        # Time the multiplication\n",
    "        start = time.time()\n",
    "        c = tf.matmul(a, b)\n",
    "        tf.keras.backend.eval(c)  # Force computation\n",
    "        end = time.time()\n",
    "        \n",
    "        print(f\"Time taken on {device_name.upper()}: {end - start:.4f} seconds\")\n",
    "        return end - start\n",
    "\n",
    "# CPU benchmark\n",
    "cpu_time = benchmark(\"cpu\")\n",
    "\n",
    "# GPU benchmark if available\n",
    "gpus = tf.config.list_logical_devices('GPU')\n",
    "if gpus:\n",
    "    gpu_time = benchmark(\"/GPU:0\")\n",
    "else:\n",
    "    print(\"\\n⚠️ GPU not available for TensorFlow.\")\n"
   ]
  },
  {
   "cell_type": "code",
   "execution_count": 10,
   "id": "2e423bdb-d928-49df-a561-6c3c055cd6fa",
   "metadata": {},
   "outputs": [
    {
     "name": "stdout",
     "output_type": "stream",
     "text": [
      "PyTorch version: 2.4.1\n"
     ]
    }
   ],
   "source": [
    "import torch\n",
    "print(\"PyTorch version:\", torch.__version__)\n"
   ]
  },
  {
   "cell_type": "code",
   "execution_count": 11,
   "id": "58657fb0-5f6c-484d-b349-dd51ccea047d",
   "metadata": {},
   "outputs": [
    {
     "name": "stdout",
     "output_type": "stream",
     "text": [
      "CUDA available: True\n"
     ]
    }
   ],
   "source": [
    "# Check GPU availability\n",
    "cuda_available = torch.cuda.is_available()\n",
    "print(\"CUDA available:\", cuda_available)"
   ]
  },
  {
   "cell_type": "code",
   "execution_count": null,
   "id": "c90945ba-86c8-469a-b007-feb80ce3d70f",
   "metadata": {},
   "outputs": [],
   "source": []
  },
  {
   "cell_type": "code",
   "execution_count": 12,
   "id": "50f2e89c",
   "metadata": {},
   "outputs": [
    {
     "name": "stdout",
     "output_type": "stream",
     "text": [
      "\n",
      "Running on: CPU\n",
      "Time taken on CPU: 12.0494 seconds\n",
      "\n",
      "Running on: CUDA\n",
      "Time taken on CUDA: 0.3338 seconds\n"
     ]
    }
   ],
   "source": [
    "import torch\n",
    "import time\n",
    "\n",
    "# Define matrix size\n",
    "size = 12000\n",
    "\n",
    "def benchmark(device):\n",
    "    print(f\"\\nRunning on: {device.upper()}\")\n",
    "    \n",
    "    # Create two large random tensors on the specified device\n",
    "    a = torch.randn(size, size, device=device)\n",
    "    b = torch.randn(size, size, device=device)\n",
    "\n",
    "    # Warm-up\n",
    "    _ = torch.matmul(a, b)\n",
    "    if device == \"cuda\":\n",
    "        torch.cuda.synchronize()  # Ensure warm-up is complete\n",
    "\n",
    "    # Time the operation\n",
    "    start = time.time()\n",
    "    c = torch.matmul(a, b)\n",
    "    if device == \"cuda\":\n",
    "        torch.cuda.synchronize()  # Wait for GPU computation to finish\n",
    "    end = time.time()\n",
    "\n",
    "    print(f\"Time taken on {device.upper()}: {end - start:.4f} seconds\")\n",
    "    return end - start\n",
    "\n",
    "# Run on CPU\n",
    "cpu_time = benchmark(\"cpu\")\n",
    "\n",
    "# Run on GPU (if available)\n",
    "if torch.cuda.is_available():\n",
    "    gpu_time = benchmark(\"cuda\")\n",
    "else:\n",
    "    print(\"\\n⚠️ GPU not available for PyTorch.\")\n"
   ]
  },
  {
   "cell_type": "code",
   "execution_count": null,
   "id": "da3b6150-5090-4971-b7f4-e40a66154ff8",
   "metadata": {},
   "outputs": [],
   "source": []
  },
  {
   "cell_type": "code",
   "execution_count": null,
   "id": "28d423d5-1fc4-430b-aecc-bd3061e3bb8c",
   "metadata": {},
   "outputs": [],
   "source": []
  },
  {
   "cell_type": "code",
   "execution_count": null,
   "id": "0360bdfa-9218-4c3b-a931-0e685cb45c98",
   "metadata": {},
   "outputs": [],
   "source": []
  }
 ],
 "metadata": {
  "kernelspec": {
   "display_name": "Python 3 (ipykernel)",
   "language": "python",
   "name": "python3"
  },
  "language_info": {
   "codemirror_mode": {
    "name": "ipython",
    "version": 3
   },
   "file_extension": ".py",
   "mimetype": "text/x-python",
   "name": "python",
   "nbconvert_exporter": "python",
   "pygments_lexer": "ipython3",
   "version": "3.8.20"
  }
 },
 "nbformat": 4,
 "nbformat_minor": 5
}
